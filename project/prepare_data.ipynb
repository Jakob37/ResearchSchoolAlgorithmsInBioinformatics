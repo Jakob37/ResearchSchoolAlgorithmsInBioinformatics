{
 "cells": [
  {
   "cell_type": "markdown",
   "metadata": {
    "toc": "true"
   },
   "source": [
    "# Table of Contents\n",
    " <p><div class=\"lev1 toc-item\"><a href=\"#Generate-pre-processed-FASTA-files\" data-toc-modified-id=\"Generate-pre-processed-FASTA-files-1\"><span class=\"toc-item-num\">1&nbsp;&nbsp;</span>Generate pre-processed FASTA files</a></div><div class=\"lev2 toc-item\"><a href=\"#Setup\" data-toc-modified-id=\"Setup-11\"><span class=\"toc-item-num\">1.1&nbsp;&nbsp;</span>Setup</a></div><div class=\"lev2 toc-item\"><a href=\"#Prepare-low-spike\" data-toc-modified-id=\"Prepare-low-spike-12\"><span class=\"toc-item-num\">1.2&nbsp;&nbsp;</span>Prepare low-spike</a></div><div class=\"lev2 toc-item\"><a href=\"#Prepare-high-spikes\" data-toc-modified-id=\"Prepare-high-spikes-13\"><span class=\"toc-item-num\">1.3&nbsp;&nbsp;</span>Prepare high-spikes</a></div><div class=\"lev1 toc-item\"><a href=\"#Simulate-MS-data\" data-toc-modified-id=\"Simulate-MS-data-2\"><span class=\"toc-item-num\">2&nbsp;&nbsp;</span>Simulate MS-data</a></div><div class=\"lev1 toc-item\"><a href=\"#Post-process-data\" data-toc-modified-id=\"Post-process-data-3\"><span class=\"toc-item-num\">3&nbsp;&nbsp;</span>Post-process data</a></div>"
   ]
  },
  {
   "cell_type": "markdown",
   "metadata": {},
   "source": [
    "# Generate pre-processed FASTA files\n",
    "\n",
    "Using the custom-made `seqtk generate_spikein.py` script.\n",
    "\n",
    "Dependencies:\n",
    "\n",
    "* OpenMS binaries in PATH (version 2.2.0)"
   ]
  },
  {
   "cell_type": "markdown",
   "metadata": {},
   "source": [
    "## Setup"
   ]
  },
  {
   "cell_type": "code",
   "execution_count": 1,
   "metadata": {
    "ExecuteTime": {
     "end_time": "2017-11-03T15:20:40.501087Z",
     "start_time": "2017-11-03T16:20:40.292418+01:00"
    }
   },
   "outputs": [],
   "source": [
    "threads=6\n",
    "run=batch6_pure\n",
    "mkdir ${run}"
   ]
  },
  {
   "cell_type": "code",
   "execution_count": 8,
   "metadata": {
    "ExecuteTime": {
     "end_time": "2017-11-03T15:24:26.767425Z",
     "start_time": "2017-11-03T16:24:26.562139+01:00"
    }
   },
   "outputs": [],
   "source": [
    "sample_names_low=\"l1 l2 l3\"\n",
    "sample_names_high=\"h1 h2 h3\"\n",
    "samples=\"${sample_names_low} ${sample_names_high}\""
   ]
  },
  {
   "cell_type": "code",
   "execution_count": 9,
   "metadata": {
    "ExecuteTime": {
     "end_time": "2017-11-03T15:24:27.290798Z",
     "start_time": "2017-11-03T16:24:26.771505+01:00"
    }
   },
   "outputs": [
    {
     "name": "stdout",
     "output_type": "stream",
     "text": [
      "name\tbiorepgroup\ttechrepgroup\tcondition\n",
      "l1\t1\t1\tlow\n",
      "l2\t2\t1\tlow\n",
      "l3\t3\t1\tlow\n",
      "h1\t1\t1\thigh\n",
      "h2\t2\t1\thigh\n",
      "h3\t3\t1\thigh\n"
     ]
    }
   ],
   "source": [
    "echo -e \"name\\tbiorepgroup\\ttechrepgroup\\tcondition\" > ${run}/design.tsv\n",
    "echo -e \"l1\\t1\\t1\\tlow\" >> ${run}/design.tsv\n",
    "echo -e \"l2\\t2\\t1\\tlow\" >> ${run}/design.tsv\n",
    "echo -e \"l3\\t3\\t1\\tlow\" >> ${run}/design.tsv\n",
    "echo -e \"h1\\t1\\t1\\thigh\" >> ${run}/design.tsv\n",
    "echo -e \"h2\\t2\\t1\\thigh\" >> ${run}/design.tsv\n",
    "echo -e \"h3\\t3\\t1\\thigh\" >> ${run}/design.tsv\n",
    "\n",
    "cat ${run}/design.tsv"
   ]
  },
  {
   "cell_type": "markdown",
   "metadata": {},
   "source": [
    "## Prepare low-spike"
   ]
  },
  {
   "cell_type": "code",
   "execution_count": 10,
   "metadata": {
    "ExecuteTime": {
     "end_time": "2017-11-03T15:24:29.427301Z",
     "start_time": "2017-11-03T16:24:27.293061+01:00"
    }
   },
   "outputs": [
    {
     "name": "stdout",
     "output_type": "stream",
     "text": [
      "Generating sample: l1\n",
      "4436 entries loaded from data/uniprot_ecoli.pure.fasta as background\n",
      "403 entries loaded from data/uniprot_potato.pure.fasta as spike-in\n",
      "100 entries picked as background, 20 as spike-in\n",
      "120 entries written to batch6_pure/l1.fa\n",
      "Generating sample: l2\n",
      "4436 entries loaded from data/uniprot_ecoli.pure.fasta as background\n",
      "403 entries loaded from data/uniprot_potato.pure.fasta as spike-in\n",
      "100 entries picked as background, 20 as spike-in\n",
      "120 entries written to batch6_pure/l2.fa\n",
      "Generating sample: l3\n",
      "4436 entries loaded from data/uniprot_ecoli.pure.fasta as background\n",
      "403 entries loaded from data/uniprot_potato.pure.fasta as spike-in\n",
      "100 entries picked as background, 20 as spike-in\n",
      "120 entries written to batch6_pure/l3.fa\n"
     ]
    }
   ],
   "source": [
    "for name in ${sample_names_low}; do\n",
    "    echo \"Generating sample: ${name}\"\n",
    "    lfqtk generate_spikein \\\n",
    "        --background_fa data/uniprot_ecoli.pure.fasta \\\n",
    "        --spikein_fa data/uniprot_potato.pure.fasta \\\n",
    "        --output_fa ${run}/${name}.fa \\\n",
    "        --offset_mean 0 \\\n",
    "        --offset_std 0 \\\n",
    "        --back_int 1000000 \\\n",
    "        --back_noise_std 0 \\\n",
    "        --back_count 100 \\\n",
    "        --spike_int 1000000 \\\n",
    "        --spike_noise_std 0 \\\n",
    "        --spike_count 20 \\\n",
    "        --verbose\n",
    "done"
   ]
  },
  {
   "cell_type": "markdown",
   "metadata": {},
   "source": [
    "## Prepare high-spikes"
   ]
  },
  {
   "cell_type": "code",
   "execution_count": 11,
   "metadata": {
    "ExecuteTime": {
     "end_time": "2017-11-03T15:24:31.600247Z",
     "start_time": "2017-11-03T16:24:29.431531+01:00"
    }
   },
   "outputs": [
    {
     "name": "stdout",
     "output_type": "stream",
     "text": [
      "Generating sample: h1\n",
      "4436 entries loaded from data/uniprot_ecoli.pure.fasta as background\n",
      "403 entries loaded from data/uniprot_potato.pure.fasta as spike-in\n",
      "100 entries picked as background, 20 as spike-in\n",
      "120 entries written to batch6_pure/h1.fa\n",
      "Generating sample: h2\n",
      "4436 entries loaded from data/uniprot_ecoli.pure.fasta as background\n",
      "403 entries loaded from data/uniprot_potato.pure.fasta as spike-in\n",
      "100 entries picked as background, 20 as spike-in\n",
      "120 entries written to batch6_pure/h2.fa\n",
      "Generating sample: h3\n",
      "4436 entries loaded from data/uniprot_ecoli.pure.fasta as background\n",
      "403 entries loaded from data/uniprot_potato.pure.fasta as spike-in\n",
      "100 entries picked as background, 20 as spike-in\n",
      "120 entries written to batch6_pure/h3.fa\n"
     ]
    }
   ],
   "source": [
    "for name in ${sample_names_high}; do\n",
    "    echo \"Generating sample: ${name}\"\n",
    "    lfqtk generate_spikein \\\n",
    "        --background_fa data/uniprot_ecoli.pure.fasta \\\n",
    "        --spikein_fa data/uniprot_potato.pure.fasta \\\n",
    "        --output_fa ${run}/${name}.fa \\\n",
    "        --offset_mean 0 \\\n",
    "        --offset_std 0 \\\n",
    "        --back_int 1000000 \\\n",
    "        --back_noise_std 0 \\\n",
    "        --back_count 100 \\\n",
    "        --spike_int 8000000 \\\n",
    "        --spike_noise_std 0 \\\n",
    "        --spike_count 20 \\\n",
    "        --verbose\n",
    "done"
   ]
  },
  {
   "cell_type": "markdown",
   "metadata": {},
   "source": [
    "# Simulate MS-data\n",
    "\n",
    "Generate the OpenMS tool `MSSimulator`."
   ]
  },
  {
   "cell_type": "code",
   "execution_count": 12,
   "metadata": {
    "ExecuteTime": {
     "end_time": "2017-11-03T15:25:25.927605Z",
     "start_time": "2017-11-03T16:24:31.602829+01:00"
    }
   },
   "outputs": [
    {
     "name": "stdout",
     "output_type": "stream",
     "text": [
      "Processing h1\n",
      "Loading sequence data from batch6_pure/h1.fa ...\n",
      "done (120 protein(s) loaded)\n",
      "Starting simulation\n",
      "2017/11/03, 16:24:32: Digest Simulation ... started\n",
      "2017/11/03, 16:24:32: RT Simulation ... started\n",
      "2017/11/03, 16:24:36: Predicting RT ... done\n",
      "2017/11/03, 16:24:36: RT prediction gave 'invalid' results for 2629 peptide(s), making them unobservable.\n",
      "2017/11/03, 16:24:36:   (List is too big to show)\n",
      "2017/11/03, 16:24:36: Creating experiment with #501 scans ... done\n",
      "2017/11/03, 16:24:36: Detectability Simulation ... started\n",
      "2017/11/03, 16:24:36: Ionization Simulation ... started\n",
      "esi_impurity_probabilities_[0]: 1\n",
      "weights[0]: 10\n",
      "2017/11/03, 16:24:36: Simulating 3284 features\n",
      "Progress of 'Ionization':\n",
      "-- done [took 17.97 s (CPU), 17.99 s (Wall)] -- \n",
      "2017/11/03, 16:24:54: #Peptides not ionized: 0\n",
      "2017/11/03, 16:24:54: #Peptides outside mz range: 1214\n",
      "2017/11/03, 16:24:54: Raw MS1 Simulation ... started\n",
      "2017/11/03, 16:24:54:   Simulating signal for 9219 features ...\n",
      "Progress of 'RawMSSignal':\n",
      "-- done [took 12.14 s (CPU), 12.24 s (Wall)] -- \n",
      "2017/11/03, 16:25:08: Contaminants out-of-RT-range: 204 / 486\n",
      "2017/11/03, 16:25:08: Contaminants out-of-MZ-range: 111 / 486\n",
      "2017/11/03, 16:25:10: Compressed data to grid ... 16767834 --> 14090159 (84%)\n",
      "2017/11/03, 16:25:10: Adding white noise to spectra ...\n",
      "2017/11/03, 16:25:10: Adding detector noise to spectra ...\n",
      "2017/11/03, 16:25:10: Detector noise was disabled.\n",
      "2017/11/03, 16:25:10: Tandem MS Simulation ... disabled\n",
      "2017/11/03, 16:25:11: Final number of simulated features: 9219\n",
      "2017/11/03, 16:25:11: Simulation took 39.06352 seconds\n",
      "2017/11/03, 16:25:11: Storing simulated raw data in: batch6_pure/h1.mzML\n",
      "2017/11/03, 16:25:11: Storing simulated peak/centroided data in: batch6_pure/h1.centroided.mzML\n",
      "2017/11/03, 16:25:11: Storing simulated features in: batch6_pure/h1.ground.featureXML\n",
      "2017/11/03, 16:25:13: Storing ground-truth peptide IDs in: batch6_pure/h1.ground.idXML\n",
      "2017/11/03, 16:25:13: MSSimulator took 40.99 s (wall), 40.67 s (CPU), 0.00 s (system), 40.67 s (user).\n",
      "Processing h3\n",
      "Loading sequence data from batch6_pure/h3.fa ...\n",
      "done (120 protein(s) loaded)\n",
      "Starting simulation\n",
      "2017/11/03, 16:24:32: Digest Simulation ... started\n",
      "2017/11/03, 16:24:32: RT Simulation ... started\n",
      "2017/11/03, 16:24:36: Predicting RT ... done\n",
      "2017/11/03, 16:24:36: RT prediction gave 'invalid' results for 2860 peptide(s), making them unobservable.\n",
      "2017/11/03, 16:24:36:   (List is too big to show)\n",
      "2017/11/03, 16:24:36: Creating experiment with #501 scans ... done\n",
      "2017/11/03, 16:24:36: Detectability Simulation ... started\n",
      "2017/11/03, 16:24:36: Ionization Simulation ... started\n",
      "esi_impurity_probabilities_[0]: 1\n",
      "weights[0]: 10\n",
      "2017/11/03, 16:24:36: Simulating 3453 features\n",
      "Progress of 'Ionization':\n",
      "-- done [took 22.38 s (CPU), 22.41 s (Wall)] -- \n",
      "2017/11/03, 16:24:59: #Peptides not ionized: 0\n",
      "2017/11/03, 16:24:59: #Peptides outside mz range: 1299\n",
      "2017/11/03, 16:24:59: Raw MS1 Simulation ... started\n",
      "2017/11/03, 16:24:59:   Simulating signal for 9712 features ...\n",
      "Progress of 'RawMSSignal':\n",
      "-- done [took 11.04 s (CPU), 11.11 s (Wall)] -- \n",
      "2017/11/03, 16:25:12: Contaminants out-of-RT-range: 204 / 486\n",
      "2017/11/03, 16:25:12: Contaminants out-of-MZ-range: 111 / 486\n",
      "2017/11/03, 16:25:14: Compressed data to grid ... 17632263 --> 14782192 (83%)\n",
      "2017/11/03, 16:25:14: Adding white noise to spectra ...\n",
      "2017/11/03, 16:25:14: Adding detector noise to spectra ...\n",
      "2017/11/03, 16:25:14: Detector noise was disabled.\n",
      "2017/11/03, 16:25:14: Tandem MS Simulation ... disabled\n",
      "2017/11/03, 16:25:15: Final number of simulated features: 9712\n",
      "2017/11/03, 16:25:15: Simulation took 42.841975 seconds\n",
      "2017/11/03, 16:25:15: Storing simulated raw data in: batch6_pure/h3.mzML\n",
      "2017/11/03, 16:25:15: Storing simulated peak/centroided data in: batch6_pure/h3.centroided.mzML\n",
      "2017/11/03, 16:25:15: Storing simulated features in: batch6_pure/h3.ground.featureXML\n",
      "2017/11/03, 16:25:16: Storing ground-truth peptide IDs in: batch6_pure/h3.ground.idXML\n",
      "2017/11/03, 16:25:16: MSSimulator took 44.71 s (wall), 44.34 s (CPU), 0.00 s (system), 44.34 s (user).\n",
      "Processing l1\n",
      "Loading sequence data from batch6_pure/l1.fa ...\n",
      "done (120 protein(s) loaded)\n",
      "Starting simulation\n",
      "2017/11/03, 16:24:32: Digest Simulation ... started\n",
      "2017/11/03, 16:24:32: RT Simulation ... started\n",
      "2017/11/03, 16:24:36: Predicting RT ... done\n",
      "2017/11/03, 16:24:36: RT prediction gave 'invalid' results for 2663 peptide(s), making them unobservable.\n",
      "2017/11/03, 16:24:36:   (List is too big to show)\n",
      "2017/11/03, 16:24:36: Creating experiment with #501 scans ... done\n",
      "2017/11/03, 16:24:36: Detectability Simulation ... started\n",
      "2017/11/03, 16:24:36: Ionization Simulation ... started\n",
      "esi_impurity_probabilities_[0]: 1\n",
      "weights[0]: 10\n",
      "2017/11/03, 16:24:36: Simulating 3289 features\n",
      "Progress of 'Ionization':\n",
      "-- done [took 24.56 s (CPU), 24.61 s (Wall)] -- \n",
      "2017/11/03, 16:25:01: #Peptides not ionized: 0\n",
      "2017/11/03, 16:25:01: #Peptides outside mz range: 1175\n",
      "2017/11/03, 16:25:01: Raw MS1 Simulation ... started\n",
      "2017/11/03, 16:25:01:   Simulating signal for 9324 features ...\n",
      "Progress of 'RawMSSignal':\n",
      "-- done [took 11.52 s (CPU), 11.66 s (Wall)] -- \n",
      "2017/11/03, 16:25:14: Contaminants out-of-RT-range: 204 / 486\n",
      "2017/11/03, 16:25:14: Contaminants out-of-MZ-range: 111 / 486\n",
      "2017/11/03, 16:25:16: Compressed data to grid ... 16852375 --> 14225327 (84%)\n",
      "2017/11/03, 16:25:16: Adding white noise to spectra ...\n",
      "2017/11/03, 16:25:16: Adding detector noise to spectra ...\n",
      "2017/11/03, 16:25:16: Detector noise was disabled.\n",
      "2017/11/03, 16:25:16: Tandem MS Simulation ... disabled\n",
      "2017/11/03, 16:25:16: Final number of simulated features: 9324\n",
      "2017/11/03, 16:25:16: Simulation took 44.8028 seconds\n",
      "2017/11/03, 16:25:16: Storing simulated raw data in: batch6_pure/l1.mzML\n",
      "2017/11/03, 16:25:17: Storing simulated peak/centroided data in: batch6_pure/l1.centroided.mzML\n",
      "2017/11/03, 16:25:17: Storing simulated features in: batch6_pure/l1.ground.featureXML\n",
      "2017/11/03, 16:25:18: Storing ground-truth peptide IDs in: batch6_pure/l1.ground.idXML\n",
      "2017/11/03, 16:25:18: MSSimulator took 46.16 s (wall), 45.68 s (CPU), 0.00 s (system), 45.68 s (user).\n",
      "Processing l2\n",
      "Loading sequence data from batch6_pure/l2.fa ...\n",
      "done (120 protein(s) loaded)\n",
      "Starting simulation\n",
      "2017/11/03, 16:24:32: Digest Simulation ... started\n",
      "2017/11/03, 16:24:32: RT Simulation ... started\n",
      "2017/11/03, 16:24:36: Predicting RT ... done\n",
      "2017/11/03, 16:24:36: RT prediction gave 'invalid' results for 2788 peptide(s), making them unobservable.\n",
      "2017/11/03, 16:24:36:   (List is too big to show)\n",
      "2017/11/03, 16:24:36: Creating experiment with #501 scans ... done\n",
      "2017/11/03, 16:24:36: Detectability Simulation ... started\n",
      "2017/11/03, 16:24:36: Ionization Simulation ... started\n",
      "esi_impurity_probabilities_[0]: 1\n",
      "weights[0]: 10\n",
      "2017/11/03, 16:24:36: Simulating 3399 features\n",
      "Progress of 'Ionization':\n",
      "-- done [took 25.72 s (CPU), 25.82 s (Wall)] -- \n",
      "2017/11/03, 16:25:02: #Peptides not ionized: 0\n",
      "2017/11/03, 16:25:02: #Peptides outside mz range: 1206\n",
      "2017/11/03, 16:25:02: Raw MS1 Simulation ... started\n",
      "2017/11/03, 16:25:02:   Simulating signal for 9403 features ...\n",
      "Progress of 'RawMSSignal':\n",
      "-- done [took 11.11 s (CPU), 11.21 s (Wall)] -- \n",
      "2017/11/03, 16:25:15: Contaminants out-of-RT-range: 204 / 486\n",
      "2017/11/03, 16:25:15: Contaminants out-of-MZ-range: 111 / 486\n",
      "2017/11/03, 16:25:17: Compressed data to grid ... 16824464 --> 14152960 (84%)\n",
      "2017/11/03, 16:25:17: Adding white noise to spectra ...\n",
      "2017/11/03, 16:25:17: Adding detector noise to spectra ...\n",
      "2017/11/03, 16:25:17: Detector noise was disabled.\n",
      "2017/11/03, 16:25:17: Tandem MS Simulation ... disabled\n",
      "2017/11/03, 16:25:17: Final number of simulated features: 9403\n",
      "2017/11/03, 16:25:17: Simulation took 45.649518 seconds\n",
      "2017/11/03, 16:25:17: Storing simulated raw data in: batch6_pure/l2.mzML\n",
      "2017/11/03, 16:25:18: Storing simulated peak/centroided data in: batch6_pure/l2.centroided.mzML\n",
      "2017/11/03, 16:25:18: Storing simulated features in: batch6_pure/l2.ground.featureXML\n",
      "2017/11/03, 16:25:19: Storing ground-truth peptide IDs in: batch6_pure/l2.ground.idXML\n",
      "2017/11/03, 16:25:19: MSSimulator took 46.98 s (wall), 46.58 s (CPU), 0.00 s (system), 46.58 s (user).\n"
     ]
    },
    {
     "name": "stdout",
     "output_type": "stream",
     "text": [
      "Processing h2\n",
      "Loading sequence data from batch6_pure/h2.fa ...\n",
      "done (120 protein(s) loaded)\n",
      "Starting simulation\n",
      "2017/11/03, 16:24:32: Digest Simulation ... started\n",
      "2017/11/03, 16:24:32: RT Simulation ... started\n",
      "2017/11/03, 16:24:36: Predicting RT ... done\n",
      "2017/11/03, 16:24:36: RT prediction gave 'invalid' results for 3305 peptide(s), making them unobservable.\n",
      "2017/11/03, 16:24:36:   (List is too big to show)\n",
      "2017/11/03, 16:24:36: Creating experiment with #501 scans ... done\n",
      "2017/11/03, 16:24:36: Detectability Simulation ... started\n",
      "2017/11/03, 16:24:36: Ionization Simulation ... started\n",
      "esi_impurity_probabilities_[0]: 1\n",
      "weights[0]: 10\n",
      "2017/11/03, 16:24:36: Simulating 3748 features\n",
      "Progress of 'Ionization':\n",
      "-- done [took 27.37 s (CPU), 27.45 s (Wall)] -- \n",
      "2017/11/03, 16:25:04: #Peptides not ionized: 0\n",
      "2017/11/03, 16:25:04: #Peptides outside mz range: 1308\n",
      "2017/11/03, 16:25:04: Raw MS1 Simulation ... started\n",
      "2017/11/03, 16:25:04:   Simulating signal for 10616 features ...\n",
      "Progress of 'RawMSSignal':\n",
      "-- done [took 11.21 s (CPU), 11.29 s (Wall)] -- \n",
      "2017/11/03, 16:25:16: Contaminants out-of-RT-range: 204 / 486\n",
      "2017/11/03, 16:25:16: Contaminants out-of-MZ-range: 111 / 486\n",
      "2017/11/03, 16:25:19: Compressed data to grid ... 19331398 --> 15968425 (82%)\n",
      "2017/11/03, 16:25:19: Adding white noise to spectra ...\n",
      "2017/11/03, 16:25:19: Adding detector noise to spectra ...\n",
      "2017/11/03, 16:25:19: Detector noise was disabled.\n",
      "2017/11/03, 16:25:19: Tandem MS Simulation ... disabled\n",
      "2017/11/03, 16:25:19: Final number of simulated features: 10616\n",
      "2017/11/03, 16:25:19: Simulation took 47.403657 seconds\n",
      "2017/11/03, 16:25:19: Storing simulated raw data in: batch6_pure/h2.mzML\n",
      "2017/11/03, 16:25:19: Storing simulated peak/centroided data in: batch6_pure/h2.centroided.mzML\n",
      "2017/11/03, 16:25:20: Storing simulated features in: batch6_pure/h2.ground.featureXML\n",
      "2017/11/03, 16:25:20: Storing ground-truth peptide IDs in: batch6_pure/h2.ground.idXML\n",
      "2017/11/03, 16:25:21: MSSimulator took 48.85 s (wall), 48.49 s (CPU), 0.00 s (system), 48.49 s (user).\n",
      "Processing l3\n",
      "Loading sequence data from batch6_pure/l3.fa ...\n",
      "done (120 protein(s) loaded)\n",
      "Starting simulation\n",
      "2017/11/03, 16:24:32: Digest Simulation ... started\n",
      "2017/11/03, 16:24:32: RT Simulation ... started\n",
      "2017/11/03, 16:24:37: Predicting RT ... done\n",
      "2017/11/03, 16:24:37: RT prediction gave 'invalid' results for 3420 peptide(s), making them unobservable.\n",
      "2017/11/03, 16:24:37:   (List is too big to show)\n",
      "2017/11/03, 16:24:37: Creating experiment with #501 scans ... done\n",
      "2017/11/03, 16:24:37: Detectability Simulation ... started\n",
      "2017/11/03, 16:24:37: Ionization Simulation ... started\n",
      "esi_impurity_probabilities_[0]: 1\n",
      "weights[0]: 10\n",
      "2017/11/03, 16:24:37: Simulating 3878 features\n",
      "Progress of 'Ionization':\n",
      "-- done [took 30.36 s (CPU), 30.44 s (Wall)] -- \n",
      "2017/11/03, 16:25:07: #Peptides not ionized: 0\n",
      "2017/11/03, 16:25:07: #Peptides outside mz range: 1564\n",
      "2017/11/03, 16:25:07: Raw MS1 Simulation ... started\n",
      "2017/11/03, 16:25:07:   Simulating signal for 10837 features ...\n",
      "Progress of 'RawMSSignal':\n",
      "-- done [took 11.88 s (CPU), 11.97 s (Wall)] -- \n",
      "2017/11/03, 16:25:21: Contaminants out-of-RT-range: 204 / 486\n",
      "2017/11/03, 16:25:21: Contaminants out-of-MZ-range: 111 / 486\n",
      "2017/11/03, 16:25:23: Compressed data to grid ... 19826726 --> 16247703 (81%)\n",
      "2017/11/03, 16:25:23: Adding white noise to spectra ...\n",
      "2017/11/03, 16:25:23: Adding detector noise to spectra ...\n",
      "2017/11/03, 16:25:23: Detector noise was disabled.\n",
      "2017/11/03, 16:25:23: Tandem MS Simulation ... disabled\n",
      "2017/11/03, 16:25:23: Final number of simulated features: 10837\n",
      "2017/11/03, 16:25:23: Simulation took 51.717938 seconds\n",
      "2017/11/03, 16:25:23: Storing simulated raw data in: batch6_pure/l3.mzML\n",
      "2017/11/03, 16:25:24: Storing simulated peak/centroided data in: batch6_pure/l3.centroided.mzML\n",
      "2017/11/03, 16:25:24: Storing simulated features in: batch6_pure/l3.ground.featureXML\n",
      "2017/11/03, 16:25:25: Storing ground-truth peptide IDs in: batch6_pure/l3.ground.idXML\n",
      "2017/11/03, 16:25:25: MSSimulator took 53.18 s (wall), 52.80 s (CPU), 0.00 s (system), 52.80 s (user).\n",
      "\n",
      "real\t0m53.804s\n",
      "user\t4m38.836s\n",
      "sys\t0m1.700s\n"
     ]
    }
   ],
   "source": [
    "time parallel -j ${threads} \\\n",
    "\"echo \\\"Processing {}\\\"\n",
    "MSSimulator \\\n",
    "    -in ${run}/{}.fa \\\n",
    "    -out_fm ${run}/{}.ground.featureXML \\\n",
    "    -out_id ${run}/{}.ground.idXML \\\n",
    "    -out ${run}/{}.mzML \\\n",
    "    -out_pm ${run}/{}.centroided.mzML\" \\\n",
    "    ::: ${samples}\n"
   ]
  },
  {
   "cell_type": "code",
   "execution_count": 13,
   "metadata": {
    "ExecuteTime": {
     "end_time": "2017-11-03T15:27:56.257289Z",
     "start_time": "2017-11-03T16:25:25.930839+01:00"
    },
    "scrolled": true
   },
   "outputs": [
    {
     "name": "stdout",
     "output_type": "stream",
     "text": [
      "Processing h1\n",
      "Progress of 'loading spectra list':\n",
      "-- done [took 0.15 s (CPU), 0.15 s (Wall)] -- \n",
      "Progress of 'Precalculating intensity scores':\n",
      "-- done [took 0.24 s (CPU), 0.25 s (Wall)] -- \n",
      "Progress of 'Precalculating mass trace scores':\n",
      "-- done [took 0.64 s (CPU), 0.64 s (Wall)] -- \n",
      "Progress of 'Precalculating isotope distributions':\n",
      "-- done [took 0.02 s (CPU), 0.02 s (Wall)] -- \n",
      "Progress of 'Calculating isotope pattern scores for charge 1':\n",
      "-- done [took 1.42 s (CPU), 1.43 s (Wall)] -- \n",
      "Progress of 'Finding seeds for charge 1':\n",
      "-- done [took 0.10 s (CPU), 0.10 s (Wall)] -- \n",
      "Found 56822 seeds for charge 1.\n",
      "Progress of 'Extending seeds for charge 1':\n",
      "-- done [took 01:04 m (CPU), 01:05 m (Wall)] -- \n",
      "Found 12863 feature candidates for charge 1.\n",
      "Progress of 'Calculating isotope pattern scores for charge 2':\n",
      "-- done [took 1.58 s (CPU), 1.58 s (Wall)] -- \n",
      "Progress of 'Finding seeds for charge 2':\n",
      "-- done [took 0.15 s (CPU), 0.15 s (Wall)] -- \n",
      "Found 30098 seeds for charge 2.\n",
      "Progress of 'Extending seeds for charge 2':\n",
      "-- done [took 24.95 s (CPU), 25.09 s (Wall)] -- \n",
      "Found 4907 feature candidates for charge 2.\n",
      "Progress of 'Calculating isotope pattern scores for charge 3':\n",
      "-- done [took 1.83 s (CPU), 1.86 s (Wall)] -- \n",
      "Progress of 'Finding seeds for charge 3':\n",
      "-- done [took 0.05 s (CPU), 0.05 s (Wall)] -- \n",
      "Found 18669 seeds for charge 3.\n",
      "Progress of 'Extending seeds for charge 3':\n",
      "-- done [took 14.90 s (CPU), 15.00 s (Wall)] -- \n",
      "Found 2403 feature candidates for charge 3.\n",
      "Progress of 'Calculating isotope pattern scores for charge 4':\n",
      "-- done [took 1.73 s (CPU), 1.74 s (Wall)] -- \n",
      "Progress of 'Finding seeds for charge 4':\n",
      "-- done [took 0.04 s (CPU), 0.04 s (Wall)] -- \n",
      "Found 8412 seeds for charge 4.\n",
      "Progress of 'Extending seeds for charge 4':\n",
      "-- done [took 5.60 s (CPU), 5.68 s (Wall)] -- \n",
      "Found 937 feature candidates for charge 4.\n",
      "Progress of 'Resolving overlapping features':\n",
      "  92.59 %               Removed 12101 overlapping features.\n",
      "-- done [took 4.07 s (CPU), 4.09 s (Wall)] -- \n",
      "9009 features left.\n",
      "\n",
      "Abort reasons during feature construction:\n",
      "- Could not extend seed: 4287\n",
      "- Could not find good enough isotope pattern containing the seed: 2736\n",
      "- Feature quality too low after fit: 3171\n",
      "- Invalid feature after fit - too few traces or peaks left: 18017\n",
      "- Invalid fit: Center outside of feature bounds: 281\n",
      "- Invalid fit: Fitted model is bigger than 'max_rt_span': 13\n",
      "FeatureFinderCentroided took 02:04 m (wall), 02:03 m (CPU), 0.00 s (system), 02:03 m (user).\n",
      "Processing l2\n",
      "Progress of 'loading spectra list':\n",
      "-- done [took 0.14 s (CPU), 0.16 s (Wall)] -- \n",
      "Progress of 'Precalculating intensity scores':\n",
      "-- done [took 0.22 s (CPU), 0.22 s (Wall)] -- \n",
      "Progress of 'Precalculating mass trace scores':\n",
      "-- done [took 0.80 s (CPU), 0.80 s (Wall)] -- \n",
      "Progress of 'Precalculating isotope distributions':\n",
      "-- done [took 0.02 s (CPU), 0.02 s (Wall)] -- \n",
      "Progress of 'Calculating isotope pattern scores for charge 1':\n",
      "-- done [took 1.04 s (CPU), 1.05 s (Wall)] -- \n",
      "Progress of 'Finding seeds for charge 1':\n",
      "-- done [took 0.11 s (CPU), 0.11 s (Wall)] -- \n",
      "Found 57404 seeds for charge 1.\n",
      "Progress of 'Extending seeds for charge 1':\n",
      "-- done [took 01:07 m (CPU), 01:07 m (Wall)] -- \n",
      "Found 13036 feature candidates for charge 1.\n",
      "Progress of 'Calculating isotope pattern scores for charge 2':\n",
      "-- done [took 1.45 s (CPU), 1.46 s (Wall)] -- \n",
      "Progress of 'Finding seeds for charge 2':\n",
      "-- done [took 0.16 s (CPU), 0.16 s (Wall)] -- \n",
      "Found 29849 seeds for charge 2.\n",
      "Progress of 'Extending seeds for charge 2':\n",
      "-- done [took 25.51 s (CPU), 25.64 s (Wall)] -- \n",
      "Found 4880 feature candidates for charge 2.\n",
      "Progress of 'Calculating isotope pattern scores for charge 3':\n",
      "-- done [took 1.51 s (CPU), 1.52 s (Wall)] -- \n",
      "Progress of 'Finding seeds for charge 3':\n",
      "-- done [took 0.05 s (CPU), 0.05 s (Wall)] -- \n",
      "Found 18391 seeds for charge 3.\n",
      "Progress of 'Extending seeds for charge 3':\n",
      "-- done [took 14.31 s (CPU), 14.43 s (Wall)] -- \n",
      "Found 2378 feature candidates for charge 3.\n",
      "Progress of 'Calculating isotope pattern scores for charge 4':\n",
      "-- done [took 1.74 s (CPU), 1.74 s (Wall)] -- \n",
      "Progress of 'Finding seeds for charge 4':\n",
      "-- done [took 0.02 s (CPU), 0.02 s (Wall)] -- \n",
      "Found 7834 seeds for charge 4.\n",
      "Progress of 'Extending seeds for charge 4':\n",
      "-- done [took 5.14 s (CPU), 5.19 s (Wall)] -- \n",
      "Found 889 feature candidates for charge 4.\n",
      "Progress of 'Resolving overlapping features':\n",
      "  0.00 %               Removed 12053 overlapping features.\n",
      "-- done [took 3.74 s (CPU), 3.76 s (Wall)] -- \n",
      "9130 features left.\n",
      "\n",
      "Abort reasons during feature construction:\n",
      "- Could not extend seed: 4367\n",
      "- Could not find good enough isotope pattern containing the seed: 2554\n",
      "- Feature quality too low after fit: 3040\n",
      "- Invalid feature after fit - too few traces or peaks left: 18182\n",
      "- Invalid fit: Center outside of feature bounds: 230\n",
      "- Invalid fit: Fitted model is bigger than 'max_rt_span': 6\n",
      "FeatureFinderCentroided took 02:05 m (wall), 02:04 m (CPU), 0.00 s (system), 02:04 m (user).\n",
      "Processing l1\n",
      "Progress of 'loading spectra list':\n",
      "-- done [took 0.09 s (CPU), 0.11 s (Wall)] -- \n",
      "Progress of 'Precalculating intensity scores':\n",
      "-- done [took 0.22 s (CPU), 0.22 s (Wall)] -- \n",
      "Progress of 'Precalculating mass trace scores':\n",
      "-- done [took 0.58 s (CPU), 0.59 s (Wall)] -- \n",
      "Progress of 'Precalculating isotope distributions':\n",
      "-- done [took 0.02 s (CPU), 0.02 s (Wall)] -- \n",
      "Progress of 'Calculating isotope pattern scores for charge 1':\n",
      "-- done [took 1.38 s (CPU), 1.38 s (Wall)] -- \n",
      "Progress of 'Finding seeds for charge 1':\n",
      "-- done [took 0.08 s (CPU), 0.08 s (Wall)] -- \n",
      "Found 57242 seeds for charge 1.\n",
      "Progress of 'Extending seeds for charge 1':\n",
      "-- done [took 01:08 m (CPU), 01:09 m (Wall)] -- \n",
      "Found 12858 feature candidates for charge 1.\n",
      "Progress of 'Calculating isotope pattern scores for charge 2':\n",
      "-- done [took 1.62 s (CPU), 1.61 s (Wall)] -- \n",
      "Progress of 'Finding seeds for charge 2':\n",
      "-- done [took 0.16 s (CPU), 0.16 s (Wall)] -- \n",
      "Found 30125 seeds for charge 2.\n",
      "Progress of 'Extending seeds for charge 2':\n",
      "-- done [took 26.43 s (CPU), 26.68 s (Wall)] -- \n",
      "Found 4888 feature candidates for charge 2.\n",
      "Progress of 'Calculating isotope pattern scores for charge 3':\n",
      "-- done [took 1.86 s (CPU), 1.88 s (Wall)] -- \n",
      "Progress of 'Finding seeds for charge 3':\n",
      "-- done [took 0.07 s (CPU), 0.07 s (Wall)] -- \n",
      "Found 18698 seeds for charge 3.\n",
      "Progress of 'Extending seeds for charge 3':\n",
      "-- done [took 15.00 s (CPU), 15.07 s (Wall)] -- \n",
      "Found 2426 feature candidates for charge 3.\n",
      "Progress of 'Calculating isotope pattern scores for charge 4':\n",
      "-- done [took 1.68 s (CPU), 1.69 s (Wall)] -- \n",
      "Progress of 'Finding seeds for charge 4':\n",
      "-- done [took 0.03 s (CPU), 0.03 s (Wall)] -- \n",
      "Found 8755 seeds for charge 4.\n",
      "Progress of 'Extending seeds for charge 4':\n",
      "-- done [took 6.58 s (CPU), 6.63 s (Wall)] -- \n",
      "Found 972 feature candidates for charge 4.\n",
      "Progress of 'Resolving overlapping features':\n",
      "Removed 11998 overlapping features.\n",
      "-- done [took 3.16 s (CPU), 3.17 s (Wall)] -- \n",
      "9146 features left.\n",
      "\n",
      "Abort reasons during feature construction:\n",
      "- Could not extend seed: 4223\n",
      "- Could not find good enough isotope pattern containing the seed: 3146\n",
      "- Feature quality too low after fit: 3238\n",
      "- Invalid feature after fit - too few traces or peaks left: 18368\n",
      "- Invalid fit: Center outside of feature bounds: 473\n",
      "- Invalid fit: Fitted model is bigger than 'max_rt_span': 23\n",
      "FeatureFinderCentroided took 02:10 m (wall), 02:08 m (CPU), 0.00 s (system), 02:08 m (user).\n",
      "Processing h3\n",
      "Progress of 'loading spectra list':\n",
      "-- done [took 0.13 s (CPU), 0.15 s (Wall)] -- \n",
      "Progress of 'Precalculating intensity scores':\n",
      "-- done [took 0.26 s (CPU), 0.27 s (Wall)] -- \n",
      "Progress of 'Precalculating mass trace scores':\n",
      "-- done [took 0.60 s (CPU), 0.60 s (Wall)] -- \n",
      "Progress of 'Precalculating isotope distributions':\n",
      "-- done [took 0.01 s (CPU), 0.01 s (Wall)] -- \n",
      "Progress of 'Calculating isotope pattern scores for charge 1':\n",
      "-- done [took 1.03 s (CPU), 1.03 s (Wall)] -- \n",
      "Progress of 'Finding seeds for charge 1':\n",
      "-- done [took 0.09 s (CPU), 0.08 s (Wall)] -- \n",
      "Found 60336 seeds for charge 1.\n",
      "Progress of 'Extending seeds for charge 1':\n",
      "-- done [took 01:10 m (CPU), 01:11 m (Wall)] -- \n",
      "Found 13627 feature candidates for charge 1.\n",
      "Progress of 'Calculating isotope pattern scores for charge 2':\n"
     ]
    },
    {
     "name": "stdout",
     "output_type": "stream",
     "text": [
      "-- done [took 1.84 s (CPU), 1.85 s (Wall)] -- \n",
      "Progress of 'Finding seeds for charge 2':\n",
      "-- done [took 0.18 s (CPU), 0.18 s (Wall)] -- \n",
      "Found 31732 seeds for charge 2.\n",
      "Progress of 'Extending seeds for charge 2':\n",
      "-- done [took 29.02 s (CPU), 29.23 s (Wall)] -- \n",
      "Found 5171 feature candidates for charge 2.\n",
      "Progress of 'Calculating isotope pattern scores for charge 3':\n",
      "-- done [took 2.01 s (CPU), 2.04 s (Wall)] -- \n",
      "Progress of 'Finding seeds for charge 3':\n",
      "-- done [took 0.07 s (CPU), 0.08 s (Wall)] -- \n",
      "Found 19775 seeds for charge 3.\n",
      "Progress of 'Extending seeds for charge 3':\n",
      "-- done [took 15.74 s (CPU), 15.89 s (Wall)] -- \n",
      "Found 2532 feature candidates for charge 3.\n",
      "Progress of 'Calculating isotope pattern scores for charge 4':\n",
      "-- done [took 2.15 s (CPU), 2.17 s (Wall)] -- \n",
      "Progress of 'Finding seeds for charge 4':\n",
      "-- done [took 0.03 s (CPU), 0.02 s (Wall)] -- \n",
      "Found 9067 seeds for charge 4.\n",
      "Progress of 'Extending seeds for charge 4':\n",
      "-- done [took 5.30 s (CPU), 5.30 s (Wall)] -- \n",
      "Found 1005 feature candidates for charge 4.\n",
      "Progress of 'Resolving overlapping features':\n",
      "Removed 12842 overlapping features.\n",
      "-- done [took 3.22 s (CPU), 3.22 s (Wall)] -- \n",
      "9493 features left.\n",
      "\n",
      "Abort reasons during feature construction:\n",
      "- Could not extend seed: 4865\n",
      "- Could not find good enough isotope pattern containing the seed: 2949\n",
      "- Feature quality too low after fit: 3277\n",
      "- Invalid feature after fit - too few traces or peaks left: 18878\n",
      "- Invalid fit: Center outside of feature bounds: 338\n",
      "- Invalid fit: Fitted model is bigger than 'max_rt_span': 19\n",
      "FeatureFinderCentroided took 02:14 m (wall), 02:13 m (CPU), 0.00 s (system), 02:13 m (user).\n",
      "Processing h2\n",
      "Progress of 'loading spectra list':\n",
      "-- done [took 0.14 s (CPU), 0.15 s (Wall)] -- \n",
      "Progress of 'Precalculating intensity scores':\n",
      "-- done [took 0.29 s (CPU), 0.29 s (Wall)] -- \n",
      "Progress of 'Precalculating mass trace scores':\n",
      "-- done [took 0.82 s (CPU), 0.83 s (Wall)] -- \n",
      "Progress of 'Precalculating isotope distributions':\n",
      "-- done [took 0.02 s (CPU), 0.01 s (Wall)] -- \n",
      "Progress of 'Calculating isotope pattern scores for charge 1':\n",
      "-- done [took 1.63 s (CPU), 1.64 s (Wall)] -- \n",
      "Progress of 'Finding seeds for charge 1':\n",
      "-- done [took 0.17 s (CPU), 0.17 s (Wall)] -- \n",
      "Found 65630 seeds for charge 1.\n",
      "Progress of 'Extending seeds for charge 1':\n",
      "-- done [took 01:20 m (CPU), 01:21 m (Wall)] -- \n",
      "Found 14842 feature candidates for charge 1.\n",
      "Progress of 'Calculating isotope pattern scores for charge 2':\n",
      "-- done [took 1.92 s (CPU), 1.93 s (Wall)] -- \n",
      "Progress of 'Finding seeds for charge 2':\n",
      "-- done [took 0.18 s (CPU), 0.18 s (Wall)] -- \n",
      "Found 34930 seeds for charge 2.\n",
      "Progress of 'Extending seeds for charge 2':\n",
      "-- done [took 31.33 s (CPU), 31.59 s (Wall)] -- \n",
      "Found 5674 feature candidates for charge 2.\n",
      "Progress of 'Calculating isotope pattern scores for charge 3':\n",
      "-- done [took 1.97 s (CPU), 2.00 s (Wall)] -- \n",
      "Progress of 'Finding seeds for charge 3':\n",
      "-- done [took 0.09 s (CPU), 0.09 s (Wall)] -- \n",
      "Found 21328 seeds for charge 3.\n",
      "Progress of 'Extending seeds for charge 3':\n",
      "-- done [took 14.51 s (CPU), 14.60 s (Wall)] -- \n",
      "Found 2749 feature candidates for charge 3.\n",
      "Progress of 'Calculating isotope pattern scores for charge 4':\n",
      "-- done [took 1.56 s (CPU), 1.56 s (Wall)] -- \n",
      "Progress of 'Finding seeds for charge 4':\n",
      "-- done [took 0.03 s (CPU), 0.02 s (Wall)] -- \n",
      "Found 9748 seeds for charge 4.\n",
      "Progress of 'Extending seeds for charge 4':\n",
      "-- done [took 4.42 s (CPU), 4.43 s (Wall)] -- \n",
      "Found 1077 feature candidates for charge 4.\n",
      "Progress of 'Resolving overlapping features':\n",
      "  0.00 %               Removed 13965 overlapping features.\n",
      "-- done [took 3.02 s (CPU), 3.02 s (Wall)] -- \n",
      "10377 features left.\n",
      "\n",
      "Abort reasons during feature construction:\n",
      "- Could not extend seed: 5487\n",
      "- Could not find good enough isotope pattern containing the seed: 3451\n",
      "- Feature quality too low after fit: 3590\n",
      "- Invalid feature after fit - too few traces or peaks left: 20748\n",
      "- Invalid fit: Center outside of feature bounds: 265\n",
      "- Invalid fit: Fitted model is bigger than 'max_rt_span': 15\n",
      "FeatureFinderCentroided took 02:25 m (wall), 02:23 m (CPU), 0.00 s (system), 02:23 m (user).\n",
      "Processing l3\n",
      "Progress of 'loading spectra list':\n",
      "-- done [took 0.14 s (CPU), 0.16 s (Wall)] -- \n",
      "Progress of 'Precalculating intensity scores':\n",
      "-- done [took 0.30 s (CPU), 0.30 s (Wall)] -- \n",
      "Progress of 'Precalculating mass trace scores':\n",
      "-- done [took 0.95 s (CPU), 0.95 s (Wall)] -- \n",
      "Progress of 'Precalculating isotope distributions':\n",
      "-- done [took 0.02 s (CPU), 0.02 s (Wall)] -- \n",
      "Progress of 'Calculating isotope pattern scores for charge 1':\n",
      "-- done [took 1.76 s (CPU), 1.77 s (Wall)] -- \n",
      "Progress of 'Finding seeds for charge 1':\n",
      "-- done [took 0.17 s (CPU), 0.18 s (Wall)] -- \n",
      "Found 67555 seeds for charge 1.\n",
      "Progress of 'Extending seeds for charge 1':\n",
      "-- done [took 01:22 m (CPU), 01:23 m (Wall)] -- \n",
      "Found 15125 feature candidates for charge 1.\n",
      "Progress of 'Calculating isotope pattern scores for charge 2':\n",
      "-- done [took 2.06 s (CPU), 2.07 s (Wall)] -- \n",
      "Progress of 'Finding seeds for charge 2':\n",
      "-- done [took 0.18 s (CPU), 0.18 s (Wall)] -- \n",
      "Found 35914 seeds for charge 2.\n",
      "Progress of 'Extending seeds for charge 2':\n",
      "-- done [took 31.84 s (CPU), 32.08 s (Wall)] -- \n",
      "Found 5713 feature candidates for charge 2.\n",
      "Progress of 'Calculating isotope pattern scores for charge 3':\n",
      "-- done [took 1.94 s (CPU), 1.95 s (Wall)] -- \n",
      "Progress of 'Finding seeds for charge 3':\n",
      "-- done [took 0.08 s (CPU), 0.08 s (Wall)] -- \n",
      "Found 22555 seeds for charge 3.\n",
      "Progress of 'Extending seeds for charge 3':\n",
      "-- done [took 14.02 s (CPU), 14.04 s (Wall)] -- \n",
      "Found 2835 feature candidates for charge 3.\n",
      "Progress of 'Calculating isotope pattern scores for charge 4':\n",
      "-- done [took 1.55 s (CPU), 1.55 s (Wall)] -- \n",
      "Progress of 'Finding seeds for charge 4':\n",
      "-- done [took 0.03 s (CPU), 0.02 s (Wall)] -- \n",
      "Found 10263 seeds for charge 4.\n",
      "Progress of 'Extending seeds for charge 4':\n",
      "-- done [took 5.49 s (CPU), 5.49 s (Wall)] -- \n",
      "Found 1127 feature candidates for charge 4.\n",
      "Progress of 'Resolving overlapping features':\n",
      "  0.00 %               Removed 14298 overlapping features.\n",
      "-- done [took 3.10 s (CPU), 3.10 s (Wall)] -- \n",
      "10502 features left.\n",
      "\n",
      "Abort reasons during feature construction:\n",
      "- Could not extend seed: 5488\n",
      "- Could not find good enough isotope pattern containing the seed: 3663\n",
      "- Feature quality too low after fit: 3935\n",
      "- Invalid feature after fit - too few traces or peaks left: 21117\n",
      "- Invalid fit: Center outside of feature bounds: 471\n",
      "- Invalid fit: Fitted model is bigger than 'max_rt_span': 4\n",
      "FeatureFinderCentroided took 02:29 m (wall), 02:27 m (CPU), 0.00 s (system), 02:27 m (user).\n",
      "\n",
      "real\t2m29.958s\n",
      "user\t13m22.300s\n",
      "sys\t0m1.716s\n"
     ]
    }
   ],
   "source": [
    "time parallel -j ${threads} \\\n",
    "\"echo \\\"Processing {}\\\"\n",
    "FeatureFinderCentroided \\\n",
    "    -in ${run}/{}.centroided.mzML \\\n",
    "    -out ${run}/{}.featureXML\" \\\n",
    "    ::: ${samples}\n"
   ]
  },
  {
   "cell_type": "code",
   "execution_count": 14,
   "metadata": {
    "ExecuteTime": {
     "end_time": "2017-11-03T15:28:07.031361Z",
     "start_time": "2017-11-03T16:27:56.258461+01:00"
    }
   },
   "outputs": [
    {
     "name": "stdout",
     "output_type": "stream",
     "text": [
      "Processing sample: l1\n",
      "Processing sample: l2\n",
      "Processing sample: l3\n",
      "Processing sample: h1\n",
      "Processing sample: h2\n",
      "Processing sample: h3\n"
     ]
    }
   ],
   "source": [
    "for sample in ${samples}; do \\\n",
    "    echo \"Processing sample: ${sample}\"\n",
    "    IDMapper \\\n",
    "        -id ${run}/${sample}.ground.idXML \\\n",
    "        -in ${run}/${sample}.featureXML \\\n",
    "        -out ${run}/${sample}.mapped.featureXML \\\n",
    "        > ${run}/${sample}.mapped.featureXML.log\n",
    "done"
   ]
  },
  {
   "cell_type": "markdown",
   "metadata": {},
   "source": [
    "Here, we do RT alignment (?) of features (with their identities mapped)."
   ]
  },
  {
   "cell_type": "code",
   "execution_count": 15,
   "metadata": {
    "ExecuteTime": {
     "end_time": "2017-11-03T15:28:20.023496Z",
     "start_time": "2017-11-03T16:28:07.032964+01:00"
    }
   },
   "outputs": [
    {
     "name": "stdout",
     "output_type": "stream",
     "text": [
      "batch6_pure/l1.mapped.aligned.featureXML batch6_pure/l2.mapped.aligned.featureXML batch6_pure/l3.mapped.aligned.featureXML batch6_pure/h1.mapped.aligned.featureXML batch6_pure/h2.mapped.aligned.featureXML batch6_pure/h3.mapped.aligned.featureXML\n",
      "Picking a reference (by size) ... done\n",
      "Progress of 'Aligning input maps':\n",
      "-- done [took 9.96 s (CPU), 10.01 s (Wall)] -- \n",
      "MapAlignerPoseClustering took 11.24 s (wall), 11.16 s (CPU), 0.00 s (system), 11.16 s (user).\n"
     ]
    }
   ],
   "source": [
    "out_strings=\"\"\n",
    "for sample in ${samples}; do\n",
    "    out_strings=\"${out_strings} ${run}/${sample}.mapped.aligned.featureXML\"\n",
    "done\n",
    "\n",
    "echo ${out_strings}\n",
    "\n",
    "MapAlignerPoseClustering \\\n",
    "    -in ${run}/*.mapped.featureXML \\\n",
    "    -out ${out_strings}\n"
   ]
  },
  {
   "cell_type": "code",
   "execution_count": 16,
   "metadata": {
    "ExecuteTime": {
     "end_time": "2017-11-03T15:28:38.085251Z",
     "start_time": "2017-11-03T16:28:20.025934+01:00"
    }
   },
   "outputs": [
    {
     "name": "stdout",
     "output_type": "stream",
     "text": [
      "Progress of 'reading input':\n",
      "-- done [took 5.29 s (CPU), 5.32 s (Wall)] -- \n",
      "Progress of 'linking features':\n",
      "-- done [took 4.23 s (CPU), 4.24 s (Wall)] -- \n",
      "Number of consensus features:\n",
      "  of size  6:    143\n",
      "  of size  5:    573\n",
      "  of size  4:   1705\n",
      "  of size  3:   3586\n",
      "  of size  2:   7162\n",
      "  of size  1:  22032\n",
      "  total:       35201\n",
      "FeatureLinkerUnlabeledQT took 16.70 s (wall), 16.60 s (CPU), 0.00 s (system), 16.60 s (user).\n"
     ]
    }
   ],
   "source": [
    "FeatureLinkerUnlabeledQT \\\n",
    "    -in ${run}/*.mapped.aligned.featureXML \\\n",
    "    -out ${run}/combined.consensusXML"
   ]
  },
  {
   "cell_type": "markdown",
   "metadata": {},
   "source": [
    "# Post-process data\n",
    "\n",
    "Extract and prepare the consensus data for normalization - transform it to an appropriate format."
   ]
  },
  {
   "cell_type": "code",
   "execution_count": 17,
   "metadata": {
    "ExecuteTime": {
     "end_time": "2017-11-03T15:28:42.034097Z",
     "start_time": "2017-11-03T16:28:38.087917+01:00"
    }
   },
   "outputs": [
    {
     "name": "stdout",
     "output_type": "stream",
     "text": [
      "Warning while exporting 'batch6_pure/combined.consensusXML': protein identification run ID '_0000-00-00T00:00:00' occurs more than once\n",
      "Warning while exporting 'batch6_pure/combined.consensusXML': protein identification run ID '_0000-00-00T00:00:00' occurs more than once\n",
      "Warning while exporting 'batch6_pure/combined.consensusXML': protein identification run ID '_0000-00-00T00:00:00' occurs more than once\n",
      "Warning while exporting 'batch6_pure/combined.consensusXML': protein identification run ID '_0000-00-00T00:00:00' occurs more than once\n",
      "Warning while exporting 'batch6_pure/combined.consensusXML': protein identification run ID '_0000-00-00T00:00:00' occurs more than once\n",
      "TextExporter took 3.64 s (wall), 3.56 s (CPU), 0.00 s (system), 3.56 s (user).\n"
     ]
    }
   ],
   "source": [
    "TextExporter \\\n",
    "    -in ${run}/combined.consensusXML \\\n",
    "    -out ${run}/combined.linked_features.csv \\\n",
    "    -consensus:features ${run}/combined.features.csv"
   ]
  },
  {
   "cell_type": "markdown",
   "metadata": {},
   "source": [
    "Not sure why, but the `combined.features.csv` file included extra empty fields with numbers beyond the actual sample range. These are omitted here, but should probably be remedied upstreams instead."
   ]
  },
  {
   "cell_type": "code",
   "execution_count": 18,
   "metadata": {
    "ExecuteTime": {
     "end_time": "2017-11-03T15:28:42.371570Z",
     "start_time": "2017-11-03T16:28:42.036476+01:00"
    },
    "collapsed": true
   },
   "outputs": [],
   "source": [
    "s_count=$(echo ${samples} | tr \" \" \"\\n\" | wc -l)\n",
    "cut_end=$(echo \"${s_count} * 5 + 9\" | bc)\n",
    "cut -f 1-${cut_end} ${run}/combined.features.csv \\\n",
    "    > ${run}/combined.features.sub.csv"
   ]
  },
  {
   "cell_type": "code",
   "execution_count": 19,
   "metadata": {
    "ExecuteTime": {
     "end_time": "2017-11-03T15:28:43.504684Z",
     "start_time": "2017-11-03T16:28:42.374067+01:00"
    }
   },
   "outputs": [
    {
     "name": "stdout",
     "output_type": "stream",
     "text": [
      "Writing dataframe with shape (35203, 13), to batch6_pure/combined.final.tsv\n",
      "Done!\n"
     ]
    }
   ],
   "source": [
    "util_scripts/openms_to_normalyzer.py \\\n",
    "    -i ${run}/combined.features.sub.csv \\\n",
    "    -o ${run}/combined.final.tsv \\\n",
    "    --design ${run}/design.tsv"
   ]
  }
 ],
 "metadata": {
  "kernelspec": {
   "display_name": "Bash",
   "language": "bash",
   "name": "bash"
  },
  "language_info": {
   "codemirror_mode": "shell",
   "file_extension": ".sh",
   "mimetype": "text/x-sh",
   "name": "bash"
  },
  "toc": {
   "colors": {
    "hover_highlight": "#DAA520",
    "running_highlight": "#FF0000",
    "selected_highlight": "#FFD700"
   },
   "moveMenuLeft": true,
   "nav_menu": {
    "height": "120px",
    "width": "252px"
   },
   "navigate_menu": true,
   "number_sections": true,
   "sideBar": false,
   "threshold": 4,
   "toc_cell": true,
   "toc_section_display": "block",
   "toc_window_display": true,
   "widenNotebook": false
  }
 },
 "nbformat": 4,
 "nbformat_minor": 2
}
