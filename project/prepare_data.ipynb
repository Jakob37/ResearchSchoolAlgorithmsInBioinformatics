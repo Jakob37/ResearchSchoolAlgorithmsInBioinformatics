{
 "cells": [
  {
   "cell_type": "markdown",
   "metadata": {
    "toc": "true"
   },
   "source": [
    "# Table of Contents\n",
    " <p><div class=\"lev1 toc-item\"><a href=\"#Generate-pre-processed-FASTA-files\" data-toc-modified-id=\"Generate-pre-processed-FASTA-files-1\"><span class=\"toc-item-num\">1&nbsp;&nbsp;</span>Generate pre-processed FASTA files</a></div><div class=\"lev2 toc-item\"><a href=\"#Setup\" data-toc-modified-id=\"Setup-11\"><span class=\"toc-item-num\">1.1&nbsp;&nbsp;</span>Setup</a></div><div class=\"lev2 toc-item\"><a href=\"#Prepare-low-spike\" data-toc-modified-id=\"Prepare-low-spike-12\"><span class=\"toc-item-num\">1.2&nbsp;&nbsp;</span>Prepare low-spike</a></div><div class=\"lev2 toc-item\"><a href=\"#Prepare-high-spikes\" data-toc-modified-id=\"Prepare-high-spikes-13\"><span class=\"toc-item-num\">1.3&nbsp;&nbsp;</span>Prepare high-spikes</a></div><div class=\"lev1 toc-item\"><a href=\"#Simulate-MS-data\" data-toc-modified-id=\"Simulate-MS-data-2\"><span class=\"toc-item-num\">2&nbsp;&nbsp;</span>Simulate MS-data</a></div><div class=\"lev1 toc-item\"><a href=\"#Post-process-data\" data-toc-modified-id=\"Post-process-data-3\"><span class=\"toc-item-num\">3&nbsp;&nbsp;</span>Post-process data</a></div><div class=\"lev1 toc-item\"><a href=\"#Normalization\" data-toc-modified-id=\"Normalization-4\"><span class=\"toc-item-num\">4&nbsp;&nbsp;</span>Normalization</a></div>"
   ]
  },
  {
   "cell_type": "markdown",
   "metadata": {},
   "source": [
    "# Generate pre-processed FASTA files\n",
    "\n",
    "Using the custom-made `seqtk generate_spikein.py` script."
   ]
  },
  {
   "cell_type": "markdown",
   "metadata": {},
   "source": [
    "## Setup"
   ]
  },
  {
   "cell_type": "code",
   "execution_count": 1,
   "metadata": {
    "ExecuteTime": {
     "end_time": "2017-11-02T15:05:40.093994Z",
     "start_time": "2017-11-02T16:05:39.935604+01:00"
    }
   },
   "outputs": [],
   "source": [
    "run=batch2\n",
    "mkdir ${run}"
   ]
  },
  {
   "cell_type": "code",
   "execution_count": 2,
   "metadata": {
    "ExecuteTime": {
     "end_time": "2017-11-02T15:05:41.354463Z",
     "start_time": "2017-11-02T16:05:41.148131+01:00"
    }
   },
   "outputs": [],
   "source": [
    "sample_names_low=\"l1 l2 l3\"\n",
    "sample_names_high=\"h1 h2 h3\"\n",
    "samples=\"${sample_names_low} ${sample_names_high}\""
   ]
  },
  {
   "cell_type": "code",
   "execution_count": 3,
   "metadata": {
    "ExecuteTime": {
     "end_time": "2017-11-02T15:05:44.449864Z",
     "start_time": "2017-11-02T16:05:43.932260+01:00"
    }
   },
   "outputs": [
    {
     "name": "stdout",
     "output_type": "stream",
     "text": [
      "name\tbiorepgroup\ttechrepgroup\tcondition\n",
      "l1\t1\t1\tlow\n",
      "l2\t2\t1\tlow\n",
      "l3\t3\t1\tlow\n",
      "h1\t1\t1\thigh\n",
      "h2\t2\t1\thigh\n",
      "h3\t3\t1\thigh\n"
     ]
    }
   ],
   "source": [
    "echo -e \"name\\tbiorepgroup\\ttechrepgroup\\tcondition\" > ${run}/design.tsv\n",
    "echo -e \"l1\\t1\\t1\\tlow\" >> ${run}/design.tsv\n",
    "echo -e \"l2\\t2\\t1\\tlow\" >> ${run}/design.tsv\n",
    "echo -e \"l3\\t3\\t1\\tlow\" >> ${run}/design.tsv\n",
    "echo -e \"h1\\t1\\t1\\thigh\" >> ${run}/design.tsv\n",
    "echo -e \"h2\\t2\\t1\\thigh\" >> ${run}/design.tsv\n",
    "echo -e \"h3\\t3\\t1\\thigh\" >> ${run}/design.tsv\n",
    "\n",
    "cat ${run}/design.tsv"
   ]
  },
  {
   "cell_type": "markdown",
   "metadata": {},
   "source": [
    "## Prepare low-spike"
   ]
  },
  {
   "cell_type": "code",
   "execution_count": 4,
   "metadata": {
    "ExecuteTime": {
     "end_time": "2017-11-02T15:05:50.072552Z",
     "start_time": "2017-11-02T16:05:47.774419+01:00"
    }
   },
   "outputs": [
    {
     "name": "stdout",
     "output_type": "stream",
     "text": [
      "Generating sample: l1\n",
      "5268 entries loaded from data/uniprot_ecoli.fasta as background\n",
      "858 entries loaded from data/uniprot_potato.fasta as spike-in\n",
      "100 entries picked as background, 20 as spike-in\n",
      "120 entries written to batch2/l1.fa\n",
      "Generating sample: l2\n",
      "5268 entries loaded from data/uniprot_ecoli.fasta as background\n",
      "858 entries loaded from data/uniprot_potato.fasta as spike-in\n",
      "100 entries picked as background, 20 as spike-in\n",
      "120 entries written to batch2/l2.fa\n",
      "Generating sample: l3\n",
      "5268 entries loaded from data/uniprot_ecoli.fasta as background\n",
      "858 entries loaded from data/uniprot_potato.fasta as spike-in\n",
      "100 entries picked as background, 20 as spike-in\n",
      "120 entries written to batch2/l3.fa\n"
     ]
    }
   ],
   "source": [
    "for name in ${sample_names_low}; do\n",
    "    echo \"Generating sample: ${name}\"\n",
    "    lfqtk generate_spikein \\\n",
    "        --background_fa data/uniprot_ecoli.fasta \\\n",
    "        --spikein_fa data/uniprot_potato.fasta \\\n",
    "        --output_fa ${run}/${name}.fa \\\n",
    "        --offset_mean 0 \\\n",
    "        --offset_std 0 \\\n",
    "        --back_int 1000000 \\\n",
    "        --back_noise_std 50000 \\\n",
    "        --back_count 100 \\\n",
    "        --spike_int 1000000 \\\n",
    "        --spike_noise_std 50000 \\\n",
    "        --spike_count 20 \\\n",
    "        --verbose\n",
    "done"
   ]
  },
  {
   "cell_type": "markdown",
   "metadata": {},
   "source": [
    "## Prepare high-spikes"
   ]
  },
  {
   "cell_type": "code",
   "execution_count": 5,
   "metadata": {
    "ExecuteTime": {
     "end_time": "2017-11-02T15:05:57.502773Z",
     "start_time": "2017-11-02T16:05:55.295124+01:00"
    }
   },
   "outputs": [
    {
     "name": "stdout",
     "output_type": "stream",
     "text": [
      "Generating sample: h1\n",
      "5268 entries loaded from data/uniprot_ecoli.fasta as background\n",
      "858 entries loaded from data/uniprot_potato.fasta as spike-in\n",
      "100 entries picked as background, 20 as spike-in\n",
      "120 entries written to batch2/h1.fa\n",
      "Generating sample: h2\n",
      "5268 entries loaded from data/uniprot_ecoli.fasta as background\n",
      "858 entries loaded from data/uniprot_potato.fasta as spike-in\n",
      "100 entries picked as background, 20 as spike-in\n",
      "120 entries written to batch2/h2.fa\n",
      "Generating sample: h3\n",
      "5268 entries loaded from data/uniprot_ecoli.fasta as background\n",
      "858 entries loaded from data/uniprot_potato.fasta as spike-in\n",
      "100 entries picked as background, 20 as spike-in\n",
      "120 entries written to batch2/h3.fa\n"
     ]
    }
   ],
   "source": [
    "for name in ${sample_names_high}; do\n",
    "    echo \"Generating sample: ${name}\"\n",
    "    lfqtk generate_spikein \\\n",
    "        --background_fa data/uniprot_ecoli.fasta \\\n",
    "        --spikein_fa data/uniprot_potato.fasta \\\n",
    "        --output_fa ${run}/${name}.fa \\\n",
    "        --offset_mean 0 \\\n",
    "        --offset_std 0 \\\n",
    "        --back_int 1000000 \\\n",
    "        --back_noise_std 50000 \\\n",
    "        --back_count 100 \\\n",
    "        --spike_int 2000000 \\\n",
    "        --spike_noise_std 50000 \\\n",
    "        --spike_count 20 \\\n",
    "        --verbose\n",
    "done"
   ]
  },
  {
   "cell_type": "markdown",
   "metadata": {},
   "source": [
    "# Simulate MS-data\n",
    "\n",
    "Generate the OpenMS tool `MSSimulator`."
   ]
  },
  {
   "cell_type": "code",
   "execution_count": 7,
   "metadata": {
    "ExecuteTime": {
     "end_time": "2017-11-02T15:10:31.699036Z",
     "start_time": "2017-11-02T16:06:57.573095+01:00"
    },
    "scrolled": false
   },
   "outputs": [
    {
     "name": "stdout",
     "output_type": "stream",
     "text": [
      "l1\n",
      "l2\n",
      "l3\n",
      "h1\n",
      "h2\n",
      "h3\n"
     ]
    }
   ],
   "source": [
    "for sample in ${samples}; do\n",
    "    echo \"Processing sample: ${sample}\"\n",
    "    MSSimulator \\\n",
    "        -in ${run}/${sample}.fa \\\n",
    "        -out_fm ${run}/${sample}.featureXML \\\n",
    "        -out_id ${run}/${sample}.idXML \\\n",
    "        > ${run}/${sample}.mssim.log\n",
    "done\n"
   ]
  },
  {
   "cell_type": "code",
   "execution_count": 10,
   "metadata": {
    "ExecuteTime": {
     "end_time": "2017-11-02T15:27:14.368214Z",
     "start_time": "2017-11-02T16:26:50.861710+01:00"
    }
   },
   "outputs": [
    {
     "name": "stdout",
     "output_type": "stream",
     "text": [
      "Processing sample: l1\n",
      "Processing sample: l2\n",
      "Processing sample: l3\n",
      "Processing sample: h1\n",
      "Processing sample: h2\n",
      "Processing sample: h3\n"
     ]
    }
   ],
   "source": [
    "for sample in ${samples}; do \\\n",
    "    echo \"Processing sample: ${sample}\"\n",
    "    IDMapper \\\n",
    "        -id ${run}/${sample}.idXML \\\n",
    "        -in ${run}/${sample}.featureXML \\\n",
    "        -out ${run}/${sample}.mapped.featureXML \\\n",
    "        > ${run}/${sample}.mapped.featureXML.log\n",
    "done"
   ]
  },
  {
   "cell_type": "code",
   "execution_count": 12,
   "metadata": {
    "ExecuteTime": {
     "end_time": "2017-11-02T15:28:56.887845Z",
     "start_time": "2017-11-02T16:28:19.791802+01:00"
    }
   },
   "outputs": [
    {
     "name": "stdout",
     "output_type": "stream",
     "text": [
      "Aligning sample: l1\n",
      "Aligning sample: l2\n",
      "Aligning sample: l3\n",
      "Aligning sample: h1\n",
      "Aligning sample: h2\n",
      "Aligning sample: h3\n"
     ]
    }
   ],
   "source": [
    "for sample in ${samples}; do \n",
    "    echo \"Aligning sample: ${sample}\"\n",
    "    MapAlignerPoseClustering \\\n",
    "        -in ${run}/${sample}.mapped.featureXML \\\n",
    "        -out ${run}/${sample}.mapped.aligned.featureXML \\\n",
    "        > ${run}/${sample}.mapped.aligned.featureXML.log\n",
    "done"
   ]
  },
  {
   "cell_type": "code",
   "execution_count": null,
   "metadata": {
    "ExecuteTime": {
     "start_time": "2017-11-02T15:29:00.041Z"
    }
   },
   "outputs": [
    {
     "name": "stdout",
     "output_type": "stream",
     "text": [
      "Progress of 'reading input':\n"
     ]
    }
   ],
   "source": [
    "FeatureLinkerUnlabeledQT \\\n",
    "    -in ${run}/*.mapped.aligned.featureXML \\\n",
    "    -out combined.consensusXML"
   ]
  },
  {
   "cell_type": "markdown",
   "metadata": {},
   "source": [
    "# Post-process data\n",
    "\n",
    "Extract and prepare the consensus data for normalization - transform it to an appropriate format."
   ]
  },
  {
   "cell_type": "code",
   "execution_count": null,
   "metadata": {
    "ExecuteTime": {
     "end_time": "2017-11-02T13:49:00.948777Z",
     "start_time": "2017-11-02T14:48:57.691271+01:00"
    }
   },
   "outputs": [],
   "source": [
    "TextExporter \\\n",
    "    -in ${run}/combined.consensusXML \\\n",
    "    -out ${run}/combined.linked_features.csv \\\n",
    "    -consensus:features ${run}/combined.features.csv"
   ]
  },
  {
   "cell_type": "code",
   "execution_count": null,
   "metadata": {
    "ExecuteTime": {
     "end_time": "2017-11-02T14:00:44.621773Z",
     "start_time": "2017-11-02T15:00:43.678660+01:00"
    }
   },
   "outputs": [],
   "source": [
    "util_scripts/openms_to_normalyzer.py \\\n",
    "    -i ${run}/merged.features.csv \\\n",
    "    -o ${run}/merged.final.tsv \\\n",
    "    --design ${run}/design.tsv \\\n",
    "    --delim_in '\\t' \\\n",
    "    --delim_out '\\t'"
   ]
  },
  {
   "cell_type": "markdown",
   "metadata": {},
   "source": [
    "# Normalization\n",
    "\n",
    "Perform Loess normalization (maybe even easier in R?)"
   ]
  },
  {
   "cell_type": "code",
   "execution_count": null,
   "metadata": {
    "collapsed": true
   },
   "outputs": [],
   "source": []
  },
  {
   "cell_type": "markdown",
   "metadata": {},
   "source": []
  }
 ],
 "metadata": {
  "kernelspec": {
   "display_name": "Bash",
   "language": "bash",
   "name": "bash"
  },
  "language_info": {
   "codemirror_mode": "shell",
   "file_extension": ".sh",
   "mimetype": "text/x-sh",
   "name": "bash"
  },
  "toc": {
   "colors": {
    "hover_highlight": "#DAA520",
    "running_highlight": "#FF0000",
    "selected_highlight": "#FFD700"
   },
   "moveMenuLeft": true,
   "nav_menu": {
    "height": "138px",
    "width": "252px"
   },
   "navigate_menu": true,
   "number_sections": true,
   "sideBar": false,
   "threshold": 4,
   "toc_cell": true,
   "toc_section_display": "block",
   "toc_window_display": true,
   "widenNotebook": false
  }
 },
 "nbformat": 4,
 "nbformat_minor": 2
}
