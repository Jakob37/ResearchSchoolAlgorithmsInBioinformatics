{
 "cells": [
  {
   "cell_type": "markdown",
   "metadata": {
    "toc": "true"
   },
   "source": [
    "# Table of Contents\n",
    " <p><div class=\"lev1 toc-item\"><a href=\"#Generate-pre-processed-FASTA-files\" data-toc-modified-id=\"Generate-pre-processed-FASTA-files-1\"><span class=\"toc-item-num\">1&nbsp;&nbsp;</span>Generate pre-processed FASTA files</a></div><div class=\"lev2 toc-item\"><a href=\"#Setup\" data-toc-modified-id=\"Setup-11\"><span class=\"toc-item-num\">1.1&nbsp;&nbsp;</span>Setup</a></div><div class=\"lev2 toc-item\"><a href=\"#Prepare-low-spike\" data-toc-modified-id=\"Prepare-low-spike-12\"><span class=\"toc-item-num\">1.2&nbsp;&nbsp;</span>Prepare low-spike</a></div><div class=\"lev1 toc-item\"><a href=\"#Simulate-MS-data\" data-toc-modified-id=\"Simulate-MS-data-2\"><span class=\"toc-item-num\">2&nbsp;&nbsp;</span>Simulate MS-data</a></div>"
   ]
  },
  {
   "cell_type": "markdown",
   "metadata": {},
   "source": [
    "# Generate pre-processed FASTA files\n",
    "\n",
    "Using the custom-made `seqtk generate_spikein.py` script.\n",
    "\n",
    "Dependencies:\n",
    "\n",
    "* OpenMS binaries in PATH (version 2.2.0)"
   ]
  },
  {
   "cell_type": "markdown",
   "metadata": {},
   "source": [
    "## Setup"
   ]
  },
  {
   "cell_type": "code",
   "execution_count": 1,
   "metadata": {
    "ExecuteTime": {
     "end_time": "2017-11-06T13:22:44.953534Z",
     "start_time": "2017-11-06T14:22:44.742192+01:00"
    }
   },
   "outputs": [
    {
     "name": "stdout",
     "output_type": "stream",
     "text": [
      "mkdir: cannot create directory ‘batch11_maybe_final’: File exists\n"
     ]
    },
    {
     "ename": "",
     "evalue": "1",
     "output_type": "error",
     "traceback": []
    }
   ],
   "source": [
    "threads=6\n",
    "run=batch11_maybe_final\n",
    "mkdir ${run}"
   ]
  },
  {
   "cell_type": "code",
   "execution_count": 2,
   "metadata": {
    "ExecuteTime": {
     "end_time": "2017-11-06T13:22:46.160172Z",
     "start_time": "2017-11-06T14:22:45.953859+01:00"
    },
    "collapsed": true
   },
   "outputs": [],
   "source": [
    "sample_names_low=\"l1 l2 l3\"\n",
    "sample_names_high=\"h1 h2 h3\"\n",
    "samples=\"${sample_names_low} ${sample_names_high}\""
   ]
  },
  {
   "cell_type": "code",
   "execution_count": 3,
   "metadata": {
    "ExecuteTime": {
     "end_time": "2017-11-06T13:22:48.170177Z",
     "start_time": "2017-11-06T14:22:47.650061+01:00"
    }
   },
   "outputs": [
    {
     "name": "stdout",
     "output_type": "stream",
     "text": [
      "name\tbiorepgroup\ttechrepgroup\tcondition\n",
      "l1\t1\t1\tlow\n",
      "l2\t2\t1\tlow\n",
      "l3\t3\t1\tlow\n",
      "h1\t1\t1\thigh\n",
      "h2\t2\t1\thigh\n",
      "h3\t3\t1\thigh\n"
     ]
    }
   ],
   "source": [
    "echo -e \"name\\tbiorepgroup\\ttechrepgroup\\tcondition\" > ${run}/design.tsv\n",
    "echo -e \"l1\\t1\\t1\\tlow\" >> ${run}/design.tsv\n",
    "echo -e \"l2\\t2\\t1\\tlow\" >> ${run}/design.tsv\n",
    "echo -e \"l3\\t3\\t1\\tlow\" >> ${run}/design.tsv\n",
    "echo -e \"h1\\t1\\t1\\thigh\" >> ${run}/design.tsv\n",
    "echo -e \"h2\\t2\\t1\\thigh\" >> ${run}/design.tsv\n",
    "echo -e \"h3\\t3\\t1\\thigh\" >> ${run}/design.tsv\n",
    "\n",
    "cat ${run}/design.tsv"
   ]
  },
  {
   "cell_type": "markdown",
   "metadata": {},
   "source": [
    "## Prepare low-spike"
   ]
  },
  {
   "cell_type": "code",
   "execution_count": 4,
   "metadata": {
    "ExecuteTime": {
     "end_time": "2017-11-06T13:22:51.064305Z",
     "start_time": "2017-11-06T14:22:49.899954+01:00"
    }
   },
   "outputs": [
    {
     "name": "stdout",
     "output_type": "stream",
     "text": [
      "4436 entries loaded from data/uniprot_ecoli.pure.fasta as background\n",
      "403 entries loaded from data/uniprot_potato.pure.fasta as spike-in\n",
      "20 entries picked as background, 5 as spike-in\n",
      "25 entries written to batch11_maybe_final/l1.fa\n",
      "20 entries picked as background, 5 as spike-in\n",
      "25 entries written to batch11_maybe_final/l2.fa\n",
      "20 entries picked as background, 5 as spike-in\n",
      "25 entries written to batch11_maybe_final/l3.fa\n",
      "20 entries picked as background, 5 as spike-in\n",
      "25 entries written to batch11_maybe_final/h1.fa\n",
      "20 entries picked as background, 5 as spike-in\n",
      "25 entries written to batch11_maybe_final/h2.fa\n",
      "20 entries picked as background, 5 as spike-in\n",
      "25 entries written to batch11_maybe_final/h3.fa\n"
     ]
    }
   ],
   "source": [
    "lfqtk generate_spikein_set \\\n",
    "    --background_fa data/uniprot_ecoli.pure.fasta \\\n",
    "    --spikein_fa data/uniprot_potato.pure.fasta \\\n",
    "    --offset_mean 0 \\\n",
    "    --offset_std 0 \\\n",
    "    --base_int 1000000 \\\n",
    "    --noise_std 50000 \\\n",
    "    --back_count 20 \\\n",
    "    --spike_count 5 \\\n",
    "    --spike_folds \"1,1,1,8,8,8\" \\\n",
    "    --out_base ${run} \\\n",
    "    --sample_names \"l1.fa,l2.fa,l3.fa,h1.fa,h2.fa,h3.fa\" \\\n",
    "    --verbose"
   ]
  },
  {
   "cell_type": "markdown",
   "metadata": {},
   "source": [
    "# Simulate MS-data\n",
    "\n",
    "Generate the OpenMS tool `MSSimulator`."
   ]
  },
  {
   "cell_type": "code",
   "execution_count": null,
   "metadata": {
    "ExecuteTime": {
     "end_time": "2017-11-06T13:22:31.846790Z",
     "start_time": "2017-11-06T14:22:23.685539+01:00"
    }
   },
   "outputs": [],
   "source": [
    "MSSimulator -in ${run}/l1.fa -out_fm ${run}/l1.ground.featureXML"
   ]
  },
  {
   "cell_type": "code",
   "execution_count": 7,
   "metadata": {
    "ExecuteTime": {
     "end_time": "2017-11-06T13:23:47.502623Z",
     "start_time": "2017-11-06T14:23:34.431640+01:00"
    }
   },
   "outputs": [
    {
     "name": "stdout",
     "output_type": "stream",
     "text": [
      "Processing l1\n",
      "Loading sequence data from batch11_maybe_final/l1.fa ...\n",
      "done (25 protein(s) loaded)\n",
      "Starting simulation\n",
      "2017/11/06, 14:23:34: Digest Simulation ... started\n",
      "2017/11/06, 14:23:34: RT Simulation ... started\n",
      "2017/11/06, 14:23:35: Predicting RT ... done\n",
      "2017/11/06, 14:23:35: RT prediction gave 'invalid' results for 736 peptide(s), making them unobservable.\n",
      "2017/11/06, 14:23:35:   (List is too big to show)\n",
      "2017/11/06, 14:23:35: Creating experiment with #501 scans ... done\n",
      "2017/11/06, 14:23:35: Detectability Simulation ... started\n",
      "2017/11/06, 14:23:35: Ionization Simulation ... started\n",
      "esi_impurity_probabilities_[0]: 1\n",
      "weights[0]: 10\n",
      "2017/11/06, 14:23:35: Simulating 840 features\n",
      "Progress of 'Ionization':\n",
      "-- done [took 4.45 s (CPU), 4.45 s (Wall)] -- \n",
      "2017/11/06, 14:23:40: #Peptides not ionized: 0\n",
      "2017/11/06, 14:23:40: #Peptides outside mz range: 276\n",
      "2017/11/06, 14:23:40: Raw MS1 Simulation ... started\n",
      "2017/11/06, 14:23:40:   Simulating signal for 2330 features ...\n",
      "Progress of 'RawMSSignal':\n",
      "-- done [took 3.01 s (CPU), 3.07 s (Wall)] -- \n",
      "2017/11/06, 14:23:44: Contaminants out-of-RT-range: 204 / 486\n",
      "2017/11/06, 14:23:44: Contaminants out-of-MZ-range: 111 / 486\n",
      "2017/11/06, 14:23:44: Compressed data to grid ... 4308144 --> 4059684 (94%)\n",
      "2017/11/06, 14:23:44: Adding white noise to spectra ...\n",
      "2017/11/06, 14:23:44: Adding detector noise to spectra ...\n",
      "2017/11/06, 14:23:44: Detector noise was disabled.\n",
      "2017/11/06, 14:23:44: Tandem MS Simulation ... disabled\n",
      "2017/11/06, 14:23:44: Final number of simulated features: 2330\n",
      "2017/11/06, 14:23:44: Simulation took 10.12058 seconds\n",
      "2017/11/06, 14:23:44: Storing simulated features in: batch11_maybe_final/l1.ground.featureXML\n",
      "2017/11/06, 14:23:45: MSSimulator took 10.38 s (wall), 10.28 s (CPU), 0.00 s (system), 10.28 s (user).\n",
      "Processing l3\n",
      "Loading sequence data from batch11_maybe_final/l3.fa ...\n",
      "done (25 protein(s) loaded)\n",
      "Starting simulation\n",
      "2017/11/06, 14:23:34: Digest Simulation ... started\n",
      "2017/11/06, 14:23:34: RT Simulation ... started\n",
      "2017/11/06, 14:23:36: Predicting RT ... done\n",
      "2017/11/06, 14:23:36: RT prediction gave 'invalid' results for 736 peptide(s), making them unobservable.\n",
      "2017/11/06, 14:23:36:   (List is too big to show)\n",
      "2017/11/06, 14:23:36: Creating experiment with #501 scans ... done\n",
      "2017/11/06, 14:23:36: Detectability Simulation ... started\n",
      "2017/11/06, 14:23:36: Ionization Simulation ... started\n",
      "esi_impurity_probabilities_[0]: 1\n",
      "weights[0]: 10\n",
      "2017/11/06, 14:23:36: Simulating 840 features\n",
      "Progress of 'Ionization':\n",
      "-- done [took 5.30 s (CPU), 5.31 s (Wall)] -- \n",
      "2017/11/06, 14:23:41: #Peptides not ionized: 0\n",
      "2017/11/06, 14:23:41: #Peptides outside mz range: 279\n",
      "2017/11/06, 14:23:41: Raw MS1 Simulation ... started\n",
      "2017/11/06, 14:23:41:   Simulating signal for 2332 features ...\n",
      "Progress of 'RawMSSignal':\n",
      "-- done [took 2.91 s (CPU), 2.99 s (Wall)] -- \n",
      "2017/11/06, 14:23:45: Contaminants out-of-RT-range: 204 / 486\n",
      "2017/11/06, 14:23:45: Contaminants out-of-MZ-range: 111 / 486\n",
      "2017/11/06, 14:23:45: Compressed data to grid ... 4312446 --> 4063986 (94%)\n",
      "2017/11/06, 14:23:45: Adding white noise to spectra ...\n",
      "2017/11/06, 14:23:45: Adding detector noise to spectra ...\n",
      "2017/11/06, 14:23:45: Detector noise was disabled.\n",
      "2017/11/06, 14:23:45: Tandem MS Simulation ... disabled\n",
      "2017/11/06, 14:23:45: Final number of simulated features: 2332\n",
      "2017/11/06, 14:23:45: Simulation took 10.7921 seconds\n",
      "2017/11/06, 14:23:45: Storing simulated features in: batch11_maybe_final/l3.ground.featureXML\n",
      "2017/11/06, 14:23:45: MSSimulator took 10.99 s (wall), 10.87 s (CPU), 0.00 s (system), 10.87 s (user).\n",
      "Processing h3\n",
      "Loading sequence data from batch11_maybe_final/h3.fa ...\n",
      "done (25 protein(s) loaded)\n",
      "Starting simulation\n",
      "2017/11/06, 14:23:34: Digest Simulation ... started\n",
      "2017/11/06, 14:23:34: RT Simulation ... started\n",
      "2017/11/06, 14:23:36: Predicting RT ... done\n",
      "2017/11/06, 14:23:36: RT prediction gave 'invalid' results for 736 peptide(s), making them unobservable.\n",
      "2017/11/06, 14:23:36:   (List is too big to show)\n",
      "2017/11/06, 14:23:36: Creating experiment with #501 scans ... done\n",
      "2017/11/06, 14:23:36: Detectability Simulation ... started\n",
      "2017/11/06, 14:23:36: Ionization Simulation ... started\n",
      "esi_impurity_probabilities_[0]: 1\n",
      "weights[0]: 10\n",
      "2017/11/06, 14:23:36: Simulating 840 features\n",
      "Progress of 'Ionization':\n",
      "-- done [took 5.43 s (CPU), 5.46 s (Wall)] -- \n",
      "2017/11/06, 14:23:41: #Peptides not ionized: 0\n",
      "2017/11/06, 14:23:41: #Peptides outside mz range: 277\n",
      "2017/11/06, 14:23:41: Raw MS1 Simulation ... started\n",
      "2017/11/06, 14:23:41:   Simulating signal for 2331 features ...\n",
      "Progress of 'RawMSSignal':\n",
      "-- done [took 2.91 s (CPU), 2.95 s (Wall)] -- \n",
      "2017/11/06, 14:23:45: Contaminants out-of-RT-range: 204 / 486\n",
      "2017/11/06, 14:23:45: Contaminants out-of-MZ-range: 111 / 486\n",
      "2017/11/06, 14:23:46: Compressed data to grid ... 4311088 --> 4062628 (94%)\n",
      "2017/11/06, 14:23:46: Adding white noise to spectra ...\n",
      "2017/11/06, 14:23:46: Adding detector noise to spectra ...\n",
      "2017/11/06, 14:23:46: Detector noise was disabled.\n",
      "2017/11/06, 14:23:46: Tandem MS Simulation ... disabled\n",
      "2017/11/06, 14:23:46: Final number of simulated features: 2331\n",
      "2017/11/06, 14:23:46: Simulation took 11.271971 seconds\n",
      "2017/11/06, 14:23:46: Storing simulated features in: batch11_maybe_final/h3.ground.featureXML\n",
      "2017/11/06, 14:23:46: MSSimulator took 11.47 s (wall), 11.36 s (CPU), 0.00 s (system), 11.36 s (user).\n",
      "Processing l2\n",
      "Loading sequence data from batch11_maybe_final/l2.fa ...\n",
      "done (25 protein(s) loaded)\n",
      "Starting simulation\n",
      "2017/11/06, 14:23:34: Digest Simulation ... started\n",
      "2017/11/06, 14:23:34: RT Simulation ... started\n",
      "2017/11/06, 14:23:36: Predicting RT ... done\n",
      "2017/11/06, 14:23:36: RT prediction gave 'invalid' results for 736 peptide(s), making them unobservable.\n",
      "2017/11/06, 14:23:36:   (List is too big to show)\n",
      "2017/11/06, 14:23:36: Creating experiment with #501 scans ... done\n",
      "2017/11/06, 14:23:36: Detectability Simulation ... started\n",
      "2017/11/06, 14:23:36: Ionization Simulation ... started\n",
      "esi_impurity_probabilities_[0]: 1\n",
      "weights[0]: 10\n",
      "2017/11/06, 14:23:36: Simulating 840 features\n",
      "Progress of 'Ionization':\n",
      "-- done [took 6.10 s (CPU), 6.15 s (Wall)] -- \n",
      "2017/11/06, 14:23:42: #Peptides not ionized: 0\n",
      "2017/11/06, 14:23:42: #Peptides outside mz range: 275\n",
      "2017/11/06, 14:23:42: Raw MS1 Simulation ... started\n",
      "2017/11/06, 14:23:42:   Simulating signal for 2332 features ...\n",
      "Progress of 'RawMSSignal':\n",
      "-- done [took 2.81 s (CPU), 2.86 s (Wall)] -- \n",
      "2017/11/06, 14:23:46: Contaminants out-of-RT-range: 204 / 486\n",
      "2017/11/06, 14:23:46: Contaminants out-of-MZ-range: 111 / 486\n",
      "2017/11/06, 14:23:46: Compressed data to grid ... 4312890 --> 4064429 (94%)\n",
      "2017/11/06, 14:23:46: Adding white noise to spectra ...\n",
      "2017/11/06, 14:23:46: Adding detector noise to spectra ...\n",
      "2017/11/06, 14:23:46: Detector noise was disabled.\n",
      "2017/11/06, 14:23:46: Tandem MS Simulation ... disabled\n",
      "2017/11/06, 14:23:46: Final number of simulated features: 2332\n",
      "2017/11/06, 14:23:46: Simulation took 11.632448 seconds\n",
      "2017/11/06, 14:23:46: Storing simulated features in: batch11_maybe_final/l2.ground.featureXML\n",
      "2017/11/06, 14:23:46: MSSimulator took 11.85 s (wall), 11.72 s (CPU), 0.00 s (system), 11.72 s (user).\n",
      "Processing h1\n",
      "Loading sequence data from batch11_maybe_final/h1.fa ...\n",
      "done (25 protein(s) loaded)\n",
      "Starting simulation\n",
      "2017/11/06, 14:23:34: Digest Simulation ... started\n",
      "2017/11/06, 14:23:34: RT Simulation ... started\n",
      "2017/11/06, 14:23:35: Predicting RT ... done\n",
      "2017/11/06, 14:23:35: RT prediction gave 'invalid' results for 736 peptide(s), making them unobservable.\n",
      "2017/11/06, 14:23:35:   (List is too big to show)\n",
      "2017/11/06, 14:23:35: Creating experiment with #501 scans ... done\n",
      "2017/11/06, 14:23:35: Detectability Simulation ... started\n",
      "2017/11/06, 14:23:35: Ionization Simulation ... started\n",
      "esi_impurity_probabilities_[0]: 1\n",
      "weights[0]: 10\n",
      "2017/11/06, 14:23:35: Simulating 840 features\n",
      "Progress of 'Ionization':\n",
      "-- done [took 6.78 s (CPU), 6.81 s (Wall)] -- \n",
      "2017/11/06, 14:23:42: #Peptides not ionized: 0\n",
      "2017/11/06, 14:23:42: #Peptides outside mz range: 278\n",
      "2017/11/06, 14:23:42: Raw MS1 Simulation ... started\n",
      "2017/11/06, 14:23:42:   Simulating signal for 2331 features ...\n",
      "Progress of 'RawMSSignal':\n"
     ]
    },
    {
     "name": "stdout",
     "output_type": "stream",
     "text": [
      "-- done [took 3.02 s (CPU), 3.09 s (Wall)] -- \n",
      "2017/11/06, 14:23:46: Contaminants out-of-RT-range: 204 / 486\n",
      "2017/11/06, 14:23:46: Contaminants out-of-MZ-range: 111 / 486\n",
      "2017/11/06, 14:23:46: Compressed data to grid ... 4311088 --> 4062624 (94%)\n",
      "2017/11/06, 14:23:46: Adding white noise to spectra ...\n",
      "2017/11/06, 14:23:46: Adding detector noise to spectra ...\n",
      "2017/11/06, 14:23:46: Detector noise was disabled.\n",
      "2017/11/06, 14:23:46: Tandem MS Simulation ... disabled\n",
      "2017/11/06, 14:23:47: Final number of simulated features: 2331\n",
      "2017/11/06, 14:23:47: Simulation took 12.15531 seconds\n",
      "2017/11/06, 14:23:47: Storing simulated features in: batch11_maybe_final/h1.ground.featureXML\n",
      "2017/11/06, 14:23:47: MSSimulator took 12.35 s (wall), 12.20 s (CPU), 0.00 s (system), 12.20 s (user).\n",
      "Processing h2\n",
      "Loading sequence data from batch11_maybe_final/h2.fa ...\n",
      "done (25 protein(s) loaded)\n",
      "Starting simulation\n",
      "2017/11/06, 14:23:34: Digest Simulation ... started\n",
      "2017/11/06, 14:23:34: RT Simulation ... started\n",
      "2017/11/06, 14:23:35: Predicting RT ... done\n",
      "2017/11/06, 14:23:35: RT prediction gave 'invalid' results for 736 peptide(s), making them unobservable.\n",
      "2017/11/06, 14:23:35:   (List is too big to show)\n",
      "2017/11/06, 14:23:35: Creating experiment with #501 scans ... done\n",
      "2017/11/06, 14:23:35: Detectability Simulation ... started\n",
      "2017/11/06, 14:23:35: Ionization Simulation ... started\n",
      "esi_impurity_probabilities_[0]: 1\n",
      "weights[0]: 10\n",
      "2017/11/06, 14:23:35: Simulating 840 features\n",
      "Progress of 'Ionization':\n",
      "-- done [took 6.75 s (CPU), 6.81 s (Wall)] -- \n",
      "2017/11/06, 14:23:42: #Peptides not ionized: 0\n",
      "2017/11/06, 14:23:42: #Peptides outside mz range: 276\n",
      "2017/11/06, 14:23:42: Raw MS1 Simulation ... started\n",
      "2017/11/06, 14:23:42:   Simulating signal for 2331 features ...\n",
      "Progress of 'RawMSSignal':\n",
      "-- done [took 3.01 s (CPU), 3.06 s (Wall)] -- \n",
      "2017/11/06, 14:23:46: Contaminants out-of-RT-range: 204 / 486\n",
      "2017/11/06, 14:23:46: Contaminants out-of-MZ-range: 111 / 486\n",
      "2017/11/06, 14:23:46: Compressed data to grid ... 4311088 --> 4062628 (94%)\n",
      "2017/11/06, 14:23:46: Adding white noise to spectra ...\n",
      "2017/11/06, 14:23:46: Adding detector noise to spectra ...\n",
      "2017/11/06, 14:23:46: Detector noise was disabled.\n",
      "2017/11/06, 14:23:46: Tandem MS Simulation ... disabled\n",
      "2017/11/06, 14:23:46: Final number of simulated features: 2331\n",
      "2017/11/06, 14:23:46: Simulation took 12.104763 seconds\n",
      "2017/11/06, 14:23:46: Storing simulated features in: batch11_maybe_final/h2.ground.featureXML\n",
      "2017/11/06, 14:23:47: MSSimulator took 12.30 s (wall), 12.15 s (CPU), 0.00 s (system), 12.15 s (user).\n",
      "\n",
      "real\t0m12.540s\n",
      "user\t1m8.848s\n",
      "sys\t0m0.364s\n"
     ]
    }
   ],
   "source": [
    "time parallel -j ${threads} \\\n",
    "\"echo \\\"Processing {}\\\"\n",
    "MSSimulator \\\n",
    "    -in ${run}/{}.fa \\\n",
    "    -out_fm ${run}/{}.ground.featureXML\" \\\n",
    "    ::: ${samples}\n",
    "#     -out_id ${run}/{}.ground.idXML \\\n",
    "#     -out ${run}/{}.mzML \\\n",
    "#     -out_pm ${run}/{}.centroided.mzML\" \\\n"
   ]
  },
  {
   "cell_type": "code",
   "execution_count": 8,
   "metadata": {
    "ExecuteTime": {
     "end_time": "2017-11-06T13:24:21.413878Z",
     "start_time": "2017-11-06T14:24:17.666995+01:00"
    }
   },
   "outputs": [
    {
     "name": "stdout",
     "output_type": "stream",
     "text": [
      "\n",
      "Processing summary - number of...\n",
      "...features: 2331 used for quantification, 2331 total (0 no annotation, 0 ambiguous annotation)\n",
      "...peptides: 837 quantified, 837 identified (considering best hits only)\n",
      "ProteinQuantifier took 0.53 s (wall), 0.53 s (CPU), 0.00 s (system), 0.53 s (user).\n",
      "\n",
      "Processing summary - number of...\n",
      "...features: 2331 used for quantification, 2331 total (0 no annotation, 0 ambiguous annotation)\n",
      "...peptides: 837 quantified, 837 identified (considering best hits only)\n",
      "ProteinQuantifier took 0.55 s (wall), 0.54 s (CPU), 0.00 s (system), 0.54 s (user).\n",
      "\n",
      "Processing summary - number of...\n",
      "...features: 2331 used for quantification, 2331 total (0 no annotation, 0 ambiguous annotation)\n",
      "...peptides: 837 quantified, 837 identified (considering best hits only)\n",
      "ProteinQuantifier took 0.54 s (wall), 0.53 s (CPU), 0.00 s (system), 0.53 s (user).\n",
      "\n",
      "Processing summary - number of...\n",
      "...features: 2330 used for quantification, 2330 total (0 no annotation, 0 ambiguous annotation)\n",
      "...peptides: 837 quantified, 837 identified (considering best hits only)\n",
      "ProteinQuantifier took 0.55 s (wall), 0.54 s (CPU), 0.00 s (system), 0.54 s (user).\n",
      "\n",
      "Processing summary - number of...\n",
      "...features: 2332 used for quantification, 2332 total (0 no annotation, 0 ambiguous annotation)\n",
      "...peptides: 837 quantified, 837 identified (considering best hits only)\n",
      "ProteinQuantifier took 0.54 s (wall), 0.53 s (CPU), 0.00 s (system), 0.53 s (user).\n",
      "\n",
      "Processing summary - number of...\n",
      "...features: 2332 used for quantification, 2332 total (0 no annotation, 0 ambiguous annotation)\n",
      "...peptides: 837 quantified, 837 identified (considering best hits only)\n",
      "ProteinQuantifier took 0.55 s (wall), 0.54 s (CPU), 0.00 s (system), 0.54 s (user).\n"
     ]
    }
   ],
   "source": [
    "for xml in ${run}/*.featureXML; do \n",
    "    ProteinQuantifier \\\n",
    "        -in ${xml} \\\n",
    "        -peptide_out ${xml%.*}.csv\n",
    "done"
   ]
  },
  {
   "cell_type": "markdown",
   "metadata": {},
   "source": [
    "We receive identical peptide setup due to same protein being picked and cleaved (even if intensities varies)."
   ]
  },
  {
   "cell_type": "code",
   "execution_count": 12,
   "metadata": {
    "ExecuteTime": {
     "end_time": "2017-11-06T13:33:55.192594Z",
     "start_time": "2017-11-06T14:33:55.083819+01:00"
    }
   },
   "outputs": [
    {
     "name": "stdout",
     "output_type": "stream",
     "text": [
      "analyze_data.ipynb   \u001b[0m\u001b[01;34mbatch5_pure\u001b[0m        \u001b[01;34mdata\u001b[0m\n",
      "\u001b[01;34mbatch1\u001b[0m               \u001b[01;34mbatch6_pure\u001b[0m        full_quant.tsv\n",
      "\u001b[01;34mbatch10_synced\u001b[0m       \u001b[01;34mbatch7_no_align\u001b[0m    prepare_data.ipynb\n",
      "\u001b[01;34mbatch11_maybe_final\u001b[0m  \u001b[01;34mbatch7_no_align_2\u001b[0m  prepare_data_old_full_runthrough.ipynb\n",
      "\u001b[01;34mbatch2\u001b[0m               \u001b[01;34mbatch8\u001b[0m             \u001b[01;34mqc\u001b[0m\n",
      "\u001b[01;34mbatch3\u001b[0m               \u001b[01;34mbatch9_synced\u001b[0m      \u001b[01;34mutil_scripts\u001b[0m\n",
      "\u001b[01;34mbatch4_mzml\u001b[0m          combine_quant.py\n"
     ]
    }
   ],
   "source": [
    "ls"
   ]
  },
  {
   "cell_type": "code",
   "execution_count": 18,
   "metadata": {
    "ExecuteTime": {
     "end_time": "2017-11-06T13:35:02.848278Z",
     "start_time": "2017-11-06T14:35:01.917396+01:00"
    }
   },
   "outputs": [
    {
     "name": "stdout",
     "output_type": "stream",
     "text": [
      "peptide\\tprotein\\tl1\\tl2\\tl3\\th1\\th2\\th3\n",
      "1,2,5,10,15,20,25,30\n"
     ]
    }
   ],
   "source": [
    "header=\"peptide\\tprotein\"\n",
    "cut_string=\"1,2\"\n",
    "\n",
    "file_nbr=0\n",
    "for sample in ${samples}; do\n",
    "    ((file_nbr=file_nbr+1))\n",
    "    header=\"${header}\\t${sample}\"    \n",
    "    ((abund_col=file_nbr*5))\n",
    "    cut_string=\"${cut_string},${abund_col}\"    \n",
    "done\n",
    "\n",
    "echo ${header}\n",
    "echo ${cut_string}\n",
    "\n",
    "echo -e ${header} > ${run}/full_quant.tsv\n",
    "paste ${run}/*.ground.csv | tail -n +2 | grep -v \"^#\" | tr -d \"\\\"\" | cut -f ${cut_string} \\\n",
    "    >> ${run}/full_quant.tsv"
   ]
  },
  {
   "cell_type": "code",
   "execution_count": 19,
   "metadata": {
    "ExecuteTime": {
     "end_time": "2017-11-06T13:35:03.428921Z",
     "start_time": "2017-11-06T14:35:03.322755+01:00"
    }
   },
   "outputs": [
    {
     "name": "stdout",
     "output_type": "stream",
     "text": [
      "peptide\tprotein\tl1\tl2\tl3\th1\th2\th3\n",
      "peptide\tprotein\tabundance\tabundance\tabundance\tabundance\tabundance\tabundance\n",
      "FCR\tsp|P0A7T7|RS18_ECOLI\t151517200\t165587200\t144553300\t150461100\t159299600\t150254600\n",
      "LCR\tsp|Q9JMR4|YUBK_ECOLI\t44239800\t52946600\t46357600\t47534300\t49887400\t46122300\n",
      "FCQR\tsp|P39357|YJHF_ECOLI\t132788600\t125155096\t125492300\t121695900\t140206000\t120414700\n",
      "KFCR\tsp|P0A7T7|RS18_ECOLI\t69140400\t73920540\t66849810\t70346130\t73255450\t68869210\n",
      "AFVLR\tsp|P0ADY1|PPID_ECOLI\t134405600\t128525900\t127084400\t124809200\t125322200\t140974800\n",
      "GFVLR\tsp|P33650|FEOB_ECOLI\t124943800\t128849200\t142474900\t138466500\t131605800\t130450700\n",
      "GWPYA\tsp|P58516|SPI3_SOLTU\t317440992\t319214016\t317440992\t37463300\t40197300\t40049600\n",
      "MTLFR\tsp|P77607|YAGL_ECOLI\t121958700\t135043000\t131109200\t124353500\t132364100\t117581296\n"
     ]
    }
   ],
   "source": [
    "head ${run}/full_quant.tsv"
   ]
  }
 ],
 "metadata": {
  "kernelspec": {
   "display_name": "Bash",
   "language": "bash",
   "name": "bash"
  },
  "language_info": {
   "codemirror_mode": "shell",
   "file_extension": ".sh",
   "mimetype": "text/x-sh",
   "name": "bash"
  },
  "toc": {
   "colors": {
    "hover_highlight": "#DAA520",
    "running_highlight": "#FF0000",
    "selected_highlight": "#FFD700"
   },
   "moveMenuLeft": true,
   "nav_menu": {
    "height": "120px",
    "width": "252px"
   },
   "navigate_menu": true,
   "number_sections": true,
   "sideBar": false,
   "threshold": 4,
   "toc_cell": true,
   "toc_section_display": "block",
   "toc_window_display": true,
   "widenNotebook": false
  }
 },
 "nbformat": 4,
 "nbformat_minor": 2
}
