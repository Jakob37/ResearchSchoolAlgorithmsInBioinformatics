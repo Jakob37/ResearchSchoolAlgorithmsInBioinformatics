{
 "cells": [
  {
   "cell_type": "markdown",
   "metadata": {
    "toc": "true"
   },
   "source": [
    "# Table of Contents\n",
    " <p><div class=\"lev1 toc-item\"><a href=\"#Generate-pre-processed-FASTA-files\" data-toc-modified-id=\"Generate-pre-processed-FASTA-files-1\"><span class=\"toc-item-num\">1&nbsp;&nbsp;</span>Generate pre-processed FASTA files</a></div><div class=\"lev2 toc-item\"><a href=\"#Setup\" data-toc-modified-id=\"Setup-11\"><span class=\"toc-item-num\">1.1&nbsp;&nbsp;</span>Setup</a></div><div class=\"lev2 toc-item\"><a href=\"#Prepare-low-spike\" data-toc-modified-id=\"Prepare-low-spike-12\"><span class=\"toc-item-num\">1.2&nbsp;&nbsp;</span>Prepare low-spike</a></div><div class=\"lev2 toc-item\"><a href=\"#Prepare-high-spikes\" data-toc-modified-id=\"Prepare-high-spikes-13\"><span class=\"toc-item-num\">1.3&nbsp;&nbsp;</span>Prepare high-spikes</a></div><div class=\"lev1 toc-item\"><a href=\"#Simulate-MS-data\" data-toc-modified-id=\"Simulate-MS-data-2\"><span class=\"toc-item-num\">2&nbsp;&nbsp;</span>Simulate MS-data</a></div><div class=\"lev1 toc-item\"><a href=\"#Post-process-data\" data-toc-modified-id=\"Post-process-data-3\"><span class=\"toc-item-num\">3&nbsp;&nbsp;</span>Post-process data</a></div>"
   ]
  },
  {
   "cell_type": "markdown",
   "metadata": {},
   "source": [
    "# Generate pre-processed FASTA files\n",
    "\n",
    "Using the custom-made `seqtk generate_spikein.py` script.\n",
    "\n",
    "Dependencies:\n",
    "\n",
    "* OpenMS binaries in PATH (version 2.2.0)"
   ]
  },
  {
   "cell_type": "markdown",
   "metadata": {},
   "source": [
    "## Setup"
   ]
  },
  {
   "cell_type": "code",
   "execution_count": 21,
   "metadata": {
    "ExecuteTime": {
     "end_time": "2017-11-06T10:50:20.703206Z",
     "start_time": "2017-11-06T11:50:20.495028+01:00"
    }
   },
   "outputs": [],
   "source": [
    "threads=6\n",
    "run=batch9_synced\n",
    "mkdir ${run}"
   ]
  },
  {
   "cell_type": "code",
   "execution_count": 22,
   "metadata": {
    "ExecuteTime": {
     "end_time": "2017-11-06T10:50:28.635720Z",
     "start_time": "2017-11-06T11:50:28.429834+01:00"
    },
    "collapsed": true
   },
   "outputs": [],
   "source": [
    "sample_names_low=\"l1 l2 l3\"\n",
    "sample_names_high=\"h1 h2 h3\"\n",
    "samples=\"${sample_names_low} ${sample_names_high}\""
   ]
  },
  {
   "cell_type": "code",
   "execution_count": 23,
   "metadata": {
    "ExecuteTime": {
     "end_time": "2017-11-06T10:50:30.196129Z",
     "start_time": "2017-11-06T11:50:29.678578+01:00"
    }
   },
   "outputs": [
    {
     "name": "stdout",
     "output_type": "stream",
     "text": [
      "name\tbiorepgroup\ttechrepgroup\tcondition\n",
      "l1\t1\t1\tlow\n",
      "l2\t2\t1\tlow\n",
      "l3\t3\t1\tlow\n",
      "h1\t1\t1\thigh\n",
      "h2\t2\t1\thigh\n",
      "h3\t3\t1\thigh\n"
     ]
    }
   ],
   "source": [
    "echo -e \"name\\tbiorepgroup\\ttechrepgroup\\tcondition\" > ${run}/design.tsv\n",
    "echo -e \"l1\\t1\\t1\\tlow\" >> ${run}/design.tsv\n",
    "echo -e \"l2\\t2\\t1\\tlow\" >> ${run}/design.tsv\n",
    "echo -e \"l3\\t3\\t1\\tlow\" >> ${run}/design.tsv\n",
    "echo -e \"h1\\t1\\t1\\thigh\" >> ${run}/design.tsv\n",
    "echo -e \"h2\\t2\\t1\\thigh\" >> ${run}/design.tsv\n",
    "echo -e \"h3\\t3\\t1\\thigh\" >> ${run}/design.tsv\n",
    "\n",
    "cat ${run}/design.tsv"
   ]
  },
  {
   "cell_type": "markdown",
   "metadata": {},
   "source": [
    "## Prepare low-spike"
   ]
  },
  {
   "cell_type": "code",
   "execution_count": 30,
   "metadata": {
    "ExecuteTime": {
     "end_time": "2017-11-06T10:52:01.230553Z",
     "start_time": "2017-11-06T11:52:00.091691+01:00"
    }
   },
   "outputs": [
    {
     "name": "stdout",
     "output_type": "stream",
     "text": [
      "4436 entries loaded from data/uniprot_ecoli.pure.fasta as background\n",
      "403 entries loaded from data/uniprot_potato.pure.fasta as spike-in\n",
      "20 entries picked as background, 5 as spike-in\n",
      "25 entries written to batch9_synced/l1.fa\n",
      "20 entries picked as background, 5 as spike-in\n",
      "25 entries written to batch9_synced/l2.fa\n",
      "20 entries picked as background, 5 as spike-in\n",
      "25 entries written to batch9_synced/l3.fa\n",
      "20 entries picked as background, 5 as spike-in\n",
      "25 entries written to batch9_synced/h1.fa\n",
      "20 entries picked as background, 5 as spike-in\n",
      "25 entries written to batch9_synced/h2.fa\n",
      "20 entries picked as background, 5 as spike-in\n",
      "25 entries written to batch9_synced/h3.fa\n"
     ]
    }
   ],
   "source": [
    "lfqtk generate_spikein_set \\\n",
    "    --background_fa data/uniprot_ecoli.pure.fasta \\\n",
    "    --spikein_fa data/uniprot_potato.pure.fasta \\\n",
    "    --offset_mean 0 \\\n",
    "    --offset_std 0 \\\n",
    "    --base_int 1000000 \\\n",
    "    --noise_std 0 \\\n",
    "    --back_count 20 \\\n",
    "    --spike_count 5 \\\n",
    "    --spike_folds \"1,1,1,8,8,8\" \\\n",
    "    --out_base ${run} \\\n",
    "    --sample_names \"l1.fa,l2.fa,l3.fa,h1.fa,h2.fa,h3.fa\" \\\n",
    "    --verbose"
   ]
  },
  {
   "cell_type": "code",
   "execution_count": 25,
   "metadata": {
    "ExecuteTime": {
     "end_time": "2017-11-06T10:50:37.637016Z",
     "start_time": "2017-11-06T11:50:36.767747+01:00"
    }
   },
   "outputs": [],
   "source": [
    "# for name in ${sample_names_low}; do\n",
    "#     echo \"Generating sample: ${name}\"\n",
    "#     lfqtk generate_spikein \\\n",
    "#         --background_fa data/uniprot_ecoli.pure.fasta \\\n",
    "#         --spikein_fa data/uniprot_potato.pure.fasta \\\n",
    "#         --output_fa ${run}/${name}.fa \\\n",
    "#         --offset_mean 0 \\\n",
    "#         --offset_std 0 \\\n",
    "#         --back_int 1000000 \\\n",
    "#         --back_noise_std 0 \\\n",
    "#         --back_count 20 \\\n",
    "#         --spike_int 1000000 \\\n",
    "#         --spike_noise_std 0 \\\n",
    "#         --spike_count 5 \\\n",
    "#         --verbose\n",
    "# done"
   ]
  },
  {
   "cell_type": "markdown",
   "metadata": {},
   "source": [
    "## Prepare high-spikes"
   ]
  },
  {
   "cell_type": "code",
   "execution_count": 28,
   "metadata": {
    "ExecuteTime": {
     "end_time": "2017-11-06T10:51:33.585884Z",
     "start_time": "2017-11-06T11:51:32.718041+01:00"
    }
   },
   "outputs": [],
   "source": [
    "# for name in ${sample_names_high}; do\n",
    "#     echo \"Generating sample: ${name}\"\n",
    "#     lfqtk generate_spikein \\\n",
    "#         --background_fa data/uniprot_ecoli.pure.fasta \\\n",
    "#         --spikein_fa data/uniprot_potato.pure.fasta \\\n",
    "#         --output_fa ${run}/${name}.fa \\\n",
    "#         --offset_mean 0 \\\n",
    "#         --offset_std 0 \\\n",
    "#         --back_int 1000000 \\\n",
    "#         --back_noise_std 0 \\\n",
    "#         --back_count 20 \\\n",
    "#         --spike_int 8000000 \\\n",
    "#         --spike_noise_std 0 \\\n",
    "#         --spike_count 5 \\\n",
    "#         --verbose\n",
    "# done"
   ]
  },
  {
   "cell_type": "markdown",
   "metadata": {},
   "source": [
    "# Simulate MS-data\n",
    "\n",
    "Generate the OpenMS tool `MSSimulator`."
   ]
  },
  {
   "cell_type": "code",
   "execution_count": 33,
   "metadata": {
    "ExecuteTime": {
     "end_time": "2017-11-06T10:52:33.724558Z",
     "start_time": "2017-11-06T11:52:20.112773+01:00"
    }
   },
   "outputs": [
    {
     "name": "stdout",
     "output_type": "stream",
     "text": [
      "Processing l3\n",
      "Loading sequence data from batch9_synced/l3.fa ...\n",
      "done (25 protein(s) loaded)\n",
      "Starting simulation\n",
      "2017/11/06, 11:52:20: Digest Simulation ... started\n",
      "2017/11/06, 11:52:20: RT Simulation ... started\n",
      "2017/11/06, 11:52:22: Predicting RT ... done\n",
      "2017/11/06, 11:52:22: RT prediction gave 'invalid' results for 742 peptide(s), making them unobservable.\n",
      "2017/11/06, 11:52:22:   (List is too big to show)\n",
      "2017/11/06, 11:52:22: Creating experiment with #501 scans ... done\n",
      "2017/11/06, 11:52:22: Detectability Simulation ... started\n",
      "2017/11/06, 11:52:22: Ionization Simulation ... started\n",
      "esi_impurity_probabilities_[0]: 1\n",
      "weights[0]: 10\n",
      "2017/11/06, 11:52:22: Simulating 834 features\n",
      "Progress of 'Ionization':\n",
      "-- done [took 4.52 s (CPU), 4.53 s (Wall)] -- \n",
      "2017/11/06, 11:52:26: #Peptides not ionized: 0\n",
      "2017/11/06, 11:52:26: #Peptides outside mz range: 275\n",
      "2017/11/06, 11:52:26: Raw MS1 Simulation ... started\n",
      "2017/11/06, 11:52:26:   Simulating signal for 2319 features ...\n",
      "Progress of 'RawMSSignal':\n",
      "-- done [took 2.29 s (CPU), 2.30 s (Wall)] -- \n",
      "2017/11/06, 11:52:29: Contaminants out-of-RT-range: 204 / 486\n",
      "2017/11/06, 11:52:29: Contaminants out-of-MZ-range: 111 / 486\n",
      "2017/11/06, 11:52:29: Compressed data to grid ... 4309158 --> 4064340 (94%)\n",
      "2017/11/06, 11:52:29: Adding white noise to spectra ...\n",
      "2017/11/06, 11:52:29: Adding detector noise to spectra ...\n",
      "2017/11/06, 11:52:29: Detector noise was disabled.\n",
      "2017/11/06, 11:52:29: Tandem MS Simulation ... disabled\n",
      "2017/11/06, 11:52:30: Final number of simulated features: 2319\n",
      "2017/11/06, 11:52:30: Simulation took 9.337257 seconds\n",
      "2017/11/06, 11:52:30: Storing simulated raw data in: batch9_synced/l3.mzML\n",
      "2017/11/06, 11:52:30: Storing simulated peak/centroided data in: batch9_synced/l3.centroided.mzML\n",
      "2017/11/06, 11:52:30: Storing simulated features in: batch9_synced/l3.ground.featureXML\n",
      "2017/11/06, 11:52:30: Storing ground-truth peptide IDs in: batch9_synced/l3.ground.idXML\n",
      "2017/11/06, 11:52:30: MSSimulator took 9.83 s (wall), 9.69 s (CPU), 0.00 s (system), 9.69 s (user).\n",
      "Processing l1\n",
      "Loading sequence data from batch9_synced/l1.fa ...\n",
      "done (25 protein(s) loaded)\n",
      "Starting simulation\n",
      "2017/11/06, 11:52:20: Digest Simulation ... started\n",
      "2017/11/06, 11:52:20: RT Simulation ... started\n",
      "2017/11/06, 11:52:21: Predicting RT ... done\n",
      "2017/11/06, 11:52:21: RT prediction gave 'invalid' results for 742 peptide(s), making them unobservable.\n",
      "2017/11/06, 11:52:21:   (List is too big to show)\n",
      "2017/11/06, 11:52:21: Creating experiment with #501 scans ... done\n",
      "2017/11/06, 11:52:21: Detectability Simulation ... started\n",
      "2017/11/06, 11:52:21: Ionization Simulation ... started\n",
      "esi_impurity_probabilities_[0]: 1\n",
      "weights[0]: 10\n",
      "2017/11/06, 11:52:21: Simulating 834 features\n",
      "Progress of 'Ionization':\n",
      "-- done [took 5.75 s (CPU), 5.77 s (Wall)] -- \n",
      "2017/11/06, 11:52:27: #Peptides not ionized: 0\n",
      "2017/11/06, 11:52:27: #Peptides outside mz range: 275\n",
      "2017/11/06, 11:52:27: Raw MS1 Simulation ... started\n",
      "2017/11/06, 11:52:27:   Simulating signal for 2319 features ...\n",
      "Progress of 'RawMSSignal':\n",
      "-- done [took 3.08 s (CPU), 3.16 s (Wall)] -- \n",
      "2017/11/06, 11:52:31: Contaminants out-of-RT-range: 204 / 486\n",
      "2017/11/06, 11:52:31: Contaminants out-of-MZ-range: 111 / 486\n",
      "2017/11/06, 11:52:31: Compressed data to grid ... 4309158 --> 4064340 (94%)\n",
      "2017/11/06, 11:52:31: Adding white noise to spectra ...\n",
      "2017/11/06, 11:52:31: Adding detector noise to spectra ...\n",
      "2017/11/06, 11:52:31: Detector noise was disabled.\n",
      "2017/11/06, 11:52:32: Tandem MS Simulation ... disabled\n",
      "2017/11/06, 11:52:32: Final number of simulated features: 2319\n",
      "2017/11/06, 11:52:32: Simulation took 11.445086 seconds\n",
      "2017/11/06, 11:52:32: Storing simulated raw data in: batch9_synced/l1.mzML\n",
      "2017/11/06, 11:52:32: Storing simulated peak/centroided data in: batch9_synced/l1.centroided.mzML\n",
      "2017/11/06, 11:52:32: Storing simulated features in: batch9_synced/l1.ground.featureXML\n",
      "2017/11/06, 11:52:32: Storing ground-truth peptide IDs in: batch9_synced/l1.ground.idXML\n",
      "2017/11/06, 11:52:32: MSSimulator took 12.20 s (wall), 11.83 s (CPU), 0.00 s (system), 11.83 s (user).\n",
      "Processing h3\n",
      "Loading sequence data from batch9_synced/h3.fa ...\n",
      "done (25 protein(s) loaded)\n",
      "Starting simulation\n",
      "2017/11/06, 11:52:20: Digest Simulation ... started\n",
      "2017/11/06, 11:52:20: RT Simulation ... started\n",
      "2017/11/06, 11:52:21: Predicting RT ... done\n",
      "2017/11/06, 11:52:21: RT prediction gave 'invalid' results for 742 peptide(s), making them unobservable.\n",
      "2017/11/06, 11:52:21:   (List is too big to show)\n",
      "2017/11/06, 11:52:22: Creating experiment with #501 scans ... done\n",
      "2017/11/06, 11:52:22: Detectability Simulation ... started\n",
      "2017/11/06, 11:52:22: Ionization Simulation ... started\n",
      "esi_impurity_probabilities_[0]: 1\n",
      "weights[0]: 10\n",
      "2017/11/06, 11:52:22: Simulating 834 features\n",
      "Progress of 'Ionization':\n",
      "-- done [took 6.19 s (CPU), 6.21 s (Wall)] -- \n",
      "2017/11/06, 11:52:28: #Peptides not ionized: 0\n",
      "2017/11/06, 11:52:28: #Peptides outside mz range: 275\n",
      "2017/11/06, 11:52:28: Raw MS1 Simulation ... started\n",
      "2017/11/06, 11:52:28:   Simulating signal for 2319 features ...\n",
      "Progress of 'RawMSSignal':\n",
      "-- done [took 2.65 s (CPU), 2.67 s (Wall)] -- \n",
      "2017/11/06, 11:52:31: Contaminants out-of-RT-range: 204 / 486\n",
      "2017/11/06, 11:52:31: Contaminants out-of-MZ-range: 111 / 486\n",
      "2017/11/06, 11:52:31: Compressed data to grid ... 4309158 --> 4064340 (94%)\n",
      "2017/11/06, 11:52:31: Adding white noise to spectra ...\n",
      "2017/11/06, 11:52:31: Adding detector noise to spectra ...\n",
      "2017/11/06, 11:52:31: Detector noise was disabled.\n",
      "2017/11/06, 11:52:31: Tandem MS Simulation ... disabled\n",
      "2017/11/06, 11:52:32: Final number of simulated features: 2319\n",
      "2017/11/06, 11:52:32: Simulation took 11.36363 seconds\n",
      "2017/11/06, 11:52:32: Storing simulated raw data in: batch9_synced/h3.mzML\n",
      "2017/11/06, 11:52:32: Storing simulated peak/centroided data in: batch9_synced/h3.centroided.mzML\n",
      "2017/11/06, 11:52:32: Storing simulated features in: batch9_synced/h3.ground.featureXML\n",
      "2017/11/06, 11:52:32: Storing ground-truth peptide IDs in: batch9_synced/h3.ground.idXML\n",
      "2017/11/06, 11:52:32: MSSimulator took 12.04 s (wall), 11.73 s (CPU), 0.00 s (system), 11.73 s (user).\n",
      "Processing l2\n",
      "Loading sequence data from batch9_synced/l2.fa ...\n",
      "done (25 protein(s) loaded)\n",
      "Starting simulation\n",
      "2017/11/06, 11:52:20: Digest Simulation ... started\n",
      "2017/11/06, 11:52:20: RT Simulation ... started\n",
      "2017/11/06, 11:52:22: Predicting RT ... done\n",
      "2017/11/06, 11:52:22: RT prediction gave 'invalid' results for 742 peptide(s), making them unobservable.\n",
      "2017/11/06, 11:52:22:   (List is too big to show)\n",
      "2017/11/06, 11:52:22: Creating experiment with #501 scans ... done\n",
      "2017/11/06, 11:52:22: Detectability Simulation ... started\n",
      "2017/11/06, 11:52:22: Ionization Simulation ... started\n",
      "esi_impurity_probabilities_[0]: 1\n",
      "weights[0]: 10\n",
      "2017/11/06, 11:52:22: Simulating 834 features\n",
      "Progress of 'Ionization':\n",
      "-- done [took 6.42 s (CPU), 6.45 s (Wall)] -- \n",
      "2017/11/06, 11:52:28: #Peptides not ionized: 0\n",
      "2017/11/06, 11:52:28: #Peptides outside mz range: 275\n",
      "2017/11/06, 11:52:28: Raw MS1 Simulation ... started\n",
      "2017/11/06, 11:52:28:   Simulating signal for 2319 features ...\n",
      "Progress of 'RawMSSignal':\n",
      "-- done [took 2.88 s (CPU), 2.92 s (Wall)] -- \n",
      "2017/11/06, 11:52:32: Contaminants out-of-RT-range: 204 / 486\n",
      "2017/11/06, 11:52:32: Contaminants out-of-MZ-range: 111 / 486\n",
      "2017/11/06, 11:52:32: Compressed data to grid ... 4309158 --> 4064340 (94%)\n",
      "2017/11/06, 11:52:32: Adding white noise to spectra ...\n",
      "2017/11/06, 11:52:32: Adding detector noise to spectra ...\n",
      "2017/11/06, 11:52:32: Detector noise was disabled.\n",
      "2017/11/06, 11:52:32: Tandem MS Simulation ... disabled\n",
      "2017/11/06, 11:52:32: Final number of simulated features: 2319\n",
      "2017/11/06, 11:52:32: Simulation took 12.019762 seconds\n",
      "2017/11/06, 11:52:32: Storing simulated raw data in: batch9_synced/l2.mzML\n",
      "2017/11/06, 11:52:32: Storing simulated peak/centroided data in: batch9_synced/l2.centroided.mzML\n",
      "2017/11/06, 11:52:33: Storing simulated features in: batch9_synced/l2.ground.featureXML\n",
      "2017/11/06, 11:52:33: Storing ground-truth peptide IDs in: batch9_synced/l2.ground.idXML\n",
      "2017/11/06, 11:52:33: MSSimulator took 12.55 s (wall), 12.40 s (CPU), 0.00 s (system), 12.40 s (user).\n",
      "Processing h1\n"
     ]
    },
    {
     "name": "stdout",
     "output_type": "stream",
     "text": [
      "Loading sequence data from batch9_synced/h1.fa ...\n",
      "done (25 protein(s) loaded)\n",
      "Starting simulation\n",
      "2017/11/06, 11:52:20: Digest Simulation ... started\n",
      "2017/11/06, 11:52:20: RT Simulation ... started\n",
      "2017/11/06, 11:52:21: Predicting RT ... done\n",
      "2017/11/06, 11:52:21: RT prediction gave 'invalid' results for 742 peptide(s), making them unobservable.\n",
      "2017/11/06, 11:52:21:   (List is too big to show)\n",
      "2017/11/06, 11:52:21: Creating experiment with #501 scans ... done\n",
      "2017/11/06, 11:52:21: Detectability Simulation ... started\n",
      "2017/11/06, 11:52:21: Ionization Simulation ... started\n",
      "esi_impurity_probabilities_[0]: 1\n",
      "weights[0]: 10\n",
      "2017/11/06, 11:52:21: Simulating 834 features\n",
      "Progress of 'Ionization':\n",
      "-- done [took 5.88 s (CPU), 5.90 s (Wall)] -- \n",
      "2017/11/06, 11:52:27: #Peptides not ionized: 0\n",
      "2017/11/06, 11:52:27: #Peptides outside mz range: 275\n",
      "2017/11/06, 11:52:27: Raw MS1 Simulation ... started\n",
      "2017/11/06, 11:52:27:   Simulating signal for 2319 features ...\n",
      "Progress of 'RawMSSignal':\n",
      "-- done [took 2.73 s (CPU), 2.75 s (Wall)] -- \n",
      "2017/11/06, 11:52:31: Contaminants out-of-RT-range: 204 / 486\n",
      "2017/11/06, 11:52:31: Contaminants out-of-MZ-range: 111 / 486\n",
      "2017/11/06, 11:52:31: Compressed data to grid ... 4309158 --> 4064340 (94%)\n",
      "2017/11/06, 11:52:31: Adding white noise to spectra ...\n",
      "2017/11/06, 11:52:31: Adding detector noise to spectra ...\n",
      "2017/11/06, 11:52:31: Detector noise was disabled.\n",
      "2017/11/06, 11:52:31: Tandem MS Simulation ... disabled\n",
      "2017/11/06, 11:52:31: Final number of simulated features: 2319\n",
      "2017/11/06, 11:52:31: Simulation took 11.232779 seconds\n",
      "2017/11/06, 11:52:31: Storing simulated raw data in: batch9_synced/h1.mzML\n",
      "2017/11/06, 11:52:32: Storing simulated peak/centroided data in: batch9_synced/h1.centroided.mzML\n",
      "2017/11/06, 11:52:32: Storing simulated features in: batch9_synced/h1.ground.featureXML\n",
      "2017/11/06, 11:52:33: Storing ground-truth peptide IDs in: batch9_synced/h1.ground.idXML\n",
      "2017/11/06, 11:52:33: MSSimulator took 12.39 s (wall), 11.75 s (CPU), 0.00 s (system), 11.75 s (user).\n",
      "Processing h2\n",
      "Loading sequence data from batch9_synced/h2.fa ...\n",
      "done (25 protein(s) loaded)\n",
      "Starting simulation\n",
      "2017/11/06, 11:52:20: Digest Simulation ... started\n",
      "2017/11/06, 11:52:20: RT Simulation ... started\n",
      "2017/11/06, 11:52:22: Predicting RT ... done\n",
      "2017/11/06, 11:52:22: RT prediction gave 'invalid' results for 742 peptide(s), making them unobservable.\n",
      "2017/11/06, 11:52:22:   (List is too big to show)\n",
      "2017/11/06, 11:52:22: Creating experiment with #501 scans ... done\n",
      "2017/11/06, 11:52:22: Detectability Simulation ... started\n",
      "2017/11/06, 11:52:22: Ionization Simulation ... started\n",
      "esi_impurity_probabilities_[0]: 1\n",
      "weights[0]: 10\n",
      "2017/11/06, 11:52:22: Simulating 834 features\n",
      "Progress of 'Ionization':\n",
      "-- done [took 6.26 s (CPU), 6.30 s (Wall)] -- \n",
      "2017/11/06, 11:52:28: #Peptides not ionized: 0\n",
      "2017/11/06, 11:52:28: #Peptides outside mz range: 275\n",
      "2017/11/06, 11:52:28: Raw MS1 Simulation ... started\n",
      "2017/11/06, 11:52:28:   Simulating signal for 2319 features ...\n",
      "Progress of 'RawMSSignal':\n",
      "-- done [took 3.05 s (CPU), 3.06 s (Wall)] -- \n",
      "2017/11/06, 11:52:32: Contaminants out-of-RT-range: 204 / 486\n",
      "2017/11/06, 11:52:32: Contaminants out-of-MZ-range: 111 / 486\n",
      "2017/11/06, 11:52:32: Compressed data to grid ... 4309158 --> 4064340 (94%)\n",
      "2017/11/06, 11:52:32: Adding white noise to spectra ...\n",
      "2017/11/06, 11:52:32: Adding detector noise to spectra ...\n",
      "2017/11/06, 11:52:32: Detector noise was disabled.\n",
      "2017/11/06, 11:52:32: Tandem MS Simulation ... disabled\n",
      "2017/11/06, 11:52:32: Final number of simulated features: 2319\n",
      "2017/11/06, 11:52:32: Simulation took 11.891462 seconds\n",
      "2017/11/06, 11:52:32: Storing simulated raw data in: batch9_synced/h2.mzML\n",
      "2017/11/06, 11:52:33: Storing simulated peak/centroided data in: batch9_synced/h2.centroided.mzML\n",
      "2017/11/06, 11:52:33: Storing simulated features in: batch9_synced/h2.ground.featureXML\n",
      "2017/11/06, 11:52:33: Storing ground-truth peptide IDs in: batch9_synced/h2.ground.idXML\n",
      "2017/11/06, 11:52:33: MSSimulator took 12.73 s (wall), 12.24 s (CPU), 0.00 s (system), 12.24 s (user).\n",
      "\n",
      "real\t0m13.094s\n",
      "user\t1m9.948s\n",
      "sys\t0m0.564s\n"
     ]
    }
   ],
   "source": [
    "time parallel -j ${threads} \\\n",
    "\"echo \\\"Processing {}\\\"\n",
    "MSSimulator \\\n",
    "    -in ${run}/{}.fa \\\n",
    "    -out_fm ${run}/{}.ground.featureXML \\\n",
    "    -out_id ${run}/{}.ground.idXML \\\n",
    "    -out ${run}/{}.mzML \\\n",
    "    -out_pm ${run}/{}.centroided.mzML\" \\\n",
    "    ::: ${samples}\n"
   ]
  },
  {
   "cell_type": "code",
   "execution_count": 34,
   "metadata": {
    "ExecuteTime": {
     "end_time": "2017-11-06T10:52:34.033973Z",
     "start_time": "2017-11-06T11:52:33.725946+01:00"
    }
   },
   "outputs": [],
   "source": [
    "# for xml in *.featureXML; do \n",
    "#     ProteinQuantifier \\\n",
    "#         -in ${xml} \\\n",
    "#         -peptide_out ${xml%.*}.csv\n",
    "# done"
   ]
  },
  {
   "cell_type": "code",
   "execution_count": 35,
   "metadata": {
    "ExecuteTime": {
     "end_time": "2017-11-06T10:52:59.244406Z",
     "start_time": "2017-11-06T11:52:42.120170+01:00"
    },
    "scrolled": true
   },
   "outputs": [
    {
     "name": "stdout",
     "output_type": "stream",
     "text": [
      "Processing h3\n",
      "Progress of 'loading spectra list':\n",
      "-- done [took 0.06 s (CPU), 0.06 s (Wall)] -- \n",
      "Progress of 'Precalculating intensity scores':\n",
      "-- done [took 0.05 s (CPU), 0.05 s (Wall)] -- \n",
      "Progress of 'Precalculating mass trace scores':\n",
      "-- done [took 0.12 s (CPU), 0.12 s (Wall)] -- \n",
      "Progress of 'Precalculating isotope distributions':\n",
      "-- done [took 0.02 s (CPU), 0.01 s (Wall)] -- \n",
      "Progress of 'Calculating isotope pattern scores for charge 1':\n",
      "-- done [took 0.20 s (CPU), 0.21 s (Wall)] -- \n",
      "Progress of 'Finding seeds for charge 1':\n",
      "-- done [took 0.02 s (CPU), 0.02 s (Wall)] -- \n",
      "Found 15197 seeds for charge 1.\n",
      "Progress of 'Extending seeds for charge 1':\n",
      "-- done [took 5.30 s (CPU), 5.31 s (Wall)] -- \n",
      "Found 3371 feature candidates for charge 1.\n",
      "Progress of 'Calculating isotope pattern scores for charge 2':\n",
      "-- done [took 0.26 s (CPU), 0.25 s (Wall)] -- \n",
      "Progress of 'Finding seeds for charge 2':\n",
      "-- done [took 0.01 s (CPU), 0.02 s (Wall)] -- \n",
      "Found 7086 seeds for charge 2.\n",
      "Progress of 'Extending seeds for charge 2':\n",
      "-- done [took 3.40 s (CPU), 3.41 s (Wall)] -- \n",
      "Found 1207 feature candidates for charge 2.\n",
      "Progress of 'Calculating isotope pattern scores for charge 3':\n",
      "-- done [took 0.26 s (CPU), 0.27 s (Wall)] -- \n",
      "Progress of 'Finding seeds for charge 3':\n",
      "-- done [took 0.01 s (CPU), 0.01 s (Wall)] -- \n",
      "Found 4374 seeds for charge 3.\n",
      "Progress of 'Extending seeds for charge 3':\n",
      "-- done [took 1.86 s (CPU), 1.86 s (Wall)] -- \n",
      "Found 594 feature candidates for charge 3.\n",
      "Progress of 'Calculating isotope pattern scores for charge 4':\n",
      "-- done [took 0.41 s (CPU), 0.41 s (Wall)] -- \n",
      "Progress of 'Finding seeds for charge 4':\n",
      "-- done [took 0.01 s (CPU), 0.01 s (Wall)] -- \n",
      "Found 1787 seeds for charge 4.\n",
      "Progress of 'Extending seeds for charge 4':\n",
      "-- done [took 1.11 s (CPU), 1.14 s (Wall)] -- \n",
      "Found 207 feature candidates for charge 4.\n",
      "Progress of 'Resolving overlapping features':\n",
      "  0.00 %               Removed 3037 overlapping features.\n",
      "-- done [took 0.74 s (CPU), 0.74 s (Wall)] -- \n",
      "2342 features left.\n",
      "\n",
      "Abort reasons during feature construction:\n",
      "- Could not extend seed: 805\n",
      "- Could not find good enough isotope pattern containing the seed: 376\n",
      "- Feature quality too low after fit: 828\n",
      "- Invalid feature after fit - too few traces or peaks left: 4813\n",
      "- Invalid fit: Center outside of feature bounds: 62\n",
      "- Invalid fit: Fitted model is bigger than 'max_rt_span': 60\n",
      "FeatureFinderCentroided took 14.28 s (wall), 14.22 s (CPU), 0.00 s (system), 14.22 s (user).\n",
      "Processing l3\n",
      "Progress of 'loading spectra list':\n",
      "-- done [took 0.08 s (CPU), 0.08 s (Wall)] -- \n",
      "Progress of 'Precalculating intensity scores':\n",
      "-- done [took 0.07 s (CPU), 0.06 s (Wall)] -- \n",
      "Progress of 'Precalculating mass trace scores':\n",
      "-- done [took 0.17 s (CPU), 0.17 s (Wall)] -- \n",
      "Progress of 'Precalculating isotope distributions':\n",
      "-- done [took 0.02 s (CPU), 0.02 s (Wall)] -- \n",
      "Progress of 'Calculating isotope pattern scores for charge 1':\n",
      "-- done [took 0.32 s (CPU), 0.32 s (Wall)] -- \n",
      "Progress of 'Finding seeds for charge 1':\n",
      "-- done [took 0.03 s (CPU), 0.03 s (Wall)] -- \n",
      "Found 15197 seeds for charge 1.\n",
      "Progress of 'Extending seeds for charge 1':\n",
      "-- done [took 5.57 s (CPU), 5.62 s (Wall)] -- \n",
      "Found 3371 feature candidates for charge 1.\n",
      "Progress of 'Calculating isotope pattern scores for charge 2':\n",
      "-- done [took 0.28 s (CPU), 0.28 s (Wall)] -- \n",
      "Progress of 'Finding seeds for charge 2':\n",
      "-- done [took 0.02 s (CPU), 0.01 s (Wall)] -- \n",
      "Found 7086 seeds for charge 2.\n",
      "Progress of 'Extending seeds for charge 2':\n",
      "-- done [took 3.47 s (CPU), 3.50 s (Wall)] -- \n",
      "Found 1207 feature candidates for charge 2.\n",
      "Progress of 'Calculating isotope pattern scores for charge 3':\n",
      "-- done [took 0.37 s (CPU), 0.38 s (Wall)] -- \n",
      "Progress of 'Finding seeds for charge 3':\n",
      "-- done [took 0.01 s (CPU), 0.01 s (Wall)] -- \n",
      "Found 4374 seeds for charge 3.\n",
      "Progress of 'Extending seeds for charge 3':\n",
      "-- done [took 2.29 s (CPU), 2.29 s (Wall)] -- \n",
      "Found 594 feature candidates for charge 3.\n",
      "Progress of 'Calculating isotope pattern scores for charge 4':\n",
      "-- done [took 0.42 s (CPU), 0.43 s (Wall)] -- \n",
      "Progress of 'Finding seeds for charge 4':\n",
      "-- done [took 0.01 s (CPU), 0.01 s (Wall)] -- \n",
      "Found 1787 seeds for charge 4.\n",
      "Progress of 'Extending seeds for charge 4':\n",
      "-- done [took 0.80 s (CPU), 0.80 s (Wall)] -- \n",
      "Found 207 feature candidates for charge 4.\n",
      "Progress of 'Resolving overlapping features':\n",
      "Removed 3037 overlapping features.\n",
      "-- done [took 0.53 s (CPU), 0.53 s (Wall)] -- \n",
      "2342 features left.\n",
      "\n",
      "Abort reasons during feature construction:\n",
      "- Could not extend seed: 805\n",
      "- Could not find good enough isotope pattern containing the seed: 376\n",
      "- Feature quality too low after fit: 828\n",
      "- Invalid feature after fit - too few traces or peaks left: 4813\n",
      "- Invalid fit: Center outside of feature bounds: 62\n",
      "- Invalid fit: Fitted model is bigger than 'max_rt_span': 60\n",
      "FeatureFinderCentroided took 14.92 s (wall), 14.82 s (CPU), 0.00 s (system), 14.82 s (user).\n",
      "Processing h1\n",
      "Progress of 'loading spectra list':\n",
      "-- done [took 0.04 s (CPU), 0.05 s (Wall)] -- \n",
      "Progress of 'Precalculating intensity scores':\n",
      "-- done [took 0.06 s (CPU), 0.05 s (Wall)] -- \n",
      "Progress of 'Precalculating mass trace scores':\n",
      "-- done [took 0.12 s (CPU), 0.12 s (Wall)] -- \n",
      "Progress of 'Precalculating isotope distributions':\n",
      "-- done [took 0.01 s (CPU), 0.01 s (Wall)] -- \n",
      "Progress of 'Calculating isotope pattern scores for charge 1':\n",
      "-- done [took 0.25 s (CPU), 0.25 s (Wall)] -- \n",
      "Progress of 'Finding seeds for charge 1':\n",
      "-- done [took 0.03 s (CPU), 0.03 s (Wall)] -- \n",
      "Found 15197 seeds for charge 1.\n",
      "Progress of 'Extending seeds for charge 1':\n",
      "-- done [took 6.42 s (CPU), 6.47 s (Wall)] -- \n",
      "Found 3371 feature candidates for charge 1.\n",
      "Progress of 'Calculating isotope pattern scores for charge 2':\n",
      "-- done [took 0.26 s (CPU), 0.26 s (Wall)] -- \n",
      "Progress of 'Finding seeds for charge 2':\n",
      "-- done [took 0.01 s (CPU), 0.01 s (Wall)] -- \n",
      "Found 7086 seeds for charge 2.\n",
      "Progress of 'Extending seeds for charge 2':\n",
      "-- done [took 2.71 s (CPU), 2.72 s (Wall)] -- \n",
      "Found 1207 feature candidates for charge 2.\n",
      "Progress of 'Calculating isotope pattern scores for charge 3':\n",
      "-- done [took 0.37 s (CPU), 0.37 s (Wall)] -- \n",
      "Progress of 'Finding seeds for charge 3':\n",
      "-- done [took 0.01 s (CPU), 0.01 s (Wall)] -- \n",
      "Found 4374 seeds for charge 3.\n",
      "Progress of 'Extending seeds for charge 3':\n",
      "-- done [took 2.35 s (CPU), 2.36 s (Wall)] -- \n",
      "Found 594 feature candidates for charge 3.\n",
      "Progress of 'Calculating isotope pattern scores for charge 4':\n",
      "-- done [took 0.43 s (CPU), 0.43 s (Wall)] -- \n",
      "Progress of 'Finding seeds for charge 4':\n",
      "-- done [took 0.01 s (CPU), 0.01 s (Wall)] -- \n",
      "Found 1787 seeds for charge 4.\n",
      "Progress of 'Extending seeds for charge 4':\n",
      "-- done [took 0.97 s (CPU), 0.98 s (Wall)] -- \n",
      "Found 207 feature candidates for charge 4.\n",
      "Progress of 'Resolving overlapping features':\n",
      "  32.74 %               Removed 3037 overlapping features.\n",
      "-- done [took 0.68 s (CPU), 0.68 s (Wall)] -- \n",
      "2342 features left.\n",
      "\n",
      "Abort reasons during feature construction:\n",
      "- Could not extend seed: 805\n",
      "- Could not find good enough isotope pattern containing the seed: 376\n",
      "- Feature quality too low after fit: 828\n",
      "- Invalid feature after fit - too few traces or peaks left: 4813\n",
      "- Invalid fit: Center outside of feature bounds: 62\n",
      "- Invalid fit: Fitted model is bigger than 'max_rt_span': 60\n",
      "FeatureFinderCentroided took 15.19 s (wall), 15.12 s (CPU), 0.00 s (system), 15.12 s (user).\n",
      "Processing l1\n",
      "Progress of 'loading spectra list':\n",
      "-- done [took 0.07 s (CPU), 0.08 s (Wall)] -- \n",
      "Progress of 'Precalculating intensity scores':\n",
      "-- done [took 0.06 s (CPU), 0.06 s (Wall)] -- \n",
      "Progress of 'Precalculating mass trace scores':\n",
      "-- done [took 0.17 s (CPU), 0.18 s (Wall)] -- \n",
      "Progress of 'Precalculating isotope distributions':\n",
      "-- done [took 0.03 s (CPU), 0.02 s (Wall)] -- \n",
      "Progress of 'Calculating isotope pattern scores for charge 1':\n",
      "-- done [took 0.20 s (CPU), 0.21 s (Wall)] -- \n",
      "Progress of 'Finding seeds for charge 1':\n",
      "-- done [took 0.03 s (CPU), 0.02 s (Wall)] -- \n",
      "Found 15197 seeds for charge 1.\n",
      "Progress of 'Extending seeds for charge 1':\n",
      "-- done [took 6.38 s (CPU), 6.41 s (Wall)] -- \n",
      "Found 3371 feature candidates for charge 1.\n",
      "Progress of 'Calculating isotope pattern scores for charge 2':\n"
     ]
    },
    {
     "name": "stdout",
     "output_type": "stream",
     "text": [
      "-- done [took 0.29 s (CPU), 0.28 s (Wall)] -- \n",
      "Progress of 'Finding seeds for charge 2':\n",
      "-- done [took 0.01 s (CPU), 0.02 s (Wall)] -- \n",
      "Found 7086 seeds for charge 2.\n",
      "Progress of 'Extending seeds for charge 2':\n",
      "-- done [took 3.78 s (CPU), 3.78 s (Wall)] -- \n",
      "Found 1207 feature candidates for charge 2.\n",
      "Progress of 'Calculating isotope pattern scores for charge 3':\n",
      "-- done [took 0.26 s (CPU), 0.26 s (Wall)] -- \n",
      "Progress of 'Finding seeds for charge 3':\n",
      "-- done [took 0.01 s (CPU), 0.01 s (Wall)] -- \n",
      "Found 4374 seeds for charge 3.\n",
      "Progress of 'Extending seeds for charge 3':\n",
      "-- done [took 2.08 s (CPU), 2.08 s (Wall)] -- \n",
      "Found 594 feature candidates for charge 3.\n",
      "Progress of 'Calculating isotope pattern scores for charge 4':\n",
      "-- done [took 0.44 s (CPU), 0.45 s (Wall)] -- \n",
      "Progress of 'Finding seeds for charge 4':\n",
      "-- done [took 0.01 s (CPU), 0.01 s (Wall)] -- \n",
      "Found 1787 seeds for charge 4.\n",
      "Progress of 'Extending seeds for charge 4':\n",
      "-- done [took 1.01 s (CPU), 1.02 s (Wall)] -- \n",
      "Found 207 feature candidates for charge 4.\n",
      "Progress of 'Resolving overlapping features':\n",
      "Removed 3037 overlapping features.\n",
      "-- done [took 0.58 s (CPU), 0.58 s (Wall)] -- \n",
      "2342 features left.\n",
      "\n",
      "Abort reasons during feature construction:\n",
      "- Could not extend seed: 805\n",
      "- Could not find good enough isotope pattern containing the seed: 376\n",
      "- Feature quality too low after fit: 828\n",
      "- Invalid feature after fit - too few traces or peaks left: 4813\n",
      "- Invalid fit: Center outside of feature bounds: 62\n",
      "- Invalid fit: Fitted model is bigger than 'max_rt_span': 60\n",
      "FeatureFinderCentroided took 15.84 s (wall), 15.77 s (CPU), 0.00 s (system), 15.77 s (user).\n",
      "Processing h2\n",
      "Progress of 'loading spectra list':\n",
      "-- done [took 0.06 s (CPU), 0.07 s (Wall)] -- \n",
      "Progress of 'Precalculating intensity scores':\n",
      "-- done [took 0.06 s (CPU), 0.06 s (Wall)] -- \n",
      "Progress of 'Precalculating mass trace scores':\n",
      "-- done [took 0.17 s (CPU), 0.17 s (Wall)] -- \n",
      "Progress of 'Precalculating isotope distributions':\n",
      "-- done [took 0.03 s (CPU), 0.02 s (Wall)] -- \n",
      "Progress of 'Calculating isotope pattern scores for charge 1':\n",
      "-- done [took 0.30 s (CPU), 0.31 s (Wall)] -- \n",
      "Progress of 'Finding seeds for charge 1':\n",
      "-- done [took 0.03 s (CPU), 0.03 s (Wall)] -- \n",
      "Found 15197 seeds for charge 1.\n",
      "Progress of 'Extending seeds for charge 1':\n",
      "-- done [took 7.07 s (CPU), 7.12 s (Wall)] -- \n",
      "Found 3371 feature candidates for charge 1.\n",
      "Progress of 'Calculating isotope pattern scores for charge 2':\n",
      "-- done [took 0.36 s (CPU), 0.36 s (Wall)] -- \n",
      "Progress of 'Finding seeds for charge 2':\n",
      "-- done [took 0.02 s (CPU), 0.02 s (Wall)] -- \n",
      "Found 7086 seeds for charge 2.\n",
      "Progress of 'Extending seeds for charge 2':\n",
      "-- done [took 3.40 s (CPU), 3.42 s (Wall)] -- \n",
      "Found 1207 feature candidates for charge 2.\n",
      "Progress of 'Calculating isotope pattern scores for charge 3':\n",
      "-- done [took 0.36 s (CPU), 0.37 s (Wall)] -- \n",
      "Progress of 'Finding seeds for charge 3':\n",
      "-- done [took 0.02 s (CPU), 0.01 s (Wall)] -- \n",
      "Found 4374 seeds for charge 3.\n",
      "Progress of 'Extending seeds for charge 3':\n",
      "-- done [took 1.76 s (CPU), 1.76 s (Wall)] -- \n",
      "Found 594 feature candidates for charge 3.\n",
      "Progress of 'Calculating isotope pattern scores for charge 4':\n",
      "-- done [took 0.30 s (CPU), 0.30 s (Wall)] -- \n",
      "Progress of 'Finding seeds for charge 4':\n",
      "-- done [took 0.00 s (CPU), 0.00 s (Wall)] -- \n",
      "Found 1787 seeds for charge 4.\n",
      "Progress of 'Extending seeds for charge 4':\n",
      "-- done [took 0.82 s (CPU), 0.82 s (Wall)] -- \n",
      "Found 207 feature candidates for charge 4.\n",
      "Progress of 'Resolving overlapping features':\n",
      "Removed 3037 overlapping features.\n",
      "-- done [took 0.59 s (CPU), 0.59 s (Wall)] -- \n",
      "2342 features left.\n",
      "\n",
      "Abort reasons during feature construction:\n",
      "- Could not extend seed: 805\n",
      "- Could not find good enough isotope pattern containing the seed: 376\n",
      "- Feature quality too low after fit: 828\n",
      "- Invalid feature after fit - too few traces or peaks left: 4813\n",
      "- Invalid fit: Center outside of feature bounds: 62\n",
      "- Invalid fit: Fitted model is bigger than 'max_rt_span': 60\n",
      "FeatureFinderCentroided took 15.78 s (wall), 15.70 s (CPU), 0.00 s (system), 15.70 s (user).\n",
      "Processing l2\n",
      "Progress of 'loading spectra list':\n",
      "-- done [took 0.08 s (CPU), 0.08 s (Wall)] -- \n",
      "Progress of 'Precalculating intensity scores':\n",
      "-- done [took 0.06 s (CPU), 0.06 s (Wall)] -- \n",
      "Progress of 'Precalculating mass trace scores':\n",
      "-- done [took 0.18 s (CPU), 0.18 s (Wall)] -- \n",
      "Progress of 'Precalculating isotope distributions':\n",
      "-- done [took 0.02 s (CPU), 0.02 s (Wall)] -- \n",
      "Progress of 'Calculating isotope pattern scores for charge 1':\n",
      "-- done [took 0.32 s (CPU), 0.32 s (Wall)] -- \n",
      "Progress of 'Finding seeds for charge 1':\n",
      "-- done [took 0.02 s (CPU), 0.03 s (Wall)] -- \n",
      "Found 15197 seeds for charge 1.\n",
      "Progress of 'Extending seeds for charge 1':\n",
      "-- done [took 6.33 s (CPU), 6.40 s (Wall)] -- \n",
      "Found 3371 feature candidates for charge 1.\n",
      "Progress of 'Calculating isotope pattern scores for charge 2':\n",
      "-- done [took 0.36 s (CPU), 0.35 s (Wall)] -- \n",
      "Progress of 'Finding seeds for charge 2':\n",
      "-- done [took 0.01 s (CPU), 0.02 s (Wall)] -- \n",
      "Found 7086 seeds for charge 2.\n",
      "Progress of 'Extending seeds for charge 2':\n",
      "-- done [took 3.81 s (CPU), 3.81 s (Wall)] -- \n",
      "Found 1207 feature candidates for charge 2.\n",
      "Progress of 'Calculating isotope pattern scores for charge 3':\n",
      "-- done [took 0.41 s (CPU), 0.41 s (Wall)] -- \n",
      "Progress of 'Finding seeds for charge 3':\n",
      "-- done [took 0.01 s (CPU), 0.01 s (Wall)] -- \n",
      "Found 4374 seeds for charge 3.\n",
      "Progress of 'Extending seeds for charge 3':\n",
      "-- done [took 2.59 s (CPU), 2.61 s (Wall)] -- \n",
      "Found 594 feature candidates for charge 3.\n",
      "Progress of 'Calculating isotope pattern scores for charge 4':\n",
      "-- done [took 0.37 s (CPU), 0.38 s (Wall)] -- \n",
      "Progress of 'Finding seeds for charge 4':\n",
      "-- done [took 0.01 s (CPU), 0.01 s (Wall)] -- \n",
      "Found 1787 seeds for charge 4.\n",
      "Progress of 'Extending seeds for charge 4':\n",
      "-- done [took 0.93 s (CPU), 0.93 s (Wall)] -- \n",
      "Found 207 feature candidates for charge 4.\n",
      "Progress of 'Resolving overlapping features':\n",
      "Removed 3037 overlapping features.\n",
      "-- done [took 0.52 s (CPU), 0.52 s (Wall)] -- \n",
      "2342 features left.\n",
      "\n",
      "Abort reasons during feature construction:\n",
      "- Could not extend seed: 805\n",
      "- Could not find good enough isotope pattern containing the seed: 376\n",
      "- Feature quality too low after fit: 828\n",
      "- Invalid feature after fit - too few traces or peaks left: 4813\n",
      "- Invalid fit: Center outside of feature bounds: 62\n",
      "- Invalid fit: Fitted model is bigger than 'max_rt_span': 60\n",
      "FeatureFinderCentroided took 16.52 s (wall), 16.41 s (CPU), 0.00 s (system), 16.41 s (user).\n",
      "\n",
      "real\t0m16.737s\n",
      "user\t1m32.256s\n",
      "sys\t0m0.248s\n"
     ]
    }
   ],
   "source": [
    "time parallel -j ${threads} \\\n",
    "\"echo \\\"Processing {}\\\"\n",
    "FeatureFinderCentroided \\\n",
    "    -in ${run}/{}.centroided.mzML \\\n",
    "    -out ${run}/{}.featureXML\" \\\n",
    "    ::: ${samples}\n"
   ]
  },
  {
   "cell_type": "code",
   "execution_count": 36,
   "metadata": {
    "ExecuteTime": {
     "end_time": "2017-11-06T10:53:04.963036Z",
     "start_time": "2017-11-06T11:53:02.251461+01:00"
    }
   },
   "outputs": [
    {
     "name": "stdout",
     "output_type": "stream",
     "text": [
      "Processing sample: l1\n",
      "Processing sample: l2\n",
      "Processing sample: l3\n",
      "Processing sample: h1\n",
      "Processing sample: h2\n",
      "Processing sample: h3\n"
     ]
    }
   ],
   "source": [
    "for sample in ${samples}; do \\\n",
    "    echo \"Processing sample: ${sample}\"\n",
    "    IDMapper \\\n",
    "        -id ${run}/${sample}.ground.idXML \\\n",
    "        -in ${run}/${sample}.featureXML \\\n",
    "        -out ${run}/${sample}.mapped.featureXML \\\n",
    "        > ${run}/${sample}.mapped.featureXML.log\n",
    "done"
   ]
  },
  {
   "cell_type": "markdown",
   "metadata": {},
   "source": [
    "Here, we do RT alignment (?) of features (with their identities mapped)."
   ]
  },
  {
   "cell_type": "code",
   "execution_count": null,
   "metadata": {
    "ExecuteTime": {
     "end_time": "2017-11-06T10:52:18.998428Z",
     "start_time": "2017-11-06T10:52:06.052Z"
    }
   },
   "outputs": [],
   "source": [
    "# out_strings=\"\"\n",
    "# for sample in ${samples}; do\n",
    "#     out_strings=\"${out_strings} ${run}/${sample}.mapped.aligned.featureXML\"\n",
    "# done\n",
    "\n",
    "# echo ${out_strings}\n",
    "\n",
    "# MapAlignerPoseClustering \\\n",
    "#     -in ${run}/*.mapped.featureXML \\\n",
    "#     -out ${out_strings}\n"
   ]
  },
  {
   "cell_type": "code",
   "execution_count": 37,
   "metadata": {
    "ExecuteTime": {
     "end_time": "2017-11-06T10:53:14.298761Z",
     "start_time": "2017-11-06T11:53:11.562697+01:00"
    }
   },
   "outputs": [
    {
     "name": "stdout",
     "output_type": "stream",
     "text": [
      "Progress of 'reading input':\n",
      "-- done [took 1.20 s (CPU), 1.21 s (Wall)] -- \n",
      "Progress of 'linking features':\n",
      "-- done [took 0.44 s (CPU), 0.44 s (Wall)] -- \n",
      "Number of consensus features:\n",
      "  of size  6:   2342\n",
      "  total:        2342\n",
      "FeatureLinkerUnlabeledQT took 2.30 s (wall), 2.28 s (CPU), 0.00 s (system), 2.28 s (user).\n"
     ]
    }
   ],
   "source": [
    "# FeatureLinkerUnlabeledQT \\\n",
    "#     -in ${run}/*.mapped.aligned.featureXML \\\n",
    "#     -out ${run}/combined.consensusXML\n",
    "    \n",
    "FeatureLinkerUnlabeledQT \\\n",
    "    -in ${run}/*.mapped.featureXML \\\n",
    "    -out ${run}/combined.consensusXML"
   ]
  },
  {
   "cell_type": "markdown",
   "metadata": {},
   "source": [
    "# Post-process data\n",
    "\n",
    "Extract and prepare the consensus data for normalization - transform it to an appropriate format."
   ]
  },
  {
   "cell_type": "code",
   "execution_count": 38,
   "metadata": {
    "ExecuteTime": {
     "end_time": "2017-11-06T10:53:17.946745Z",
     "start_time": "2017-11-06T11:53:16.796006+01:00"
    }
   },
   "outputs": [
    {
     "name": "stdout",
     "output_type": "stream",
     "text": [
      "Warning while exporting 'batch9_synced/combined.consensusXML': protein identification run ID '_0000-00-00T00:00:00' occurs more than once\n",
      "Warning while exporting 'batch9_synced/combined.consensusXML': protein identification run ID '_0000-00-00T00:00:00' occurs more than once\n",
      "Warning while exporting 'batch9_synced/combined.consensusXML': protein identification run ID '_0000-00-00T00:00:00' occurs more than once\n",
      "Warning while exporting 'batch9_synced/combined.consensusXML': protein identification run ID '_0000-00-00T00:00:00' occurs more than once\n",
      "Warning while exporting 'batch9_synced/combined.consensusXML': protein identification run ID '_0000-00-00T00:00:00' occurs more than once\n",
      "TextExporter took 0.74 s (wall), 0.73 s (CPU), 0.00 s (system), 0.73 s (user).\n"
     ]
    }
   ],
   "source": [
    "TextExporter \\\n",
    "    -in ${run}/combined.consensusXML \\\n",
    "    -out ${run}/combined.linked_features.csv \\\n",
    "    -consensus:features ${run}/combined.features.csv \\\n",
    "    -consensus:elements ${run}/combined.elements.csv \\\n",
    "    -consensus:centroids ${run}/combined.centroids.csv"
   ]
  },
  {
   "cell_type": "markdown",
   "metadata": {},
   "source": [
    "Not sure why, but the `combined.features.csv` file included extra empty fields with numbers beyond the actual sample range. These are omitted here, but should probably be remedied upstreams instead."
   ]
  },
  {
   "cell_type": "code",
   "execution_count": null,
   "metadata": {
    "ExecuteTime": {
     "end_time": "2017-11-06T10:52:19.003582Z",
     "start_time": "2017-11-06T10:52:06.062Z"
    },
    "collapsed": true
   },
   "outputs": [],
   "source": [
    "s_count=$(echo ${samples} | tr \" \" \"\\n\" | wc -l)\n",
    "cut_end=$(echo \"${s_count} * 5 + 9\" | bc)\n",
    "cut -f 1-${cut_end} ${run}/combined.features.csv \\\n",
    "    > ${run}/combined.features.sub.csv"
   ]
  },
  {
   "cell_type": "code",
   "execution_count": null,
   "metadata": {
    "ExecuteTime": {
     "end_time": "2017-11-06T10:52:19.005244Z",
     "start_time": "2017-11-06T10:52:06.065Z"
    }
   },
   "outputs": [],
   "source": [
    "util_scripts/openms_to_normalyzer.py \\\n",
    "    -i ${run}/combined.features.sub.csv \\\n",
    "    -o ${run}/combined.final.tsv \\\n",
    "    --design ${run}/design.tsv"
   ]
  }
 ],
 "metadata": {
  "kernelspec": {
   "display_name": "Bash",
   "language": "bash",
   "name": "bash"
  },
  "language_info": {
   "codemirror_mode": "shell",
   "file_extension": ".sh",
   "mimetype": "text/x-sh",
   "name": "bash"
  },
  "toc": {
   "colors": {
    "hover_highlight": "#DAA520",
    "running_highlight": "#FF0000",
    "selected_highlight": "#FFD700"
   },
   "moveMenuLeft": true,
   "nav_menu": {
    "height": "120px",
    "width": "252px"
   },
   "navigate_menu": true,
   "number_sections": true,
   "sideBar": false,
   "threshold": 4,
   "toc_cell": true,
   "toc_section_display": "block",
   "toc_window_display": true,
   "widenNotebook": false
  }
 },
 "nbformat": 4,
 "nbformat_minor": 2
}
