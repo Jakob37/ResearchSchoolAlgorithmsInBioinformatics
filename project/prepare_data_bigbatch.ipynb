{
 "cells": [
  {
   "cell_type": "markdown",
   "metadata": {
    "toc": "true"
   },
   "source": [
    "# Table of Contents\n",
    " <p><div class=\"lev1 toc-item\"><a href=\"#Introduction\" data-toc-modified-id=\"Introduction-1\"><span class=\"toc-item-num\">1&nbsp;&nbsp;</span>Introduction</a></div><div class=\"lev2 toc-item\"><a href=\"#Generating-base-FASTA-with-intensities\" data-toc-modified-id=\"Generating-base-FASTA-with-intensities-11\"><span class=\"toc-item-num\">1.1&nbsp;&nbsp;</span>Generating base-FASTA with intensities</a></div><div class=\"lev2 toc-item\"><a href=\"#Simulating-and-quantifying-the-data\" data-toc-modified-id=\"Simulating-and-quantifying-the-data-12\"><span class=\"toc-item-num\">1.2&nbsp;&nbsp;</span>Simulating and quantifying the data</a></div><div class=\"lev2 toc-item\"><a href=\"#Generating-intensity-matrix\" data-toc-modified-id=\"Generating-intensity-matrix-13\"><span class=\"toc-item-num\">1.3&nbsp;&nbsp;</span>Generating intensity matrix</a></div><div class=\"lev2 toc-item\"><a href=\"#Dependencies\" data-toc-modified-id=\"Dependencies-14\"><span class=\"toc-item-num\">1.4&nbsp;&nbsp;</span>Dependencies</a></div><div class=\"lev1 toc-item\"><a href=\"#Prepare-for-simulation\" data-toc-modified-id=\"Prepare-for-simulation-2\"><span class=\"toc-item-num\">2&nbsp;&nbsp;</span>Prepare for simulation</a></div><div class=\"lev2 toc-item\"><a href=\"#Setup\" data-toc-modified-id=\"Setup-21\"><span class=\"toc-item-num\">2.1&nbsp;&nbsp;</span>Setup</a></div><div class=\"lev2 toc-item\"><a href=\"#Prepare-design-matrix\" data-toc-modified-id=\"Prepare-design-matrix-22\"><span class=\"toc-item-num\">2.2&nbsp;&nbsp;</span>Prepare design matrix</a></div><div class=\"lev3 toc-item\"><a href=\"#Setup-variables-with-sample-names\" data-toc-modified-id=\"Setup-variables-with-sample-names-221\"><span class=\"toc-item-num\">2.2.1&nbsp;&nbsp;</span>Setup variables with sample names</a></div><div class=\"lev2 toc-item\"><a href=\"#Generate-intensity-annotated-FASTA\" data-toc-modified-id=\"Generate-intensity-annotated-FASTA-23\"><span class=\"toc-item-num\">2.3&nbsp;&nbsp;</span>Generate intensity-annotated FASTA</a></div><div class=\"lev1 toc-item\"><a href=\"#Simulate-MS-data\" data-toc-modified-id=\"Simulate-MS-data-3\"><span class=\"toc-item-num\">3&nbsp;&nbsp;</span>Simulate MS-data</a></div><div class=\"lev1 toc-item\"><a href=\"#Quantification\" data-toc-modified-id=\"Quantification-4\"><span class=\"toc-item-num\">4&nbsp;&nbsp;</span>Quantification</a></div><div class=\"lev2 toc-item\"><a href=\"#Prepare-quantity-matrix\" data-toc-modified-id=\"Prepare-quantity-matrix-41\"><span class=\"toc-item-num\">4.1&nbsp;&nbsp;</span>Prepare quantity matrix</a></div>"
   ]
  },
  {
   "cell_type": "markdown",
   "metadata": {},
   "source": [
    "# Introduction\n",
    "\n",
    "## Generating base-FASTA with intensities\n",
    "\n",
    "The purpose with this notebook is to generate a simulated proteomics label-free quantification dataset. This is done by first generating a FASTA-file with headers in the following format:\n",
    "\n",
    "```\n",
    ">sp|P75925|C56I_ECOLI [# intensity=974548.6052639355 #]\n",
    "MSFTNTPERYGVISAAFHWLSAIIVYGMFALGLWMVTLSYYDGWYHKAPELHKSIGILLM\n",
    "```\n",
    "\n",
    "The FASTA is generated from two separate FASTA files where entries in the first is used as background while entries from the second is used as spike-in. The script `lfqtk.py generat_spikein_set` varies intensities on features on the following conditions:\n",
    "\n",
    "* A base-line intensity is set (on protein level)\n",
    "* For the spike-in data intensities are set based on the base intensity times a sample-specific fold change\n",
    "* The batch effect is applied as a constant intensity shift for all proteins in particular samples\n",
    "* A random noise factor is applied\n",
    "\n",
    "As this is performed on protein level intensities will be varying between peptides.\n",
    "\n",
    "## Simulating and quantifying the data\n",
    "\n",
    "Simulation of the data is performed using the OpenMS tool `MSSimulator`. The simulation is performed using default settings and output is received in `featureXML` format. The features in this files are linked to the identities of the entries used to generate the features.\n",
    "\n",
    "The quantification is performed using the OpenMS tool `ProteinQuantifier`, which is ran with default settings. Quantification is only performed on peptide level.\n",
    "\n",
    "## Generating intensity matrix\n",
    "\n",
    "The final step is to merge the resulting tab-delimited files from the quantification step to a matrix representing the intensities for each peptide/sample. This is performed with a custom script `combine_quant_pd.py` which simply links intensities from identical peptide + protein identification. This is reasonable here as we know that the identifications are correct and unique from the simulated data.\n",
    "\n",
    "## Dependencies\n",
    "\n",
    "To run this notebook, the following dependencies are required. For demonstration purposes, resulting data files are included in the repository meaning that the analysis itself can be tested independently without running through this notebook.\n",
    "\n",
    "* OpenMS binaries in PATH (version 2.2.0)\n",
    "* Jupyter Bash kernel (https://github.com/takluyver/bash_kernel)\n",
    "* GNU parallel (https://www.gnu.org/software/parallel/)"
   ]
  },
  {
   "cell_type": "markdown",
   "metadata": {},
   "source": [
    "# Prepare for simulation"
   ]
  },
  {
   "cell_type": "markdown",
   "metadata": {},
   "source": [
    "## Setup"
   ]
  },
  {
   "cell_type": "code",
   "execution_count": 1,
   "metadata": {
    "ExecuteTime": {
     "end_time": "2017-11-13T11:45:59.022649Z",
     "start_time": "2017-11-13T12:45:58.812680+01:00"
    }
   },
   "outputs": [
    {
     "name": "stdout",
     "output_type": "stream",
     "text": [
      "mkdir: cannot create directory ‘batch_harddata’: File exists\n"
     ]
    },
    {
     "ename": "",
     "evalue": "1",
     "output_type": "error",
     "traceback": []
    }
   ],
   "source": [
    "threads=7\n",
    "run=batch_harddata\n",
    "mkdir ${run}"
   ]
  },
  {
   "cell_type": "markdown",
   "metadata": {},
   "source": [
    "## Prepare design matrix\n",
    "\n",
    "This tab separated file contains information about each sample that will be generated - Which spike-in condition it belongs to and in which batch the sample was processed.\n",
    "\n",
    "This design matrix is also used in the analysis step together with the resulting intensity matrix."
   ]
  },
  {
   "cell_type": "code",
   "execution_count": 2,
   "metadata": {
    "ExecuteTime": {
     "end_time": "2017-11-13T11:46:12.363202Z",
     "start_time": "2017-11-13T12:46:11.746144+01:00"
    }
   },
   "outputs": [],
   "source": [
    "echo -e \"name\\tbiorepgroup\\ttechrepgroup\\tcondition\\tbatch\" > ${run}/design.tsv\n",
    "echo -e \"a1\\t1\\t1\\ta\\t1\" >> ${run}/design.tsv\n",
    "echo -e \"a2\\t2\\t1\\ta\\t1\" >> ${run}/design.tsv\n",
    "echo -e \"a3\\t3\\t1\\ta\\t1\" >> ${run}/design.tsv\n",
    "echo -e \"a4\\t4\\t1\\ta\\t2\" >> ${run}/design.tsv\n",
    "echo -e \"a5\\t5\\t1\\ta\\t2\" >> ${run}/design.tsv\n",
    "echo -e \"b1\\t1\\t1\\tb\\t1\" >> ${run}/design.tsv\n",
    "echo -e \"b2\\t2\\t1\\tb\\t1\" >> ${run}/design.tsv\n",
    "echo -e \"b3\\t3\\t1\\tb\\t1\" >> ${run}/design.tsv\n",
    "echo -e \"b4\\t4\\t1\\tb\\t2\" >> ${run}/design.tsv\n",
    "echo -e \"b5\\t5\\t1\\tb\\t2\" >> ${run}/design.tsv\n"
   ]
  },
  {
   "cell_type": "code",
   "execution_count": 3,
   "metadata": {
    "ExecuteTime": {
     "end_time": "2017-11-13T11:46:12.478750Z",
     "start_time": "2017-11-13T12:46:12.366701+01:00"
    }
   },
   "outputs": [
    {
     "name": "stdout",
     "output_type": "stream",
     "text": [
      "name\tbiorepgroup\ttechrepgroup\tcondition\tbatch\n",
      "a1\t1\t1\ta\t1\n",
      "a2\t2\t1\ta\t1\n",
      "a3\t3\t1\ta\t1\n",
      "a4\t4\t1\ta\t2\n",
      "a5\t5\t1\ta\t2\n",
      "b1\t1\t1\tb\t1\n",
      "b2\t2\t1\tb\t1\n",
      "b3\t3\t1\tb\t1\n",
      "b4\t4\t1\tb\t2\n",
      "b5\t5\t1\tb\t2\n"
     ]
    }
   ],
   "source": [
    "cat ${run}/design.tsv"
   ]
  },
  {
   "cell_type": "markdown",
   "metadata": {},
   "source": [
    "### Setup variables with sample names\n",
    "\n",
    "A string with the sample names and a string with comma-delimited filenames are generated."
   ]
  },
  {
   "cell_type": "code",
   "execution_count": 4,
   "metadata": {
    "ExecuteTime": {
     "end_time": "2017-11-13T11:46:13.110916Z",
     "start_time": "2017-11-13T12:46:12.480309+01:00"
    }
   },
   "outputs": [
    {
     "name": "stdout",
     "output_type": "stream",
     "text": [
      "a1 a2 a3 a4 a5 b1 b2 b3 b4 b5\n",
      "a1.fa,a2.fa,a3.fa,a4.fa,a5.fa,b1.fa,b2.fa,b3.fa,b4.fa,b5.fa\n",
      "1 2 3 4 5 1 2 3 4 5\n"
     ]
    }
   ],
   "source": [
    "sample_names=$(cut -f1 ${run}/design.tsv \\\n",
    "    | tr \"\\n\" \" \" | cut -f2- -d\" \")\n",
    "file_names=$(cut -f1 ${run}/design.tsv \\\n",
    "    | tr \"\\n\" \" \" | cut -f2- -d\" \" \\\n",
    "    | sed \"s/ /.fa,/g\" | sed \"s/,$//\")\n",
    "batch=$(cut -f2 ${run}/design.tsv | tr \"\\n\" \" \" \\\n",
    "    | cut -f2- -d\" \")\n",
    "\n",
    "echo ${sample_names}\n",
    "echo ${file_names}\n",
    "echo ${batch}"
   ]
  },
  {
   "cell_type": "markdown",
   "metadata": {},
   "source": [
    "## Generate intensity-annotated FASTA\n",
    "\n",
    "We generate a FASTA file containing both background and spike-in entries."
   ]
  },
  {
   "cell_type": "code",
   "execution_count": 5,
   "metadata": {
    "ExecuteTime": {
     "end_time": "2017-11-13T11:46:14.295530Z",
     "start_time": "2017-11-13T12:46:13.114376+01:00"
    }
   },
   "outputs": [
    {
     "name": "stdout",
     "output_type": "stream",
     "text": [
      "4436 entries loaded from data/uniprot_ecoli.pure.fasta as background\n",
      "403 entries loaded from data/uniprot_potato.pure.fasta as spike-in\n",
      "50 entries picked as background, 10 as spike-in\n",
      "60 entries written to batch_harddata/a1.fa\n",
      "50 entries picked as background, 10 as spike-in\n",
      "60 entries written to batch_harddata/a2.fa\n",
      "50 entries picked as background, 10 as spike-in\n",
      "60 entries written to batch_harddata/a3.fa\n",
      "50 entries picked as background, 10 as spike-in\n",
      "60 entries written to batch_harddata/a4.fa\n",
      "50 entries picked as background, 10 as spike-in\n",
      "60 entries written to batch_harddata/a5.fa\n",
      "50 entries picked as background, 10 as spike-in\n",
      "60 entries written to batch_harddata/b1.fa\n",
      "50 entries picked as background, 10 as spike-in\n",
      "60 entries written to batch_harddata/b2.fa\n",
      "50 entries picked as background, 10 as spike-in\n",
      "60 entries written to batch_harddata/b3.fa\n",
      "50 entries picked as background, 10 as spike-in\n",
      "60 entries written to batch_harddata/b4.fa\n",
      "50 entries picked as background, 10 as spike-in\n",
      "60 entries written to batch_harddata/b5.fa\n"
     ]
    }
   ],
   "source": [
    "python3 util_scripts/lfqtk_orig/lfqtk.py generate_spikein_set \\\n",
    "    --background_fa data/uniprot_ecoli.pure.fasta \\\n",
    "    --spikein_fa data/uniprot_potato.pure.fasta \\\n",
    "    --offset_mean 8000000 \\\n",
    "    --offset_std 0 \\\n",
    "    --base_int 1000000 \\\n",
    "    --noise_std 200000 \\\n",
    "    --back_count 50 \\\n",
    "    --spike_count 10 \\\n",
    "    --spike_folds \"1,1,1,1,1,2,2,2,2,2\" \\\n",
    "    --offset_folds \"0,0,0,1,1,0,0,0,1,1\" \\\n",
    "    --out_base ${run} \\\n",
    "    --sample_names ${file_names} \\\n",
    "    --verbose"
   ]
  },
  {
   "cell_type": "markdown",
   "metadata": {},
   "source": [
    "# Simulate MS-data\n",
    "\n",
    "Generate the OpenMS tool `MSSimulator` using the generated FASTA files with assigned intensities. The used output is in `featureXML`-format which contains the annotation for the entry from which it was derived as well as intensity values that could be used for downstream quantification."
   ]
  },
  {
   "cell_type": "code",
   "execution_count": 6,
   "metadata": {
    "ExecuteTime": {
     "end_time": "2017-11-13T11:47:08.398863Z",
     "start_time": "2017-11-13T12:46:14.297269+01:00"
    }
   },
   "outputs": [
    {
     "name": "stdout",
     "output_type": "stream",
     "text": [
      "Processing a2\n",
      "Loading sequence data from batch_harddata/a2.fa ...\n",
      "done (60 protein(s) loaded)\n",
      "Starting simulation\n",
      "2017/11/13, 12:46:14: Digest Simulation ... started\n",
      "2017/11/13, 12:46:14: RT Simulation ... started\n",
      "2017/11/13, 12:46:17: Predicting RT ... done\n",
      "2017/11/13, 12:46:17: RT prediction gave 'invalid' results for 1700 peptide(s), making them unobservable.\n",
      "2017/11/13, 12:46:17:   (List is too big to show)\n",
      "2017/11/13, 12:46:17: Creating experiment with #501 scans ... done\n",
      "2017/11/13, 12:46:17: Detectability Simulation ... started\n",
      "2017/11/13, 12:46:17: Ionization Simulation ... started\n",
      "esi_impurity_probabilities_[0]: 1\n",
      "weights[0]: 10\n",
      "2017/11/13, 12:46:17: Simulating 1957 features\n",
      "Progress of 'Ionization':\n",
      "-- done [took 10.28 s (CPU), 10.28 s (Wall)] -- \n",
      "2017/11/13, 12:46:27: #Peptides not ionized: 0\n",
      "2017/11/13, 12:46:27: #Peptides outside mz range: 729\n",
      "2017/11/13, 12:46:27: Raw MS1 Simulation ... started\n",
      "2017/11/13, 12:46:27:   Simulating signal for 5469 features ...\n",
      "Progress of 'RawMSSignal':\n",
      "-- done [took 5.20 s (CPU), 5.24 s (Wall)] -- \n",
      "2017/11/13, 12:46:33: Contaminants out-of-RT-range: 204 / 486\n",
      "2017/11/13, 12:46:33: Contaminants out-of-MZ-range: 111 / 486\n",
      "2017/11/13, 12:46:34: Compressed data to grid ... 10061501 --> 9006677 (89%)\n",
      "2017/11/13, 12:46:34: Adding white noise to spectra ...\n",
      "2017/11/13, 12:46:34: Adding detector noise to spectra ...\n",
      "2017/11/13, 12:46:34: Detector noise was disabled.\n",
      "2017/11/13, 12:46:35: Tandem MS Simulation ... disabled\n",
      "2017/11/13, 12:46:35: Final number of simulated features: 5469\n",
      "2017/11/13, 12:46:35: Simulation took 20.651589 seconds\n",
      "2017/11/13, 12:46:35: Storing simulated features in: batch_harddata/a2.ground.featureXML\n",
      "2017/11/13, 12:46:36: MSSimulator took 21.50 s (wall), 21.40 s (CPU), 0.00 s (system), 21.40 s (user).\n",
      "Processing a5\n",
      "Loading sequence data from batch_harddata/a5.fa ...\n",
      "done (60 protein(s) loaded)\n",
      "Starting simulation\n",
      "2017/11/13, 12:46:14: Digest Simulation ... started\n",
      "2017/11/13, 12:46:14: RT Simulation ... started\n",
      "2017/11/13, 12:46:17: Predicting RT ... done\n",
      "2017/11/13, 12:46:17: RT prediction gave 'invalid' results for 1700 peptide(s), making them unobservable.\n",
      "2017/11/13, 12:46:17:   (List is too big to show)\n",
      "2017/11/13, 12:46:17: Creating experiment with #501 scans ... done\n",
      "2017/11/13, 12:46:17: Detectability Simulation ... started\n",
      "2017/11/13, 12:46:17: Ionization Simulation ... started\n",
      "esi_impurity_probabilities_[0]: 1\n",
      "weights[0]: 10\n",
      "2017/11/13, 12:46:17: Simulating 1957 features\n",
      "Progress of 'Ionization':\n",
      "-- done [took 18.59 s (CPU), 18.63 s (Wall)] -- \n",
      "2017/11/13, 12:46:36: #Peptides not ionized: 0\n",
      "2017/11/13, 12:46:36: #Peptides outside mz range: 727\n",
      "2017/11/13, 12:46:36: Raw MS1 Simulation ... started\n",
      "2017/11/13, 12:46:36:   Simulating signal for 5471 features ...\n",
      "Progress of 'RawMSSignal':\n",
      "-- done [took 6.08 s (CPU), 6.12 s (Wall)] -- \n",
      "2017/11/13, 12:46:43: Contaminants out-of-RT-range: 204 / 486\n",
      "2017/11/13, 12:46:43: Contaminants out-of-MZ-range: 111 / 486\n",
      "2017/11/13, 12:46:44: Compressed data to grid ... 10065621 --> 9010022 (89%)\n",
      "2017/11/13, 12:46:44: Adding white noise to spectra ...\n",
      "2017/11/13, 12:46:44: Adding detector noise to spectra ...\n",
      "2017/11/13, 12:46:44: Detector noise was disabled.\n",
      "2017/11/13, 12:46:44: Tandem MS Simulation ... disabled\n",
      "2017/11/13, 12:46:44: Final number of simulated features: 5471\n",
      "2017/11/13, 12:46:44: Simulation took 30.21297 seconds\n",
      "2017/11/13, 12:46:44: Storing simulated features in: batch_harddata/a5.ground.featureXML\n",
      "2017/11/13, 12:46:45: MSSimulator took 30.70 s (wall), 30.54 s (CPU), 0.00 s (system), 30.54 s (user).\n",
      "Processing a1\n",
      "Loading sequence data from batch_harddata/a1.fa ...\n",
      "done (60 protein(s) loaded)\n",
      "Starting simulation\n",
      "2017/11/13, 12:46:14: Digest Simulation ... started\n",
      "2017/11/13, 12:46:14: RT Simulation ... started\n",
      "2017/11/13, 12:46:17: Predicting RT ... done\n",
      "2017/11/13, 12:46:17: RT prediction gave 'invalid' results for 1700 peptide(s), making them unobservable.\n",
      "2017/11/13, 12:46:17:   (List is too big to show)\n",
      "2017/11/13, 12:46:17: Creating experiment with #501 scans ... done\n",
      "2017/11/13, 12:46:17: Detectability Simulation ... started\n",
      "2017/11/13, 12:46:17: Ionization Simulation ... started\n",
      "esi_impurity_probabilities_[0]: 1\n",
      "weights[0]: 10\n",
      "2017/11/13, 12:46:17: Simulating 1957 features\n",
      "Progress of 'Ionization':\n",
      "-- done [took 18.37 s (CPU), 18.40 s (Wall)] -- \n",
      "2017/11/13, 12:46:35: #Peptides not ionized: 0\n",
      "2017/11/13, 12:46:35: #Peptides outside mz range: 729\n",
      "2017/11/13, 12:46:35: Raw MS1 Simulation ... started\n",
      "2017/11/13, 12:46:35:   Simulating signal for 5473 features ...\n",
      "Progress of 'RawMSSignal':\n",
      "-- done [took 7.65 s (CPU), 7.69 s (Wall)] -- \n",
      "2017/11/13, 12:46:44: Contaminants out-of-RT-range: 204 / 486\n",
      "2017/11/13, 12:46:44: Contaminants out-of-MZ-range: 111 / 486\n",
      "2017/11/13, 12:46:46: Compressed data to grid ... 10068049 --> 9010864 (89%)\n",
      "2017/11/13, 12:46:46: Adding white noise to spectra ...\n",
      "2017/11/13, 12:46:46: Adding detector noise to spectra ...\n",
      "2017/11/13, 12:46:46: Detector noise was disabled.\n",
      "2017/11/13, 12:46:46: Tandem MS Simulation ... disabled\n",
      "2017/11/13, 12:46:46: Final number of simulated features: 5473\n",
      "2017/11/13, 12:46:46: Simulation took 31.972053 seconds\n",
      "2017/11/13, 12:46:46: Storing simulated features in: batch_harddata/a1.ground.featureXML\n",
      "2017/11/13, 12:46:47: MSSimulator took 32.71 s (wall), 32.55 s (CPU), 0.00 s (system), 32.55 s (user).\n",
      "Processing a3\n",
      "Loading sequence data from batch_harddata/a3.fa ...\n",
      "done (60 protein(s) loaded)\n",
      "Starting simulation\n",
      "2017/11/13, 12:46:14: Digest Simulation ... started\n",
      "2017/11/13, 12:46:14: RT Simulation ... started\n",
      "2017/11/13, 12:46:17: Predicting RT ... done\n",
      "2017/11/13, 12:46:17: RT prediction gave 'invalid' results for 1700 peptide(s), making them unobservable.\n",
      "2017/11/13, 12:46:17:   (List is too big to show)\n",
      "2017/11/13, 12:46:17: Creating experiment with #501 scans ... done\n",
      "2017/11/13, 12:46:17: Detectability Simulation ... started\n",
      "2017/11/13, 12:46:17: Ionization Simulation ... started\n",
      "esi_impurity_probabilities_[0]: 1\n",
      "weights[0]: 10\n",
      "2017/11/13, 12:46:17: Simulating 1957 features\n",
      "Progress of 'Ionization':\n",
      "-- done [took 18.69 s (CPU), 18.70 s (Wall)] -- \n",
      "2017/11/13, 12:46:36: #Peptides not ionized: 0\n",
      "2017/11/13, 12:46:36: #Peptides outside mz range: 729\n",
      "2017/11/13, 12:46:36: Raw MS1 Simulation ... started\n",
      "2017/11/13, 12:46:36:   Simulating signal for 5472 features ...\n",
      "Progress of 'RawMSSignal':\n",
      "-- done [took 7.75 s (CPU), 7.81 s (Wall)] -- \n",
      "2017/11/13, 12:46:45: Contaminants out-of-RT-range: 204 / 486\n",
      "2017/11/13, 12:46:45: Contaminants out-of-MZ-range: 111 / 486\n",
      "2017/11/13, 12:46:47: Compressed data to grid ... 10067775 --> 9010802 (89%)\n",
      "2017/11/13, 12:46:47: Adding white noise to spectra ...\n",
      "2017/11/13, 12:46:47: Adding detector noise to spectra ...\n",
      "2017/11/13, 12:46:47: Detector noise was disabled.\n",
      "2017/11/13, 12:46:47: Tandem MS Simulation ... disabled\n",
      "2017/11/13, 12:46:47: Final number of simulated features: 5472\n",
      "2017/11/13, 12:46:47: Simulation took 32.75916 seconds\n",
      "2017/11/13, 12:46:47: Storing simulated features in: batch_harddata/a3.ground.featureXML\n",
      "2017/11/13, 12:46:48: MSSimulator took 33.41 s (wall), 33.26 s (CPU), 0.00 s (system), 33.26 s (user).\n",
      "Processing a4\n",
      "Loading sequence data from batch_harddata/a4.fa ...\n",
      "done (60 protein(s) loaded)\n",
      "Starting simulation\n",
      "2017/11/13, 12:46:14: Digest Simulation ... started\n",
      "2017/11/13, 12:46:14: RT Simulation ... started\n",
      "2017/11/13, 12:46:17: Predicting RT ... done\n",
      "2017/11/13, 12:46:17: RT prediction gave 'invalid' results for 1700 peptide(s), making them unobservable.\n",
      "2017/11/13, 12:46:17:   (List is too big to show)\n",
      "2017/11/13, 12:46:17: Creating experiment with #501 scans ... done\n",
      "2017/11/13, 12:46:17: Detectability Simulation ... started\n",
      "2017/11/13, 12:46:17: Ionization Simulation ... started\n",
      "esi_impurity_probabilities_[0]: 1\n",
      "weights[0]: 10\n",
      "2017/11/13, 12:46:17: Simulating 1957 features\n",
      "Progress of 'Ionization':\n",
      "-- done [took 19.23 s (CPU), 19.24 s (Wall)] -- \n",
      "2017/11/13, 12:46:37: #Peptides not ionized: 0\n",
      "2017/11/13, 12:46:37: #Peptides outside mz range: 725\n",
      "2017/11/13, 12:46:37: Raw MS1 Simulation ... started\n",
      "2017/11/13, 12:46:37:   Simulating signal for 5471 features ...\n",
      "Progress of 'RawMSSignal':\n",
      "-- done [took 7.31 s (CPU), 7.37 s (Wall)] -- \n"
     ]
    },
    {
     "name": "stdout",
     "output_type": "stream",
     "text": [
      "2017/11/13, 12:46:45: Contaminants out-of-RT-range: 204 / 486\n",
      "2017/11/13, 12:46:45: Contaminants out-of-MZ-range: 111 / 486\n",
      "2017/11/13, 12:46:47: Compressed data to grid ... 10065756 --> 9008508 (89%)\n",
      "2017/11/13, 12:46:47: Adding white noise to spectra ...\n",
      "2017/11/13, 12:46:47: Adding detector noise to spectra ...\n",
      "2017/11/13, 12:46:47: Detector noise was disabled.\n",
      "2017/11/13, 12:46:47: Tandem MS Simulation ... disabled\n",
      "2017/11/13, 12:46:47: Final number of simulated features: 5471\n",
      "2017/11/13, 12:46:47: Simulation took 32.85211 seconds\n",
      "2017/11/13, 12:46:47: Storing simulated features in: batch_harddata/a4.ground.featureXML\n",
      "2017/11/13, 12:46:48: MSSimulator took 33.44 s (wall), 33.31 s (CPU), 0.00 s (system), 33.31 s (user).\n",
      "Processing b1\n",
      "Loading sequence data from batch_harddata/b1.fa ...\n",
      "done (60 protein(s) loaded)\n",
      "Starting simulation\n",
      "2017/11/13, 12:46:14: Digest Simulation ... started\n",
      "2017/11/13, 12:46:14: RT Simulation ... started\n",
      "2017/11/13, 12:46:17: Predicting RT ... done\n",
      "2017/11/13, 12:46:17: RT prediction gave 'invalid' results for 1700 peptide(s), making them unobservable.\n",
      "2017/11/13, 12:46:17:   (List is too big to show)\n",
      "2017/11/13, 12:46:17: Creating experiment with #501 scans ... done\n",
      "2017/11/13, 12:46:17: Detectability Simulation ... started\n",
      "2017/11/13, 12:46:17: Ionization Simulation ... started\n",
      "esi_impurity_probabilities_[0]: 1\n",
      "weights[0]: 10\n",
      "2017/11/13, 12:46:17: Simulating 1957 features\n",
      "Progress of 'Ionization':\n",
      "-- done [took 18.68 s (CPU), 18.71 s (Wall)] -- \n",
      "2017/11/13, 12:46:36: #Peptides not ionized: 0\n",
      "2017/11/13, 12:46:36: #Peptides outside mz range: 728\n",
      "2017/11/13, 12:46:36: Raw MS1 Simulation ... started\n",
      "2017/11/13, 12:46:36:   Simulating signal for 5472 features ...\n",
      "Progress of 'RawMSSignal':\n",
      "-- done [took 7.65 s (CPU), 7.74 s (Wall)] -- \n",
      "2017/11/13, 12:46:45: Contaminants out-of-RT-range: 204 / 486\n",
      "2017/11/13, 12:46:45: Contaminants out-of-MZ-range: 111 / 486\n",
      "2017/11/13, 12:46:47: Compressed data to grid ... 10067271 --> 9009953 (89%)\n",
      "2017/11/13, 12:46:47: Adding white noise to spectra ...\n",
      "2017/11/13, 12:46:47: Adding detector noise to spectra ...\n",
      "2017/11/13, 12:46:47: Detector noise was disabled.\n",
      "2017/11/13, 12:46:47: Tandem MS Simulation ... disabled\n",
      "2017/11/13, 12:46:47: Final number of simulated features: 5472\n",
      "2017/11/13, 12:46:47: Simulation took 32.767624 seconds\n",
      "2017/11/13, 12:46:47: Storing simulated features in: batch_harddata/b1.ground.featureXML\n",
      "2017/11/13, 12:46:48: MSSimulator took 33.28 s (wall), 33.09 s (CPU), 0.00 s (system), 33.09 s (user).\n",
      "Processing b2\n",
      "Loading sequence data from batch_harddata/b2.fa ...\n",
      "done (60 protein(s) loaded)\n",
      "Starting simulation\n",
      "2017/11/13, 12:46:14: Digest Simulation ... started\n",
      "2017/11/13, 12:46:14: RT Simulation ... started\n",
      "2017/11/13, 12:46:17: Predicting RT ... done\n",
      "2017/11/13, 12:46:17: RT prediction gave 'invalid' results for 1700 peptide(s), making them unobservable.\n",
      "2017/11/13, 12:46:17:   (List is too big to show)\n",
      "2017/11/13, 12:46:17: Creating experiment with #501 scans ... done\n",
      "2017/11/13, 12:46:17: Detectability Simulation ... started\n",
      "2017/11/13, 12:46:17: Ionization Simulation ... started\n",
      "esi_impurity_probabilities_[0]: 1\n",
      "weights[0]: 10\n",
      "2017/11/13, 12:46:17: Simulating 1957 features\n",
      "Progress of 'Ionization':\n",
      "-- done [took 18.61 s (CPU), 18.64 s (Wall)] -- \n",
      "2017/11/13, 12:46:36: #Peptides not ionized: 0\n",
      "2017/11/13, 12:46:36: #Peptides outside mz range: 726\n",
      "2017/11/13, 12:46:36: Raw MS1 Simulation ... started\n",
      "2017/11/13, 12:46:36:   Simulating signal for 5471 features ...\n",
      "Progress of 'RawMSSignal':\n",
      "-- done [took 7.94 s (CPU), 8.04 s (Wall)] -- \n",
      "2017/11/13, 12:46:45: Contaminants out-of-RT-range: 204 / 486\n",
      "2017/11/13, 12:46:45: Contaminants out-of-MZ-range: 111 / 486\n",
      "2017/11/13, 12:46:47: Compressed data to grid ... 10065643 --> 9009989 (89%)\n",
      "2017/11/13, 12:46:47: Adding white noise to spectra ...\n",
      "2017/11/13, 12:46:47: Adding detector noise to spectra ...\n",
      "2017/11/13, 12:46:47: Detector noise was disabled.\n",
      "2017/11/13, 12:46:47: Tandem MS Simulation ... disabled\n",
      "2017/11/13, 12:46:47: Final number of simulated features: 5471\n",
      "2017/11/13, 12:46:47: Simulation took 32.865855 seconds\n",
      "2017/11/13, 12:46:47: Storing simulated features in: batch_harddata/b2.ground.featureXML\n",
      "2017/11/13, 12:46:48: MSSimulator took 33.56 s (wall), 33.34 s (CPU), 0.00 s (system), 33.34 s (user).\n",
      "Processing b3\n",
      "Loading sequence data from batch_harddata/b3.fa ...\n",
      "done (60 protein(s) loaded)\n",
      "Starting simulation\n",
      "2017/11/13, 12:46:37: Digest Simulation ... started\n",
      "2017/11/13, 12:46:37: RT Simulation ... started\n",
      "2017/11/13, 12:46:39: Predicting RT ... done\n",
      "2017/11/13, 12:46:39: RT prediction gave 'invalid' results for 1695 peptide(s), making them unobservable.\n",
      "2017/11/13, 12:46:39:   (List is too big to show)\n",
      "2017/11/13, 12:46:40: Creating experiment with #501 scans ... done\n",
      "2017/11/13, 12:46:40: Detectability Simulation ... started\n",
      "2017/11/13, 12:46:40: Ionization Simulation ... started\n",
      "esi_impurity_probabilities_[0]: 1\n",
      "weights[0]: 10\n",
      "2017/11/13, 12:46:40: Simulating 1962 features\n",
      "Progress of 'Ionization':\n",
      "-- done [took 13.54 s (CPU), 13.62 s (Wall)] -- \n",
      "2017/11/13, 12:46:53: #Peptides not ionized: 0\n",
      "2017/11/13, 12:46:53: #Peptides outside mz range: 737\n",
      "2017/11/13, 12:46:53: Raw MS1 Simulation ... started\n",
      "2017/11/13, 12:46:53:   Simulating signal for 5480 features ...\n",
      "Progress of 'RawMSSignal':\n",
      "-- done [took 4.90 s (CPU), 4.95 s (Wall)] -- \n",
      "2017/11/13, 12:46:59: Contaminants out-of-RT-range: 204 / 486\n",
      "2017/11/13, 12:46:59: Contaminants out-of-MZ-range: 111 / 486\n",
      "2017/11/13, 12:47:00: Compressed data to grid ... 10059234 --> 9003826 (89%)\n",
      "2017/11/13, 12:47:00: Adding white noise to spectra ...\n",
      "2017/11/13, 12:47:00: Adding detector noise to spectra ...\n",
      "2017/11/13, 12:47:00: Detector noise was disabled.\n",
      "2017/11/13, 12:47:00: Tandem MS Simulation ... disabled\n",
      "2017/11/13, 12:47:00: Final number of simulated features: 5480\n",
      "2017/11/13, 12:47:00: Simulation took 23.618453 seconds\n",
      "2017/11/13, 12:47:00: Storing simulated features in: batch_harddata/b3.ground.featureXML\n",
      "2017/11/13, 12:47:01: MSSimulator took 24.07 s (wall), 23.90 s (CPU), 0.00 s (system), 23.90 s (user).\n",
      "Processing b4\n",
      "Loading sequence data from batch_harddata/b4.fa ...\n",
      "done (60 protein(s) loaded)\n",
      "Starting simulation\n",
      "2017/11/13, 12:46:46: Digest Simulation ... started\n",
      "2017/11/13, 12:46:46: RT Simulation ... started\n",
      "2017/11/13, 12:46:48: Predicting RT ... done\n",
      "2017/11/13, 12:46:48: RT prediction gave 'invalid' results for 1697 peptide(s), making them unobservable.\n",
      "2017/11/13, 12:46:48:   (List is too big to show)\n",
      "2017/11/13, 12:46:48: Creating experiment with #501 scans ... done\n",
      "2017/11/13, 12:46:48: Detectability Simulation ... started\n",
      "2017/11/13, 12:46:48: Ionization Simulation ... started\n",
      "esi_impurity_probabilities_[0]: 1\n",
      "weights[0]: 10\n",
      "2017/11/13, 12:46:48: Simulating 1960 features\n",
      "Progress of 'Ionization':\n",
      "-- done [took 10.57 s (CPU), 10.58 s (Wall)] -- \n",
      "2017/11/13, 12:46:59: #Peptides not ionized: 0\n",
      "2017/11/13, 12:46:59: #Peptides outside mz range: 740\n",
      "2017/11/13, 12:46:59: Raw MS1 Simulation ... started\n",
      "2017/11/13, 12:46:59:   Simulating signal for 5477 features ...\n",
      "Progress of 'RawMSSignal':\n",
      "-- done [took 4.94 s (CPU), 4.95 s (Wall)] -- \n",
      "2017/11/13, 12:47:05: Contaminants out-of-RT-range: 204 / 486\n",
      "2017/11/13, 12:47:05: Contaminants out-of-MZ-range: 111 / 486\n",
      "2017/11/13, 12:47:06: Compressed data to grid ... 10027482 --> 8993838 (89%)\n",
      "2017/11/13, 12:47:06: Adding white noise to spectra ...\n",
      "2017/11/13, 12:47:06: Adding detector noise to spectra ...\n",
      "2017/11/13, 12:47:06: Detector noise was disabled.\n",
      "2017/11/13, 12:47:06: Tandem MS Simulation ... disabled\n",
      "2017/11/13, 12:47:06: Final number of simulated features: 5477\n",
      "2017/11/13, 12:47:06: Simulation took 20.246775 seconds\n",
      "2017/11/13, 12:47:06: Storing simulated features in: batch_harddata/b4.ground.featureXML\n",
      "2017/11/13, 12:47:07: MSSimulator took 20.70 s (wall), 20.57 s (CPU), 0.00 s (system), 20.57 s (user).\n",
      "Processing b5\n",
      "Loading sequence data from batch_harddata/b5.fa ...\n",
      "done (60 protein(s) loaded)\n",
      "Starting simulation\n",
      "2017/11/13, 12:46:48: Digest Simulation ... started\n",
      "2017/11/13, 12:46:48: RT Simulation ... started\n",
      "2017/11/13, 12:46:50: Predicting RT ... done\n",
      "2017/11/13, 12:46:50: RT prediction gave 'invalid' results for 1698 peptide(s), making them unobservable.\n"
     ]
    },
    {
     "name": "stdout",
     "output_type": "stream",
     "text": [
      "2017/11/13, 12:46:50:   (List is too big to show)\n",
      "2017/11/13, 12:46:50: Creating experiment with #501 scans ... done\n",
      "2017/11/13, 12:46:50: Detectability Simulation ... started\n",
      "2017/11/13, 12:46:50: Ionization Simulation ... started\n",
      "esi_impurity_probabilities_[0]: 1\n",
      "weights[0]: 10\n",
      "2017/11/13, 12:46:50: Simulating 1959 features\n",
      "Progress of 'Ionization':\n",
      "-- done [took 10.50 s (CPU), 10.51 s (Wall)] -- \n",
      "2017/11/13, 12:47:00: #Peptides not ionized: 0\n",
      "2017/11/13, 12:47:00: #Peptides outside mz range: 739\n",
      "2017/11/13, 12:47:00: Raw MS1 Simulation ... started\n",
      "2017/11/13, 12:47:00:   Simulating signal for 5469 features ...\n",
      "Progress of 'RawMSSignal':\n",
      "-- done [took 4.89 s (CPU), 4.92 s (Wall)] -- \n",
      "2017/11/13, 12:47:06: Contaminants out-of-RT-range: 204 / 486\n",
      "2017/11/13, 12:47:06: Contaminants out-of-MZ-range: 111 / 486\n",
      "2017/11/13, 12:47:07: Compressed data to grid ... 10048179 --> 9019062 (89%)\n",
      "2017/11/13, 12:47:07: Adding white noise to spectra ...\n",
      "2017/11/13, 12:47:07: Adding detector noise to spectra ...\n",
      "2017/11/13, 12:47:07: Detector noise was disabled.\n",
      "2017/11/13, 12:47:07: Tandem MS Simulation ... disabled\n",
      "2017/11/13, 12:47:07: Final number of simulated features: 5469\n",
      "2017/11/13, 12:47:07: Simulation took 19.563597 seconds\n",
      "2017/11/13, 12:47:07: Storing simulated features in: batch_harddata/b5.ground.featureXML\n",
      "2017/11/13, 12:47:08: MSSimulator took 20.01 s (wall), 19.92 s (CPU), 0.00 s (system), 19.92 s (user).\n",
      "\n",
      "real\t0m53.735s\n",
      "user\t4m42.292s\n",
      "sys\t0m1.008s\n"
     ]
    }
   ],
   "source": [
    "time parallel -j ${threads} \\\n",
    "\"echo \\\"Processing {}\\\"\n",
    "MSSimulator \\\n",
    "    -in ${run}/{}.fa \\\n",
    "    -out_fm ${run}/{}.ground.featureXML\" \\\n",
    "    ::: ${sample_names}\n"
   ]
  },
  {
   "cell_type": "markdown",
   "metadata": {},
   "source": [
    "# Quantification\n",
    "\n",
    "Each of the `featureXML` files are quantified using the `ProteinQuantifier` software. "
   ]
  },
  {
   "cell_type": "code",
   "execution_count": 7,
   "metadata": {
    "ExecuteTime": {
     "end_time": "2017-11-13T11:47:21.211227Z",
     "start_time": "2017-11-13T12:47:08.401558+01:00"
    }
   },
   "outputs": [
    {
     "name": "stdout",
     "output_type": "stream",
     "text": [
      "\n",
      "Processing summary - number of...\n",
      "...features: 5473 used for quantification, 5473 total (0 no annotation, 0 ambiguous annotation)\n",
      "...peptides: 1952 quantified, 1952 identified (considering best hits only)\n",
      "ProteinQuantifier took 1.22 s (wall), 1.19 s (CPU), 0.00 s (system), 1.19 s (user).\n",
      "\n",
      "Processing summary - number of...\n",
      "...features: 5469 used for quantification, 5469 total (0 no annotation, 0 ambiguous annotation)\n",
      "...peptides: 1952 quantified, 1952 identified (considering best hits only)\n",
      "ProteinQuantifier took 1.21 s (wall), 1.19 s (CPU), 0.00 s (system), 1.19 s (user).\n",
      "\n",
      "Processing summary - number of...\n",
      "...features: 5472 used for quantification, 5472 total (0 no annotation, 0 ambiguous annotation)\n",
      "...peptides: 1952 quantified, 1952 identified (considering best hits only)\n",
      "ProteinQuantifier took 1.22 s (wall), 1.18 s (CPU), 0.00 s (system), 1.18 s (user).\n",
      "\n",
      "Processing summary - number of...\n",
      "...features: 5471 used for quantification, 5471 total (0 no annotation, 0 ambiguous annotation)\n",
      "...peptides: 1952 quantified, 1952 identified (considering best hits only)\n",
      "ProteinQuantifier took 1.21 s (wall), 1.20 s (CPU), 0.00 s (system), 1.20 s (user).\n",
      "\n",
      "Processing summary - number of...\n",
      "...features: 5471 used for quantification, 5471 total (0 no annotation, 0 ambiguous annotation)\n",
      "...peptides: 1952 quantified, 1952 identified (considering best hits only)\n",
      "ProteinQuantifier took 1.22 s (wall), 1.19 s (CPU), 0.00 s (system), 1.19 s (user).\n",
      "\n",
      "Processing summary - number of...\n",
      "...features: 5472 used for quantification, 5472 total (0 no annotation, 0 ambiguous annotation)\n",
      "...peptides: 1952 quantified, 1952 identified (considering best hits only)\n",
      "ProteinQuantifier took 1.21 s (wall), 1.20 s (CPU), 0.00 s (system), 1.20 s (user).\n",
      "\n",
      "Processing summary - number of...\n",
      "...features: 5471 used for quantification, 5471 total (0 no annotation, 0 ambiguous annotation)\n",
      "...peptides: 1952 quantified, 1952 identified (considering best hits only)\n",
      "ProteinQuantifier took 1.22 s (wall), 1.18 s (CPU), 0.00 s (system), 1.18 s (user).\n",
      "\n",
      "Processing summary - number of...\n",
      "...features: 5480 used for quantification, 5480 total (0 no annotation, 0 ambiguous annotation)\n",
      "...peptides: 1957 quantified, 1957 identified (considering best hits only)\n",
      "ProteinQuantifier took 1.24 s (wall), 1.22 s (CPU), 0.00 s (system), 1.22 s (user).\n",
      "\n",
      "Processing summary - number of...\n",
      "...features: 5477 used for quantification, 5477 total (0 no annotation, 0 ambiguous annotation)\n",
      "...peptides: 1955 quantified, 1955 identified (considering best hits only)\n",
      "ProteinQuantifier took 1.24 s (wall), 1.22 s (CPU), 0.00 s (system), 1.22 s (user).\n",
      "\n",
      "Processing summary - number of...\n",
      "...features: 5469 used for quantification, 5469 total (0 no annotation, 0 ambiguous annotation)\n",
      "...peptides: 1954 quantified, 1954 identified (considering best hits only)\n",
      "ProteinQuantifier took 1.21 s (wall), 1.18 s (CPU), 0.00 s (system), 1.18 s (user).\n"
     ]
    }
   ],
   "source": [
    "for xml in ${run}/*.featureXML; do \n",
    "    ProteinQuantifier \\\n",
    "        -in ${xml} \\\n",
    "        -peptide_out ${xml%.*}.csv\n",
    "done"
   ]
  },
  {
   "cell_type": "markdown",
   "metadata": {},
   "source": [
    "We receive identical peptide setup due to same protein being picked and cleaved (even if intensities varies)."
   ]
  },
  {
   "cell_type": "markdown",
   "metadata": {},
   "source": [
    "## Prepare quantity matrix\n",
    "\n",
    "The resulting quantities for the individual samples are combined into a single feature/sample-intensity matrix."
   ]
  },
  {
   "cell_type": "code",
   "execution_count": 8,
   "metadata": {
    "ExecuteTime": {
     "end_time": "2017-11-13T11:47:21.828519Z",
     "start_time": "2017-11-13T12:47:21.212779+01:00"
    },
    "collapsed": true
   },
   "outputs": [],
   "source": [
    "python3 util_scripts/combine_quant_pd.py \\\n",
    "    --dfs ${run}/*.csv \\\n",
    "    --out_fp ${run}/full_quant.tsv"
   ]
  },
  {
   "cell_type": "code",
   "execution_count": 9,
   "metadata": {
    "ExecuteTime": {
     "end_time": "2017-11-13T11:47:21.992267Z",
     "start_time": "2017-11-13T12:47:21.830810+01:00"
    }
   },
   "outputs": [
    {
     "name": "stdout",
     "output_type": "stream",
     "text": [
      "1947 batch_harddata/full_quant.tsv\n",
      "peptide\tprotein\ta1\ta2\ta3\ta4\ta5\tb1\tb2\tb3\tb4\tb5\n",
      "FCR\tsp|P0A7T7|RS18_ECOLI\t143364100.0\t138053804.0\t183435500.0\t1285064960.0\t1253592992.0\t191191800.0\t69824800.0\t147808600.0\t1276491968.0\t1304431008.0\n",
      "LCR\tsp|Q9JMR4|YUBK_ECOLI\t63306100.0\t35053800.0\t64352500.0\t460408000.0\t466686016.0\t70630800.0\t58335800.0\t70208600.0\t500944992.0\t615046016.0\n",
      "FCQR\tsp|P39357|YJHF_ECOLI\t101330800.0\t157452900.0\t202996400.0\t1325604032.0\t1452273056.0\t227052292.0\t176222800.0\t157744900.0\t1050848032.0\t1091950016.0\n",
      "FLFK\tsp|P34094|PHYB_SOLTU\t102128500.0\t78585800.0\t74083100.0\t792976000.0\t786582016.0\t172088508.0\t152445700.0\t239726808.0\t1574925024.0\t1493992928.0\n",
      "FYLS\tsp|A5A617|YDGU_ECOLI\t68813296.0\t98732200.0\t87036600.0\t663654976.0\t674534016.0\t94788400.0\t66909500.0\t53805200.0\t615339008.0\t721168000.0\n",
      "KFCR\tsp|P0A7T7|RS18_ECOLI\t56455290.0\t55010320.0\t73233220.0\t541506100.0\t503624108.0\t79413414.0\t28419240.0\t59655620.0\t492054516.0\t622462384.0\n",
      "LFLR\tsp|P23840|DIND_ECOLI\t136592300.0\t120737700.0\t85588000.0\t1122587024.0\t1129090976.0\t153966500.0\t147917800.0\t166841100.0\t963284000.0\t1117314016.0\n",
      "AFVLR\tsp|P0ADY1|PPID_ECOLI\t151187000.0\t132369800.0\t131396200.0\t1054716976.0\t1081760960.0\t143098900.0\t101914200.0\t127778900.0\t747431976.0\t1064254976.0\n",
      "CIGCK\tsp|P37127|AEGA_ECOLI\t157001600.0\t160507800.0\t160600600.0\t1161830016.0\t1180088000.0\t134340000.0\t176511508.0\t115053904.0\t938158016.0\t1177622992.0\n"
     ]
    }
   ],
   "source": [
    "wc -l ${run}/full_quant.tsv\n",
    "head ${run}/full_quant.tsv"
   ]
  }
 ],
 "metadata": {
  "kernelspec": {
   "display_name": "Bash",
   "language": "bash",
   "name": "bash"
  },
  "language_info": {
   "codemirror_mode": "shell",
   "file_extension": ".sh",
   "mimetype": "text/x-sh",
   "name": "bash"
  },
  "toc": {
   "colors": {
    "hover_highlight": "#DAA520",
    "running_highlight": "#FF0000",
    "selected_highlight": "#FFD700"
   },
   "moveMenuLeft": true,
   "nav_menu": {
    "height": "120px",
    "width": "252px"
   },
   "navigate_menu": true,
   "number_sections": true,
   "sideBar": false,
   "threshold": 4,
   "toc_cell": true,
   "toc_section_display": "block",
   "toc_window_display": true,
   "widenNotebook": false
  }
 },
 "nbformat": 4,
 "nbformat_minor": 2
}
