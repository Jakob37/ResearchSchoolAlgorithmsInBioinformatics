{
 "cells": [
  {
   "cell_type": "markdown",
   "metadata": {
    "toc": "true"
   },
   "source": [
    "# Table of Contents\n",
    " <p><div class=\"lev1 toc-item\"><a href=\"#Generate-pre-processed-FASTA-files\" data-toc-modified-id=\"Generate-pre-processed-FASTA-files-1\"><span class=\"toc-item-num\">1&nbsp;&nbsp;</span>Generate pre-processed FASTA files</a></div><div class=\"lev2 toc-item\"><a href=\"#Setup\" data-toc-modified-id=\"Setup-11\"><span class=\"toc-item-num\">1.1&nbsp;&nbsp;</span>Setup</a></div><div class=\"lev2 toc-item\"><a href=\"#Prepare-low-spike\" data-toc-modified-id=\"Prepare-low-spike-12\"><span class=\"toc-item-num\">1.2&nbsp;&nbsp;</span>Prepare low-spike</a></div><div class=\"lev2 toc-item\"><a href=\"#Prepare-high-spikes\" data-toc-modified-id=\"Prepare-high-spikes-13\"><span class=\"toc-item-num\">1.3&nbsp;&nbsp;</span>Prepare high-spikes</a></div><div class=\"lev1 toc-item\"><a href=\"#Simulate-MS-data\" data-toc-modified-id=\"Simulate-MS-data-2\"><span class=\"toc-item-num\">2&nbsp;&nbsp;</span>Simulate MS-data</a></div><div class=\"lev1 toc-item\"><a href=\"#Post-process-data\" data-toc-modified-id=\"Post-process-data-3\"><span class=\"toc-item-num\">3&nbsp;&nbsp;</span>Post-process data</a></div>"
   ]
  },
  {
   "cell_type": "markdown",
   "metadata": {},
   "source": [
    "# Generate pre-processed FASTA files\n",
    "\n",
    "Using the custom-made `seqtk generate_spikein.py` script.\n",
    "\n",
    "Dependencies:\n",
    "\n",
    "* OpenMS binaries in PATH (version 2.2.0)"
   ]
  },
  {
   "cell_type": "markdown",
   "metadata": {},
   "source": [
    "## Setup"
   ]
  },
  {
   "cell_type": "code",
   "execution_count": 1,
   "metadata": {
    "ExecuteTime": {
     "end_time": "2017-11-06T13:22:44.953534Z",
     "start_time": "2017-11-06T14:22:44.742192+01:00"
    }
   },
   "outputs": [
    {
     "name": "stdout",
     "output_type": "stream",
     "text": [
      "mkdir: cannot create directory ‘batch11_maybe_final’: File exists\n"
     ]
    },
    {
     "ename": "",
     "evalue": "1",
     "output_type": "error",
     "traceback": []
    }
   ],
   "source": [
    "threads=6\n",
    "run=batch11_maybe_final\n",
    "mkdir ${run}"
   ]
  },
  {
   "cell_type": "code",
   "execution_count": 2,
   "metadata": {
    "ExecuteTime": {
     "end_time": "2017-11-06T13:22:46.160172Z",
     "start_time": "2017-11-06T14:22:45.953859+01:00"
    },
    "collapsed": true
   },
   "outputs": [],
   "source": [
    "sample_names_low=\"l1 l2 l3\"\n",
    "sample_names_high=\"h1 h2 h3\"\n",
    "samples=\"${sample_names_low} ${sample_names_high}\""
   ]
  },
  {
   "cell_type": "code",
   "execution_count": 3,
   "metadata": {
    "ExecuteTime": {
     "end_time": "2017-11-06T13:22:48.170177Z",
     "start_time": "2017-11-06T14:22:47.650061+01:00"
    }
   },
   "outputs": [
    {
     "name": "stdout",
     "output_type": "stream",
     "text": [
      "name\tbiorepgroup\ttechrepgroup\tcondition\n",
      "l1\t1\t1\tlow\n",
      "l2\t2\t1\tlow\n",
      "l3\t3\t1\tlow\n",
      "h1\t1\t1\thigh\n",
      "h2\t2\t1\thigh\n",
      "h3\t3\t1\thigh\n"
     ]
    }
   ],
   "source": [
    "echo -e \"name\\tbiorepgroup\\ttechrepgroup\\tcondition\" > ${run}/design.tsv\n",
    "echo -e \"l1\\t1\\t1\\tlow\" >> ${run}/design.tsv\n",
    "echo -e \"l2\\t2\\t1\\tlow\" >> ${run}/design.tsv\n",
    "echo -e \"l3\\t3\\t1\\tlow\" >> ${run}/design.tsv\n",
    "echo -e \"h1\\t1\\t1\\thigh\" >> ${run}/design.tsv\n",
    "echo -e \"h2\\t2\\t1\\thigh\" >> ${run}/design.tsv\n",
    "echo -e \"h3\\t3\\t1\\thigh\" >> ${run}/design.tsv\n",
    "\n",
    "cat ${run}/design.tsv"
   ]
  },
  {
   "cell_type": "markdown",
   "metadata": {},
   "source": [
    "## Prepare low-spike"
   ]
  },
  {
   "cell_type": "code",
   "execution_count": 4,
   "metadata": {
    "ExecuteTime": {
     "end_time": "2017-11-06T13:22:51.064305Z",
     "start_time": "2017-11-06T14:22:49.899954+01:00"
    }
   },
   "outputs": [
    {
     "name": "stdout",
     "output_type": "stream",
     "text": [
      "4436 entries loaded from data/uniprot_ecoli.pure.fasta as background\n",
      "403 entries loaded from data/uniprot_potato.pure.fasta as spike-in\n",
      "20 entries picked as background, 5 as spike-in\n",
      "25 entries written to batch11_maybe_final/l1.fa\n",
      "20 entries picked as background, 5 as spike-in\n",
      "25 entries written to batch11_maybe_final/l2.fa\n",
      "20 entries picked as background, 5 as spike-in\n",
      "25 entries written to batch11_maybe_final/l3.fa\n",
      "20 entries picked as background, 5 as spike-in\n",
      "25 entries written to batch11_maybe_final/h1.fa\n",
      "20 entries picked as background, 5 as spike-in\n",
      "25 entries written to batch11_maybe_final/h2.fa\n",
      "20 entries picked as background, 5 as spike-in\n",
      "25 entries written to batch11_maybe_final/h3.fa\n"
     ]
    }
   ],
   "source": [
    "lfqtk generate_spikein_set \\\n",
    "    --background_fa data/uniprot_ecoli.pure.fasta \\\n",
    "    --spikein_fa data/uniprot_potato.pure.fasta \\\n",
    "    --offset_mean 0 \\\n",
    "    --offset_std 0 \\\n",
    "    --base_int 1000000 \\\n",
    "    --noise_std 50000 \\\n",
    "    --back_count 20 \\\n",
    "    --spike_count 5 \\\n",
    "    --spike_folds \"1,1,1,8,8,8\" \\\n",
    "    --out_base ${run} \\\n",
    "    --sample_names \"l1.fa,l2.fa,l3.fa,h1.fa,h2.fa,h3.fa\" \\\n",
    "    --verbose"
   ]
  },
  {
   "cell_type": "markdown",
   "metadata": {},
   "source": [
    "# Simulate MS-data\n",
    "\n",
    "Generate the OpenMS tool `MSSimulator`."
   ]
  },
  {
   "cell_type": "code",
   "execution_count": null,
   "metadata": {
    "ExecuteTime": {
     "end_time": "2017-11-06T13:22:31.846790Z",
     "start_time": "2017-11-06T14:22:23.685539+01:00"
    }
   },
   "outputs": [],
   "source": [
    "MSSimulator -in ${run}/l1.fa -out_fm ${run}/l1.ground.featureXML"
   ]
  },
  {
   "cell_type": "code",
   "execution_count": null,
   "metadata": {
    "ExecuteTime": {
     "start_time": "2017-11-06T13:22:52.445Z"
    }
   },
   "outputs": [],
   "source": [
    "time parallel -j ${threads} \\\n",
    "\"echo \\\"Processing {}\\\"\n",
    "MSSimulator \\\n",
    "    -in ${run}/{}.fa \\\n",
    "    -out_fm ${run}/{}.ground.featureXML \\\n",
    "    ::: ${samples}\n",
    "#     -out_id ${run}/{}.ground.idXML \\\n",
    "#     -out ${run}/{}.mzML \\\n",
    "#     -out_pm ${run}/{}.centroided.mzML\" \\\n"
   ]
  },
  {
   "cell_type": "code",
   "execution_count": null,
   "metadata": {
    "ExecuteTime": {
     "end_time": "2017-11-06T13:19:28.619917Z",
     "start_time": "2017-11-06T14:19:28.263257+01:00"
    }
   },
   "outputs": [],
   "source": [
    "for xml in ${run}/*.featureXML; do \n",
    "    ProteinQuantifier \\\n",
    "        -in ${xml} \\\n",
    "        -peptide_out ${xml%.*}.csv\n",
    "done"
   ]
  },
  {
   "cell_type": "code",
   "execution_count": null,
   "metadata": {
    "ExecuteTime": {
     "end_time": "2017-11-06T13:07:24.639181Z",
     "start_time": "2017-11-06T14:07:07.716717+01:00"
    },
    "scrolled": true
   },
   "outputs": [],
   "source": [
    "# time parallel -j ${threads} \\\n",
    "# \"echo \\\"Processing {}\\\"\n",
    "# FeatureFinderCentroided \\\n",
    "#     -in ${run}/{}.centroided.mzML \\\n",
    "#     -out ${run}/{}.featureXML\" \\\n",
    "#     ::: ${samples}\n"
   ]
  },
  {
   "cell_type": "code",
   "execution_count": null,
   "metadata": {
    "ExecuteTime": {
     "end_time": "2017-11-06T13:07:27.342511Z",
     "start_time": "2017-11-06T14:07:24.640360+01:00"
    }
   },
   "outputs": [],
   "source": [
    "# for sample in ${samples}; do \\\n",
    "#     echo \"Processing sample: ${sample}\"\n",
    "#     IDMapper \\\n",
    "#         -id ${run}/${sample}.ground.idXML \\\n",
    "#         -in ${run}/${sample}.featureXML \\\n",
    "#         -out ${run}/${sample}.mapped.featureXML \\\n",
    "#         > ${run}/${sample}.mapped.featureXML.log\n",
    "# done"
   ]
  },
  {
   "cell_type": "markdown",
   "metadata": {},
   "source": [
    "Here, we do RT alignment (?) of features (with their identities mapped)."
   ]
  },
  {
   "cell_type": "code",
   "execution_count": null,
   "metadata": {
    "ExecuteTime": {
     "end_time": "2017-11-06T13:07:27.904863Z",
     "start_time": "2017-11-06T14:07:27.344488+01:00"
    }
   },
   "outputs": [],
   "source": [
    "# out_strings=\"\"\n",
    "# for sample in ${samples}; do\n",
    "#     out_strings=\"${out_strings} ${run}/${sample}.mapped.aligned.featureXML\"\n",
    "# done\n",
    "\n",
    "# echo ${out_strings}\n",
    "\n",
    "# MapAlignerPoseClustering \\\n",
    "#     -in ${run}/*.mapped.featureXML \\\n",
    "#     -out ${out_strings}\n"
   ]
  },
  {
   "cell_type": "code",
   "execution_count": null,
   "metadata": {
    "ExecuteTime": {
     "end_time": "2017-11-06T13:07:30.652228Z",
     "start_time": "2017-11-06T14:07:27.907717+01:00"
    }
   },
   "outputs": [],
   "source": [
    "# # FeatureLinkerUnlabeledQT \\\n",
    "# #     -in ${run}/*.mapped.aligned.featureXML \\\n",
    "# #     -out ${run}/combined.consensusXML\n",
    "    \n",
    "# FeatureLinkerUnlabeledQT \\\n",
    "#     -in ${run}/*.mapped.featureXML \\\n",
    "#     -out ${run}/combined.consensusXML"
   ]
  },
  {
   "cell_type": "markdown",
   "metadata": {},
   "source": [
    "# Post-process data\n",
    "\n",
    "Extract and prepare the consensus data for normalization - transform it to an appropriate format."
   ]
  },
  {
   "cell_type": "code",
   "execution_count": null,
   "metadata": {
    "ExecuteTime": {
     "end_time": "2017-11-06T13:07:31.811716Z",
     "start_time": "2017-11-06T14:07:30.654093+01:00"
    }
   },
   "outputs": [],
   "source": [
    "# TextExporter \\\n",
    "#     -in ${run}/combined.consensusXML \\\n",
    "#     -out ${run}/combined.linked_features.csv \\\n",
    "#     -consensus:features ${run}/combined.features.csv \\\n",
    "#     -consensus:elements ${run}/combined.elements.csv \\\n",
    "#     -consensus:centroids ${run}/combined.centroids.csv"
   ]
  },
  {
   "cell_type": "markdown",
   "metadata": {},
   "source": [
    "Not sure why, but the `combined.features.csv` file included extra empty fields with numbers beyond the actual sample range. These are omitted here, but should probably be remedied upstreams instead."
   ]
  },
  {
   "cell_type": "code",
   "execution_count": null,
   "metadata": {
    "ExecuteTime": {
     "end_time": "2017-11-06T13:07:32.089561Z",
     "start_time": "2017-11-06T14:07:31.813138+01:00"
    },
    "collapsed": true
   },
   "outputs": [],
   "source": [
    "# s_count=$(echo ${samples} | tr \" \" \"\\n\" | wc -l)\n",
    "# cut_end=$(echo \"${s_count} * 5 + 9\" | bc)\n",
    "# cut -f 1-${cut_end} ${run}/combined.features.csv \\\n",
    "#     > ${run}/combined.features.sub.csv"
   ]
  },
  {
   "cell_type": "code",
   "execution_count": null,
   "metadata": {
    "ExecuteTime": {
     "end_time": "2017-11-06T13:07:32.803887Z",
     "start_time": "2017-11-06T14:07:32.093001+01:00"
    }
   },
   "outputs": [],
   "source": [
    "# util_scripts/openms_to_normalyzer.py \\\n",
    "#     -i ${run}/combined.features.sub.csv \\\n",
    "#     -o ${run}/combined.final.tsv \\\n",
    "#     --design ${run}/design.tsv"
   ]
  }
 ],
 "metadata": {
  "kernelspec": {
   "display_name": "Bash",
   "language": "bash",
   "name": "bash"
  },
  "language_info": {
   "codemirror_mode": "shell",
   "file_extension": ".sh",
   "mimetype": "text/x-sh",
   "name": "bash"
  },
  "toc": {
   "colors": {
    "hover_highlight": "#DAA520",
    "running_highlight": "#FF0000",
    "selected_highlight": "#FFD700"
   },
   "moveMenuLeft": true,
   "nav_menu": {
    "height": "120px",
    "width": "252px"
   },
   "navigate_menu": true,
   "number_sections": true,
   "sideBar": false,
   "threshold": 4,
   "toc_cell": true,
   "toc_section_display": "block",
   "toc_window_display": true,
   "widenNotebook": false
  }
 },
 "nbformat": 4,
 "nbformat_minor": 2
}
