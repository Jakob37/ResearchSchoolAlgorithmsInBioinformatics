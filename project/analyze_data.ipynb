{
 "cells": [
  {
   "cell_type": "markdown",
   "metadata": {
    "toc": "true"
   },
   "source": [
    "# Table of Contents\n",
    " <p><div class=\"lev1 toc-item\"><a href=\"#Setup\" data-toc-modified-id=\"Setup-1\"><span class=\"toc-item-num\">1&nbsp;&nbsp;</span>Setup</a></div><div class=\"lev2 toc-item\"><a href=\"#Parse-input\" data-toc-modified-id=\"Parse-input-11\"><span class=\"toc-item-num\">1.1&nbsp;&nbsp;</span>Parse input</a></div><div class=\"lev1 toc-item\"><a href=\"#Overview-visualization\" data-toc-modified-id=\"Overview-visualization-2\"><span class=\"toc-item-num\">2&nbsp;&nbsp;</span>Overview visualization</a></div><div class=\"lev1 toc-item\"><a href=\"#Differential-expression\" data-toc-modified-id=\"Differential-expression-3\"><span class=\"toc-item-num\">3&nbsp;&nbsp;</span>Differential expression</a></div><div class=\"lev2 toc-item\"><a href=\"#Without-batch-correction\" data-toc-modified-id=\"Without-batch-correction-31\"><span class=\"toc-item-num\">3.1&nbsp;&nbsp;</span>Without batch correction</a></div><div class=\"lev2 toc-item\"><a href=\"#With-batch-correction\" data-toc-modified-id=\"With-batch-correction-32\"><span class=\"toc-item-num\">3.2&nbsp;&nbsp;</span>With batch correction</a></div><div class=\"lev1 toc-item\"><a href=\"#Run-ComBat-to-adjust\" data-toc-modified-id=\"Run-ComBat-to-adjust-4\"><span class=\"toc-item-num\">4&nbsp;&nbsp;</span>Run ComBat to adjust</a></div><div class=\"lev2 toc-item\"><a href=\"#ComBat-modelling-condition\" data-toc-modified-id=\"ComBat-modelling-condition-41\"><span class=\"toc-item-num\">4.1&nbsp;&nbsp;</span>ComBat modelling condition</a></div><div class=\"lev3 toc-item\"><a href=\"#Statistics\" data-toc-modified-id=\"Statistics-411\"><span class=\"toc-item-num\">4.1.1&nbsp;&nbsp;</span>Statistics</a></div><div class=\"lev2 toc-item\"><a href=\"#ComBat-not-modelling-biological-factor\" data-toc-modified-id=\"ComBat-not-modelling-biological-factor-42\"><span class=\"toc-item-num\">4.2&nbsp;&nbsp;</span>ComBat not modelling biological factor</a></div><div class=\"lev3 toc-item\"><a href=\"#Statistics\" data-toc-modified-id=\"Statistics-421\"><span class=\"toc-item-num\">4.2.1&nbsp;&nbsp;</span>Statistics</a></div><div class=\"lev1 toc-item\"><a href=\"#Estimate-surrogate-variation\" data-toc-modified-id=\"Estimate-surrogate-variation-5\"><span class=\"toc-item-num\">5&nbsp;&nbsp;</span>Estimate surrogate variation</a></div><div class=\"lev1 toc-item\"><a href=\"#Summarize-significance\" data-toc-modified-id=\"Summarize-significance-6\"><span class=\"toc-item-num\">6&nbsp;&nbsp;</span>Summarize significance</a></div>"
   ]
  },
  {
   "cell_type": "markdown",
   "metadata": {},
   "source": [
    "# Analyzing data\n",
    "\n",
    "In this part we explore how well we can distinguish spike-in protein despite batch effects when handling the batch effects in a variety of ways. The following are tried:\n",
    "\n",
    "\n",
    "## Dependencies\n",
    "\n",
    "This analysis is purely performed in R. It uses the following R- and BioConductor-packages:\n",
    "\n",
    "* ggplot2\n",
    "* ggfortify\n",
    "* ggdendro\n",
    "* gridExtra\n",
    "* sva\n",
    "\n",
    "It also uses custom scripts for generation and visualization of the PCA components.\n",
    "\n",
    "## Batch effect approaches\n",
    "\n",
    "###  No batch effect compensation\n",
    "\n",
    "Contrasts are performed as there were no batch effect\n",
    "\n",
    "### Batch effect compensation build into the statistical model\n",
    "\n",
    "The data is unchanged but the batch effect is added as a confounding factor in the ANOVA model.\n",
    "\n",
    "### Removing batch effects using ComBat\n",
    "\n",
    "ComBat is a tool attempting to estimate and remove batch effects directly from the data. It produces a new dataset for which contrasts are performed without using confounding factor.\n",
    "\n",
    "Batch effects are modelled in two ways. In one case, the ComBat model receives information about the different conditions present in the data. In the other, the batch effects are modelled without it. \n",
    "\n",
    "One voiced concern about ComBat is that it can give 'wishful results' creating differences where there are none based on the modelled conditions. This is the reasoning behind running it without the biological condition as included input.\n",
    "\n",
    "### Estimating surrogate variables and using these to remove batch effects\n",
    "\n",
    "When running ComBat we use a known factor to model batch effects. When estimating the surrogate variables we instead estimate it directly from the data. P-values are then estimated using this information in addition to the raw data.\n",
    "\n",
    "## Visualizations\n",
    "\n",
    "Here, I have used the PCA plot as my main tool to visualize the biological effect and the batch effect. In the unadjusted data, the batch effect clearly appears as the strongest effect being modelled by the principal component capturing 45% of the variation. The actual spike-in difference is modelled by the second, capturing 23% of the variance. \n",
    "\n",
    "After processing the data using ComBat the spike-in condition appears with the strongest effect showing 37% and 36% for data modelled with and without the condition levels.\n",
    "\n",
    "\n",
    "## Conclusions\n",
    "\n",
    "For this dataset, batch correction methods all resulted in a higher number of true positives  being detected. The problem was that the number of false positives increased 2-4 times compared to without applying the batch correction. In this particular dataset, it is hard to argue that one should use batch correction.\n",
    "\n",
    "Out of the different methods used simply including the batch effect as a confounding factor in the statistical model was the method which included the least number of extra false positives. Although, the same effect could likely have been achieved by slightly adjusting the original threshold value.\n",
    "\n",
    "It should be noted though that this is a quite 'sterile' simulated dataset. If using a more complex dataset, perhaps one where the difference between biological samples is less clear, this it might be tha"
   ]
  },
  {
   "cell_type": "markdown",
   "metadata": {},
   "source": [
    "# Setup"
   ]
  },
  {
   "cell_type": "code",
   "execution_count": 1,
   "metadata": {
    "ExecuteTime": {
     "end_time": "2017-11-10T15:09:08.414123Z",
     "start_time": "2017-11-10T15:09:08.390Z"
    },
    "collapsed": true
   },
   "outputs": [],
   "source": [
    "run <- \"example_data\"\n",
    "expression_fp <- paste0(run, \"/full_quant.tsv\")\n",
    "design_fp <- paste0(run, \"/design.tsv\")"
   ]
  },
  {
   "cell_type": "code",
   "execution_count": 3,
   "metadata": {
    "collapsed": true
   },
   "outputs": [],
   "source": [
    "source(\"util_scripts/proteomics_multivariate_vis.R\")\n",
    "source(\"util_scripts/visualization_utils.R\")\n",
    "#source(\"util_scripts/proteomics_stats.R\")\n"
   ]
  },
  {
   "cell_type": "code",
   "execution_count": null,
   "metadata": {
    "collapsed": true
   },
   "outputs": [],
   "source": []
  },
  {
   "cell_type": "code",
   "execution_count": 2,
   "metadata": {
    "ExecuteTime": {
     "end_time": "2017-11-10T15:09:09.721822Z",
     "start_time": "2017-11-10T15:09:09.696Z"
    }
   },
   "outputs": [
    {
     "name": "stderr",
     "output_type": "stream",
     "text": [
      "Warning message:\n",
      "“replacing previous import by ‘tibble::as_tibble’ when loading ‘ggfortify’”"
     ]
    },
    {
     "ename": "ERROR",
     "evalue": "Error in library(sva): there is no package called ‘sva’\n",
     "output_type": "error",
     "traceback": [
      "Error in library(sva): there is no package called ‘sva’\nTraceback:\n",
      "1. library(sva)",
      "2. stop(txt, domain = NA)"
     ]
    }
   ],
   "source": [
    "library(ggplot2)\n",
    "library(ggfortify)\n",
    "library(ggdendro)\n",
    "library(gridExtra)\n",
    "library(sva)\n",
    "\n",
    "source(\"util_scripts/proteomics_multivariate_vis.R\")\n",
    "source(\"util_scripts/visualization_utils.R\")\n",
    "#source(\"util_scripts/proteomics_stats.R\")"
   ]
  },
  {
   "cell_type": "code",
   "execution_count": null,
   "metadata": {
    "ExecuteTime": {
     "end_time": "2017-11-10T15:09:10.576089Z",
     "start_time": "2017-11-10T15:09:10.557Z"
    },
    "collapsed": true
   },
   "outputs": [],
   "source": [
    "plot_pca <- function(data_m, design_m, pc1, pc2, color_factor, colors, custom_names, legend=T, title_app=\"\", cont_scale=F) {\n",
    "    \n",
    "    if (!cont_scale) {\n",
    "        getPalette <- colorRampPalette(RColorBrewer::brewer.pal(9, \"Set1\"))        \n",
    "    }\n",
    "    title <- paste0(\"PCA, PC\", pc1, \" vs PC\", pc2, \" \", title_app)\n",
    "    plt <- make_expression_pca(data_m, design_m, color_factor=color_factor, title=title, \n",
    "                               pca_axis1=pc1, pca_axis2=pc2, show_labels=T,\n",
    "                               only_text=T, color_text=T, custom_names=custom_names)\n",
    "    if (!cont_scale) {\n",
    "        plt <- plt + scale_color_manual(values=getPalette(colors))        \n",
    "    }\n",
    "    \n",
    "    if (!legend) {\n",
    "        plt <- plt + theme(legend.position=\"none\")\n",
    "    }\n",
    "    \n",
    "    plt\n",
    "}"
   ]
  },
  {
   "cell_type": "markdown",
   "metadata": {},
   "source": [
    "## Parse input"
   ]
  },
  {
   "cell_type": "code",
   "execution_count": null,
   "metadata": {
    "ExecuteTime": {
     "end_time": "2017-11-10T15:09:13.174274Z",
     "start_time": "2017-11-10T15:09:13.153Z"
    }
   },
   "outputs": [],
   "source": [
    "design_df <- read.csv(design_fp, sep=\"\\t\")\n",
    "design_df$sample <- design_df$name\n",
    "design_df$batch <- as.factor(design_df$batch)\n",
    "print(design_df)"
   ]
  },
  {
   "cell_type": "code",
   "execution_count": null,
   "metadata": {
    "ExecuteTime": {
     "end_time": "2017-11-10T15:09:14.476540Z",
     "start_time": "2017-11-10T15:09:14.403Z"
    }
   },
   "outputs": [],
   "source": [
    "raw_data_df <- read.csv(expression_fp, sep=\"\\t\")\n",
    "head(raw_data_df)\n",
    "raw_data_df$peptide <- as.character(raw_data_df$peptide)\n",
    "raw_data_df$protein <- as.character(raw_data_df$protein)\n",
    "data_df <- log2(raw_data_df[, as.character(design_df$name)])\n",
    "head(data_df)"
   ]
  },
  {
   "cell_type": "code",
   "execution_count": null,
   "metadata": {
    "ExecuteTime": {
     "end_time": "2017-11-10T15:09:18.431245Z",
     "start_time": "2017-11-10T15:09:18.412Z"
    },
    "collapsed": true
   },
   "outputs": [],
   "source": [
    "parse_annot <- function(annot_string) {\n",
    "    \n",
    "    fields <- unlist(strsplit(as.character(annot_string), \"/\"))\n",
    "    annot <- sapply(fields, function(field) { unlist(strsplit(field, \"_\"))[[2]] })\n",
    "    \n",
    "    if (annot == \"SOLTU\") {\n",
    "        TRUE\n",
    "    }\n",
    "    else if (annot == \"ECOLI\") {\n",
    "        FALSE\n",
    "    }\n",
    "    else {\n",
    "        stop(paste0(\"Unknown annotation: \", annot))\n",
    "    }\n",
    "}"
   ]
  },
  {
   "cell_type": "code",
   "execution_count": null,
   "metadata": {
    "ExecuteTime": {
     "end_time": "2017-11-10T15:09:19.390294Z",
     "start_time": "2017-11-10T15:09:19.299Z"
    }
   },
   "outputs": [],
   "source": [
    "spike_col <- sapply(as.character(raw_data_df[, \"protein\"]), parse_annot)\n",
    "head(spike_col)\n"
   ]
  },
  {
   "cell_type": "markdown",
   "metadata": {},
   "source": [
    "# Overview visualization\n",
    "\n",
    "Clustering of unadjusted based on main principal components. Conditions are distinguished 'a' and 'b', while batches are distinguished by color. "
   ]
  },
  {
   "cell_type": "code",
   "execution_count": null,
   "metadata": {
    "ExecuteTime": {
     "end_time": "2017-11-10T14:56:52.822025Z",
     "start_time": "2017-11-10T14:56:52.249Z"
    }
   },
   "outputs": [],
   "source": [
    "p1_1 <- plot_pca(data_df, design_df, 1, 2, \"batch\", colors=4, custom_names=design_df$name, legend=F)\n",
    "p1_2 <- plot_pca(data_df, design_df, 3, 4, \"batch\", colors=4, custom_names=design_df$name, legend=T, title_app=\"(test)\")\n",
    "options(repr.plot.width=10, repr.plot.height=5)\n",
    "multiplot(p1_1, p1_2, cols=2)\n"
   ]
  },
  {
   "cell_type": "markdown",
   "metadata": {},
   "source": [
    "# Differential expression\n",
    "\n",
    "Differential expression is performed by applying an ANOVA comparing the samples from condition 'a' and condition 'b'. This is performed both without and with compensation for the batch factor."
   ]
  },
  {
   "cell_type": "code",
   "execution_count": null,
   "metadata": {
    "ExecuteTime": {
     "end_time": "2017-11-10T14:58:05.848492Z",
     "start_time": "2017-11-10T14:58:05.834Z"
    },
    "collapsed": true
   },
   "outputs": [],
   "source": [
    "sig_vectors <- list()\n",
    "q_vectors <- list()"
   ]
  },
  {
   "cell_type": "code",
   "execution_count": null,
   "metadata": {
    "ExecuteTime": {
     "end_time": "2017-11-10T15:12:41.308289Z",
     "start_time": "2017-11-10T15:12:41.292Z"
    },
    "collapsed": true
   },
   "outputs": [],
   "source": [
    "calculate_anova <- function(row, cond, batch=NULL) {\n",
    "    \n",
    "    if (!is.null(batch)) {\n",
    "        anova_df <- data.frame(cbind(Intensity=unlist(row), Cond=cond, Batch=batch))        \n",
    "        av <- aov(Intensity~Cond+Batch, anova_df)        \n",
    "    }\n",
    "    else {\n",
    "        anova_df <- data.frame(cbind(Intensity=unlist(row), Cond=cond))\n",
    "        av <- aov(Intensity~Cond, anova_df)                \n",
    "    }\n",
    "    \n",
    "    av_summary <- summary(av)\n",
    "    p_val <- av_summary[[1]][\"Cond\", \"Pr(>F)\"]\n",
    "    p_val\n",
    "}"
   ]
  },
  {
   "cell_type": "code",
   "execution_count": null,
   "metadata": {
    "ExecuteTime": {
     "end_time": "2017-11-10T15:12:44.393949Z",
     "start_time": "2017-11-10T15:12:44.380Z"
    },
    "collapsed": true
   },
   "outputs": [],
   "source": [
    "get_truth_vector <- function(measured_pos_vect, actually_pos_vect) {\n",
    "    \n",
    "    truth_vector <- c()\n",
    "    \n",
    "    for (i in 1:length(measured_pos_vect)) {\n",
    "        \n",
    "        measured_pos <- measured_pos_vect[i]\n",
    "        actually_pos <- actually_pos_vect[i]\n",
    "        \n",
    "        if (measured_pos && actually_pos) {\n",
    "            outcome <- \"TP\"\n",
    "        }\n",
    "        else if (!measured_pos && !actually_pos) {\n",
    "            outcome <- \"TN\"\n",
    "        }\n",
    "        else if (measured_pos && !actually_pos) {\n",
    "            outcome <- \"FP\"\n",
    "        }\n",
    "        else if (!measured_pos && actually_pos) {\n",
    "            outcome <- \"FN\"\n",
    "        }\n",
    "        else {\n",
    "            stop(paste(\"Unknown state, measured_pos:\", measured_pos, \n",
    "                       \", actually_pos:\", actually_pos))\n",
    "        }\n",
    "        \n",
    "        truth_vector <- c(truth_vector, outcome)\n",
    "    }\n",
    "    \n",
    "    truth_vector\n",
    "}\n",
    "\n",
    "print_truth_summary <- function(truth_vector) {\n",
    "    \n",
    "    truth_table <- table(truth_vector)\n",
    "    print(truth_table)\n",
    "    \n",
    "    FN <- truth_table[\"FN\"]\n",
    "    FP <- truth_table[\"FP\"]\n",
    "    TN <- truth_table[\"TN\"]\n",
    "    TP <- truth_table[\"TP\"]\n",
    "    \n",
    "    specificity <- TN / (TN + FP)\n",
    "    precision <- TP / (TP + FP)\n",
    "    recall <- TP / (TP + FN)\n",
    "    fscore <- 2 * (precision * recall) / (precision + recall)\n",
    "    \n",
    "    print(paste(\"Precision:\", round(precision, 3)))\n",
    "    print(paste(\"Specificity:\", round(specificity, 3)))\n",
    "    print(paste(\"Recall:\", round(recall, 3)))\n",
    "    print(paste(\"F-score:\", round(fscore, 3)))\n",
    "}"
   ]
  },
  {
   "cell_type": "markdown",
   "metadata": {},
   "source": [
    "## Without batch correction\n",
    "\n",
    "Investigating differential expression on data without any batch-effect compensation."
   ]
  },
  {
   "cell_type": "code",
   "execution_count": null,
   "metadata": {
    "ExecuteTime": {
     "end_time": "2017-11-10T14:53:05.023869Z",
     "start_time": "2017-11-10T14:53:00.574Z"
    }
   },
   "outputs": [],
   "source": [
    "print(\"Without batch correction\")\n",
    "\n",
    "p_vals <- unlist(apply(data_df, 1, calculate_anova, cond=design_df$condition))\n",
    "q_vals <- as.numeric(p.adjust(p_vals, method=\"BH\"))\n",
    "sig_indices <- which(q_vals < 0.1)\n",
    "\n",
    "print(paste(\"P-vals below 0.1:\", length(p_vals[which(p_vals < 0.1)])))\n",
    "print(paste(\"Spike-in count:\", length(spike_col[spike_col])))\n",
    "print(paste(\"Passing FDR threshold:\", length(q_vals[which(q_vals < 0.1)])))\n",
    "\n",
    "truth_vector <- get_truth_vector(q_vals < 0.1, spike_col)\n",
    "print_truth_summary(truth_vector)\n",
    "\n",
    "sig_vectors[[\"default\"]] <- truth_vector\n",
    "q_vectors[[\"default\"]] <- q_vals"
   ]
  },
  {
   "cell_type": "markdown",
   "metadata": {},
   "source": [
    "## With batch correction\n",
    "\n",
    "Investigating differential expression on data while including the batch effect as a factor used for the ANOVA model."
   ]
  },
  {
   "cell_type": "code",
   "execution_count": null,
   "metadata": {
    "ExecuteTime": {
     "end_time": "2017-11-10T14:53:06.898981Z",
     "start_time": "2017-11-10T14:53:00.577Z"
    }
   },
   "outputs": [],
   "source": [
    "print(\"With batch correction\")\n",
    "\n",
    "p_vals <- unlist(apply(data_df, 1, calculate_anova, cond=design_df$condition, batch=design_df$batch))\n",
    "q_vals <- as.numeric(p.adjust(p_vals, method=\"BH\"))\n",
    "sig_indices <- which(q_vals < 0.1)\n",
    "\n",
    "print(paste(\"P-vals below 0.1:\", length(p_vals[which(p_vals < 0.1)])))\n",
    "print(paste(\"Spike-in count:\", length(spike_col[spike_col])))\n",
    "print(paste(\"Passing FDR threshold:\", length(q_vals[which(q_vals < 0.1)])))\n",
    "\n",
    "truth_vector <- get_truth_vector(q_vals < 0.1, spike_col)\n",
    "print_truth_summary(truth_vector)\n",
    "sig_vectors[[\"batch_corr\"]] <- truth_vector\n",
    "q_vectors[[\"batch_corr\"]] <- q_vals"
   ]
  },
  {
   "cell_type": "markdown",
   "metadata": {},
   "source": [
    "# Run ComBat to adjust\n",
    "\n",
    "ComBat is an algorithm attempting to identify and remove batch effects from expression data. It produces a new dataset which then in turn is used for differential expression between the conditions."
   ]
  },
  {
   "cell_type": "markdown",
   "metadata": {},
   "source": [
    "## ComBat modelling condition\n",
    "\n",
    "Here, the condition is included in the ComBat modelling."
   ]
  },
  {
   "cell_type": "code",
   "execution_count": null,
   "metadata": {
    "ExecuteTime": {
     "end_time": "2017-11-10T15:16:35.777756Z",
     "start_time": "2017-11-10T15:16:35.754Z"
    }
   },
   "outputs": [],
   "source": [
    "modcombat <- model.matrix(~1+condition, data=design_df)\n",
    "modcombat"
   ]
  },
  {
   "cell_type": "code",
   "execution_count": null,
   "metadata": {
    "ExecuteTime": {
     "end_time": "2017-11-10T14:53:09.770111Z",
     "start_time": "2017-11-10T14:53:00.608Z"
    }
   },
   "outputs": [],
   "source": [
    "combat_data_df <- ComBat(dat=data_df, batch=design_df$batch, mod=modcombat, par.prior=TRUE, prior.plots=TRUE)"
   ]
  },
  {
   "cell_type": "code",
   "execution_count": null,
   "metadata": {
    "ExecuteTime": {
     "end_time": "2017-11-10T14:53:09.780607Z",
     "start_time": "2017-11-10T14:53:00.613Z"
    }
   },
   "outputs": [],
   "source": [
    "head(combat_data_df)"
   ]
  },
  {
   "cell_type": "code",
   "execution_count": null,
   "metadata": {
    "ExecuteTime": {
     "end_time": "2017-11-10T14:53:10.400157Z",
     "start_time": "2017-11-10T14:53:00.617Z"
    }
   },
   "outputs": [],
   "source": [
    "p1_1 <- plot_pca(data_df, design_df, 1, 2, \"batch\", colors=4, custom_names=design_df$name, legend=F, title_app=\"Normal\")\n",
    "p1_2 <- plot_pca(combat_data_df, design_df, 1, 2, \"batch\", colors=4, custom_names=design_df$name, legend=T, title_app=\"ComBat\")\n",
    "options(repr.plot.width=10, repr.plot.height=5)\n",
    "multiplot(p1_1, p1_2, cols=2)\n"
   ]
  },
  {
   "cell_type": "markdown",
   "metadata": {},
   "source": [
    "### Statistics"
   ]
  },
  {
   "cell_type": "code",
   "execution_count": null,
   "metadata": {
    "ExecuteTime": {
     "end_time": "2017-11-10T14:53:12.234109Z",
     "start_time": "2017-11-10T14:53:00.621Z"
    }
   },
   "outputs": [],
   "source": [
    "print(\"ComBat statistics\")\n",
    "\n",
    "p_vals <- unlist(apply(combat_data_df, 1, calculate_anova, cond=design_df$condition))\n",
    "q_vals <- as.numeric(p.adjust(p_vals, method=\"BH\"))\n",
    "sig_indices <- which(q_vals < 0.1)\n",
    "\n",
    "print(paste(\"P-vals below 0.1:\", length(p_vals[which(p_vals < 0.1)])))\n",
    "print(paste(\"Spike-in count:\", length(spike_col[spike_col])))\n",
    "print(paste(\"Passing FDR threshold:\", length(q_vals[which(q_vals < 0.1)])))\n",
    "\n",
    "truth_vector <- get_truth_vector(q_vals < 0.1, spike_col)\n",
    "print_truth_summary(truth_vector)\n",
    "sig_vectors[[\"combat\"]] <- truth_vector\n",
    "q_vectors[[\"combat\"]] <- q_vals"
   ]
  },
  {
   "cell_type": "markdown",
   "metadata": {},
   "source": [
    "## ComBat not modelling biological factor"
   ]
  },
  {
   "cell_type": "code",
   "execution_count": null,
   "metadata": {
    "ExecuteTime": {
     "end_time": "2017-11-10T14:53:12.255897Z",
     "start_time": "2017-11-10T14:53:00.626Z"
    }
   },
   "outputs": [],
   "source": [
    "modcombat <- model.matrix(~1, data=design_df)\n",
    "head(modcombat)"
   ]
  },
  {
   "cell_type": "code",
   "execution_count": null,
   "metadata": {
    "ExecuteTime": {
     "end_time": "2017-11-10T14:53:12.698250Z",
     "start_time": "2017-11-10T14:53:00.631Z"
    }
   },
   "outputs": [],
   "source": [
    "only_int_combat_data_df <- ComBat(dat=data_df, batch=design_df$batch, mod=modcombat, par.prior=TRUE, prior.plots=TRUE)"
   ]
  },
  {
   "cell_type": "code",
   "execution_count": null,
   "metadata": {
    "ExecuteTime": {
     "end_time": "2017-11-10T14:53:13.095638Z",
     "start_time": "2017-11-10T14:53:00.636Z"
    }
   },
   "outputs": [],
   "source": [
    "p1_1 <- plot_pca(data_df, design_df, 1, 2, \"batch\", colors=4, custom_names=design_df$name, legend=F, title_app = \"Normal\")\n",
    "p1_2 <- plot_pca(only_int_combat_data_df, design_df, 1, 2, \"batch\", colors=4, custom_names=design_df$name, legend=T, title_app=\"ComBat\")\n",
    "options(repr.plot.width=10, repr.plot.height=5)\n",
    "multiplot(p1_1, p1_2, cols=2)\n"
   ]
  },
  {
   "cell_type": "markdown",
   "metadata": {},
   "source": [
    "### Statistics"
   ]
  },
  {
   "cell_type": "code",
   "execution_count": null,
   "metadata": {
    "ExecuteTime": {
     "end_time": "2017-11-10T14:53:14.990229Z",
     "start_time": "2017-11-10T14:53:00.640Z"
    }
   },
   "outputs": [],
   "source": [
    "print(\"ComBat statistics (only intercept)\")\n",
    "\n",
    "p_vals <- unlist(apply(only_int_combat_data_df, 1, calculate_anova, cond=design_df$condition))\n",
    "q_vals <- as.numeric(p.adjust(p_vals, method=\"BH\"))\n",
    "sig_indices <- which(q_vals < 0.1)\n",
    "\n",
    "print(paste(\"P-vals below 0.1:\", length(p_vals[which(p_vals < 0.1)])))\n",
    "print(paste(\"Spike-in count:\", length(spike_col[spike_col])))\n",
    "print(paste(\"Passing FDR threshold:\", length(q_vals[which(q_vals < 0.1)])))\n",
    "\n",
    "truth_vector <- get_truth_vector(q_vals < 0.1, spike_col)\n",
    "print_truth_summary(truth_vector)\n",
    "sig_vectors[[\"combat_no_factor\"]] <- truth_vector\n",
    "q_vectors[[\"combat_no_factor\"]] <- q_vals"
   ]
  },
  {
   "cell_type": "markdown",
   "metadata": {},
   "source": [
    "# Estimate surrogate variation"
   ]
  },
  {
   "cell_type": "code",
   "execution_count": null,
   "metadata": {
    "ExecuteTime": {
     "end_time": "2017-11-10T14:53:15.029393Z",
     "start_time": "2017-11-10T14:53:00.645Z"
    }
   },
   "outputs": [],
   "source": [
    "mod <- model.matrix(~condition, data=design_df)\n",
    "mod0 <- model.matrix(~1, data=design_df)\n",
    "n.sv <- num.sv(data_df, mod, method=\"leek\")\n",
    "n.sv"
   ]
  },
  {
   "cell_type": "code",
   "execution_count": null,
   "metadata": {
    "ExecuteTime": {
     "end_time": "2017-11-10T14:53:15.045433Z",
     "start_time": "2017-11-10T14:53:00.650Z"
    }
   },
   "outputs": [],
   "source": [
    "data_m <- as.matrix(data_df)\n",
    "typeof(as.matrix(data_df))"
   ]
  },
  {
   "cell_type": "code",
   "execution_count": null,
   "metadata": {
    "ExecuteTime": {
     "end_time": "2017-11-10T14:53:15.150802Z",
     "start_time": "2017-11-10T14:53:00.655Z"
    }
   },
   "outputs": [],
   "source": [
    "svobj <- sva(data_m, mod, mod0, n.sv=n.sv)"
   ]
  },
  {
   "cell_type": "code",
   "execution_count": null,
   "metadata": {
    "ExecuteTime": {
     "end_time": "2017-11-10T14:53:15.169674Z",
     "start_time": "2017-11-10T14:53:00.660Z"
    }
   },
   "outputs": [],
   "source": [
    "str(svobj)"
   ]
  },
  {
   "cell_type": "code",
   "execution_count": null,
   "metadata": {
    "ExecuteTime": {
     "end_time": "2017-11-10T14:53:15.191489Z",
     "start_time": "2017-11-10T14:53:00.665Z"
    }
   },
   "outputs": [],
   "source": [
    "pValues <- f.pvalue(data_m, mod, mod0)\n",
    "qValues <- p.adjust(pValues, method=\"BH\")\n",
    "print(paste(\"Total:\", length(pValues)))\n",
    "print(paste(\"Sig: \", length(qValues[which(qValues < 0.1)])))"
   ]
  },
  {
   "cell_type": "code",
   "execution_count": null,
   "metadata": {
    "ExecuteTime": {
     "end_time": "2017-11-10T14:53:15.221748Z",
     "start_time": "2017-11-10T14:53:00.670Z"
    }
   },
   "outputs": [],
   "source": [
    "modSv <- cbind(mod, svobj$sv)\n",
    "mod0Sv <- cbind(mod0, svobj$sv)\n",
    "pValuesSv <- f.pvalue(data_m, modSv, mod0Sv)\n",
    "qValuesSv <- p.adjust(pValuesSv, method=\"BH\")\n",
    "print(paste(\"Sig:\", length(qValuesSv[which(qValuesSv < 0.1)])))"
   ]
  },
  {
   "cell_type": "code",
   "execution_count": null,
   "metadata": {
    "ExecuteTime": {
     "end_time": "2017-11-10T14:53:15.265053Z",
     "start_time": "2017-11-10T14:53:00.675Z"
    }
   },
   "outputs": [],
   "source": [
    "truth_vector <- get_truth_vector(measured_pos_vect=qValuesSv < 0.1, actually_pos_vect=spike_col)\n",
    "print_truth_summary(truth_vector)\n",
    "sig_vectors[[\"sva\"]] <- truth_vector\n",
    "q_vectors[[\"sva\"]] <- qValuesSv"
   ]
  },
  {
   "cell_type": "markdown",
   "metadata": {},
   "source": [
    "# Summarize significance"
   ]
  },
  {
   "cell_type": "code",
   "execution_count": null,
   "metadata": {
    "ExecuteTime": {
     "end_time": "2017-11-10T14:53:15.290529Z",
     "start_time": "2017-11-10T14:53:00.680Z"
    }
   },
   "outputs": [],
   "source": [
    "print(paste(\"True positives:\", length(spike_col[spike_col])))\n",
    "\n",
    "print(\"Sig counts:\")\n",
    "for (name in names(q_vectors)) {\n",
    "    q_vector <- q_vectors[[name]]\n",
    "    print(paste0(name, \": \", length(q_vector[which(q_vector < 0.1)])))\n",
    "}"
   ]
  },
  {
   "cell_type": "code",
   "execution_count": null,
   "metadata": {
    "ExecuteTime": {
     "end_time": "2017-11-10T14:53:15.305671Z",
     "start_time": "2017-11-10T14:53:00.696Z"
    }
   },
   "outputs": [],
   "source": [
    "for (sig_v in names(sig_vectors)) {\n",
    "    print(paste(\"===\", sig_v, \"===\"))\n",
    "    print_truth_summary(sig_vectors[[sig_v]])\n",
    "}"
   ]
  }
 ],
 "metadata": {
  "kernelspec": {
   "display_name": "R",
   "language": "R",
   "name": "ir"
  },
  "language_info": {
   "codemirror_mode": "r",
   "file_extension": ".r",
   "mimetype": "text/x-r-source",
   "name": "R",
   "pygments_lexer": "r",
   "version": "3.2.3"
  },
  "toc": {
   "colors": {
    "hover_highlight": "#DAA520",
    "running_highlight": "#FF0000",
    "selected_highlight": "#FFD700"
   },
   "moveMenuLeft": true,
   "nav_menu": {
    "height": "66px",
    "width": "252px"
   },
   "navigate_menu": true,
   "number_sections": true,
   "sideBar": false,
   "threshold": 4,
   "toc_cell": true,
   "toc_section_display": "block",
   "toc_window_display": true,
   "widenNotebook": false
  }
 },
 "nbformat": 4,
 "nbformat_minor": 2
}
