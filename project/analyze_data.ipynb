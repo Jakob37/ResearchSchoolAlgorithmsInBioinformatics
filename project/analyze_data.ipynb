{
 "cells": [
  {
   "cell_type": "markdown",
   "metadata": {
    "toc": "true"
   },
   "source": [
    "# Table of Contents\n",
    " <p><div class=\"lev1 toc-item\"><a href=\"#Setup\" data-toc-modified-id=\"Setup-1\"><span class=\"toc-item-num\">1&nbsp;&nbsp;</span>Setup</a></div><div class=\"lev1 toc-item\"><a href=\"#Overview-visualization\" data-toc-modified-id=\"Overview-visualization-2\"><span class=\"toc-item-num\">2&nbsp;&nbsp;</span>Overview visualization</a></div><div class=\"lev1 toc-item\"><a href=\"#Differential-expression\" data-toc-modified-id=\"Differential-expression-3\"><span class=\"toc-item-num\">3&nbsp;&nbsp;</span>Differential expression</a></div>"
   ]
  },
  {
   "cell_type": "markdown",
   "metadata": {},
   "source": [
    "# Setup"
   ]
  },
  {
   "cell_type": "code",
   "execution_count": 9,
   "metadata": {
    "ExecuteTime": {
     "end_time": "2017-11-03T15:41:00.967378Z",
     "start_time": "2017-11-03T15:41:00.916Z"
    }
   },
   "outputs": [],
   "source": [
    "library(ggplot2)\n",
    "library(ggfortify)\n",
    "library(ggdendro)\n",
    "library(limma)\n",
    "library(gridExtra)\n",
    "\n",
    "source(\"~/src/JupyterRReuse/proteomics_multivariate_vis.R\")\n",
    "source(\"~/src/JupyterRReuse/visualization_utils.R\")\n",
    "source(\"~/src/JupyterRReuse/proteomics_stats.R\")"
   ]
  },
  {
   "cell_type": "code",
   "execution_count": 10,
   "metadata": {
    "ExecuteTime": {
     "end_time": "2017-11-03T15:41:01.885539Z",
     "start_time": "2017-11-03T15:41:01.855Z"
    },
    "collapsed": true
   },
   "outputs": [],
   "source": [
    "plot_pca <- function(data_m, design_m, pc1, pc2, color_factor, colors, custom_names, legend=T, title_app=\"\", cont_scale=F) {\n",
    "    \n",
    "    if (!cont_scale) {\n",
    "        getPalette <- colorRampPalette(RColorBrewer::brewer.pal(9, \"Set1\"))        \n",
    "    }\n",
    "    title <- paste0(\"PCA, PC\", pc1, \" vs PC\", pc2, \" \", title_app)\n",
    "    plt <- make_expression_pca(data_m, design_m, color_factor=color_factor, title=title, \n",
    "                               pca_axis1=pc1, pca_axis2=pc2, show_labels=T,\n",
    "                               only_text=T, color_text=T, custom_names=custom_names)\n",
    "    if (!cont_scale) {\n",
    "        plt <- plt + scale_color_manual(values=getPalette(colors))        \n",
    "    }\n",
    "    \n",
    "    if (!legend) {\n",
    "        plt <- plt + theme(legend.position=\"none\")\n",
    "    }\n",
    "    \n",
    "    plt\n",
    "}"
   ]
  },
  {
   "cell_type": "code",
   "execution_count": 11,
   "metadata": {
    "ExecuteTime": {
     "end_time": "2017-11-03T15:41:07.187696Z",
     "start_time": "2017-11-03T15:41:07.150Z"
    }
   },
   "outputs": [],
   "source": [
    "run <- \"batch6_pure\"\n",
    "expression_fp <- paste0(run, \"/combined.final.tsv\")\n",
    "design_fp <- paste0(run, \"/design.tsv\")"
   ]
  },
  {
   "cell_type": "code",
   "execution_count": 12,
   "metadata": {
    "ExecuteTime": {
     "end_time": "2017-11-03T15:41:07.949725Z",
     "start_time": "2017-11-03T15:41:07.918Z"
    }
   },
   "outputs": [
    {
     "data": {
      "text/html": [
       "<table>\n",
       "<thead><tr><th scope=col>name</th><th scope=col>biorepgroup</th><th scope=col>techrepgroup</th><th scope=col>condition</th><th scope=col>sample</th></tr></thead>\n",
       "<tbody>\n",
       "\t<tr><td>l1  </td><td>1   </td><td>1   </td><td>low </td><td>l1  </td></tr>\n",
       "\t<tr><td>l2  </td><td>2   </td><td>1   </td><td>low </td><td>l2  </td></tr>\n",
       "\t<tr><td>l3  </td><td>3   </td><td>1   </td><td>low </td><td>l3  </td></tr>\n",
       "\t<tr><td>h1  </td><td>1   </td><td>1   </td><td>high</td><td>h1  </td></tr>\n",
       "\t<tr><td>h2  </td><td>2   </td><td>1   </td><td>high</td><td>h2  </td></tr>\n",
       "\t<tr><td>h3  </td><td>3   </td><td>1   </td><td>high</td><td>h3  </td></tr>\n",
       "</tbody>\n",
       "</table>\n"
      ],
      "text/latex": [
       "\\begin{tabular}{r|lllll}\n",
       " name & biorepgroup & techrepgroup & condition & sample\\\\\n",
       "\\hline\n",
       "\t l1   & 1    & 1    & low  & l1  \\\\\n",
       "\t l2   & 2    & 1    & low  & l2  \\\\\n",
       "\t l3   & 3    & 1    & low  & l3  \\\\\n",
       "\t h1   & 1    & 1    & high & h1  \\\\\n",
       "\t h2   & 2    & 1    & high & h2  \\\\\n",
       "\t h3   & 3    & 1    & high & h3  \\\\\n",
       "\\end{tabular}\n"
      ],
      "text/markdown": [
       "\n",
       "name | biorepgroup | techrepgroup | condition | sample | \n",
       "|---|---|---|---|---|---|\n",
       "| l1   | 1    | 1    | low  | l1   | \n",
       "| l2   | 2    | 1    | low  | l2   | \n",
       "| l3   | 3    | 1    | low  | l3   | \n",
       "| h1   | 1    | 1    | high | h1   | \n",
       "| h2   | 2    | 1    | high | h2   | \n",
       "| h3   | 3    | 1    | high | h3   | \n",
       "\n",
       "\n"
      ],
      "text/plain": [
       "  name biorepgroup techrepgroup condition sample\n",
       "1 l1   1           1            low       l1    \n",
       "2 l2   2           1            low       l2    \n",
       "3 l3   3           1            low       l3    \n",
       "4 h1   1           1            high      h1    \n",
       "5 h2   2           1            high      h2    \n",
       "6 h3   3           1            high      h3    "
      ]
     },
     "metadata": {},
     "output_type": "display_data"
    }
   ],
   "source": [
    "design_df <- read.csv(design_fp, sep=\"\\t\")\n",
    "design_df$sample <- design_df$name\n",
    "head(design_df)"
   ]
  },
  {
   "cell_type": "code",
   "execution_count": 13,
   "metadata": {
    "ExecuteTime": {
     "end_time": "2017-11-03T15:41:10.300983Z",
     "start_time": "2017-11-03T15:41:09.647Z"
    }
   },
   "outputs": [
    {
     "data": {
      "text/html": [
       "<table>\n",
       "<thead><tr><th scope=col>l1</th><th scope=col>l2</th><th scope=col>l3</th><th scope=col>h1</th><th scope=col>h2</th><th scope=col>h3</th></tr></thead>\n",
       "<tbody>\n",
       "\t<tr><td>14.72350</td><td>14.73670</td><td>14.73320</td><td>14.73320</td><td>14.69150</td><td>14.70660</td></tr>\n",
       "\t<tr><td> 5.24973</td><td> 5.31606</td><td> 3.18005</td><td> 2.00266</td><td> 5.63899</td><td> 2.83046</td></tr>\n",
       "\t<tr><td> 7.77064</td><td> 6.21096</td><td> 7.43814</td><td> 7.14611</td><td> 6.54429</td><td> 7.11163</td></tr>\n",
       "\t<tr><td> 7.75447</td><td> 7.24843</td><td> 5.89693</td><td> 7.91458</td><td> 2.63139</td><td> 5.05307</td></tr>\n",
       "\t<tr><td> 4.75854</td><td> 3.91385</td><td> 3.79878</td><td> 3.19971</td><td> 3.72088</td><td> 3.77434</td></tr>\n",
       "\t<tr><td> 5.56952</td><td> 5.56952</td><td> 5.56952</td><td> 5.56952</td><td> 5.56952</td><td> 5.56952</td></tr>\n",
       "</tbody>\n",
       "</table>\n"
      ],
      "text/latex": [
       "\\begin{tabular}{r|llllll}\n",
       " l1 & l2 & l3 & h1 & h2 & h3\\\\\n",
       "\\hline\n",
       "\t 14.72350 & 14.73670 & 14.73320 & 14.73320 & 14.69150 & 14.70660\\\\\n",
       "\t  5.24973 &  5.31606 &  3.18005 &  2.00266 &  5.63899 &  2.83046\\\\\n",
       "\t  7.77064 &  6.21096 &  7.43814 &  7.14611 &  6.54429 &  7.11163\\\\\n",
       "\t  7.75447 &  7.24843 &  5.89693 &  7.91458 &  2.63139 &  5.05307\\\\\n",
       "\t  4.75854 &  3.91385 &  3.79878 &  3.19971 &  3.72088 &  3.77434\\\\\n",
       "\t  5.56952 &  5.56952 &  5.56952 &  5.56952 &  5.56952 &  5.56952\\\\\n",
       "\\end{tabular}\n"
      ],
      "text/markdown": [
       "\n",
       "l1 | l2 | l3 | h1 | h2 | h3 | \n",
       "|---|---|---|---|---|---|\n",
       "| 14.72350 | 14.73670 | 14.73320 | 14.73320 | 14.69150 | 14.70660 | \n",
       "|  5.24973 |  5.31606 |  3.18005 |  2.00266 |  5.63899 |  2.83046 | \n",
       "|  7.77064 |  6.21096 |  7.43814 |  7.14611 |  6.54429 |  7.11163 | \n",
       "|  7.75447 |  7.24843 |  5.89693 |  7.91458 |  2.63139 |  5.05307 | \n",
       "|  4.75854 |  3.91385 |  3.79878 |  3.19971 |  3.72088 |  3.77434 | \n",
       "|  5.56952 |  5.56952 |  5.56952 |  5.56952 |  5.56952 |  5.56952 | \n",
       "\n",
       "\n"
      ],
      "text/plain": [
       "  l1       l2       l3       h1       h2       h3      \n",
       "1 14.72350 14.73670 14.73320 14.73320 14.69150 14.70660\n",
       "2  5.24973  5.31606  3.18005  2.00266  5.63899  2.83046\n",
       "3  7.77064  6.21096  7.43814  7.14611  6.54429  7.11163\n",
       "4  7.75447  7.24843  5.89693  7.91458  2.63139  5.05307\n",
       "5  4.75854  3.91385  3.79878  3.19971  3.72088  3.77434\n",
       "6  5.56952  5.56952  5.56952  5.56952  5.56952  5.56952"
      ]
     },
     "metadata": {},
     "output_type": "display_data"
    }
   ],
   "source": [
    "raw_data_df <- read.csv(expression_fp, sep=\"\\t\", skip=1)\n",
    "# head(raw_data_df)\n",
    "data_df <- raw_data_df[, as.character(design_df$name)]\n",
    "head(data_df)"
   ]
  },
  {
   "cell_type": "code",
   "execution_count": 14,
   "metadata": {
    "ExecuteTime": {
     "end_time": "2017-11-03T15:41:12.095085Z",
     "start_time": "2017-11-03T15:41:12.063Z"
    }
   },
   "outputs": [
    {
     "data": {
      "text/html": [
       "<table>\n",
       "<thead><tr><th scope=col>X.rt_cf</th><th scope=col>mz_cf</th><th scope=col>intensity_cf</th><th scope=col>charge_cf</th><th scope=col>quality_cf</th><th scope=col>peptide_0</th><th scope=col>protein_0</th><th scope=col>l1</th><th scope=col>l2</th><th scope=col>l3</th><th scope=col>h1</th><th scope=col>h2</th><th scope=col>h3</th></tr></thead>\n",
       "<tbody>\n",
       "\t<tr><td>758.0202                                                                                                                       </td><td> 251.2006                                                                                                                      </td><td>14.72080                                                                                                                       </td><td>1                                                                                                                              </td><td>0.982570                                                                                                                       </td><td>NA                                                                                                                             </td><td>NA                                                                                                                             </td><td>14.72350                                                                                                                       </td><td>14.73670                                                                                                                       </td><td>14.73320                                                                                                                       </td><td>14.73320                                                                                                                       </td><td>14.69150                                                                                                                       </td><td>14.70660                                                                                                                       </td></tr>\n",
       "\t<tr><td>619.2683                                                                                                                       </td><td> 598.3479                                                                                                                      </td><td> 4.03632                                                                                                                       </td><td>2                                                                                                                              </td><td>0.626087                                                                                                                       </td><td>CYAVSGWPGKK/DIHDISLNLR/ISVDSATMMNK/IYPSVKDFVK                                                                                  </td><td>sp|P17802|MUTY_ECOLI/sp|P45568|DXR_ECOLI/sp|Q43845|SPSA_SOLTU/sp|Q9ST62|NDB1_SOLTU                                             </td><td> 5.24973                                                                                                                       </td><td> 5.31606                                                                                                                       </td><td> 3.18005                                                                                                                       </td><td> 2.00266                                                                                                                       </td><td> 5.63899                                                                                                                       </td><td> 2.83046                                                                                                                       </td></tr>\n",
       "\t<tr><td>641.4936                                                                                                                       </td><td>1049.5615                                                                                                                      </td><td> 7.03696                                                                                                                       </td><td>1                                                                                                                              </td><td>0.868349                                                                                                                       </td><td>GALGGDVYLGK/GFLTVDEIR/MGFAIAAAAAR/VGNLNAYFR                                                                                    </td><td>sp|P0ABQ0|COABC_ECOLI/sp|P17979|API8_SOLTU/sp|P30745|MOAA_ECOLI/sp|P58519|API5_SOLTU/sp|Q03197|API10_SOLTU/sp|Q43646|API2_SOLTU</td><td> 7.77064                                                                                                                       </td><td> 6.21096                                                                                                                       </td><td> 7.43814                                                                                                                       </td><td> 7.14611                                                                                                                       </td><td> 6.54429                                                                                                                       </td><td> 7.11163                                                                                                                       </td></tr>\n",
       "\t<tr><td>630.4054                                                                                                                       </td><td> 446.5379                                                                                                                      </td><td> 6.08315                                                                                                                       </td><td>2                                                                                                                              </td><td>0.561490                                                                                                                       </td><td>ELEVFVR/FWDRLR/FWRDLR/MSYLNLR/NPFLGCNK/TVALFRGK                                                                                </td><td>sp|P0A8M3|SYT_ECOLI/sp|P30130|FIMD_ECOLI/sp|P32088|MATK_SOLTU/sp|P60584|CAIA_ECOLI/sp|P62517|OPGH_ECOLI/sp|P76084|PAAI_ECOLI   </td><td> 7.75447                                                                                                                       </td><td> 7.24843                                                                                                                       </td><td> 5.89693                                                                                                                       </td><td> 7.91458                                                                                                                       </td><td> 2.63139                                                                                                                       </td><td> 5.05307                                                                                                                       </td></tr>\n",
       "\t<tr><td>813.1883                                                                                                                       </td><td> 645.9428                                                                                                                      </td><td> 3.86102                                                                                                                       </td><td>3                                                                                                                              </td><td>0.864484                                                                                                                       </td><td>GFAPVIHGIARGTAQVTIK/ISSVETMEAWVSQQRGK/LQLRDMAFNSPNSEWK/VASTAARAITSPSSLVFTR/YRVALDSDAWEFGGHGR                                   </td><td>sp|P30130|FIMD_ECOLI/sp|P30924|GLGB_SOLTU/sp|P31433|YICH_ECOLI/sp|Q07511|FDH_SOLTU/sp|Q43845|SPSA_SOLTU                        </td><td> 4.75854                                                                                                                       </td><td> 3.91385                                                                                                                       </td><td> 3.79878                                                                                                                       </td><td> 3.19971                                                                                                                       </td><td> 3.72088                                                                                                                       </td><td> 3.77434                                                                                                                       </td></tr>\n",
       "\t<tr><td>676.1200                                                                                                                       </td><td> 272.2637                                                                                                                      </td><td> 5.56952                                                                                                                       </td><td>1                                                                                                                              </td><td>0.983663                                                                                                                       </td><td>NA                                                                                                                             </td><td>NA                                                                                                                             </td><td> 5.56952                                                                                                                       </td><td> 5.56952                                                                                                                       </td><td> 5.56952                                                                                                                       </td><td> 5.56952                                                                                                                       </td><td> 5.56952                                                                                                                       </td><td> 5.56952                                                                                                                       </td></tr>\n",
       "</tbody>\n",
       "</table>\n"
      ],
      "text/latex": [
       "\\begin{tabular}{r|lllllllllllll}\n",
       " X.rt\\_cf & mz\\_cf & intensity\\_cf & charge\\_cf & quality\\_cf & peptide\\_0 & protein\\_0 & l1 & l2 & l3 & h1 & h2 & h3\\\\\n",
       "\\hline\n",
       "\t 758.0202                                                                                                                        &  251.2006                                                                                                                       & 14.72080                                                                                                                        & 1                                                                                                                               & 0.982570                                                                                                                        & NA                                                                                                                              & NA                                                                                                                              & 14.72350                                                                                                                        & 14.73670                                                                                                                        & 14.73320                                                                                                                        & 14.73320                                                                                                                        & 14.69150                                                                                                                        & 14.70660                                                                                                                       \\\\\n",
       "\t 619.2683                                                                                                                                                                                                                &  598.3479                                                                                                                                                                                                               &  4.03632                                                                                                                                                                                                                & 2                                                                                                                                                                                                                       & 0.626087                                                                                                                                                                                                                & CYAVSGWPGKK/DIHDISLNLR/ISVDSATMMNK/IYPSVKDFVK                                                                                                                                                                           & sp\\textbar{}P17802\\textbar{}MUTY\\_ECOLI/sp\\textbar{}P45568\\textbar{}DXR\\_ECOLI/sp\\textbar{}Q43845\\textbar{}SPSA\\_SOLTU/sp\\textbar{}Q9ST62\\textbar{}NDB1\\_SOLTU                                              &  5.24973                                                                                                                                                                                                                &  5.31606                                                                                                                                                                                                                &  3.18005                                                                                                                                                                                                                &  2.00266                                                                                                                                                                                                                &  5.63899                                                                                                                                                                                                                &  2.83046                                                                                                                                                                                                               \\\\\n",
       "\t 641.4936                                                                                                                                                                                                                                                            & 1049.5615                                                                                                                                                                                                                                                           &  7.03696                                                                                                                                                                                                                                                            & 1                                                                                                                                                                                                                                                                   & 0.868349                                                                                                                                                                                                                                                            & GALGGDVYLGK/GFLTVDEIR/MGFAIAAAAAR/VGNLNAYFR                                                                                                                                                                                                                         & sp\\textbar{}P0ABQ0\\textbar{}COABC\\_ECOLI/sp\\textbar{}P17979\\textbar{}API8\\_SOLTU/sp\\textbar{}P30745\\textbar{}MOAA\\_ECOLI/sp\\textbar{}P58519\\textbar{}API5\\_SOLTU/sp\\textbar{}Q03197\\textbar{}API10\\_SOLTU/sp\\textbar{}Q43646\\textbar{}API2\\_SOLTU &  7.77064                                                                                                                                                                                                                                                            &  6.21096                                                                                                                                                                                                                                                            &  7.43814                                                                                                                                                                                                                                                            &  7.14611                                                                                                                                                                                                                                                            &  6.54429                                                                                                                                                                                                                                                            &  7.11163                                                                                                                                                                                                                                                           \\\\\n",
       "\t 630.4054                                                                                                                                                                                                                                                            &  446.5379                                                                                                                                                                                                                                                           &  6.08315                                                                                                                                                                                                                                                            & 2                                                                                                                                                                                                                                                                   & 0.561490                                                                                                                                                                                                                                                            & ELEVFVR/FWDRLR/FWRDLR/MSYLNLR/NPFLGCNK/TVALFRGK                                                                                                                                                                                                                     & sp\\textbar{}P0A8M3\\textbar{}SYT\\_ECOLI/sp\\textbar{}P30130\\textbar{}FIMD\\_ECOLI/sp\\textbar{}P32088\\textbar{}MATK\\_SOLTU/sp\\textbar{}P60584\\textbar{}CAIA\\_ECOLI/sp\\textbar{}P62517\\textbar{}OPGH\\_ECOLI/sp\\textbar{}P76084\\textbar{}PAAI\\_ECOLI    &  7.75447                                                                                                                                                                                                                                                            &  7.24843                                                                                                                                                                                                                                                            &  5.89693                                                                                                                                                                                                                                                            &  7.91458                                                                                                                                                                                                                                                            &  2.63139                                                                                                                                                                                                                                                            &  5.05307                                                                                                                                                                                                                                                           \\\\\n",
       "\t 813.1883                                                                                                                                                                                                                                      &  645.9428                                                                                                                                                                                                                                     &  3.86102                                                                                                                                                                                                                                      & 3                                                                                                                                                                                                                                             & 0.864484                                                                                                                                                                                                                                      & GFAPVIHGIARGTAQVTIK/ISSVETMEAWVSQQRGK/LQLRDMAFNSPNSEWK/VASTAARAITSPSSLVFTR/YRVALDSDAWEFGGHGR                                                                                                                                                  & sp\\textbar{}P30130\\textbar{}FIMD\\_ECOLI/sp\\textbar{}P30924\\textbar{}GLGB\\_SOLTU/sp\\textbar{}P31433\\textbar{}YICH\\_ECOLI/sp\\textbar{}Q07511\\textbar{}FDH\\_SOLTU/sp\\textbar{}Q43845\\textbar{}SPSA\\_SOLTU                         &  4.75854                                                                                                                                                                                                                                      &  3.91385                                                                                                                                                                                                                                      &  3.79878                                                                                                                                                                                                                                      &  3.19971                                                                                                                                                                                                                                      &  3.72088                                                                                                                                                                                                                                      &  3.77434                                                                                                                                                                                                                                     \\\\\n",
       "\t 676.1200                                                                                                                        &  272.2637                                                                                                                       &  5.56952                                                                                                                        & 1                                                                                                                               & 0.983663                                                                                                                        & NA                                                                                                                              & NA                                                                                                                              &  5.56952                                                                                                                        &  5.56952                                                                                                                        &  5.56952                                                                                                                        &  5.56952                                                                                                                        &  5.56952                                                                                                                        &  5.56952                                                                                                                       \\\\\n",
       "\\end{tabular}\n"
      ],
      "text/markdown": [
       "\n",
       "X.rt_cf | mz_cf | intensity_cf | charge_cf | quality_cf | peptide_0 | protein_0 | l1 | l2 | l3 | h1 | h2 | h3 | \n",
       "|---|---|---|---|---|---|\n",
       "| 758.0202                                                                                                                        |  251.2006                                                                                                                       | 14.72080                                                                                                                        | 1                                                                                                                               | 0.982570                                                                                                                        | NA                                                                                                                              | NA                                                                                                                              | 14.72350                                                                                                                        | 14.73670                                                                                                                        | 14.73320                                                                                                                        | 14.73320                                                                                                                        | 14.69150                                                                                                                        | 14.70660                                                                                                                        | \n",
       "| 619.2683                                                                                                                        |  598.3479                                                                                                                       |  4.03632                                                                                                                        | 2                                                                                                                               | 0.626087                                                                                                                        | CYAVSGWPGKK/DIHDISLNLR/ISVDSATMMNK/IYPSVKDFVK                                                                                   | sp|P17802|MUTY_ECOLI/sp|P45568|DXR_ECOLI/sp|Q43845|SPSA_SOLTU/sp|Q9ST62|NDB1_SOLTU                                              |  5.24973                                                                                                                        |  5.31606                                                                                                                        |  3.18005                                                                                                                        |  2.00266                                                                                                                        |  5.63899                                                                                                                        |  2.83046                                                                                                                        | \n",
       "| 641.4936                                                                                                                        | 1049.5615                                                                                                                       |  7.03696                                                                                                                        | 1                                                                                                                               | 0.868349                                                                                                                        | GALGGDVYLGK/GFLTVDEIR/MGFAIAAAAAR/VGNLNAYFR                                                                                     | sp|P0ABQ0|COABC_ECOLI/sp|P17979|API8_SOLTU/sp|P30745|MOAA_ECOLI/sp|P58519|API5_SOLTU/sp|Q03197|API10_SOLTU/sp|Q43646|API2_SOLTU |  7.77064                                                                                                                        |  6.21096                                                                                                                        |  7.43814                                                                                                                        |  7.14611                                                                                                                        |  6.54429                                                                                                                        |  7.11163                                                                                                                        | \n",
       "| 630.4054                                                                                                                        |  446.5379                                                                                                                       |  6.08315                                                                                                                        | 2                                                                                                                               | 0.561490                                                                                                                        | ELEVFVR/FWDRLR/FWRDLR/MSYLNLR/NPFLGCNK/TVALFRGK                                                                                 | sp|P0A8M3|SYT_ECOLI/sp|P30130|FIMD_ECOLI/sp|P32088|MATK_SOLTU/sp|P60584|CAIA_ECOLI/sp|P62517|OPGH_ECOLI/sp|P76084|PAAI_ECOLI    |  7.75447                                                                                                                        |  7.24843                                                                                                                        |  5.89693                                                                                                                        |  7.91458                                                                                                                        |  2.63139                                                                                                                        |  5.05307                                                                                                                        | \n",
       "| 813.1883                                                                                                                        |  645.9428                                                                                                                       |  3.86102                                                                                                                        | 3                                                                                                                               | 0.864484                                                                                                                        | GFAPVIHGIARGTAQVTIK/ISSVETMEAWVSQQRGK/LQLRDMAFNSPNSEWK/VASTAARAITSPSSLVFTR/YRVALDSDAWEFGGHGR                                    | sp|P30130|FIMD_ECOLI/sp|P30924|GLGB_SOLTU/sp|P31433|YICH_ECOLI/sp|Q07511|FDH_SOLTU/sp|Q43845|SPSA_SOLTU                         |  4.75854                                                                                                                        |  3.91385                                                                                                                        |  3.79878                                                                                                                        |  3.19971                                                                                                                        |  3.72088                                                                                                                        |  3.77434                                                                                                                        | \n",
       "| 676.1200                                                                                                                        |  272.2637                                                                                                                       |  5.56952                                                                                                                        | 1                                                                                                                               | 0.983663                                                                                                                        | NA                                                                                                                              | NA                                                                                                                              |  5.56952                                                                                                                        |  5.56952                                                                                                                        |  5.56952                                                                                                                        |  5.56952                                                                                                                        |  5.56952                                                                                                                        |  5.56952                                                                                                                        | \n",
       "\n",
       "\n"
      ],
      "text/plain": [
       "  X.rt_cf  mz_cf     intensity_cf charge_cf quality_cf\n",
       "1 758.0202  251.2006 14.72080     1         0.982570  \n",
       "2 619.2683  598.3479  4.03632     2         0.626087  \n",
       "3 641.4936 1049.5615  7.03696     1         0.868349  \n",
       "4 630.4054  446.5379  6.08315     2         0.561490  \n",
       "5 813.1883  645.9428  3.86102     3         0.864484  \n",
       "6 676.1200  272.2637  5.56952     1         0.983663  \n",
       "  peptide_0                                                                                   \n",
       "1 NA                                                                                          \n",
       "2 CYAVSGWPGKK/DIHDISLNLR/ISVDSATMMNK/IYPSVKDFVK                                               \n",
       "3 GALGGDVYLGK/GFLTVDEIR/MGFAIAAAAAR/VGNLNAYFR                                                 \n",
       "4 ELEVFVR/FWDRLR/FWRDLR/MSYLNLR/NPFLGCNK/TVALFRGK                                             \n",
       "5 GFAPVIHGIARGTAQVTIK/ISSVETMEAWVSQQRGK/LQLRDMAFNSPNSEWK/VASTAARAITSPSSLVFTR/YRVALDSDAWEFGGHGR\n",
       "6 NA                                                                                          \n",
       "  protein_0                                                                                                                      \n",
       "1 NA                                                                                                                             \n",
       "2 sp|P17802|MUTY_ECOLI/sp|P45568|DXR_ECOLI/sp|Q43845|SPSA_SOLTU/sp|Q9ST62|NDB1_SOLTU                                             \n",
       "3 sp|P0ABQ0|COABC_ECOLI/sp|P17979|API8_SOLTU/sp|P30745|MOAA_ECOLI/sp|P58519|API5_SOLTU/sp|Q03197|API10_SOLTU/sp|Q43646|API2_SOLTU\n",
       "4 sp|P0A8M3|SYT_ECOLI/sp|P30130|FIMD_ECOLI/sp|P32088|MATK_SOLTU/sp|P60584|CAIA_ECOLI/sp|P62517|OPGH_ECOLI/sp|P76084|PAAI_ECOLI   \n",
       "5 sp|P30130|FIMD_ECOLI/sp|P30924|GLGB_SOLTU/sp|P31433|YICH_ECOLI/sp|Q07511|FDH_SOLTU/sp|Q43845|SPSA_SOLTU                        \n",
       "6 NA                                                                                                                             \n",
       "  l1       l2       l3       h1       h2       h3      \n",
       "1 14.72350 14.73670 14.73320 14.73320 14.69150 14.70660\n",
       "2  5.24973  5.31606  3.18005  2.00266  5.63899  2.83046\n",
       "3  7.77064  6.21096  7.43814  7.14611  6.54429  7.11163\n",
       "4  7.75447  7.24843  5.89693  7.91458  2.63139  5.05307\n",
       "5  4.75854  3.91385  3.79878  3.19971  3.72088  3.77434\n",
       "6  5.56952  5.56952  5.56952  5.56952  5.56952  5.56952"
      ]
     },
     "metadata": {},
     "output_type": "display_data"
    }
   ],
   "source": [
    "head(raw_data_df)"
   ]
  },
  {
   "cell_type": "code",
   "execution_count": 58,
   "metadata": {
    "ExecuteTime": {
     "end_time": "2017-11-03T15:53:55.328624Z",
     "start_time": "2017-11-03T15:53:55.303Z"
    },
    "collapsed": true
   },
   "outputs": [],
   "source": [
    "parse_annot <- function(annot_string) {\n",
    "    \n",
    "    if (is.na(annot_string)) {\n",
    "        return (-2)\n",
    "    }\n",
    "    \n",
    "    fields <- unlist(strsplit(as.character(annot_string), \"/\"))\n",
    "#     print(fields)\n",
    "    print(fields)\n",
    "    annots <- sapply(fields, function(field) { unlist(strsplit(field, \"_\"))[[2]] })\n",
    "#     print(unique(annots))\n",
    "    uniq_annots <- unique(annots)\n",
    "    print(uniq_annots)\n",
    "    \n",
    "    if (length(uniq_annots) != 1) {\n",
    "        -1\n",
    "    }\n",
    "    else if (uniq_annots == \"SOLTU\") {\n",
    "        1\n",
    "    }\n",
    "    else if (uniq_annots == \"ECOLI\") {\n",
    "        0\n",
    "    }\n",
    "    else {\n",
    "        stop(paste0(\"Unknown annotation: \", uniq_annots[1]))\n",
    "    }\n",
    "}"
   ]
  },
  {
   "cell_type": "code",
   "execution_count": 47,
   "metadata": {
    "ExecuteTime": {
     "end_time": "2017-11-03T15:47:55.661160Z",
     "start_time": "2017-11-03T15:47:55.643Z"
    }
   },
   "outputs": [
    {
     "name": "stdout",
     "output_type": "stream",
     "text": [
      " [1] NA                                                                                                                                                  \n",
      " [2] \"sp|P17802|MUTY_ECOLI/sp|P45568|DXR_ECOLI/sp|Q43845|SPSA_SOLTU/sp|Q9ST62|NDB1_SOLTU\"                                                                \n",
      " [3] \"sp|P0ABQ0|COABC_ECOLI/sp|P17979|API8_SOLTU/sp|P30745|MOAA_ECOLI/sp|P58519|API5_SOLTU/sp|Q03197|API10_SOLTU/sp|Q43646|API2_SOLTU\"                   \n",
      " [4] \"sp|P0A8M3|SYT_ECOLI/sp|P30130|FIMD_ECOLI/sp|P32088|MATK_SOLTU/sp|P60584|CAIA_ECOLI/sp|P62517|OPGH_ECOLI/sp|P76084|PAAI_ECOLI\"                      \n",
      " [5] \"sp|P30130|FIMD_ECOLI/sp|P30924|GLGB_SOLTU/sp|P31433|YICH_ECOLI/sp|Q07511|FDH_SOLTU/sp|Q43845|SPSA_SOLTU\"                                           \n",
      " [6] NA                                                                                                                                                  \n",
      " [7] \"sp|P08200|IDH_ECOLI/sp|P0ADD5|YJJP_ECOLI/sp|P24082|TRAN_ECOLI/sp|P39285|MSCM_ECOLI/sp|P76346|MTFA_ECOLI\"                                           \n",
      " [8] \"sp|P05194|AROD_ECOLI/sp|P08200|IDH_ECOLI/sp|P0A8A2|YEEN_ECOLI/sp|P16919|RHSD_ECOLI/sp|P34094|PHYB_SOLTU/sp|P52124|YFJI_ECOLI/sp|Q2VEI6|RPOC2_SOLTU\"\n",
      " [9] \"sp|O64390|HXK1_SOLTU/sp|P0A867|TALA_ECOLI/sp|P12995|BIOA_ECOLI/sp|P26576|RBSB_SOLTU/sp|P38684|TORR_ECOLI/sp|P55138|YGCE_ECOLI\"                     \n",
      "[10] \"sp|P0ACN7|CYTR_ECOLI/sp|P23898|NLPC_ECOLI/sp|P24082|TRAN_ECOLI/sp|P42588|PAT_ECOLI/sp|Q9AWA5|GWD1_SOLTU\"                                           \n"
     ]
    }
   ],
   "source": [
    "print(as.character(prot_col[1:10]))"
   ]
  },
  {
   "cell_type": "code",
   "execution_count": 59,
   "metadata": {
    "ExecuteTime": {
     "end_time": "2017-11-03T15:53:57.314665Z",
     "start_time": "2017-11-03T15:53:57.266Z"
    }
   },
   "outputs": [
    {
     "name": "stdout",
     "output_type": "stream",
     "text": [
      "[1] \"sp|P17802|MUTY_ECOLI\" \"sp|P45568|DXR_ECOLI\"  \"sp|Q43845|SPSA_SOLTU\"\n",
      "[4] \"sp|Q9ST62|NDB1_SOLTU\"\n",
      "[1] \"ECOLI\" \"SOLTU\"\n",
      "[1] \"sp|P0ABQ0|COABC_ECOLI\" \"sp|P17979|API8_SOLTU\"  \"sp|P30745|MOAA_ECOLI\" \n",
      "[4] \"sp|P58519|API5_SOLTU\"  \"sp|Q03197|API10_SOLTU\" \"sp|Q43646|API2_SOLTU\" \n",
      "[1] \"ECOLI\" \"SOLTU\"\n",
      "[1] \"sp|P0A8M3|SYT_ECOLI\"  \"sp|P30130|FIMD_ECOLI\" \"sp|P32088|MATK_SOLTU\"\n",
      "[4] \"sp|P60584|CAIA_ECOLI\" \"sp|P62517|OPGH_ECOLI\" \"sp|P76084|PAAI_ECOLI\"\n",
      "[1] \"ECOLI\" \"SOLTU\"\n",
      "[1] \"sp|P30130|FIMD_ECOLI\" \"sp|P30924|GLGB_SOLTU\" \"sp|P31433|YICH_ECOLI\"\n",
      "[4] \"sp|Q07511|FDH_SOLTU\"  \"sp|Q43845|SPSA_SOLTU\"\n",
      "[1] \"ECOLI\" \"SOLTU\"\n",
      "[1] \"sp|P08200|IDH_ECOLI\"  \"sp|P0ADD5|YJJP_ECOLI\" \"sp|P24082|TRAN_ECOLI\"\n",
      "[4] \"sp|P39285|MSCM_ECOLI\" \"sp|P76346|MTFA_ECOLI\"\n",
      "[1] \"ECOLI\"\n",
      "[1] \"sp|P05194|AROD_ECOLI\"  \"sp|P08200|IDH_ECOLI\"   \"sp|P0A8A2|YEEN_ECOLI\" \n",
      "[4] \"sp|P16919|RHSD_ECOLI\"  \"sp|P34094|PHYB_SOLTU\"  \"sp|P52124|YFJI_ECOLI\" \n",
      "[7] \"sp|Q2VEI6|RPOC2_SOLTU\"\n",
      "[1] \"ECOLI\" \"SOLTU\"\n",
      "[1] \"sp|O64390|HXK1_SOLTU\" \"sp|P0A867|TALA_ECOLI\" \"sp|P12995|BIOA_ECOLI\"\n",
      "[4] \"sp|P26576|RBSB_SOLTU\" \"sp|P38684|TORR_ECOLI\" \"sp|P55138|YGCE_ECOLI\"\n",
      "[1] \"SOLTU\" \"ECOLI\"\n",
      "[1] \"sp|P0ACN7|CYTR_ECOLI\" \"sp|P23898|NLPC_ECOLI\" \"sp|P24082|TRAN_ECOLI\"\n",
      "[4] \"sp|P42588|PAT_ECOLI\"  \"sp|Q9AWA5|GWD1_SOLTU\"\n",
      "[1] \"ECOLI\" \"SOLTU\"\n"
     ]
    },
    {
     "data": {
      "text/html": [
       "<dl class=dl-horizontal>\n",
       "\t<dt>1</dt>\n",
       "\t\t<dd>-2</dd>\n",
       "\t<dt>sp|P17802|MUTY_ECOLI/sp|P45568|DXR_ECOLI/sp|Q43845|SPSA_SOLTU/sp|Q9ST62|NDB1_SOLTU</dt>\n",
       "\t\t<dd>-1</dd>\n",
       "\t<dt>sp|P0ABQ0|COABC_ECOLI/sp|P17979|API8_SOLTU/sp|P30745|MOAA_ECOLI/sp|P58519|API5_SOLTU/sp|Q03197|API10_SOLTU/sp|Q43646|API2_SOLTU</dt>\n",
       "\t\t<dd>-1</dd>\n",
       "\t<dt>sp|P0A8M3|SYT_ECOLI/sp|P30130|FIMD_ECOLI/sp|P32088|MATK_SOLTU/sp|P60584|CAIA_ECOLI/sp|P62517|OPGH_ECOLI/sp|P76084|PAAI_ECOLI</dt>\n",
       "\t\t<dd>-1</dd>\n",
       "\t<dt>sp|P30130|FIMD_ECOLI/sp|P30924|GLGB_SOLTU/sp|P31433|YICH_ECOLI/sp|Q07511|FDH_SOLTU/sp|Q43845|SPSA_SOLTU</dt>\n",
       "\t\t<dd>-1</dd>\n",
       "\t<dt>6</dt>\n",
       "\t\t<dd>-2</dd>\n",
       "\t<dt>sp|P08200|IDH_ECOLI/sp|P0ADD5|YJJP_ECOLI/sp|P24082|TRAN_ECOLI/sp|P39285|MSCM_ECOLI/sp|P76346|MTFA_ECOLI</dt>\n",
       "\t\t<dd>0</dd>\n",
       "\t<dt>sp|P05194|AROD_ECOLI/sp|P08200|IDH_ECOLI/sp|P0A8A2|YEEN_ECOLI/sp|P16919|RHSD_ECOLI/sp|P34094|PHYB_SOLTU/sp|P52124|YFJI_ECOLI/sp|Q2VEI6|RPOC2_SOLTU</dt>\n",
       "\t\t<dd>-1</dd>\n",
       "\t<dt>sp|O64390|HXK1_SOLTU/sp|P0A867|TALA_ECOLI/sp|P12995|BIOA_ECOLI/sp|P26576|RBSB_SOLTU/sp|P38684|TORR_ECOLI/sp|P55138|YGCE_ECOLI</dt>\n",
       "\t\t<dd>-1</dd>\n",
       "\t<dt>sp|P0ACN7|CYTR_ECOLI/sp|P23898|NLPC_ECOLI/sp|P24082|TRAN_ECOLI/sp|P42588|PAT_ECOLI/sp|Q9AWA5|GWD1_SOLTU</dt>\n",
       "\t\t<dd>-1</dd>\n",
       "</dl>\n"
      ],
      "text/latex": [
       "\\begin{description*}\n",
       "\\item[1] -2\n",
       "\\item[sp\\textbackslash{}textbar\\{\\}P17802\\textbackslash{}textbar\\{\\}MUTY\\textbackslash{}\\_ECOLI/sp\\textbackslash{}textbar\\{\\}P45568\\textbackslash{}textbar\\{\\}DXR\\textbackslash{}\\_ECOLI/sp\\textbackslash{}textbar\\{\\}Q43845\\textbackslash{}textbar\\{\\}SPSA\\textbackslash{}\\_SOLTU/sp\\textbackslash{}textbar\\{\\}Q9ST62\\textbackslash{}textbar\\{\\}NDB1\\textbackslash{}\\_SOLTU] -1\n",
       "\\item[sp\\textbackslash{}textbar\\{\\}P0ABQ0\\textbackslash{}textbar\\{\\}COABC\\textbackslash{}\\_ECOLI/sp\\textbackslash{}textbar\\{\\}P17979\\textbackslash{}textbar\\{\\}API8\\textbackslash{}\\_SOLTU/sp\\textbackslash{}textbar\\{\\}P30745\\textbackslash{}textbar\\{\\}MOAA\\textbackslash{}\\_ECOLI/sp\\textbackslash{}textbar\\{\\}P58519\\textbackslash{}textbar\\{\\}API5\\textbackslash{}\\_SOLTU/sp\\textbackslash{}textbar\\{\\}Q03197\\textbackslash{}textbar\\{\\}API10\\textbackslash{}\\_SOLTU/sp\\textbackslash{}textbar\\{\\}Q43646\\textbackslash{}textbar\\{\\}API2\\textbackslash{}\\_SOLTU] -1\n",
       "\\item[sp\\textbackslash{}textbar\\{\\}P0A8M3\\textbackslash{}textbar\\{\\}SYT\\textbackslash{}\\_ECOLI/sp\\textbackslash{}textbar\\{\\}P30130\\textbackslash{}textbar\\{\\}FIMD\\textbackslash{}\\_ECOLI/sp\\textbackslash{}textbar\\{\\}P32088\\textbackslash{}textbar\\{\\}MATK\\textbackslash{}\\_SOLTU/sp\\textbackslash{}textbar\\{\\}P60584\\textbackslash{}textbar\\{\\}CAIA\\textbackslash{}\\_ECOLI/sp\\textbackslash{}textbar\\{\\}P62517\\textbackslash{}textbar\\{\\}OPGH\\textbackslash{}\\_ECOLI/sp\\textbackslash{}textbar\\{\\}P76084\\textbackslash{}textbar\\{\\}PAAI\\textbackslash{}\\_ECOLI] -1\n",
       "\\item[sp\\textbackslash{}textbar\\{\\}P30130\\textbackslash{}textbar\\{\\}FIMD\\textbackslash{}\\_ECOLI/sp\\textbackslash{}textbar\\{\\}P30924\\textbackslash{}textbar\\{\\}GLGB\\textbackslash{}\\_SOLTU/sp\\textbackslash{}textbar\\{\\}P31433\\textbackslash{}textbar\\{\\}YICH\\textbackslash{}\\_ECOLI/sp\\textbackslash{}textbar\\{\\}Q07511\\textbackslash{}textbar\\{\\}FDH\\textbackslash{}\\_SOLTU/sp\\textbackslash{}textbar\\{\\}Q43845\\textbackslash{}textbar\\{\\}SPSA\\textbackslash{}\\_SOLTU] -1\n",
       "\\item[6] -2\n",
       "\\item[sp\\textbackslash{}textbar\\{\\}P08200\\textbackslash{}textbar\\{\\}IDH\\textbackslash{}\\_ECOLI/sp\\textbackslash{}textbar\\{\\}P0ADD5\\textbackslash{}textbar\\{\\}YJJP\\textbackslash{}\\_ECOLI/sp\\textbackslash{}textbar\\{\\}P24082\\textbackslash{}textbar\\{\\}TRAN\\textbackslash{}\\_ECOLI/sp\\textbackslash{}textbar\\{\\}P39285\\textbackslash{}textbar\\{\\}MSCM\\textbackslash{}\\_ECOLI/sp\\textbackslash{}textbar\\{\\}P76346\\textbackslash{}textbar\\{\\}MTFA\\textbackslash{}\\_ECOLI] 0\n",
       "\\item[sp\\textbackslash{}textbar\\{\\}P05194\\textbackslash{}textbar\\{\\}AROD\\textbackslash{}\\_ECOLI/sp\\textbackslash{}textbar\\{\\}P08200\\textbackslash{}textbar\\{\\}IDH\\textbackslash{}\\_ECOLI/sp\\textbackslash{}textbar\\{\\}P0A8A2\\textbackslash{}textbar\\{\\}YEEN\\textbackslash{}\\_ECOLI/sp\\textbackslash{}textbar\\{\\}P16919\\textbackslash{}textbar\\{\\}RHSD\\textbackslash{}\\_ECOLI/sp\\textbackslash{}textbar\\{\\}P34094\\textbackslash{}textbar\\{\\}PHYB\\textbackslash{}\\_SOLTU/sp\\textbackslash{}textbar\\{\\}P52124\\textbackslash{}textbar\\{\\}YFJI\\textbackslash{}\\_ECOLI/sp\\textbackslash{}textbar\\{\\}Q2VEI6\\textbackslash{}textbar\\{\\}RPOC2\\textbackslash{}\\_SOLTU] -1\n",
       "\\item[sp\\textbackslash{}textbar\\{\\}O64390\\textbackslash{}textbar\\{\\}HXK1\\textbackslash{}\\_SOLTU/sp\\textbackslash{}textbar\\{\\}P0A867\\textbackslash{}textbar\\{\\}TALA\\textbackslash{}\\_ECOLI/sp\\textbackslash{}textbar\\{\\}P12995\\textbackslash{}textbar\\{\\}BIOA\\textbackslash{}\\_ECOLI/sp\\textbackslash{}textbar\\{\\}P26576\\textbackslash{}textbar\\{\\}RBSB\\textbackslash{}\\_SOLTU/sp\\textbackslash{}textbar\\{\\}P38684\\textbackslash{}textbar\\{\\}TORR\\textbackslash{}\\_ECOLI/sp\\textbackslash{}textbar\\{\\}P55138\\textbackslash{}textbar\\{\\}YGCE\\textbackslash{}\\_ECOLI] -1\n",
       "\\item[sp\\textbackslash{}textbar\\{\\}P0ACN7\\textbackslash{}textbar\\{\\}CYTR\\textbackslash{}\\_ECOLI/sp\\textbackslash{}textbar\\{\\}P23898\\textbackslash{}textbar\\{\\}NLPC\\textbackslash{}\\_ECOLI/sp\\textbackslash{}textbar\\{\\}P24082\\textbackslash{}textbar\\{\\}TRAN\\textbackslash{}\\_ECOLI/sp\\textbackslash{}textbar\\{\\}P42588\\textbackslash{}textbar\\{\\}PAT\\textbackslash{}\\_ECOLI/sp\\textbackslash{}textbar\\{\\}Q9AWA5\\textbackslash{}textbar\\{\\}GWD1\\textbackslash{}\\_SOLTU] -1\n",
       "\\end{description*}\n"
      ],
      "text/markdown": [
       "1\n",
       ":   -2sp|P17802|MUTY_ECOLI/sp|P45568|DXR_ECOLI/sp|Q43845|SPSA_SOLTU/sp|Q9ST62|NDB1_SOLTU\n",
       ":   -1sp|P0ABQ0|COABC_ECOLI/sp|P17979|API8_SOLTU/sp|P30745|MOAA_ECOLI/sp|P58519|API5_SOLTU/sp|Q03197|API10_SOLTU/sp|Q43646|API2_SOLTU\n",
       ":   -1sp|P0A8M3|SYT_ECOLI/sp|P30130|FIMD_ECOLI/sp|P32088|MATK_SOLTU/sp|P60584|CAIA_ECOLI/sp|P62517|OPGH_ECOLI/sp|P76084|PAAI_ECOLI\n",
       ":   -1sp|P30130|FIMD_ECOLI/sp|P30924|GLGB_SOLTU/sp|P31433|YICH_ECOLI/sp|Q07511|FDH_SOLTU/sp|Q43845|SPSA_SOLTU\n",
       ":   -16\n",
       ":   -2sp|P08200|IDH_ECOLI/sp|P0ADD5|YJJP_ECOLI/sp|P24082|TRAN_ECOLI/sp|P39285|MSCM_ECOLI/sp|P76346|MTFA_ECOLI\n",
       ":   0sp|P05194|AROD_ECOLI/sp|P08200|IDH_ECOLI/sp|P0A8A2|YEEN_ECOLI/sp|P16919|RHSD_ECOLI/sp|P34094|PHYB_SOLTU/sp|P52124|YFJI_ECOLI/sp|Q2VEI6|RPOC2_SOLTU\n",
       ":   -1sp|O64390|HXK1_SOLTU/sp|P0A867|TALA_ECOLI/sp|P12995|BIOA_ECOLI/sp|P26576|RBSB_SOLTU/sp|P38684|TORR_ECOLI/sp|P55138|YGCE_ECOLI\n",
       ":   -1sp|P0ACN7|CYTR_ECOLI/sp|P23898|NLPC_ECOLI/sp|P24082|TRAN_ECOLI/sp|P42588|PAT_ECOLI/sp|Q9AWA5|GWD1_SOLTU\n",
       ":   -1\n",
       "\n"
      ],
      "text/plain": [
       "                                                                                                                                              <NA> \n",
       "                                                                                                                                                -2 \n",
       "                                                                sp|P17802|MUTY_ECOLI/sp|P45568|DXR_ECOLI/sp|Q43845|SPSA_SOLTU/sp|Q9ST62|NDB1_SOLTU \n",
       "                                                                                                                                                -1 \n",
       "                   sp|P0ABQ0|COABC_ECOLI/sp|P17979|API8_SOLTU/sp|P30745|MOAA_ECOLI/sp|P58519|API5_SOLTU/sp|Q03197|API10_SOLTU/sp|Q43646|API2_SOLTU \n",
       "                                                                                                                                                -1 \n",
       "                      sp|P0A8M3|SYT_ECOLI/sp|P30130|FIMD_ECOLI/sp|P32088|MATK_SOLTU/sp|P60584|CAIA_ECOLI/sp|P62517|OPGH_ECOLI/sp|P76084|PAAI_ECOLI \n",
       "                                                                                                                                                -1 \n",
       "                                           sp|P30130|FIMD_ECOLI/sp|P30924|GLGB_SOLTU/sp|P31433|YICH_ECOLI/sp|Q07511|FDH_SOLTU/sp|Q43845|SPSA_SOLTU \n",
       "                                                                                                                                                -1 \n",
       "                                                                                                                                              <NA> \n",
       "                                                                                                                                                -2 \n",
       "                                           sp|P08200|IDH_ECOLI/sp|P0ADD5|YJJP_ECOLI/sp|P24082|TRAN_ECOLI/sp|P39285|MSCM_ECOLI/sp|P76346|MTFA_ECOLI \n",
       "                                                                                                                                                 0 \n",
       "sp|P05194|AROD_ECOLI/sp|P08200|IDH_ECOLI/sp|P0A8A2|YEEN_ECOLI/sp|P16919|RHSD_ECOLI/sp|P34094|PHYB_SOLTU/sp|P52124|YFJI_ECOLI/sp|Q2VEI6|RPOC2_SOLTU \n",
       "                                                                                                                                                -1 \n",
       "                     sp|O64390|HXK1_SOLTU/sp|P0A867|TALA_ECOLI/sp|P12995|BIOA_ECOLI/sp|P26576|RBSB_SOLTU/sp|P38684|TORR_ECOLI/sp|P55138|YGCE_ECOLI \n",
       "                                                                                                                                                -1 \n",
       "                                           sp|P0ACN7|CYTR_ECOLI/sp|P23898|NLPC_ECOLI/sp|P24082|TRAN_ECOLI/sp|P42588|PAT_ECOLI/sp|Q9AWA5|GWD1_SOLTU \n",
       "                                                                                                                                                -1 "
      ]
     },
     "metadata": {},
     "output_type": "display_data"
    }
   ],
   "source": [
    "sapply(as.character(prot_col[1:10]), parse_annot)"
   ]
  },
  {
   "cell_type": "markdown",
   "metadata": {},
   "source": [
    "# Overview visualization"
   ]
  },
  {
   "cell_type": "code",
   "execution_count": 60,
   "metadata": {
    "ExecuteTime": {
     "end_time": "2017-11-03T15:54:10.113520Z",
     "start_time": "2017-11-03T15:54:10.034Z"
    }
   },
   "outputs": [
    {
     "ename": "ERROR",
     "evalue": "Error in prcomp.default(t(expr_m_nona), scale = TRUE, center = TRUE): cannot rescale a constant/zero column to unit variance\n",
     "output_type": "error",
     "traceback": [
      "Error in prcomp.default(t(expr_m_nona), scale = TRUE, center = TRUE): cannot rescale a constant/zero column to unit variance\nTraceback:\n",
      "1. plot_pca(data_df, design_df, 1, 2, \"condition\", colors = 2, custom_names = design_df$name, \n .     legend = F)",
      "2. make_expression_pca(data_m, design_m, color_factor = color_factor, \n .     title = title, pca_axis1 = pc1, pca_axis2 = pc2, show_labels = T, \n .     only_text = T, color_text = T, custom_names = custom_names)   # at line 7-9 of file <text>",
      "3. plotPCA.custom(expr_m, cond_m, intgroup = c(color_factor, shape_factor, \n .     size_factor), returnData = TRUE, pcs = c(pca_axis1, pca_axis2))",
      "4. get_pca_object(expr_m, verbose = verbose)",
      "5. prcomp(t(expr_m_nona), scale = TRUE, center = TRUE)",
      "6. prcomp.default(t(expr_m_nona), scale = TRUE, center = TRUE)",
      "7. stop(\"cannot rescale a constant/zero column to unit variance\")"
     ]
    }
   ],
   "source": [
    "p1_1 <- plot_pca(data_df, design_df, 1, 2, \"condition\", colors=2, custom_names=design_df$name, legend=F)\n",
    "p1_2 <- plot_pca(data_df, design_df, 3, 4, \"condition\", colors=2, custom_names=design_df$name, legend=T, title_app=\"(test)\")\n",
    "options(repr.plot.width=10, repr.plot.height=5)\n",
    "multiplot(p1_1, p1_2, cols=2)\n"
   ]
  },
  {
   "cell_type": "markdown",
   "metadata": {},
   "source": [
    "# Differential expression"
   ]
  },
  {
   "cell_type": "code",
   "execution_count": null,
   "metadata": {
    "ExecuteTime": {
     "end_time": "2017-11-03T09:38:56.921022Z",
     "start_time": "2017-11-03T09:38:56.904Z"
    },
    "collapsed": true
   },
   "outputs": [],
   "source": [
    "calculate_anova <- function(row, cond) {\n",
    "    \n",
    "    anova_df <- data.frame(cbind(Intensity=unlist(row), Cond=cond))\n",
    "    \n",
    "    av <- aov(Intensity~Cond, anova_df)\n",
    "    av_summary <- summary(av)\n",
    "    p_val <- av_summary[[1]][\"Cond\", \"Pr(>F)\"]\n",
    "    p_val\n",
    "}"
   ]
  },
  {
   "cell_type": "code",
   "execution_count": null,
   "metadata": {
    "ExecuteTime": {
     "end_time": "2017-11-03T09:38:57.859149Z",
     "start_time": "2017-11-03T09:38:57.834Z"
    }
   },
   "outputs": [],
   "source": [
    "head(data_df)"
   ]
  },
  {
   "cell_type": "code",
   "execution_count": null,
   "metadata": {
    "ExecuteTime": {
     "end_time": "2017-11-03T09:39:31.082951Z",
     "start_time": "2017-11-03T09:38:58.731Z"
    }
   },
   "outputs": [],
   "source": [
    "p_vals <- apply(data_df, 1, calculate_anova, cond=design_df$condition)\n"
   ]
  },
  {
   "cell_type": "code",
   "execution_count": null,
   "metadata": {
    "ExecuteTime": {
     "end_time": "2017-11-03T09:39:31.096746Z",
     "start_time": "2017-11-03T09:39:11.374Z"
    },
    "collapsed": true
   },
   "outputs": [],
   "source": [
    "p_vals <- unlist(p_vals)\n",
    "q_vals <- p.adjust(p_vals, method=\"BH\")"
   ]
  },
  {
   "cell_type": "code",
   "execution_count": null,
   "metadata": {
    "ExecuteTime": {
     "end_time": "2017-11-03T09:39:31.138533Z",
     "start_time": "2017-11-03T09:39:11.935Z"
    }
   },
   "outputs": [],
   "source": [
    "length(p_vals)"
   ]
  },
  {
   "cell_type": "code",
   "execution_count": null,
   "metadata": {
    "ExecuteTime": {
     "end_time": "2017-11-03T09:52:59.594350Z",
     "start_time": "2017-11-03T09:52:59.580Z"
    }
   },
   "outputs": [],
   "source": [
    "length(p_vals[which(p_vals < 0.1)])\n",
    "sig_indices <- which(q_vals < 0.1)"
   ]
  },
  {
   "cell_type": "code",
   "execution_count": null,
   "metadata": {
    "ExecuteTime": {
     "end_time": "2017-11-03T09:53:10.174893Z",
     "start_time": "2017-11-03T09:53:10.146Z"
    }
   },
   "outputs": [],
   "source": [
    "head(raw_data_df[sig_indices,])"
   ]
  },
  {
   "cell_type": "code",
   "execution_count": null,
   "metadata": {
    "ExecuteTime": {
     "end_time": "2017-11-03T09:39:31.169700Z",
     "start_time": "2017-11-03T09:39:12.943Z"
    }
   },
   "outputs": [],
   "source": [
    "test_df <- cbind(Y=unlist(data_df[1,]), Cond=design_df$condition)\n",
    "print(test_df)\n",
    "summary(aov(Y~Cond, data.frame(test_df)))[[1]][\"Cond\", \"Pr(>F)\"]"
   ]
  },
  {
   "cell_type": "code",
   "execution_count": null,
   "metadata": {
    "ExecuteTime": {
     "end_time": "2017-11-03T09:39:31.184954Z",
     "start_time": "2017-11-03T09:39:13.408Z"
    }
   },
   "outputs": [],
   "source": [
    "raw_data_df[1,]"
   ]
  },
  {
   "cell_type": "code",
   "execution_count": null,
   "metadata": {
    "ExecuteTime": {
     "end_time": "2017-11-03T09:39:31.208273Z",
     "start_time": "2017-11-03T09:39:13.871Z"
    }
   },
   "outputs": [],
   "source": [
    "aov(data_df[1,])"
   ]
  },
  {
   "cell_type": "code",
   "execution_count": null,
   "metadata": {
    "ExecuteTime": {
     "end_time": "2017-11-03T09:39:31.209684Z",
     "start_time": "2017-11-03T09:39:14.319Z"
    },
    "collapsed": true
   },
   "outputs": [],
   "source": [
    "calculate_anova <- function(row, levels) {\n",
    "    fit <- \n",
    "}"
   ]
  }
 ],
 "metadata": {
  "kernelspec": {
   "display_name": "R",
   "language": "R",
   "name": "ir"
  },
  "language_info": {
   "codemirror_mode": "r",
   "file_extension": ".r",
   "mimetype": "text/x-r-source",
   "name": "R",
   "pygments_lexer": "r",
   "version": "3.4.2"
  },
  "toc": {
   "colors": {
    "hover_highlight": "#DAA520",
    "running_highlight": "#FF0000",
    "selected_highlight": "#FFD700"
   },
   "moveMenuLeft": true,
   "nav_menu": {
    "height": "66px",
    "width": "252px"
   },
   "navigate_menu": true,
   "number_sections": true,
   "sideBar": false,
   "threshold": 4,
   "toc_cell": true,
   "toc_section_display": "block",
   "toc_window_display": true,
   "widenNotebook": false
  }
 },
 "nbformat": 4,
 "nbformat_minor": 2
}
