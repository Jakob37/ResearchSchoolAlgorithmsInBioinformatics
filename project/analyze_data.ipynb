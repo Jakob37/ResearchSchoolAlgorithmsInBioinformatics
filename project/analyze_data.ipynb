{
 "cells": [
  {
   "cell_type": "markdown",
   "metadata": {
    "toc": "true"
   },
   "source": [
    "# Table of Contents\n",
    " <p><div class=\"lev1 toc-item\"><a href=\"#Analyzing-data\" data-toc-modified-id=\"Analyzing-data-1\"><span class=\"toc-item-num\">1&nbsp;&nbsp;</span>Analyzing data</a></div><div class=\"lev2 toc-item\"><a href=\"#Dependencies\" data-toc-modified-id=\"Dependencies-11\"><span class=\"toc-item-num\">1.1&nbsp;&nbsp;</span>Dependencies</a></div><div class=\"lev2 toc-item\"><a href=\"#Batch-effect-approaches\" data-toc-modified-id=\"Batch-effect-approaches-12\"><span class=\"toc-item-num\">1.2&nbsp;&nbsp;</span>Batch effect approaches</a></div><div class=\"lev3 toc-item\"><a href=\"#No-batch-effect-compensation\" data-toc-modified-id=\"No-batch-effect-compensation-121\"><span class=\"toc-item-num\">1.2.1&nbsp;&nbsp;</span>No batch effect compensation</a></div><div class=\"lev3 toc-item\"><a href=\"#Batch-effect-compensation-build-into-the-statistical-model\" data-toc-modified-id=\"Batch-effect-compensation-build-into-the-statistical-model-122\"><span class=\"toc-item-num\">1.2.2&nbsp;&nbsp;</span>Batch effect compensation build into the statistical model</a></div><div class=\"lev3 toc-item\"><a href=\"#Removing-batch-effects-using-ComBat\" data-toc-modified-id=\"Removing-batch-effects-using-ComBat-123\"><span class=\"toc-item-num\">1.2.3&nbsp;&nbsp;</span>Removing batch effects using ComBat</a></div><div class=\"lev3 toc-item\"><a href=\"#Estimating-surrogate-variables-and-using-these-to-remove-batch-effects\" data-toc-modified-id=\"Estimating-surrogate-variables-and-using-these-to-remove-batch-effects-124\"><span class=\"toc-item-num\">1.2.4&nbsp;&nbsp;</span>Estimating surrogate variables and using these to remove batch effects</a></div><div class=\"lev2 toc-item\"><a href=\"#Visualizations\" data-toc-modified-id=\"Visualizations-13\"><span class=\"toc-item-num\">1.3&nbsp;&nbsp;</span>Visualizations</a></div><div class=\"lev2 toc-item\"><a href=\"#Conclusions\" data-toc-modified-id=\"Conclusions-14\"><span class=\"toc-item-num\">1.4&nbsp;&nbsp;</span>Conclusions</a></div><div class=\"lev1 toc-item\"><a href=\"#Setup\" data-toc-modified-id=\"Setup-2\"><span class=\"toc-item-num\">2&nbsp;&nbsp;</span>Setup</a></div><div class=\"lev2 toc-item\"><a href=\"#Parse-input\" data-toc-modified-id=\"Parse-input-21\"><span class=\"toc-item-num\">2.1&nbsp;&nbsp;</span>Parse input</a></div><div class=\"lev1 toc-item\"><a href=\"#Overview-visualization\" data-toc-modified-id=\"Overview-visualization-3\"><span class=\"toc-item-num\">3&nbsp;&nbsp;</span>Overview visualization</a></div><div class=\"lev1 toc-item\"><a href=\"#Differential-expression\" data-toc-modified-id=\"Differential-expression-4\"><span class=\"toc-item-num\">4&nbsp;&nbsp;</span>Differential expression</a></div><div class=\"lev2 toc-item\"><a href=\"#Without-batch-correction\" data-toc-modified-id=\"Without-batch-correction-41\"><span class=\"toc-item-num\">4.1&nbsp;&nbsp;</span>Without batch correction</a></div><div class=\"lev2 toc-item\"><a href=\"#With-batch-correction\" data-toc-modified-id=\"With-batch-correction-42\"><span class=\"toc-item-num\">4.2&nbsp;&nbsp;</span>With batch correction</a></div><div class=\"lev1 toc-item\"><a href=\"#Run-ComBat-to-adjust\" data-toc-modified-id=\"Run-ComBat-to-adjust-5\"><span class=\"toc-item-num\">5&nbsp;&nbsp;</span>Run ComBat to adjust</a></div><div class=\"lev2 toc-item\"><a href=\"#ComBat-modelling-condition\" data-toc-modified-id=\"ComBat-modelling-condition-51\"><span class=\"toc-item-num\">5.1&nbsp;&nbsp;</span>ComBat modelling condition</a></div><div class=\"lev2 toc-item\"><a href=\"#ComBat-PCA\" data-toc-modified-id=\"ComBat-PCA-52\"><span class=\"toc-item-num\">5.2&nbsp;&nbsp;</span>ComBat PCA</a></div><div class=\"lev3 toc-item\"><a href=\"#Calculate-statistics\" data-toc-modified-id=\"Calculate-statistics-521\"><span class=\"toc-item-num\">5.2.1&nbsp;&nbsp;</span>Calculate statistics</a></div><div class=\"lev2 toc-item\"><a href=\"#ComBat-not-modelling-biological-factor\" data-toc-modified-id=\"ComBat-not-modelling-biological-factor-53\"><span class=\"toc-item-num\">5.3&nbsp;&nbsp;</span>ComBat not modelling biological factor</a></div><div class=\"lev3 toc-item\"><a href=\"#ComBat-without-condition-modelling-PCA\" data-toc-modified-id=\"ComBat-without-condition-modelling-PCA-531\"><span class=\"toc-item-num\">5.3.1&nbsp;&nbsp;</span>ComBat without condition-modelling PCA</a></div><div class=\"lev3 toc-item\"><a href=\"#Statistics\" data-toc-modified-id=\"Statistics-532\"><span class=\"toc-item-num\">5.3.2&nbsp;&nbsp;</span>Statistics</a></div><div class=\"lev1 toc-item\"><a href=\"#Estimate-surrogate-variation\" data-toc-modified-id=\"Estimate-surrogate-variation-6\"><span class=\"toc-item-num\">6&nbsp;&nbsp;</span>Estimate surrogate variation</a></div><div class=\"lev2 toc-item\"><a href=\"#Setup-model-matrices-and-estimate-number-of-surrogate-variables\" data-toc-modified-id=\"Setup-model-matrices-and-estimate-number-of-surrogate-variables-61\"><span class=\"toc-item-num\">6.1&nbsp;&nbsp;</span>Setup model matrices and estimate number of surrogate variables</a></div><div class=\"lev2 toc-item\"><a href=\"#Perform-surrogate-variation-analysis\" data-toc-modified-id=\"Perform-surrogate-variation-analysis-62\"><span class=\"toc-item-num\">6.2&nbsp;&nbsp;</span>Perform surrogate variation analysis</a></div><div class=\"lev2 toc-item\"><a href=\"#Calculate-significance-values\" data-toc-modified-id=\"Calculate-significance-values-63\"><span class=\"toc-item-num\">6.3&nbsp;&nbsp;</span>Calculate significance values</a></div><div class=\"lev1 toc-item\"><a href=\"#Summarize-significance\" data-toc-modified-id=\"Summarize-significance-7\"><span class=\"toc-item-num\">7&nbsp;&nbsp;</span>Summarize significance</a></div>"
   ]
  },
  {
   "cell_type": "markdown",
   "metadata": {},
   "source": [
    "# Analyzing data\n",
    "\n",
    "In this part I explore how well we can distinguish spike-in proteins while working with samples under heavy influence from batch effects. Furthermore, I explore how different approaches for compensating for the batch effect influences the results in this simplified case.\n",
    "\n",
    "## Dependencies\n",
    "\n",
    "This analysis is purely performed in R. It uses the following R- and BioConductor-packages:\n",
    "\n",
    "* `ggplot2`\n",
    "* `ggfortify`\n",
    "* `ggdendro`\n",
    "* `gridExtra`\n",
    "* `sva`\n",
    "\n",
    "It also uses custom scripts for generation and visualization of the PCA components.\n",
    "\n",
    "## Batch effect approaches\n",
    "\n",
    "###  No batch effect compensation\n",
    "\n",
    "Contrasts are performed as if there were no batch effect\n",
    "\n",
    "### Batch effect compensation build into the statistical model\n",
    "\n",
    "The data is unchanged but the batch effect is added as a confounding factor in the ANOVA model.\n",
    "\n",
    "### Removing batch effects using ComBat\n",
    "\n",
    "ComBat is a tool (available as part of the `sva` BioConductor package) attempting to estimate and remove batch effects directly from the data. It produces a new dataset for which contrasts are performed without using a confounding factor.\n",
    "\n",
    "Batch effects are modelled in two ways. In one case, the ComBat model is provided information about the different conditions present in the data (as a vector of factors). In the second appraoch, the batch effects are modelled without providing information about the spike-in conditions to ComBat. \n",
    "\n",
    "One voiced concern about ComBat is that it can give 'wishful results' creating differences where there are none based on the modelled conditions. This is the reasoning behind running it without the biological condition as included input.\n",
    "\n",
    "### Estimating surrogate variables and using these to remove batch effects\n",
    "\n",
    "When running ComBat we use a known factor to model batch effects. When estimating the surrogate variables we instead estimate it directly from the data. P-values are then estimated using this information in addition to the raw data. This approarch is also part of the `sva` BioConductor package.\n",
    "\n",
    "## Visualizations\n",
    "\n",
    "I have used the PCA plot as the main tool to visualize the biological effect and the batch effect. In the unadjusted data, the batch effect clearly appears as the strongest effect being modelled by the principal component capturing 45% of the variation (might vary slightly between runs). The actual spike-in difference was modelled by the second, capturing 23% of the variance. \n",
    "\n",
    "After processing the data using ComBat the spike-in condition appears with the strongest effect showing 37% and 36% for data modelled with and without the condition levels. Based on this, ComBat seems to be doing a good job. On the other hand, when looking at the spikein data it didn't appear to work so well.\n",
    "\n",
    "## Conclusions\n",
    "\n",
    "The resulting spike-in values are shown at the end of this document under the header **Summarize significance**.\n",
    "\n",
    "For this dataset, batch correction methods all resulted in a higher number of true positives  being detected. The problem was that the number of false positives increased 2-4 times compared to without applying the batch correction. In this particular dataset, it is hard to argue that the batch corrections were beneficial.\n",
    "\n",
    "Out of the different methods used simply including the batch effect as a confounding factor in the statistical model was the method which included the least number of extra false positives.\n",
    "\n",
    "It should be noted though that this is a quite simple simulated dataset. If using a more complex dataset where the difference between biological samples is less clear the approaches here might show better results. \n",
    "\n",
    "To get a further understanding of how the different methods influence the dataset of interest (in particular for the ComBat approaches) one approach could be to pick out features showing different results between the methods and visualize how their individual intensities are influenced.\n",
    "\n",
    "What this experiment clearly indicates though is that one should tread carefully when performing further treatments to the data, and not take for granted that the used methods work well for all datasets. That the data sometimes even is better off without treatment.\n",
    "\n",
    "For further reading, I recommend taking a look at the Nature opinion-article: [Tackling the widespread and critical impact of batch effects in high-throughput data](https://www.nature.com/articles/nrg2825)"
   ]
  },
  {
   "cell_type": "markdown",
   "metadata": {},
   "source": [
    "# Setup\n",
    "\n",
    "Load the data and required scripts and libraries. Prepare the wrapper-function used to generate principal component visualizations."
   ]
  },
  {
   "cell_type": "code",
   "execution_count": 1,
   "metadata": {
    "ExecuteTime": {
     "end_time": "2017-11-13T10:23:09.048454Z",
     "start_time": "2017-11-13T10:23:08.876Z"
    },
    "collapsed": true
   },
   "outputs": [],
   "source": [
    "run <- \"example_data\"\n",
    "expression_fp <- paste0(run, \"/full_quant.tsv\")\n",
    "design_fp <- paste0(run, \"/design.tsv\")"
   ]
  },
  {
   "cell_type": "code",
   "execution_count": 2,
   "metadata": {
    "ExecuteTime": {
     "end_time": "2017-11-13T10:23:09.508481Z",
     "start_time": "2017-11-13T10:23:08.878Z"
    },
    "collapsed": true
   },
   "outputs": [],
   "source": [
    "source(\"util_scripts/proteomics_multivariate_vis.R\")\n",
    "source(\"util_scripts/visualization_utils.R\")\n"
   ]
  },
  {
   "cell_type": "code",
   "execution_count": 3,
   "metadata": {
    "ExecuteTime": {
     "end_time": "2017-11-13T10:23:11.745123Z",
     "start_time": "2017-11-13T10:23:08.880Z"
    }
   },
   "outputs": [
    {
     "name": "stderr",
     "output_type": "stream",
     "text": [
      "Loading required package: mgcv\n",
      "Loading required package: nlme\n",
      "This is mgcv 1.8-22. For overview type 'help(\"mgcv-package\")'.\n",
      "Loading required package: genefilter\n"
     ]
    }
   ],
   "source": [
    "library(ggplot2)\n",
    "library(ggfortify)\n",
    "library(ggdendro)\n",
    "library(gridExtra)\n",
    "library(sva)\n",
    "\n",
    "source(\"util_scripts/proteomics_multivariate_vis.R\")\n",
    "source(\"util_scripts/visualization_utils.R\")\n"
   ]
  },
  {
   "cell_type": "code",
   "execution_count": 4,
   "metadata": {
    "ExecuteTime": {
     "end_time": "2017-11-13T10:23:11.756617Z",
     "start_time": "2017-11-13T10:23:08.882Z"
    },
    "collapsed": true
   },
   "outputs": [],
   "source": [
    "plot_pca <- function(data_m, design_m, pc1, pc2, color_factor, colors, custom_names, legend=T, title_app=\"\", cont_scale=F) {\n",
    "    \n",
    "    if (!cont_scale) {\n",
    "        getPalette <- colorRampPalette(RColorBrewer::brewer.pal(9, \"Set1\"))        \n",
    "    }\n",
    "    title <- paste0(\"PCA, PC\", pc1, \" vs PC\", pc2, \" \", title_app)\n",
    "    plt <- make_expression_pca(data_m, design_m, color_factor=color_factor, title=title, \n",
    "                               pca_axis1=pc1, pca_axis2=pc2, show_labels=T,\n",
    "                               only_text=T, color_text=T, custom_names=custom_names)\n",
    "    if (!cont_scale) {\n",
    "        plt <- plt + scale_color_manual(values=getPalette(colors))        \n",
    "    }\n",
    "    \n",
    "    if (!legend) {\n",
    "        plt <- plt + theme(legend.position=\"none\")\n",
    "    }\n",
    "    \n",
    "    plt\n",
    "}"
   ]
  },
  {
   "cell_type": "markdown",
   "metadata": {},
   "source": [
    "## Parse input"
   ]
  },
  {
   "cell_type": "code",
   "execution_count": 5,
   "metadata": {
    "ExecuteTime": {
     "end_time": "2017-11-13T10:23:11.778117Z",
     "start_time": "2017-11-13T10:23:08.884Z"
    }
   },
   "outputs": [
    {
     "name": "stdout",
     "output_type": "stream",
     "text": [
      "   name biorepgroup techrepgroup condition batch sample\n",
      "1    a1           1            1         a     1     a1\n",
      "2    a2           2            1         a     1     a2\n",
      "3    a3           3            1         a     1     a3\n",
      "4    a4           4            1         a     2     a4\n",
      "5    a5           5            1         a     2     a5\n",
      "6    a6           6            1         a     2     a6\n",
      "7    b1           1            1         b     1     b1\n",
      "8    b2           2            1         b     1     b2\n",
      "9    b3           3            1         b     1     b3\n",
      "10   b4           4            1         b     2     b4\n",
      "11   b5           5            1         b     2     b5\n",
      "12   b6           6            1         b     2     b6\n"
     ]
    }
   ],
   "source": [
    "design_df <- read.csv(design_fp, sep=\"\\t\")\n",
    "design_df$sample <- design_df$name\n",
    "design_df$batch <- as.factor(design_df$batch)\n",
    "print(design_df)"
   ]
  },
  {
   "cell_type": "code",
   "execution_count": 6,
   "metadata": {
    "ExecuteTime": {
     "end_time": "2017-11-13T10:23:11.915326Z",
     "start_time": "2017-11-13T10:23:08.889Z"
    }
   },
   "outputs": [
    {
     "data": {
      "text/html": [
       "<table>\n",
       "<thead><tr><th scope=col>peptide</th><th scope=col>protein</th><th scope=col>a1</th><th scope=col>a2</th><th scope=col>a3</th><th scope=col>a4</th><th scope=col>a5</th><th scope=col>a6</th><th scope=col>b1</th><th scope=col>b2</th><th scope=col>b3</th><th scope=col>b4</th><th scope=col>b5</th><th scope=col>b6</th></tr></thead>\n",
       "<tbody>\n",
       "\t<tr><td>CLK                 </td><td>sp|P37127|AEGA_ECOLI</td><td> 27859100           </td><td> 47199200           </td><td> 48350400           </td><td> 87030800           </td><td> 64006700           </td><td> 66078900           </td><td> 36854100           </td><td> 21648000           </td><td> 29196300           </td><td> 72337000           </td><td> 73013000           </td><td> 74365200           </td></tr>\n",
       "\t<tr><td>FCR                 </td><td>sp|P0A7T7|RS18_ECOLI</td><td>140711604           </td><td>102465796           </td><td>120203200           </td><td>175086700           </td><td>200098700           </td><td>179798000           </td><td>119185600           </td><td>210603108           </td><td>166641100           </td><td>135449704           </td><td>169127700           </td><td>168260400           </td></tr>\n",
       "\t<tr><td>LCR                 </td><td>sp|Q9JMR4|YUBK_ECOLI</td><td> 49510300           </td><td> 59627600           </td><td> 34226700           </td><td> 61134400           </td><td> 79216496           </td><td> 65654900           </td><td> 41219500           </td><td> 50987400           </td><td> 55255100           </td><td> 80637000           </td><td> 77535504           </td><td> 96989904           </td></tr>\n",
       "\t<tr><td>FCQR                </td><td>sp|P39357|YJHF_ECOLI</td><td>144461200           </td><td>112001696           </td><td>140922100           </td><td>206195008           </td><td>225476008           </td><td>166140600           </td><td>235997400           </td><td> 85933000           </td><td> 89382100           </td><td>226930208           </td><td>133279800           </td><td>205833292           </td></tr>\n",
       "\t<tr><td>FLFK                </td><td>sp|P34094|PHYB_SOLTU</td><td> 99838500           </td><td>109387700           </td><td>138451200           </td><td>202539600           </td><td>163332600           </td><td>157562700           </td><td>227359600           </td><td>250199192           </td><td>231104092           </td><td>408702200           </td><td>366921216           </td><td>383277616           </td></tr>\n",
       "\t<tr><td>FYLS                </td><td>sp|A5A617|YDGU_ECOLI</td><td> 81157104           </td><td> 71129400           </td><td> 51876400           </td><td>109368000           </td><td> 99474200           </td><td> 98939400           </td><td> 92791800           </td><td> 95682704           </td><td> 88006096           </td><td>   213711           </td><td>   272874           </td><td>   290985           </td></tr>\n",
       "</tbody>\n",
       "</table>\n"
      ],
      "text/latex": [
       "\\begin{tabular}{r|llllllllllllll}\n",
       " peptide & protein & a1 & a2 & a3 & a4 & a5 & a6 & b1 & b2 & b3 & b4 & b5 & b6\\\\\n",
       "\\hline\n",
       "\t CLK                                        & sp\\textbar{}P37127\\textbar{}AEGA\\_ECOLI &  27859100                                  &  47199200                                  &  48350400                                  &  87030800                                  &  64006700                                  &  66078900                                  &  36854100                                  &  21648000                                  &  29196300                                  &  72337000                                  &  73013000                                  &  74365200                                 \\\\\n",
       "\t FCR                                        & sp\\textbar{}P0A7T7\\textbar{}RS18\\_ECOLI & 140711604                                  & 102465796                                  & 120203200                                  & 175086700                                  & 200098700                                  & 179798000                                  & 119185600                                  & 210603108                                  & 166641100                                  & 135449704                                  & 169127700                                  & 168260400                                 \\\\\n",
       "\t LCR                                        & sp\\textbar{}Q9JMR4\\textbar{}YUBK\\_ECOLI &  49510300                                  &  59627600                                  &  34226700                                  &  61134400                                  &  79216496                                  &  65654900                                  &  41219500                                  &  50987400                                  &  55255100                                  &  80637000                                  &  77535504                                  &  96989904                                 \\\\\n",
       "\t FCQR                                       & sp\\textbar{}P39357\\textbar{}YJHF\\_ECOLI & 144461200                                  & 112001696                                  & 140922100                                  & 206195008                                  & 225476008                                  & 166140600                                  & 235997400                                  &  85933000                                  &  89382100                                  & 226930208                                  & 133279800                                  & 205833292                                 \\\\\n",
       "\t FLFK                                       & sp\\textbar{}P34094\\textbar{}PHYB\\_SOLTU &  99838500                                  & 109387700                                  & 138451200                                  & 202539600                                  & 163332600                                  & 157562700                                  & 227359600                                  & 250199192                                  & 231104092                                  & 408702200                                  & 366921216                                  & 383277616                                 \\\\\n",
       "\t FYLS                                       & sp\\textbar{}A5A617\\textbar{}YDGU\\_ECOLI &  81157104                                  &  71129400                                  &  51876400                                  & 109368000                                  &  99474200                                  &  98939400                                  &  92791800                                  &  95682704                                  &  88006096                                  &    213711                                  &    272874                                  &    290985                                 \\\\\n",
       "\\end{tabular}\n"
      ],
      "text/markdown": [
       "\n",
       "peptide | protein | a1 | a2 | a3 | a4 | a5 | a6 | b1 | b2 | b3 | b4 | b5 | b6 | \n",
       "|---|---|---|---|---|---|\n",
       "| CLK                  | sp|P37127|AEGA_ECOLI |  27859100            |  47199200            |  48350400            |  87030800            |  64006700            |  66078900            |  36854100            |  21648000            |  29196300            |  72337000            |  73013000            |  74365200            | \n",
       "| FCR                  | sp|P0A7T7|RS18_ECOLI | 140711604            | 102465796            | 120203200            | 175086700            | 200098700            | 179798000            | 119185600            | 210603108            | 166641100            | 135449704            | 169127700            | 168260400            | \n",
       "| LCR                  | sp|Q9JMR4|YUBK_ECOLI |  49510300            |  59627600            |  34226700            |  61134400            |  79216496            |  65654900            |  41219500            |  50987400            |  55255100            |  80637000            |  77535504            |  96989904            | \n",
       "| FCQR                 | sp|P39357|YJHF_ECOLI | 144461200            | 112001696            | 140922100            | 206195008            | 225476008            | 166140600            | 235997400            |  85933000            |  89382100            | 226930208            | 133279800            | 205833292            | \n",
       "| FLFK                 | sp|P34094|PHYB_SOLTU |  99838500            | 109387700            | 138451200            | 202539600            | 163332600            | 157562700            | 227359600            | 250199192            | 231104092            | 408702200            | 366921216            | 383277616            | \n",
       "| FYLS                 | sp|A5A617|YDGU_ECOLI |  81157104            |  71129400            |  51876400            | 109368000            |  99474200            |  98939400            |  92791800            |  95682704            |  88006096            |    213711            |    272874            |    290985            | \n",
       "\n",
       "\n"
      ],
      "text/plain": [
       "  peptide protein              a1        a2        a3        a4       \n",
       "1 CLK     sp|P37127|AEGA_ECOLI  27859100  47199200  48350400  87030800\n",
       "2 FCR     sp|P0A7T7|RS18_ECOLI 140711604 102465796 120203200 175086700\n",
       "3 LCR     sp|Q9JMR4|YUBK_ECOLI  49510300  59627600  34226700  61134400\n",
       "4 FCQR    sp|P39357|YJHF_ECOLI 144461200 112001696 140922100 206195008\n",
       "5 FLFK    sp|P34094|PHYB_SOLTU  99838500 109387700 138451200 202539600\n",
       "6 FYLS    sp|A5A617|YDGU_ECOLI  81157104  71129400  51876400 109368000\n",
       "  a5        a6        b1        b2        b3        b4        b5       \n",
       "1  64006700  66078900  36854100  21648000  29196300  72337000  73013000\n",
       "2 200098700 179798000 119185600 210603108 166641100 135449704 169127700\n",
       "3  79216496  65654900  41219500  50987400  55255100  80637000  77535504\n",
       "4 225476008 166140600 235997400  85933000  89382100 226930208 133279800\n",
       "5 163332600 157562700 227359600 250199192 231104092 408702200 366921216\n",
       "6  99474200  98939400  92791800  95682704  88006096    213711    272874\n",
       "  b6       \n",
       "1  74365200\n",
       "2 168260400\n",
       "3  96989904\n",
       "4 205833292\n",
       "5 383277616\n",
       "6    290985"
      ]
     },
     "metadata": {},
     "output_type": "display_data"
    },
    {
     "data": {
      "text/html": [
       "<table>\n",
       "<thead><tr><th scope=col>a1</th><th scope=col>a2</th><th scope=col>a3</th><th scope=col>a4</th><th scope=col>a5</th><th scope=col>a6</th><th scope=col>b1</th><th scope=col>b2</th><th scope=col>b3</th><th scope=col>b4</th><th scope=col>b5</th><th scope=col>b6</th></tr></thead>\n",
       "<tbody>\n",
       "\t<tr><td>24.73165</td><td>25.49226</td><td>25.52702</td><td>26.37502</td><td>25.93172</td><td>25.97769</td><td>25.13532</td><td>24.36773</td><td>24.79928</td><td>26.10823</td><td>26.12165</td><td>26.14812</td></tr>\n",
       "\t<tr><td>27.06817</td><td>26.61057</td><td>26.84090</td><td>27.38349</td><td>27.57614</td><td>27.42180</td><td>26.82863</td><td>27.64995</td><td>27.31217</td><td>27.01318</td><td>27.33354</td><td>27.32612</td></tr>\n",
       "\t<tr><td>25.56123</td><td>25.82948</td><td>25.02862</td><td>25.86548</td><td>26.23930</td><td>25.96840</td><td>25.29682</td><td>25.60364</td><td>25.71960</td><td>26.26494</td><td>26.20835</td><td>26.53133</td></tr>\n",
       "\t<tr><td>27.10611</td><td>26.73895</td><td>27.07032</td><td>27.61943</td><td>27.74840</td><td>27.30783</td><td>27.81420</td><td>26.35671</td><td>26.41348</td><td>27.75767</td><td>26.98988</td><td>27.61690</td></tr>\n",
       "\t<tr><td>26.57309</td><td>26.70488</td><td>27.04480</td><td>27.59363</td><td>27.28324</td><td>27.23135</td><td>27.76040</td><td>27.89850</td><td>27.78397</td><td>28.60647</td><td>28.45090</td><td>28.51381</td></tr>\n",
       "\t<tr><td>26.27421</td><td>26.08394</td><td>25.62858</td><td>26.70462</td><td>26.56782</td><td>26.56004</td><td>26.46749</td><td>26.51175</td><td>26.39110</td><td>17.70530</td><td>18.05788</td><td>18.15059</td></tr>\n",
       "</tbody>\n",
       "</table>\n"
      ],
      "text/latex": [
       "\\begin{tabular}{r|llllllllllll}\n",
       " a1 & a2 & a3 & a4 & a5 & a6 & b1 & b2 & b3 & b4 & b5 & b6\\\\\n",
       "\\hline\n",
       "\t 24.73165 & 25.49226 & 25.52702 & 26.37502 & 25.93172 & 25.97769 & 25.13532 & 24.36773 & 24.79928 & 26.10823 & 26.12165 & 26.14812\\\\\n",
       "\t 27.06817 & 26.61057 & 26.84090 & 27.38349 & 27.57614 & 27.42180 & 26.82863 & 27.64995 & 27.31217 & 27.01318 & 27.33354 & 27.32612\\\\\n",
       "\t 25.56123 & 25.82948 & 25.02862 & 25.86548 & 26.23930 & 25.96840 & 25.29682 & 25.60364 & 25.71960 & 26.26494 & 26.20835 & 26.53133\\\\\n",
       "\t 27.10611 & 26.73895 & 27.07032 & 27.61943 & 27.74840 & 27.30783 & 27.81420 & 26.35671 & 26.41348 & 27.75767 & 26.98988 & 27.61690\\\\\n",
       "\t 26.57309 & 26.70488 & 27.04480 & 27.59363 & 27.28324 & 27.23135 & 27.76040 & 27.89850 & 27.78397 & 28.60647 & 28.45090 & 28.51381\\\\\n",
       "\t 26.27421 & 26.08394 & 25.62858 & 26.70462 & 26.56782 & 26.56004 & 26.46749 & 26.51175 & 26.39110 & 17.70530 & 18.05788 & 18.15059\\\\\n",
       "\\end{tabular}\n"
      ],
      "text/markdown": [
       "\n",
       "a1 | a2 | a3 | a4 | a5 | a6 | b1 | b2 | b3 | b4 | b5 | b6 | \n",
       "|---|---|---|---|---|---|\n",
       "| 24.73165 | 25.49226 | 25.52702 | 26.37502 | 25.93172 | 25.97769 | 25.13532 | 24.36773 | 24.79928 | 26.10823 | 26.12165 | 26.14812 | \n",
       "| 27.06817 | 26.61057 | 26.84090 | 27.38349 | 27.57614 | 27.42180 | 26.82863 | 27.64995 | 27.31217 | 27.01318 | 27.33354 | 27.32612 | \n",
       "| 25.56123 | 25.82948 | 25.02862 | 25.86548 | 26.23930 | 25.96840 | 25.29682 | 25.60364 | 25.71960 | 26.26494 | 26.20835 | 26.53133 | \n",
       "| 27.10611 | 26.73895 | 27.07032 | 27.61943 | 27.74840 | 27.30783 | 27.81420 | 26.35671 | 26.41348 | 27.75767 | 26.98988 | 27.61690 | \n",
       "| 26.57309 | 26.70488 | 27.04480 | 27.59363 | 27.28324 | 27.23135 | 27.76040 | 27.89850 | 27.78397 | 28.60647 | 28.45090 | 28.51381 | \n",
       "| 26.27421 | 26.08394 | 25.62858 | 26.70462 | 26.56782 | 26.56004 | 26.46749 | 26.51175 | 26.39110 | 17.70530 | 18.05788 | 18.15059 | \n",
       "\n",
       "\n"
      ],
      "text/plain": [
       "  a1       a2       a3       a4       a5       a6       b1       b2      \n",
       "1 24.73165 25.49226 25.52702 26.37502 25.93172 25.97769 25.13532 24.36773\n",
       "2 27.06817 26.61057 26.84090 27.38349 27.57614 27.42180 26.82863 27.64995\n",
       "3 25.56123 25.82948 25.02862 25.86548 26.23930 25.96840 25.29682 25.60364\n",
       "4 27.10611 26.73895 27.07032 27.61943 27.74840 27.30783 27.81420 26.35671\n",
       "5 26.57309 26.70488 27.04480 27.59363 27.28324 27.23135 27.76040 27.89850\n",
       "6 26.27421 26.08394 25.62858 26.70462 26.56782 26.56004 26.46749 26.51175\n",
       "  b3       b4       b5       b6      \n",
       "1 24.79928 26.10823 26.12165 26.14812\n",
       "2 27.31217 27.01318 27.33354 27.32612\n",
       "3 25.71960 26.26494 26.20835 26.53133\n",
       "4 26.41348 27.75767 26.98988 27.61690\n",
       "5 27.78397 28.60647 28.45090 28.51381\n",
       "6 26.39110 17.70530 18.05788 18.15059"
      ]
     },
     "metadata": {},
     "output_type": "display_data"
    }
   ],
   "source": [
    "raw_data_df <- read.csv(expression_fp, sep=\"\\t\")\n",
    "head(raw_data_df)\n",
    "raw_data_df$peptide <- as.character(raw_data_df$peptide)\n",
    "raw_data_df$protein <- as.character(raw_data_df$protein)\n",
    "data_df <- log2(raw_data_df[, as.character(design_df$name)])\n",
    "head(data_df)"
   ]
  },
  {
   "cell_type": "code",
   "execution_count": 7,
   "metadata": {
    "ExecuteTime": {
     "end_time": "2017-11-13T10:23:11.925010Z",
     "start_time": "2017-11-13T10:23:08.892Z"
    },
    "collapsed": true
   },
   "outputs": [],
   "source": [
    "parse_annot <- function(annot_string) {\n",
    "    \n",
    "    fields <- unlist(strsplit(as.character(annot_string), \"/\"))\n",
    "    annot <- sapply(fields, function(field) { unlist(strsplit(field, \"_\"))[[2]] })\n",
    "    \n",
    "    if (annot == \"SOLTU\") {\n",
    "        TRUE\n",
    "    }\n",
    "    else if (annot == \"ECOLI\") {\n",
    "        FALSE\n",
    "    }\n",
    "    else {\n",
    "        stop(paste0(\"Unknown annotation: \", annot))\n",
    "    }\n",
    "}"
   ]
  },
  {
   "cell_type": "code",
   "execution_count": 8,
   "metadata": {
    "ExecuteTime": {
     "end_time": "2017-11-13T10:23:12.025937Z",
     "start_time": "2017-11-13T10:23:08.896Z"
    }
   },
   "outputs": [
    {
     "data": {
      "text/html": [
       "<dl class=dl-horizontal>\n",
       "\t<dt>sp|P37127|AEGA_ECOLI</dt>\n",
       "\t\t<dd>FALSE</dd>\n",
       "\t<dt>sp|P0A7T7|RS18_ECOLI</dt>\n",
       "\t\t<dd>FALSE</dd>\n",
       "\t<dt>sp|Q9JMR4|YUBK_ECOLI</dt>\n",
       "\t\t<dd>FALSE</dd>\n",
       "\t<dt>sp|P39357|YJHF_ECOLI</dt>\n",
       "\t\t<dd>FALSE</dd>\n",
       "\t<dt>sp|P34094|PHYB_SOLTU</dt>\n",
       "\t\t<dd>TRUE</dd>\n",
       "\t<dt>sp|A5A617|YDGU_ECOLI</dt>\n",
       "\t\t<dd>FALSE</dd>\n",
       "</dl>\n"
      ],
      "text/latex": [
       "\\begin{description*}\n",
       "\\item[sp\\textbackslash{}textbar\\{\\}P37127\\textbackslash{}textbar\\{\\}AEGA\\textbackslash{}\\_ECOLI] FALSE\n",
       "\\item[sp\\textbackslash{}textbar\\{\\}P0A7T7\\textbackslash{}textbar\\{\\}RS18\\textbackslash{}\\_ECOLI] FALSE\n",
       "\\item[sp\\textbackslash{}textbar\\{\\}Q9JMR4\\textbackslash{}textbar\\{\\}YUBK\\textbackslash{}\\_ECOLI] FALSE\n",
       "\\item[sp\\textbackslash{}textbar\\{\\}P39357\\textbackslash{}textbar\\{\\}YJHF\\textbackslash{}\\_ECOLI] FALSE\n",
       "\\item[sp\\textbackslash{}textbar\\{\\}P34094\\textbackslash{}textbar\\{\\}PHYB\\textbackslash{}\\_SOLTU] TRUE\n",
       "\\item[sp\\textbackslash{}textbar\\{\\}A5A617\\textbackslash{}textbar\\{\\}YDGU\\textbackslash{}\\_ECOLI] FALSE\n",
       "\\end{description*}\n"
      ],
      "text/markdown": [
       "sp|P37127|AEGA_ECOLI\n",
       ":   FALSEsp|P0A7T7|RS18_ECOLI\n",
       ":   FALSEsp|Q9JMR4|YUBK_ECOLI\n",
       ":   FALSEsp|P39357|YJHF_ECOLI\n",
       ":   FALSEsp|P34094|PHYB_SOLTU\n",
       ":   TRUEsp|A5A617|YDGU_ECOLI\n",
       ":   FALSE\n",
       "\n"
      ],
      "text/plain": [
       "sp|P37127|AEGA_ECOLI sp|P0A7T7|RS18_ECOLI sp|Q9JMR4|YUBK_ECOLI \n",
       "               FALSE                FALSE                FALSE \n",
       "sp|P39357|YJHF_ECOLI sp|P34094|PHYB_SOLTU sp|A5A617|YDGU_ECOLI \n",
       "               FALSE                 TRUE                FALSE "
      ]
     },
     "metadata": {},
     "output_type": "display_data"
    }
   ],
   "source": [
    "spike_col <- sapply(as.character(raw_data_df[, \"protein\"]), parse_annot)\n",
    "head(spike_col)\n"
   ]
  },
  {
   "cell_type": "markdown",
   "metadata": {},
   "source": [
    "# Overview visualization\n",
    "\n",
    "Clustering of unadjusted based on main principal components. Conditions are distinguished 'a' and 'b', while batches are distinguished by color."
   ]
  },
  {
   "cell_type": "code",
   "execution_count": null,
   "metadata": {
    "ExecuteTime": {
     "start_time": "2017-11-13T10:23:08.899Z"
    }
   },
   "outputs": [],
   "source": [
    "p1_1 <- plot_pca(data_df, design_df, 1, 2, \"batch\", colors=4, custom_names=design_df$name, legend=F)\n",
    "p1_2 <- plot_pca(data_df, design_df, 3, 4, \"batch\", colors=4, custom_names=design_df$name, legend=T)\n",
    "options(repr.plot.width=10, repr.plot.height=5)\n",
    "multiplot(p1_1, p1_2, cols=2)\n"
   ]
  },
  {
   "cell_type": "markdown",
   "metadata": {},
   "source": [
    "# Differential expression\n",
    "\n",
    "Differential expression is performed by applying an ANOVA comparing the samples from condition 'a' and condition 'b'. This is performed both without and with compensation for the batch factor.\n",
    "\n",
    "Here, vectors with the calculated q-values for each method are stored in the list `q_vectors`. The true/false call for a significance threshold of 0.1 is stored in the list `sig_vectors`."
   ]
  },
  {
   "cell_type": "code",
   "execution_count": null,
   "metadata": {
    "ExecuteTime": {
     "start_time": "2017-11-13T10:23:08.902Z"
    },
    "collapsed": true
   },
   "outputs": [],
   "source": [
    "sig_vectors <- list()\n",
    "q_vectors <- list()"
   ]
  },
  {
   "cell_type": "code",
   "execution_count": null,
   "metadata": {
    "ExecuteTime": {
     "start_time": "2017-11-13T10:23:08.904Z"
    },
    "collapsed": true
   },
   "outputs": [],
   "source": [
    "calculate_anova <- function(row, cond, batch=NULL) {\n",
    "    \n",
    "    if (!is.null(batch)) {\n",
    "        anova_df <- data.frame(cbind(Intensity=unlist(row), Cond=cond, Batch=batch))        \n",
    "        av <- aov(Intensity~Cond+Batch, anova_df)        \n",
    "    }\n",
    "    else {\n",
    "        anova_df <- data.frame(cbind(Intensity=unlist(row), Cond=cond))\n",
    "        av <- aov(Intensity~Cond, anova_df)                \n",
    "    }\n",
    "    \n",
    "    av_summary <- summary(av)\n",
    "    p_val <- av_summary[[1]][\"Cond\", \"Pr(>F)\"]\n",
    "    p_val\n",
    "}"
   ]
  },
  {
   "cell_type": "markdown",
   "metadata": {},
   "source": [
    "The `truth_vector` takes two vectors with booleans. The first shows to if a feature has been measured as true or false. The second shows if the feature actually is differentially expressed (i.e. if it is a spike-in feature). It is then assigned a string showing whether it was a true/false call of a positive or negative.\n",
    "\n",
    "This vector is then used to print all the numbers, as well as calculating the measures:\n",
    "\n",
    "* Specificity\n",
    "* Precision\n",
    "* Recall\n",
    "* F1-score, defined as 2 \\* (precision \\* recall) / (precision + recall)"
   ]
  },
  {
   "cell_type": "code",
   "execution_count": null,
   "metadata": {
    "ExecuteTime": {
     "start_time": "2017-11-13T10:23:08.908Z"
    },
    "collapsed": true
   },
   "outputs": [],
   "source": [
    "get_truth_vector <- function(measured_pos_vect, actually_pos_vect) {\n",
    "    \n",
    "    truth_vector <- c()\n",
    "    \n",
    "    for (i in 1:length(measured_pos_vect)) {\n",
    "        \n",
    "        measured_pos <- measured_pos_vect[i]\n",
    "        actually_pos <- actually_pos_vect[i]\n",
    "        \n",
    "        if (measured_pos && actually_pos) {\n",
    "            outcome <- \"TP\"\n",
    "        }\n",
    "        else if (!measured_pos && !actually_pos) {\n",
    "            outcome <- \"TN\"\n",
    "        }\n",
    "        else if (measured_pos && !actually_pos) {\n",
    "            outcome <- \"FP\"\n",
    "        }\n",
    "        else if (!measured_pos && actually_pos) {\n",
    "            outcome <- \"FN\"\n",
    "        }\n",
    "        else {\n",
    "            stop(paste(\"Unknown state, measured_pos:\", measured_pos, \n",
    "                       \", actually_pos:\", actually_pos))\n",
    "        }\n",
    "        \n",
    "        truth_vector <- c(truth_vector, outcome)\n",
    "    }\n",
    "    \n",
    "    truth_vector\n",
    "}\n",
    "\n",
    "get_truth_summary_vector <- function(truth_vector) {\n",
    "    \n",
    "    truth_table <- table(truth_vector)\n",
    "    \n",
    "    TP <- truth_table[\"TP\"]\n",
    "    TN <- truth_table[\"TN\"]\n",
    "    FP <- truth_table[\"FP\"]\n",
    "    FN <- truth_table[\"FN\"]\n",
    "    \n",
    "    specificity <- TN / (TN + FP)\n",
    "    precision <- TP / (TP + FP)\n",
    "    recall <- TP / (TP + FN)\n",
    "    fscore <- 2 * (precision * recall) / (precision + recall)\n",
    "  \n",
    "    sum_v <- c(TP, TN, FP, FN, specificity, precision, recall, fscore)\n",
    "    names(sum_v) <- c(\"TP\", \"TN\", \"FP\", \"FN\", \"specificity\", \"precision\", \"recall\", \"fscore\")\n",
    "    sum_v\n",
    "}"
   ]
  },
  {
   "cell_type": "markdown",
   "metadata": {},
   "source": [
    "## Without batch correction\n",
    "\n",
    "Calculating differential expression on data without any batch-effect compensation."
   ]
  },
  {
   "cell_type": "code",
   "execution_count": null,
   "metadata": {
    "ExecuteTime": {
     "start_time": "2017-11-13T10:23:08.911Z"
    },
    "collapsed": true
   },
   "outputs": [],
   "source": [
    "p_vals <- unlist(apply(data_df, 1, calculate_anova, cond=design_df$condition))\n",
    "q_vals <- as.numeric(p.adjust(p_vals, method=\"BH\"))\n",
    "sig_indices <- which(q_vals < 0.1)\n",
    "\n",
    "truth_vector <- get_truth_vector(q_vals < 0.1, spike_col)\n",
    "sig_vectors[[\"default\"]] <- truth_vector\n",
    "q_vectors[[\"default\"]] <- q_vals"
   ]
  },
  {
   "cell_type": "markdown",
   "metadata": {},
   "source": [
    "## With batch correction\n",
    "\n",
    "Calculating differential expression including the batch effect as a factor used for the ANOVA model."
   ]
  },
  {
   "cell_type": "code",
   "execution_count": null,
   "metadata": {
    "ExecuteTime": {
     "start_time": "2017-11-13T10:23:08.914Z"
    },
    "collapsed": true
   },
   "outputs": [],
   "source": [
    "p_vals <- unlist(apply(data_df, 1, calculate_anova, cond=design_df$condition, batch=design_df$batch))\n",
    "q_vals <- as.numeric(p.adjust(p_vals, method=\"BH\"))\n",
    "sig_indices <- which(q_vals < 0.1)\n",
    "\n",
    "truth_vector <- get_truth_vector(q_vals < 0.1, spike_col)\n",
    "sig_vectors[[\"batch_corr\"]] <- truth_vector\n",
    "q_vectors[[\"batch_corr\"]] <- q_vals"
   ]
  },
  {
   "cell_type": "markdown",
   "metadata": {},
   "source": [
    "# Run ComBat to adjust\n",
    "\n",
    "ComBat is an algorithm attempting to remove batch effects from expression data. It takes a factor distinguishing the known batch effect levels. It produces a new dataset which then in turn is used for differential expression between the conditions."
   ]
  },
  {
   "cell_type": "markdown",
   "metadata": {},
   "source": [
    "## ComBat modelling condition\n",
    "\n",
    "Here, the condition is included in the ComBat modelling."
   ]
  },
  {
   "cell_type": "code",
   "execution_count": null,
   "metadata": {
    "ExecuteTime": {
     "start_time": "2017-11-13T10:23:08.919Z"
    }
   },
   "outputs": [],
   "source": [
    "modcombat <- model.matrix(~1+condition, data=design_df)\n",
    "modcombat"
   ]
  },
  {
   "cell_type": "code",
   "execution_count": null,
   "metadata": {
    "ExecuteTime": {
     "start_time": "2017-11-13T10:23:08.923Z"
    }
   },
   "outputs": [],
   "source": [
    "combat_data_df <- ComBat(dat=data_df, batch=design_df$batch, mod=modcombat, par.prior=TRUE, prior.plots=TRUE)"
   ]
  },
  {
   "cell_type": "code",
   "execution_count": null,
   "metadata": {
    "ExecuteTime": {
     "start_time": "2017-11-13T10:23:08.928Z"
    }
   },
   "outputs": [],
   "source": [
    "head(combat_data_df)"
   ]
  },
  {
   "cell_type": "markdown",
   "metadata": {},
   "source": [
    "## ComBat PCA\n",
    "\n",
    "Here, we visualize how the PCA plot for the ComBat processed data compare to the unprocessed data (looking at the two major principal components)."
   ]
  },
  {
   "cell_type": "code",
   "execution_count": null,
   "metadata": {
    "ExecuteTime": {
     "start_time": "2017-11-13T10:23:08.932Z"
    }
   },
   "outputs": [],
   "source": [
    "p1_1 <- plot_pca(data_df, design_df, 1, 2, \"batch\", colors=4, custom_names=design_df$name, legend=F, title_app=\"Normal\")\n",
    "p1_2 <- plot_pca(combat_data_df, design_df, 1, 2, \"batch\", colors=4, custom_names=design_df$name, legend=T, title_app=\"ComBat\")\n",
    "options(repr.plot.width=10, repr.plot.height=5)\n",
    "multiplot(p1_1, p1_2, cols=2)\n"
   ]
  },
  {
   "cell_type": "markdown",
   "metadata": {},
   "source": [
    "### Calculate statistics"
   ]
  },
  {
   "cell_type": "code",
   "execution_count": null,
   "metadata": {
    "ExecuteTime": {
     "start_time": "2017-11-13T10:23:08.936Z"
    },
    "collapsed": true
   },
   "outputs": [],
   "source": [
    "p_vals <- unlist(apply(combat_data_df, 1, calculate_anova, cond=design_df$condition))\n",
    "q_vals <- as.numeric(p.adjust(p_vals, method=\"BH\"))\n",
    "sig_indices <- which(q_vals < 0.1)\n",
    "\n",
    "truth_vector <- get_truth_vector(q_vals < 0.1, spike_col)\n",
    "sig_vectors[[\"combat\"]] <- truth_vector\n",
    "q_vectors[[\"combat\"]] <- q_vals"
   ]
  },
  {
   "cell_type": "markdown",
   "metadata": {},
   "source": [
    "## ComBat not modelling biological factor\n",
    "\n",
    "In order to investigate whether how ComBat uses the known condition differences I tried running it without any other information than the batch differences."
   ]
  },
  {
   "cell_type": "code",
   "execution_count": null,
   "metadata": {
    "ExecuteTime": {
     "start_time": "2017-11-13T10:23:08.942Z"
    }
   },
   "outputs": [],
   "source": [
    "modcombat <- model.matrix(~1, data=design_df)\n",
    "only_int_combat_data_df <- ComBat(dat=data_df, batch=design_df$batch, mod=modcombat, par.prior=TRUE, prior.plots=TRUE)"
   ]
  },
  {
   "cell_type": "markdown",
   "metadata": {},
   "source": [
    "### ComBat without condition-modelling PCA"
   ]
  },
  {
   "cell_type": "code",
   "execution_count": null,
   "metadata": {
    "ExecuteTime": {
     "start_time": "2017-11-13T10:23:08.947Z"
    }
   },
   "outputs": [],
   "source": [
    "p1_1 <- plot_pca(data_df, design_df, 1, 2, \"batch\", colors=4, custom_names=design_df$name, legend=F, title_app = \"Normal\")\n",
    "p1_2 <- plot_pca(only_int_combat_data_df, design_df, 1, 2, \"batch\", colors=4, custom_names=design_df$name, legend=T, title_app=\"ComBat\")\n",
    "options(repr.plot.width=10, repr.plot.height=5)\n",
    "multiplot(p1_1, p1_2, cols=2)\n"
   ]
  },
  {
   "cell_type": "markdown",
   "metadata": {},
   "source": [
    "### Statistics"
   ]
  },
  {
   "cell_type": "code",
   "execution_count": null,
   "metadata": {
    "ExecuteTime": {
     "start_time": "2017-11-13T10:23:08.951Z"
    },
    "collapsed": true
   },
   "outputs": [],
   "source": [
    "p_vals <- unlist(apply(only_int_combat_data_df, 1, calculate_anova, cond=design_df$condition))\n",
    "q_vals <- as.numeric(p.adjust(p_vals, method=\"BH\"))\n",
    "sig_indices <- which(q_vals < 0.1)\n",
    "\n",
    "truth_vector <- get_truth_vector(q_vals < 0.1, spike_col)\n",
    "sig_vectors[[\"combat_no_factor\"]] <- truth_vector\n",
    "q_vectors[[\"combat_no_factor\"]] <- q_vals"
   ]
  },
  {
   "cell_type": "markdown",
   "metadata": {},
   "source": [
    "# Estimate surrogate variation\n",
    "\n",
    "An alternative to using ComBat to model known batch levels is to estimate the 'surrogate variation' directly from the data."
   ]
  },
  {
   "cell_type": "markdown",
   "metadata": {},
   "source": [
    "## Setup model matrices and estimate number of surrogate variables"
   ]
  },
  {
   "cell_type": "code",
   "execution_count": null,
   "metadata": {
    "ExecuteTime": {
     "start_time": "2017-11-13T10:23:08.956Z"
    },
    "collapsed": true
   },
   "outputs": [],
   "source": [
    "mod <- model.matrix(~condition, data=design_df)\n",
    "mod0 <- model.matrix(~1, data=design_df)"
   ]
  },
  {
   "cell_type": "markdown",
   "metadata": {},
   "source": [
    "## Perform surrogate variation analysis"
   ]
  },
  {
   "cell_type": "code",
   "execution_count": null,
   "metadata": {
    "ExecuteTime": {
     "start_time": "2017-11-13T10:23:08.960Z"
    }
   },
   "outputs": [],
   "source": [
    "n.sv <- num.sv(data_df, mod, method=\"leek\")\n",
    "data_m <- as.matrix(data_df)\n",
    "svobj <- sva(data_m, mod, mod0, n.sv=n.sv)"
   ]
  },
  {
   "cell_type": "markdown",
   "metadata": {},
   "source": [
    "## Calculate significance values"
   ]
  },
  {
   "cell_type": "code",
   "execution_count": null,
   "metadata": {
    "ExecuteTime": {
     "start_time": "2017-11-13T10:23:08.965Z"
    },
    "collapsed": true
   },
   "outputs": [],
   "source": [
    "pValues <- f.pvalue(data_m, mod, mod0)\n",
    "qValues <- p.adjust(pValues, method=\"BH\")\n",
    "\n",
    "modSv <- cbind(mod, svobj$sv)\n",
    "mod0Sv <- cbind(mod0, svobj$sv)\n",
    "pValuesSv <- f.pvalue(data_m, modSv, mod0Sv)\n",
    "qValuesSv <- p.adjust(pValuesSv, method=\"BH\")"
   ]
  },
  {
   "cell_type": "code",
   "execution_count": null,
   "metadata": {
    "ExecuteTime": {
     "start_time": "2017-11-13T10:23:08.970Z"
    },
    "collapsed": true
   },
   "outputs": [],
   "source": [
    "truth_vector <- get_truth_vector(measured_pos_vect=qValuesSv < 0.1, actually_pos_vect=spike_col)\n",
    "sig_vectors[[\"sva\"]] <- truth_vector\n",
    "q_vectors[[\"sva\"]] <- qValuesSv"
   ]
  },
  {
   "cell_type": "markdown",
   "metadata": {},
   "source": [
    "# Summarize significance\n",
    "\n",
    "Display of the number of identified positives (and number of true positives), as well as summary of important significance measures."
   ]
  },
  {
   "cell_type": "code",
   "execution_count": null,
   "metadata": {
    "ExecuteTime": {
     "start_time": "2017-11-13T10:23:08.975Z"
    }
   },
   "outputs": [],
   "source": [
    "print(paste(\"True positives:\", length(spike_col[spike_col])))\n",
    "print(\"Sig counts:\")\n",
    "for (name in names(q_vectors)) {\n",
    "    q_vector <- q_vectors[[name]]\n",
    "    print(paste0(name, \": \", length(q_vector[which(q_vector < 0.1)])))\n",
    "}"
   ]
  },
  {
   "cell_type": "code",
   "execution_count": null,
   "metadata": {
    "ExecuteTime": {
     "start_time": "2017-11-13T10:23:08.980Z"
    }
   },
   "outputs": [],
   "source": [
    "truth_summary_table <- data.frame(matrix(NA, nrow=0, ncol=8))\n",
    "\n",
    "for (sig_v in names(sig_vectors)) {\n",
    "    sum_v <- data.frame(get_truth_summary_vector(sig_vectors[[sig_v]]))\n",
    "    sum_row <- unlist(sum_v)\n",
    "    \n",
    "    truth_summary_table <- rbind(truth_summary_table, sum_row)\n",
    "}\n",
    "\n",
    "colnames(truth_summary_table) <- c(\"TP\", \"TN\", \"FP\", \"FN\", \"specificity\", \"precision\", \"recall\", \"fscore\")\n",
    "rownames(truth_summary_table) <- names(sig_vectors)\n",
    "\n",
    "truth_summary_table"
   ]
  }
 ],
 "metadata": {
  "kernelspec": {
   "display_name": "R",
   "language": "R",
   "name": "ir"
  },
  "language_info": {
   "codemirror_mode": "r",
   "file_extension": ".r",
   "mimetype": "text/x-r-source",
   "name": "R",
   "pygments_lexer": "r",
   "version": "3.4.2"
  },
  "toc": {
   "colors": {
    "hover_highlight": "#DAA520",
    "running_highlight": "#FF0000",
    "selected_highlight": "#FFD700"
   },
   "moveMenuLeft": true,
   "nav_menu": {
    "height": "66px",
    "width": "252px"
   },
   "navigate_menu": true,
   "number_sections": true,
   "sideBar": false,
   "threshold": 4,
   "toc_cell": true,
   "toc_position": {
    "height": "57px",
    "left": "1637.75px",
    "right": "20px",
    "top": "114px",
    "width": "262px"
   },
   "toc_section_display": "block",
   "toc_window_display": true,
   "widenNotebook": false
  }
 },
 "nbformat": 4,
 "nbformat_minor": 2
}
