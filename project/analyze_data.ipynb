{
 "cells": [
  {
   "cell_type": "markdown",
   "metadata": {
    "toc": "true"
   },
   "source": [
    "# Table of Contents\n",
    " <p><div class=\"lev1 toc-item\"><a href=\"#Setup\" data-toc-modified-id=\"Setup-1\"><span class=\"toc-item-num\">1&nbsp;&nbsp;</span>Setup</a></div><div class=\"lev2 toc-item\"><a href=\"#Parse-input\" data-toc-modified-id=\"Parse-input-11\"><span class=\"toc-item-num\">1.1&nbsp;&nbsp;</span>Parse input</a></div><div class=\"lev1 toc-item\"><a href=\"#Overview-visualization\" data-toc-modified-id=\"Overview-visualization-2\"><span class=\"toc-item-num\">2&nbsp;&nbsp;</span>Overview visualization</a></div><div class=\"lev1 toc-item\"><a href=\"#Differential-expression\" data-toc-modified-id=\"Differential-expression-3\"><span class=\"toc-item-num\">3&nbsp;&nbsp;</span>Differential expression</a></div><div class=\"lev1 toc-item\"><a href=\"#Summarize-results\" data-toc-modified-id=\"Summarize-results-4\"><span class=\"toc-item-num\">4&nbsp;&nbsp;</span>Summarize results</a></div>"
   ]
  },
  {
   "cell_type": "markdown",
   "metadata": {},
   "source": [
    "# Setup"
   ]
  },
  {
   "cell_type": "code",
   "execution_count": 38,
   "metadata": {
    "ExecuteTime": {
     "end_time": "2017-11-06T15:02:50.334479Z",
     "start_time": "2017-11-06T15:02:50.309Z"
    },
    "collapsed": true
   },
   "outputs": [],
   "source": [
    "run <- \"batch12_4fold\"\n",
    "expression_fp <- paste0(run, \"/full_quant.tsv\")\n",
    "design_fp <- paste0(run, \"/design.tsv\")"
   ]
  },
  {
   "cell_type": "code",
   "execution_count": 20,
   "metadata": {
    "ExecuteTime": {
     "end_time": "2017-11-06T14:30:56.546432Z",
     "start_time": "2017-11-06T14:30:56.509Z"
    },
    "collapsed": true
   },
   "outputs": [],
   "source": [
    "library(ggplot2)\n",
    "library(ggfortify)\n",
    "library(ggdendro)\n",
    "library(limma)\n",
    "library(gridExtra)\n",
    "\n",
    "source(\"~/src/JupyterRReuse/proteomics_multivariate_vis.R\")\n",
    "source(\"~/src/JupyterRReuse/visualization_utils.R\")\n",
    "source(\"~/src/JupyterRReuse/proteomics_stats.R\")"
   ]
  },
  {
   "cell_type": "code",
   "execution_count": 21,
   "metadata": {
    "ExecuteTime": {
     "end_time": "2017-11-06T14:30:56.561034Z",
     "start_time": "2017-11-06T14:30:56.511Z"
    },
    "collapsed": true
   },
   "outputs": [],
   "source": [
    "plot_pca <- function(data_m, design_m, pc1, pc2, color_factor, colors, custom_names, legend=T, title_app=\"\", cont_scale=F) {\n",
    "    \n",
    "    if (!cont_scale) {\n",
    "        getPalette <- colorRampPalette(RColorBrewer::brewer.pal(9, \"Set1\"))        \n",
    "    }\n",
    "    title <- paste0(\"PCA, PC\", pc1, \" vs PC\", pc2, \" \", title_app)\n",
    "    plt <- make_expression_pca(data_m, design_m, color_factor=color_factor, title=title, \n",
    "                               pca_axis1=pc1, pca_axis2=pc2, show_labels=T,\n",
    "                               only_text=T, color_text=T, custom_names=custom_names)\n",
    "    if (!cont_scale) {\n",
    "        plt <- plt + scale_color_manual(values=getPalette(colors))        \n",
    "    }\n",
    "    \n",
    "    if (!legend) {\n",
    "        plt <- plt + theme(legend.position=\"none\")\n",
    "    }\n",
    "    \n",
    "    plt\n",
    "}"
   ]
  },
  {
   "cell_type": "markdown",
   "metadata": {},
   "source": [
    "## Parse input"
   ]
  },
  {
   "cell_type": "code",
   "execution_count": 46,
   "metadata": {
    "ExecuteTime": {
     "end_time": "2017-11-06T15:04:11.178588Z",
     "start_time": "2017-11-06T15:04:11.155Z"
    }
   },
   "outputs": [
    {
     "data": {
      "text/html": [
       "<table>\n",
       "<thead><tr><th scope=col>name</th><th scope=col>biorepgroup</th><th scope=col>techrepgroup</th><th scope=col>condition</th><th scope=col>sample</th></tr></thead>\n",
       "<tbody>\n",
       "\t<tr><td>a1</td><td>1 </td><td>1 </td><td>a </td><td>a1</td></tr>\n",
       "\t<tr><td>a2</td><td>2 </td><td>1 </td><td>a </td><td>a2</td></tr>\n",
       "\t<tr><td>a3</td><td>3 </td><td>1 </td><td>a </td><td>a3</td></tr>\n",
       "\t<tr><td>b1</td><td>1 </td><td>1 </td><td>b </td><td>b1</td></tr>\n",
       "\t<tr><td>b2</td><td>2 </td><td>1 </td><td>b </td><td>b2</td></tr>\n",
       "\t<tr><td>b3</td><td>3 </td><td>1 </td><td>b </td><td>b3</td></tr>\n",
       "</tbody>\n",
       "</table>\n"
      ],
      "text/latex": [
       "\\begin{tabular}{r|lllll}\n",
       " name & biorepgroup & techrepgroup & condition & sample\\\\\n",
       "\\hline\n",
       "\t a1 & 1  & 1  & a  & a1\\\\\n",
       "\t a2 & 2  & 1  & a  & a2\\\\\n",
       "\t a3 & 3  & 1  & a  & a3\\\\\n",
       "\t b1 & 1  & 1  & b  & b1\\\\\n",
       "\t b2 & 2  & 1  & b  & b2\\\\\n",
       "\t b3 & 3  & 1  & b  & b3\\\\\n",
       "\\end{tabular}\n"
      ],
      "text/markdown": [
       "\n",
       "name | biorepgroup | techrepgroup | condition | sample | \n",
       "|---|---|---|---|---|---|\n",
       "| a1 | 1  | 1  | a  | a1 | \n",
       "| a2 | 2  | 1  | a  | a2 | \n",
       "| a3 | 3  | 1  | a  | a3 | \n",
       "| b1 | 1  | 1  | b  | b1 | \n",
       "| b2 | 2  | 1  | b  | b2 | \n",
       "| b3 | 3  | 1  | b  | b3 | \n",
       "\n",
       "\n"
      ],
      "text/plain": [
       "  name biorepgroup techrepgroup condition sample\n",
       "1 a1   1           1            a         a1    \n",
       "2 a2   2           1            a         a2    \n",
       "3 a3   3           1            a         a3    \n",
       "4 b1   1           1            b         b1    \n",
       "5 b2   2           1            b         b2    \n",
       "6 b3   3           1            b         b3    "
      ]
     },
     "metadata": {},
     "output_type": "display_data"
    }
   ],
   "source": [
    "design_df <- read.csv(design_fp, sep=\"\\t\")\n",
    "design_df$sample <- design_df$name\n",
    "head(design_df)"
   ]
  },
  {
   "cell_type": "code",
   "execution_count": 49,
   "metadata": {
    "ExecuteTime": {
     "end_time": "2017-11-06T15:04:48.055310Z",
     "start_time": "2017-11-06T15:04:47.940Z"
    }
   },
   "outputs": [
    {
     "data": {
      "text/html": [
       "<table>\n",
       "<thead><tr><th scope=col>a1</th><th scope=col>a2</th><th scope=col>a3</th><th scope=col>b1</th><th scope=col>b2</th><th scope=col>b3</th><th scope=col>c1</th><th scope=col>c2</th><th scope=col>c3</th><th scope=col>d1</th><th scope=col>d2</th><th scope=col>d3</th></tr></thead>\n",
       "<tbody>\n",
       "\t<tr><td>216508408   </td><td>105302604   </td><td>188390000   </td><td>124128396   </td><td>6.114620e+07</td><td> 26236550   </td><td> 62920800   </td><td>152758200   </td><td> 37377100   </td><td>102853200   </td><td>209932992   </td><td>132222500   </td></tr>\n",
       "\t<tr><td> 43629400   </td><td> 50551300   </td><td>13162200    </td><td> 37126900   </td><td>2.129030e+07</td><td> 26009800   </td><td> 48684600   </td><td> 35624300   </td><td> 58153100   </td><td>171960200   </td><td> 50224400   </td><td> 56392200   </td></tr>\n",
       "\t<tr><td>197866800   </td><td>206806500   </td><td>91024800    </td><td>188364200   </td><td>1.699310e+08</td><td> 11359220   </td><td>100704500   </td><td> 16145970   </td><td>170408292   </td><td> 50874540   </td><td>272123292   </td><td>207982900   </td></tr>\n",
       "\t<tr><td> 80551000   </td><td> 38286910   </td><td>69663070    </td><td> 44561130   </td><td>2.426595e+07</td><td>  9986070   </td><td> 35448080   </td><td> 74736150   </td><td> 18970640   </td><td>115195596   </td><td> 65054100   </td><td> 40677270   </td></tr>\n",
       "\t<tr><td> 19200980   </td><td> 90075804   </td><td>165011000   </td><td>173858500   </td><td>1.347421e+08</td><td>115509804   </td><td> 93534300   </td><td>207598108   </td><td>164900600   </td><td>142472300   </td><td> 90998196   </td><td> 39363300   </td></tr>\n",
       "\t<tr><td> 86550000   </td><td> 87135504   </td><td>3652417     </td><td> 51528280   </td><td>6.931580e+07</td><td>109990504   </td><td> 72856700   </td><td>162942500   </td><td>141686100   </td><td> 86547800   </td><td> 39790400   </td><td>134808500   </td></tr>\n",
       "\t<tr><td>181043508   </td><td> 93751004   </td><td>103779200   </td><td> 32108970   </td><td>1.635478e+08</td><td> 31742710   </td><td>193353992   </td><td>135466000   </td><td> 62601800   </td><td>178704400   </td><td> 79428600   </td><td>112280000   </td></tr>\n",
       "\t<tr><td>156673200   </td><td> 86434354   </td><td>73778050    </td><td>154152300   </td><td>1.050898e+08</td><td>113247700   </td><td>188742192   </td><td>118258500   </td><td>155655800   </td><td>143846800   </td><td> 83082600   </td><td>155814600   </td></tr>\n",
       "\t<tr><td> 62340580   </td><td> 24373600   </td><td>28133400    </td><td> 48755920   </td><td>2.298368e+07</td><td> 63163620   </td><td>135234600   </td><td>129174200   </td><td>184046800   </td><td> 83097400   </td><td>232409992   </td><td>271129908   </td></tr>\n",
       "\t<tr><td>  8538740   </td><td> 39069040   </td><td>70761900    </td><td> 75038900   </td><td>5.580439e+07</td><td> 49059610   </td><td> 83540700   </td><td>196672200   </td><td> 15126110   </td><td> 96397100   </td><td> 87787100   </td><td>169045700   </td></tr>\n",
       "\t<tr><td> 64489600   </td><td>111406096   </td><td>100080796   </td><td> 87858670   </td><td>1.558351e+08</td><td> 88394000   </td><td> 21750750   </td><td>170732500   </td><td>138151300   </td><td>196656900   </td><td> 92473700   </td><td> 40913250   </td></tr>\n",
       "\t<tr><td> 29345250   </td><td> 87188900   </td><td>106159600   </td><td> 79239404   </td><td>6.675760e+01</td><td>148725000   </td><td> 96893596   </td><td> 97918204   </td><td>121470600   </td><td>126123100   </td><td> 18769570   </td><td>147536300   </td></tr>\n",
       "\t<tr><td> 61190850   </td><td>108672000   </td><td>93719204    </td><td> 81558964   </td><td>1.483255e+08</td><td> 85109996   </td><td> 21233390   </td><td> 63620240   </td><td>104840900   </td><td>187831000   </td><td> 67968040   </td><td> 77324900   </td></tr>\n",
       "\t<tr><td>107690900   </td><td>107642800   </td><td>4628495     </td><td> 64148630   </td><td>8.188810e+07</td><td>132223300   </td><td> 62291850   </td><td> 96710096   </td><td>120803300   </td><td> 60522290   </td><td> 15710380   </td><td>115880500   </td></tr>\n",
       "\t<tr><td> 41347060   </td><td>120271400   </td><td>84447010    </td><td> 74552990   </td><td>1.162672e+08</td><td> 71370630   </td><td>129597800   </td><td> 67976820   </td><td> 59459360   </td><td> 65022940   </td><td> 39548020   </td><td>136859200   </td></tr>\n",
       "\t<tr><td>137247400   </td><td> 89681400   </td><td>29020880    </td><td>116600300   </td><td>1.190903e+08</td><td>112210204   </td><td>116131800   </td><td>103806800   </td><td> 39056740   </td><td>222018400   </td><td>161362400   </td><td> 64471590   </td></tr>\n",
       "\t<tr><td> 35980980   </td><td>105866000   </td><td>125268200   </td><td> 98726296   </td><td>2.610980e+02</td><td>179149192   </td><td>140414800   </td><td>176063192   </td><td>177910200   </td><td>132570500   </td><td>168011800   </td><td>307443300   </td></tr>\n",
       "\t<tr><td> 42023000   </td><td> 27148600   </td><td>9231540     </td><td> 38122400   </td><td>3.578200e+07</td><td> 34637700   </td><td> 53190500   </td><td> 64832790   </td><td>104814296   </td><td> 86231296   </td><td> 62816340   </td><td> 71451430   </td></tr>\n",
       "\t<tr><td> 57888850   </td><td> 99479200   </td><td>86023504    </td><td> 76099964   </td><td>1.399383e+08</td><td> 79925484   </td><td> 14070850   </td><td> 68377200   </td><td> 69263504   </td><td>153977292   </td><td> 43669200   </td><td> 84534000   </td></tr>\n",
       "\t<tr><td> 62862100   </td><td> 76401600   </td><td>65924700    </td><td> 60524900   </td><td>1.841540e+07</td><td> 26232800   </td><td>  4877160   </td><td> 78742370   </td><td> 98747700   </td><td> 32477900   </td><td> 14213980   </td><td>111935000   </td></tr>\n",
       "\t<tr><td>136092200   </td><td>147078500   </td><td>60331930    </td><td>134808600   </td><td>1.166322e+08</td><td>  7939686   </td><td>120500600   </td><td> 42072000   </td><td> 46193900   </td><td>154399600   </td><td> 26112700   </td><td> 35444800   </td></tr>\n",
       "\t<tr><td>148636200   </td><td> 77652810   </td><td>84978396    </td><td> 27875650   </td><td>1.447469e+08</td><td> 26713680   </td><td>118378000   </td><td> 14589920   </td><td>153386508   </td><td>145514400   </td><td>150233200   </td><td>121309500   </td></tr>\n",
       "\t<tr><td> 35784740   </td><td> 57291520   </td><td>56646670    </td><td> 60083800   </td><td>5.972542e+07</td><td> 87994800   </td><td>108918396   </td><td> 95188300   </td><td>122018400   </td><td> 53372080   </td><td> 65511630   </td><td>126337400   </td></tr>\n",
       "\t<tr><td>169560416   </td><td>169365770   </td><td>7261216     </td><td>100185420   </td><td>1.355736e+08</td><td>215197570   </td><td> 56402860   </td><td> 66953340   </td><td> 43697140   </td><td>138434524   </td><td> 25555800   </td><td>112624020   </td></tr>\n",
       "\t<tr><td> 82104096   </td><td> 99230104   </td><td>66886120    </td><td> 97409900   </td><td>1.025773e+08</td><td> 94110300   </td><td>122108100   </td><td>157700956   </td><td>134532856   </td><td>140044600   </td><td> 32144655   </td><td>112660500   </td></tr>\n",
       "\t<tr><td> 72590840   </td><td>122957280   </td><td>108645320   </td><td> 95496540   </td><td>1.737202e+08</td><td> 99335890   </td><td> 25437912   </td><td>141166700   </td><td> 72196340   </td><td>236403632   </td><td>123748400   </td><td>166899500   </td></tr>\n",
       "\t<tr><td> 98228210   </td><td>170742200   </td><td>146463426   </td><td>131978840   </td><td>2.351816e+08</td><td>134597220   </td><td> 27833156   </td><td>118591366   </td><td>154035736   </td><td>191450816   </td><td> 22124829   </td><td>157706356   </td></tr>\n",
       "\t<tr><td> 12594400   </td><td> 58421100   </td><td>102928404   </td><td>113560200   </td><td>8.643132e+07</td><td> 73421260   </td><td> 60138930   </td><td> 97307640   </td><td>123179666   </td><td> 81346090   </td><td> 20298248   </td><td> 43044110   </td></tr>\n",
       "\t<tr><td> 87782896   </td><td> 93936604   </td><td>40721230    </td><td> 84861596   </td><td>7.663460e+07</td><td>  5003333   </td><td> 77151420   </td><td>144931300   </td><td>111751496   </td><td>106076804   </td><td> 98562196   </td><td>106769500   </td></tr>\n",
       "\t<tr><td> 41968300   </td><td> 71733730   </td><td>62731400    </td><td> 54795130   </td><td>9.775310e+07</td><td> 53796740   </td><td> 14239580   </td><td> 10075530   </td><td>105352504   </td><td>158816108   </td><td>135393200   </td><td> 90071804   </td></tr>\n",
       "\t<tr><td>⋮</td><td>⋮</td><td>⋮</td><td>⋮</td><td>⋮</td><td>⋮</td><td>⋮</td><td>⋮</td><td>⋮</td><td>⋮</td><td>⋮</td><td>⋮</td></tr>\n",
       "\t<tr><td> 6358896                                                                                  </td><td>11144674                                                                                  </td><td>9869061                                                                                   </td><td> 8109652                                                                                  </td><td>24336447                                                                                  </td><td>38511484.0                                                                                </td><td>14860172.0                                                                                </td><td>23650914                                                                                  </td><td>20940243                                                                                  </td><td>39355490                                                                                  </td><td>18775096.0                                                                                </td><td> 6990778                                                                                  </td></tr>\n",
       "\t<tr><td>30126459                                                                                  </td><td>30465575                                                                                  </td><td>1318271                                                                                   </td><td>17827398                                                                                  </td><td>20269570                                                                                  </td><td>19441030.0                                                                                </td><td>32504928.0                                                                                </td><td>31224430                                                                                  </td><td>32440150                                                                                  </td><td> 9205830                                                                                  </td><td>  904942.3                                                                                </td><td>25485122                                                                                  </td></tr>\n",
       "\t<tr><td>23866430                                                                                  </td><td>15521750                                                                                  </td><td>5223425                                                                                   </td><td>21437770                                                                                  </td><td> 6349420                                                                                  </td><td>10320150.0                                                                                </td><td>  941469.8                                                                                </td><td>10126400                                                                                  </td><td> 8875860                                                                                  </td><td>16699736                                                                                  </td><td> 7720725.4                                                                                </td><td>41841350                                                                                  </td></tr>\n",
       "\t<tr><td> 8189700                                                                                  </td><td> 7985550                                                                                  </td><td>345357.3984375                                                                            </td><td> 4861050                                                                                  </td><td> 6088296                                                                                  </td><td>  139899.4                                                                                </td><td> 5808547.5                                                                                </td><td>12664231                                                                                  </td><td> 8593128                                                                                  </td><td>11343559                                                                                  </td><td>23293090.0                                                                                </td><td> 8875240                                                                                  </td></tr>\n",
       "\t<tr><td>15175850                                                                                  </td><td>15806058                                                                                  </td><td>7740696                                                                                   </td><td> 8199337                                                                                  </td><td>11929101                                                                                  </td><td>10683916.0                                                                                </td><td>15392738.0                                                                                </td><td>21242510                                                                                  </td><td>16476998                                                                                  </td><td>11101980                                                                                  </td><td> 2664372.0                                                                                </td><td>15285306                                                                                  </td></tr>\n",
       "\t<tr><td> 1737264                                                                                  </td><td> 8245919                                                                                  </td><td>14860826                                                                                  </td><td>15527297                                                                                  </td><td> 4577660                                                                                  </td><td>  102009.7                                                                                </td><td> 4110500.0                                                                                </td><td> 8708680                                                                                  </td><td> 5526870                                                                                  </td><td>31519848                                                                                  </td><td> 8640667.0                                                                                </td><td> 5645025                                                                                  </td></tr>\n",
       "\t<tr><td>11002330                                                                                  </td><td>11047980                                                                                  </td><td>5457430                                                                                   </td><td> 5730520                                                                                  </td><td>10904054                                                                                  </td><td>  246318.0                                                                                </td><td>10419820.0                                                                                </td><td>23954487                                                                                  </td><td>15767907                                                                                  </td><td> 8697560                                                                                  </td><td>13145108.0                                                                                </td><td>11387160                                                                                  </td></tr>\n",
       "\t<tr><td>26580955                                                                                  </td><td>26690885                                                                                  </td><td>13028724.1015625                                                                          </td><td>13456555                                                                                  </td><td>11385170                                                                                  </td><td> 9397790.0                                                                                </td><td> 8266661.0                                                                                </td><td>16142660                                                                                  </td><td>11866980                                                                                  </td><td>29861390                                                                                  </td><td> 6378290.0                                                                                </td><td>30039330                                                                                  </td></tr>\n",
       "\t<tr><td> 1603897                                                                                  </td><td> 7631410                                                                                  </td><td>13637160                                                                                  </td><td>14592130                                                                                  </td><td>13665400                                                                                  </td><td>24883520.0                                                                                </td><td>15310660.0                                                                                </td><td>25204690                                                                                  </td><td>31977210                                                                                  </td><td> 6386330                                                                                  </td><td>16978652.0                                                                                </td><td> 5225970                                                                                  </td></tr>\n",
       "\t<tr><td>14268990                                                                                  </td><td> 7417250                                                                                  </td><td>12273430                                                                                  </td><td> 8704686                                                                                  </td><td>11334950                                                                                  </td><td> 7101080.0                                                                                </td><td>28951778.0                                                                                </td><td>10488330                                                                                  </td><td> 3928660                                                                                  </td><td> 6529889                                                                                  </td><td>11466850.0                                                                                </td><td>35850560                                                                                  </td></tr>\n",
       "\t<tr><td> 4031130                                                                                  </td><td>11866810                                                                                  </td><td>8040000                                                                                   </td><td> 7553770                                                                                  </td><td> 9523480                                                                                  </td><td>28147360.0                                                                                </td><td> 5511250.0                                                                                </td><td>15213290                                                                                  </td><td> 1170114                                                                                  </td><td>60358483                                                                                  </td><td>37633140.0                                                                                </td><td> 5100070                                                                                  </td></tr>\n",
       "\t<tr><td>26161260                                                                                  </td><td>10370510                                                                                  </td><td>11996360                                                                                  </td><td>20130300                                                                                  </td><td>28703392                                                                                  </td><td>26894422.0                                                                                </td><td>10138580.0                                                                                </td><td>49240393                                                                                  </td><td>49330483                                                                                  </td><td> 7875420                                                                                  </td><td>12416910.0                                                                                </td><td>14810260                                                                                  </td></tr>\n",
       "\t<tr><td>33799062                                                                                  </td><td>22240772                                                                                  </td><td>7452080.3984375                                                                           </td><td>29737372                                                                                  </td><td> 5973300                                                                                  </td><td>10786580.0                                                                                </td><td> 8766380.0                                                                                </td><td> 6621950                                                                                  </td><td> 8610350                                                                                  </td><td> 7820390                                                                                  </td><td> 8095078.0                                                                                </td><td>76795547                                                                                  </td></tr>\n",
       "\t<tr><td> 6112680                                                                                  </td><td> 3208800                                                                                  </td><td>5387580                                                                                   </td><td> 3648100                                                                                  </td><td> 3932500                                                                                  </td><td>   86986.3                                                                                </td><td>13112900.0                                                                                </td><td> 5910740                                                                                  </td><td> 4017240                                                                                  </td><td> 6709910                                                                                  </td><td>41998308.0                                                                                </td><td>16507180                                                                                  </td></tr>\n",
       "\t<tr><td> 9470860                                                                                  </td><td> 9387540                                                                                  </td><td>4672560                                                                                   </td><td> 4903100                                                                                  </td><td> 4154780                                                                                  </td><td> 4942750.0                                                                                </td><td>24295155.0                                                                                </td><td> 6178630                                                                                  </td><td> 7772480                                                                                  </td><td>16319730                                                                                  </td><td>17443030.0                                                                                </td><td>10487810                                                                                  </td></tr>\n",
       "\t<tr><td> 6833880                                                                                  </td><td> 3624680                                                                                  </td><td>3345310                                                                                   </td><td> 6948510                                                                                  </td><td>10763540                                                                                  </td><td>20194430.0                                                                                </td><td> 4621090.0                                                                                </td><td>13958600                                                                                  </td><td>17665400                                                                                  </td><td> 6202810                                                                                  </td><td> 5698510.0                                                                                </td><td>12363700                                                                                  </td></tr>\n",
       "\t<tr><td>11213690                                                                                  </td><td> 5959150                                                                                  </td><td>9644570                                                                                   </td><td> 6853520                                                                                  </td><td> 5824990                                                                                  </td><td> 9229500.0                                                                                </td><td> 9755690.0                                                                                </td><td> 6786580                                                                                  </td><td> 6065830                                                                                  </td><td> 2957520                                                                                  </td><td>11293700.0                                                                                </td><td>19718040                                                                                  </td></tr>\n",
       "\t<tr><td> 7222260                                                                                  </td><td> 6940290                                                                                  </td><td>309045                                                                                    </td><td> 4237820                                                                                  </td><td> 2523140                                                                                  </td><td> 3824700.0                                                                                </td><td> 8204620.0                                                                                </td><td> 3352320                                                                                  </td><td> 2992150                                                                                  </td><td>11744340                                                                                  </td><td>19938160.0                                                                                </td><td> 5328480                                                                                  </td></tr>\n",
       "\t<tr><td> 3061220                                                                                  </td><td> 2784910                                                                                  </td><td>118159                                                                                    </td><td> 1781470                                                                                  </td><td> 7880698                                                                                  </td><td>12666680.0                                                                                </td><td> 7873660.0                                                                                </td><td>13042420                                                                                  </td><td>11210100                                                                                  </td><td>31398320                                                                                  </td><td> 1567807.0                                                                                </td><td> 1909630                                                                                  </td></tr>\n",
       "\t<tr><td> 9582190                                                                                  </td><td> 9468780                                                                                  </td><td>421301                                                                                    </td><td> 5602888                                                                                  </td><td>21616209                                                                                  </td><td>39385850.0                                                                                </td><td> 3963320.0                                                                                </td><td>26871106                                                                                  </td><td>33468100                                                                                  </td><td> 9745150                                                                                  </td><td>  554409.0                                                                                </td><td> 9522037                                                                                  </td></tr>\n",
       "\t<tr><td>21952221                                                                                  </td><td>11464421                                                                                  </td><td>19662375                                                                                  </td><td>13469266                                                                                  </td><td> 6219250                                                                                  </td><td> 3568210.0                                                                                </td><td> 1363270.0                                                                                </td><td> 5107210                                                                                  </td><td> 6270570                                                                                  </td><td>17165260                                                                                  </td><td> 2734171.0                                                                                </td><td>44012530                                                                                  </td></tr>\n",
       "\t<tr><td> 2539896                                                                                  </td><td> 4636160                                                                                  </td><td>3730160                                                                                   </td><td> 3350310                                                                                  </td><td>12291690                                                                                  </td><td> 7031115.0                                                                                </td><td> 6626369.0                                                                                </td><td> 8309366                                                                                  </td><td>10890790                                                                                  </td><td>16774204                                                                                  </td><td>45579790.0                                                                                </td><td> 8410450                                                                                  </td></tr>\n",
       "\t<tr><td> 5153781                                                                                  </td><td> 9120622                                                                                  </td><td>8058769                                                                                   </td><td> 6554678                                                                                  </td><td> 5318384                                                                                  </td><td>  121340.9                                                                                </td><td>15683529.0                                                                                </td><td>12961548                                                                                  </td><td> 8331208                                                                                  </td><td> 9111190                                                                                  </td><td> 1107371.0                                                                                </td><td>11136050                                                                                  </td></tr>\n",
       "\t<tr><td>13020467                                                                                  </td><td>13099239                                                                                  </td><td>6413091                                                                                   </td><td> 6579279                                                                                  </td><td> 9239480                                                                                  </td><td> 5223210.0                                                                                </td><td> 1225778.0                                                                                </td><td> 4580020                                                                                  </td><td> 6165580                                                                                  </td><td> 8462470                                                                                  </td><td> 1457029.0                                                                                </td><td>16855236                                                                                  </td></tr>\n",
       "\t<tr><td> 3809740                                                                                  </td><td> 6660030                                                                                  </td><td>5744760                                                                                   </td><td> 5004940                                                                                  </td><td> 5982830                                                                                  </td><td> 9178330.0                                                                                </td><td> 1750763.0                                                                                </td><td> 9368970                                                                                  </td><td> 8019690                                                                                  </td><td> 4519300                                                                                  </td><td> 9145439.0                                                                                </td><td> 7646340                                                                                  </td></tr>\n",
       "\t<tr><td> 7323920                                                                                  </td><td> 7548150                                                                                  </td><td>298452                                                                                    </td><td> 4320000                                                                                  </td><td> 2458060                                                                                  </td><td> 3479120.0                                                                                </td><td>12967942.0                                                                                </td><td> 5736710                                                                                  </td><td> 6194360                                                                                  </td><td> 6004920                                                                                  </td><td> 1006276.0                                                                                </td><td> 8638030                                                                                  </td></tr>\n",
       "\t<tr><td> 8659830                                                                                  </td><td>10270590                                                                                  </td><td>9628720                                                                                   </td><td> 8436530                                                                                  </td><td> 5723760                                                                                  </td><td>  384049.0                                                                                </td><td> 1156441.0                                                                                </td><td>  558169                                                                                  </td><td> 6019210                                                                                  </td><td>       0                                                                                  </td><td>       0.0                                                                                </td><td>       0                                                                                  </td></tr>\n",
       "\t<tr><td> 6768340                                                                                  </td><td> 7438780                                                                                  </td><td>3028380                                                                                   </td><td> 6404360                                                                                  </td><td>       1                                                                                  </td><td>        NA                                                                                </td><td> 2896310.0                                                                                </td><td> 5632830                                                                                  </td><td> 5446560                                                                                  </td><td> 5117740                                                                                  </td><td> 4910240.0                                                                                </td><td> 5367750                                                                                  </td></tr>\n",
       "\t<tr><td>      NA                                                                                  </td><td>       0                                                                                  </td><td>QVLIDSGVGQYISTLVSGMDINPILMAWGVAAFLRICLGSATVAAISTAGLVIPLLAVHPNTNLALITLATGAGSCICSHVNDASFWMIK</td><td>      NA                                                                                  </td><td> 4562840                                                                                  </td><td> 4278510.0                                                                                </td><td> 4620350.0                                                                                </td><td> 4791290                                                                                  </td><td> 4675760                                                                                  </td><td> 5160800                                                                                  </td><td>        NA                                                                                </td><td>      NA                                                                                  </td></tr>\n",
       "\t<tr><td>      NA                                                                                  </td><td>       0                                                                                  </td><td>                                                                                          </td><td>       0                                                                                  </td><td>       0                                                                                  </td><td>       0.0                                                                                </td><td>       0.0                                                                                </td><td>       0                                                                                  </td><td>       0                                                                                  </td><td>      NA                                                                                  </td><td>        NA                                                                                </td><td>      NA                                                                                  </td></tr>\n",
       "</tbody>\n",
       "</table>\n"
      ],
      "text/latex": [
       "\\begin{tabular}{r|llllllllllll}\n",
       " a1 & a2 & a3 & b1 & b2 & b3 & c1 & c2 & c3 & d1 & d2 & d3\\\\\n",
       "\\hline\n",
       "\t 216508408    & 105302604    & 188390000    & 124128396    & 6.114620e+07 &  26236550    &  62920800    & 152758200    &  37377100    & 102853200    & 209932992    & 132222500   \\\\\n",
       "\t  43629400    &  50551300    & 13162200     &  37126900    & 2.129030e+07 &  26009800    &  48684600    &  35624300    &  58153100    & 171960200    &  50224400    &  56392200   \\\\\n",
       "\t 197866800    & 206806500    & 91024800     & 188364200    & 1.699310e+08 &  11359220    & 100704500    &  16145970    & 170408292    &  50874540    & 272123292    & 207982900   \\\\\n",
       "\t  80551000    &  38286910    & 69663070     &  44561130    & 2.426595e+07 &   9986070    &  35448080    &  74736150    &  18970640    & 115195596    &  65054100    &  40677270   \\\\\n",
       "\t  19200980    &  90075804    & 165011000    & 173858500    & 1.347421e+08 & 115509804    &  93534300    & 207598108    & 164900600    & 142472300    &  90998196    &  39363300   \\\\\n",
       "\t  86550000    &  87135504    & 3652417      &  51528280    & 6.931580e+07 & 109990504    &  72856700    & 162942500    & 141686100    &  86547800    &  39790400    & 134808500   \\\\\n",
       "\t 181043508    &  93751004    & 103779200    &  32108970    & 1.635478e+08 &  31742710    & 193353992    & 135466000    &  62601800    & 178704400    &  79428600    & 112280000   \\\\\n",
       "\t 156673200    &  86434354    & 73778050     & 154152300    & 1.050898e+08 & 113247700    & 188742192    & 118258500    & 155655800    & 143846800    &  83082600    & 155814600   \\\\\n",
       "\t  62340580    &  24373600    & 28133400     &  48755920    & 2.298368e+07 &  63163620    & 135234600    & 129174200    & 184046800    &  83097400    & 232409992    & 271129908   \\\\\n",
       "\t   8538740    &  39069040    & 70761900     &  75038900    & 5.580439e+07 &  49059610    &  83540700    & 196672200    &  15126110    &  96397100    &  87787100    & 169045700   \\\\\n",
       "\t  64489600    & 111406096    & 100080796    &  87858670    & 1.558351e+08 &  88394000    &  21750750    & 170732500    & 138151300    & 196656900    &  92473700    &  40913250   \\\\\n",
       "\t  29345250    &  87188900    & 106159600    &  79239404    & 6.675760e+01 & 148725000    &  96893596    &  97918204    & 121470600    & 126123100    &  18769570    & 147536300   \\\\\n",
       "\t  61190850    & 108672000    & 93719204     &  81558964    & 1.483255e+08 &  85109996    &  21233390    &  63620240    & 104840900    & 187831000    &  67968040    &  77324900   \\\\\n",
       "\t 107690900    & 107642800    & 4628495      &  64148630    & 8.188810e+07 & 132223300    &  62291850    &  96710096    & 120803300    &  60522290    &  15710380    & 115880500   \\\\\n",
       "\t  41347060    & 120271400    & 84447010     &  74552990    & 1.162672e+08 &  71370630    & 129597800    &  67976820    &  59459360    &  65022940    &  39548020    & 136859200   \\\\\n",
       "\t 137247400    &  89681400    & 29020880     & 116600300    & 1.190903e+08 & 112210204    & 116131800    & 103806800    &  39056740    & 222018400    & 161362400    &  64471590   \\\\\n",
       "\t  35980980    & 105866000    & 125268200    &  98726296    & 2.610980e+02 & 179149192    & 140414800    & 176063192    & 177910200    & 132570500    & 168011800    & 307443300   \\\\\n",
       "\t  42023000    &  27148600    & 9231540      &  38122400    & 3.578200e+07 &  34637700    &  53190500    &  64832790    & 104814296    &  86231296    &  62816340    &  71451430   \\\\\n",
       "\t  57888850    &  99479200    & 86023504     &  76099964    & 1.399383e+08 &  79925484    &  14070850    &  68377200    &  69263504    & 153977292    &  43669200    &  84534000   \\\\\n",
       "\t  62862100    &  76401600    & 65924700     &  60524900    & 1.841540e+07 &  26232800    &   4877160    &  78742370    &  98747700    &  32477900    &  14213980    & 111935000   \\\\\n",
       "\t 136092200    & 147078500    & 60331930     & 134808600    & 1.166322e+08 &   7939686    & 120500600    &  42072000    &  46193900    & 154399600    &  26112700    &  35444800   \\\\\n",
       "\t 148636200    &  77652810    & 84978396     &  27875650    & 1.447469e+08 &  26713680    & 118378000    &  14589920    & 153386508    & 145514400    & 150233200    & 121309500   \\\\\n",
       "\t  35784740    &  57291520    & 56646670     &  60083800    & 5.972542e+07 &  87994800    & 108918396    &  95188300    & 122018400    &  53372080    &  65511630    & 126337400   \\\\\n",
       "\t 169560416    & 169365770    & 7261216      & 100185420    & 1.355736e+08 & 215197570    &  56402860    &  66953340    &  43697140    & 138434524    &  25555800    & 112624020   \\\\\n",
       "\t  82104096    &  99230104    & 66886120     &  97409900    & 1.025773e+08 &  94110300    & 122108100    & 157700956    & 134532856    & 140044600    &  32144655    & 112660500   \\\\\n",
       "\t  72590840    & 122957280    & 108645320    &  95496540    & 1.737202e+08 &  99335890    &  25437912    & 141166700    &  72196340    & 236403632    & 123748400    & 166899500   \\\\\n",
       "\t  98228210    & 170742200    & 146463426    & 131978840    & 2.351816e+08 & 134597220    &  27833156    & 118591366    & 154035736    & 191450816    &  22124829    & 157706356   \\\\\n",
       "\t  12594400    &  58421100    & 102928404    & 113560200    & 8.643132e+07 &  73421260    &  60138930    &  97307640    & 123179666    &  81346090    &  20298248    &  43044110   \\\\\n",
       "\t  87782896    &  93936604    & 40721230     &  84861596    & 7.663460e+07 &   5003333    &  77151420    & 144931300    & 111751496    & 106076804    &  98562196    & 106769500   \\\\\n",
       "\t  41968300    &  71733730    & 62731400     &  54795130    & 9.775310e+07 &  53796740    &  14239580    &  10075530    & 105352504    & 158816108    & 135393200    &  90071804   \\\\\n",
       "\t ⋮ & ⋮ & ⋮ & ⋮ & ⋮ & ⋮ & ⋮ & ⋮ & ⋮ & ⋮ & ⋮ & ⋮\\\\\n",
       "\t  6358896                                                                                   & 11144674                                                                                   & 9869061                                                                                    &  8109652                                                                                   & 24336447                                                                                   & 38511484.0                                                                                 & 14860172.0                                                                                 & 23650914                                                                                   & 20940243                                                                                   & 39355490                                                                                   & 18775096.0                                                                                 &  6990778                                                                                  \\\\\n",
       "\t 30126459                                                                                   & 30465575                                                                                   & 1318271                                                                                    & 17827398                                                                                   & 20269570                                                                                   & 19441030.0                                                                                 & 32504928.0                                                                                 & 31224430                                                                                   & 32440150                                                                                   &  9205830                                                                                   &   904942.3                                                                                 & 25485122                                                                                  \\\\\n",
       "\t 23866430                                                                                   & 15521750                                                                                   & 5223425                                                                                    & 21437770                                                                                   &  6349420                                                                                   & 10320150.0                                                                                 &   941469.8                                                                                 & 10126400                                                                                   &  8875860                                                                                   & 16699736                                                                                   &  7720725.4                                                                                 & 41841350                                                                                  \\\\\n",
       "\t  8189700                                                                                   &  7985550                                                                                   & 345357.3984375                                                                             &  4861050                                                                                   &  6088296                                                                                   &   139899.4                                                                                 &  5808547.5                                                                                 & 12664231                                                                                   &  8593128                                                                                   & 11343559                                                                                   & 23293090.0                                                                                 &  8875240                                                                                  \\\\\n",
       "\t 15175850                                                                                   & 15806058                                                                                   & 7740696                                                                                    &  8199337                                                                                   & 11929101                                                                                   & 10683916.0                                                                                 & 15392738.0                                                                                 & 21242510                                                                                   & 16476998                                                                                   & 11101980                                                                                   &  2664372.0                                                                                 & 15285306                                                                                  \\\\\n",
       "\t  1737264                                                                                   &  8245919                                                                                   & 14860826                                                                                   & 15527297                                                                                   &  4577660                                                                                   &   102009.7                                                                                 &  4110500.0                                                                                 &  8708680                                                                                   &  5526870                                                                                   & 31519848                                                                                   &  8640667.0                                                                                 &  5645025                                                                                  \\\\\n",
       "\t 11002330                                                                                   & 11047980                                                                                   & 5457430                                                                                    &  5730520                                                                                   & 10904054                                                                                   &   246318.0                                                                                 & 10419820.0                                                                                 & 23954487                                                                                   & 15767907                                                                                   &  8697560                                                                                   & 13145108.0                                                                                 & 11387160                                                                                  \\\\\n",
       "\t 26580955                                                                                   & 26690885                                                                                   & 13028724.1015625                                                                           & 13456555                                                                                   & 11385170                                                                                   &  9397790.0                                                                                 &  8266661.0                                                                                 & 16142660                                                                                   & 11866980                                                                                   & 29861390                                                                                   &  6378290.0                                                                                 & 30039330                                                                                  \\\\\n",
       "\t  1603897                                                                                   &  7631410                                                                                   & 13637160                                                                                   & 14592130                                                                                   & 13665400                                                                                   & 24883520.0                                                                                 & 15310660.0                                                                                 & 25204690                                                                                   & 31977210                                                                                   &  6386330                                                                                   & 16978652.0                                                                                 &  5225970                                                                                  \\\\\n",
       "\t 14268990                                                                                   &  7417250                                                                                   & 12273430                                                                                   &  8704686                                                                                   & 11334950                                                                                   &  7101080.0                                                                                 & 28951778.0                                                                                 & 10488330                                                                                   &  3928660                                                                                   &  6529889                                                                                   & 11466850.0                                                                                 & 35850560                                                                                  \\\\\n",
       "\t  4031130                                                                                   & 11866810                                                                                   & 8040000                                                                                    &  7553770                                                                                   &  9523480                                                                                   & 28147360.0                                                                                 &  5511250.0                                                                                 & 15213290                                                                                   &  1170114                                                                                   & 60358483                                                                                   & 37633140.0                                                                                 &  5100070                                                                                  \\\\\n",
       "\t 26161260                                                                                   & 10370510                                                                                   & 11996360                                                                                   & 20130300                                                                                   & 28703392                                                                                   & 26894422.0                                                                                 & 10138580.0                                                                                 & 49240393                                                                                   & 49330483                                                                                   &  7875420                                                                                   & 12416910.0                                                                                 & 14810260                                                                                  \\\\\n",
       "\t 33799062                                                                                   & 22240772                                                                                   & 7452080.3984375                                                                            & 29737372                                                                                   &  5973300                                                                                   & 10786580.0                                                                                 &  8766380.0                                                                                 &  6621950                                                                                   &  8610350                                                                                   &  7820390                                                                                   &  8095078.0                                                                                 & 76795547                                                                                  \\\\\n",
       "\t  6112680                                                                                   &  3208800                                                                                   & 5387580                                                                                    &  3648100                                                                                   &  3932500                                                                                   &    86986.3                                                                                 & 13112900.0                                                                                 &  5910740                                                                                   &  4017240                                                                                   &  6709910                                                                                   & 41998308.0                                                                                 & 16507180                                                                                  \\\\\n",
       "\t  9470860                                                                                   &  9387540                                                                                   & 4672560                                                                                    &  4903100                                                                                   &  4154780                                                                                   &  4942750.0                                                                                 & 24295155.0                                                                                 &  6178630                                                                                   &  7772480                                                                                   & 16319730                                                                                   & 17443030.0                                                                                 & 10487810                                                                                  \\\\\n",
       "\t  6833880                                                                                   &  3624680                                                                                   & 3345310                                                                                    &  6948510                                                                                   & 10763540                                                                                   & 20194430.0                                                                                 &  4621090.0                                                                                 & 13958600                                                                                   & 17665400                                                                                   &  6202810                                                                                   &  5698510.0                                                                                 & 12363700                                                                                  \\\\\n",
       "\t 11213690                                                                                   &  5959150                                                                                   & 9644570                                                                                    &  6853520                                                                                   &  5824990                                                                                   &  9229500.0                                                                                 &  9755690.0                                                                                 &  6786580                                                                                   &  6065830                                                                                   &  2957520                                                                                   & 11293700.0                                                                                 & 19718040                                                                                  \\\\\n",
       "\t  7222260                                                                                   &  6940290                                                                                   & 309045                                                                                     &  4237820                                                                                   &  2523140                                                                                   &  3824700.0                                                                                 &  8204620.0                                                                                 &  3352320                                                                                   &  2992150                                                                                   & 11744340                                                                                   & 19938160.0                                                                                 &  5328480                                                                                  \\\\\n",
       "\t  3061220                                                                                   &  2784910                                                                                   & 118159                                                                                     &  1781470                                                                                   &  7880698                                                                                   & 12666680.0                                                                                 &  7873660.0                                                                                 & 13042420                                                                                   & 11210100                                                                                   & 31398320                                                                                   &  1567807.0                                                                                 &  1909630                                                                                  \\\\\n",
       "\t  9582190                                                                                   &  9468780                                                                                   & 421301                                                                                     &  5602888                                                                                   & 21616209                                                                                   & 39385850.0                                                                                 &  3963320.0                                                                                 & 26871106                                                                                   & 33468100                                                                                   &  9745150                                                                                   &   554409.0                                                                                 &  9522037                                                                                  \\\\\n",
       "\t 21952221                                                                                   & 11464421                                                                                   & 19662375                                                                                   & 13469266                                                                                   &  6219250                                                                                   &  3568210.0                                                                                 &  1363270.0                                                                                 &  5107210                                                                                   &  6270570                                                                                   & 17165260                                                                                   &  2734171.0                                                                                 & 44012530                                                                                  \\\\\n",
       "\t  2539896                                                                                   &  4636160                                                                                   & 3730160                                                                                    &  3350310                                                                                   & 12291690                                                                                   &  7031115.0                                                                                 &  6626369.0                                                                                 &  8309366                                                                                   & 10890790                                                                                   & 16774204                                                                                   & 45579790.0                                                                                 &  8410450                                                                                  \\\\\n",
       "\t  5153781                                                                                   &  9120622                                                                                   & 8058769                                                                                    &  6554678                                                                                   &  5318384                                                                                   &   121340.9                                                                                 & 15683529.0                                                                                 & 12961548                                                                                   &  8331208                                                                                   &  9111190                                                                                   &  1107371.0                                                                                 & 11136050                                                                                  \\\\\n",
       "\t 13020467                                                                                   & 13099239                                                                                   & 6413091                                                                                    &  6579279                                                                                   &  9239480                                                                                   &  5223210.0                                                                                 &  1225778.0                                                                                 &  4580020                                                                                   &  6165580                                                                                   &  8462470                                                                                   &  1457029.0                                                                                 & 16855236                                                                                  \\\\\n",
       "\t  3809740                                                                                   &  6660030                                                                                   & 5744760                                                                                    &  5004940                                                                                   &  5982830                                                                                   &  9178330.0                                                                                 &  1750763.0                                                                                 &  9368970                                                                                   &  8019690                                                                                   &  4519300                                                                                   &  9145439.0                                                                                 &  7646340                                                                                  \\\\\n",
       "\t  7323920                                                                                   &  7548150                                                                                   & 298452                                                                                     &  4320000                                                                                   &  2458060                                                                                   &  3479120.0                                                                                 & 12967942.0                                                                                 &  5736710                                                                                   &  6194360                                                                                   &  6004920                                                                                   &  1006276.0                                                                                 &  8638030                                                                                  \\\\\n",
       "\t  8659830                                                                                   & 10270590                                                                                   & 9628720                                                                                    &  8436530                                                                                   &  5723760                                                                                   &   384049.0                                                                                 &  1156441.0                                                                                 &   558169                                                                                   &  6019210                                                                                   &        0                                                                                   &        0.0                                                                                 &        0                                                                                  \\\\\n",
       "\t  6768340                                                                                   &  7438780                                                                                   & 3028380                                                                                    &  6404360                                                                                   &        1                                                                                   &         NA                                                                                 &  2896310.0                                                                                 &  5632830                                                                                   &  5446560                                                                                   &  5117740                                                                                   &  4910240.0                                                                                 &  5367750                                                                                  \\\\\n",
       "\t       NA                                                                                   &        0                                                                                   & QVLIDSGVGQYISTLVSGMDINPILMAWGVAAFLRICLGSATVAAISTAGLVIPLLAVHPNTNLALITLATGAGSCICSHVNDASFWMIK &       NA                                                                                   &  4562840                                                                                   &  4278510.0                                                                                 &  4620350.0                                                                                 &  4791290                                                                                   &  4675760                                                                                   &  5160800                                                                                   &         NA                                                                                 &       NA                                                                                  \\\\\n",
       "\t       NA                                                                                   &        0                                                                                   &                                                                                            &        0                                                                                   &        0                                                                                   &        0.0                                                                                 &        0.0                                                                                 &        0                                                                                   &        0                                                                                   &       NA                                                                                   &         NA                                                                                 &       NA                                                                                  \\\\\n",
       "\\end{tabular}\n"
      ],
      "text/markdown": [
       "\n",
       "a1 | a2 | a3 | b1 | b2 | b3 | c1 | c2 | c3 | d1 | d2 | d3 | \n",
       "|---|---|---|---|---|---|---|---|---|---|---|---|---|---|---|---|---|---|---|---|---|---|---|---|---|---|---|---|---|---|---|---|---|---|---|---|---|---|---|---|---|---|---|---|---|---|---|---|---|---|---|---|---|---|---|---|---|---|---|---|---|\n",
       "| 216508408    | 105302604    | 188390000    | 124128396    | 6.114620e+07 |  26236550    |  62920800    | 152758200    |  37377100    | 102853200    | 209932992    | 132222500    | \n",
       "|  43629400    |  50551300    | 13162200     |  37126900    | 2.129030e+07 |  26009800    |  48684600    |  35624300    |  58153100    | 171960200    |  50224400    |  56392200    | \n",
       "| 197866800    | 206806500    | 91024800     | 188364200    | 1.699310e+08 |  11359220    | 100704500    |  16145970    | 170408292    |  50874540    | 272123292    | 207982900    | \n",
       "|  80551000    |  38286910    | 69663070     |  44561130    | 2.426595e+07 |   9986070    |  35448080    |  74736150    |  18970640    | 115195596    |  65054100    |  40677270    | \n",
       "|  19200980    |  90075804    | 165011000    | 173858500    | 1.347421e+08 | 115509804    |  93534300    | 207598108    | 164900600    | 142472300    |  90998196    |  39363300    | \n",
       "|  86550000    |  87135504    | 3652417      |  51528280    | 6.931580e+07 | 109990504    |  72856700    | 162942500    | 141686100    |  86547800    |  39790400    | 134808500    | \n",
       "| 181043508    |  93751004    | 103779200    |  32108970    | 1.635478e+08 |  31742710    | 193353992    | 135466000    |  62601800    | 178704400    |  79428600    | 112280000    | \n",
       "| 156673200    |  86434354    | 73778050     | 154152300    | 1.050898e+08 | 113247700    | 188742192    | 118258500    | 155655800    | 143846800    |  83082600    | 155814600    | \n",
       "|  62340580    |  24373600    | 28133400     |  48755920    | 2.298368e+07 |  63163620    | 135234600    | 129174200    | 184046800    |  83097400    | 232409992    | 271129908    | \n",
       "|   8538740    |  39069040    | 70761900     |  75038900    | 5.580439e+07 |  49059610    |  83540700    | 196672200    |  15126110    |  96397100    |  87787100    | 169045700    | \n",
       "|  64489600    | 111406096    | 100080796    |  87858670    | 1.558351e+08 |  88394000    |  21750750    | 170732500    | 138151300    | 196656900    |  92473700    |  40913250    | \n",
       "|  29345250    |  87188900    | 106159600    |  79239404    | 6.675760e+01 | 148725000    |  96893596    |  97918204    | 121470600    | 126123100    |  18769570    | 147536300    | \n",
       "|  61190850    | 108672000    | 93719204     |  81558964    | 1.483255e+08 |  85109996    |  21233390    |  63620240    | 104840900    | 187831000    |  67968040    |  77324900    | \n",
       "| 107690900    | 107642800    | 4628495      |  64148630    | 8.188810e+07 | 132223300    |  62291850    |  96710096    | 120803300    |  60522290    |  15710380    | 115880500    | \n",
       "|  41347060    | 120271400    | 84447010     |  74552990    | 1.162672e+08 |  71370630    | 129597800    |  67976820    |  59459360    |  65022940    |  39548020    | 136859200    | \n",
       "| 137247400    |  89681400    | 29020880     | 116600300    | 1.190903e+08 | 112210204    | 116131800    | 103806800    |  39056740    | 222018400    | 161362400    |  64471590    | \n",
       "|  35980980    | 105866000    | 125268200    |  98726296    | 2.610980e+02 | 179149192    | 140414800    | 176063192    | 177910200    | 132570500    | 168011800    | 307443300    | \n",
       "|  42023000    |  27148600    | 9231540      |  38122400    | 3.578200e+07 |  34637700    |  53190500    |  64832790    | 104814296    |  86231296    |  62816340    |  71451430    | \n",
       "|  57888850    |  99479200    | 86023504     |  76099964    | 1.399383e+08 |  79925484    |  14070850    |  68377200    |  69263504    | 153977292    |  43669200    |  84534000    | \n",
       "|  62862100    |  76401600    | 65924700     |  60524900    | 1.841540e+07 |  26232800    |   4877160    |  78742370    |  98747700    |  32477900    |  14213980    | 111935000    | \n",
       "| 136092200    | 147078500    | 60331930     | 134808600    | 1.166322e+08 |   7939686    | 120500600    |  42072000    |  46193900    | 154399600    |  26112700    |  35444800    | \n",
       "| 148636200    |  77652810    | 84978396     |  27875650    | 1.447469e+08 |  26713680    | 118378000    |  14589920    | 153386508    | 145514400    | 150233200    | 121309500    | \n",
       "|  35784740    |  57291520    | 56646670     |  60083800    | 5.972542e+07 |  87994800    | 108918396    |  95188300    | 122018400    |  53372080    |  65511630    | 126337400    | \n",
       "| 169560416    | 169365770    | 7261216      | 100185420    | 1.355736e+08 | 215197570    |  56402860    |  66953340    |  43697140    | 138434524    |  25555800    | 112624020    | \n",
       "|  82104096    |  99230104    | 66886120     |  97409900    | 1.025773e+08 |  94110300    | 122108100    | 157700956    | 134532856    | 140044600    |  32144655    | 112660500    | \n",
       "|  72590840    | 122957280    | 108645320    |  95496540    | 1.737202e+08 |  99335890    |  25437912    | 141166700    |  72196340    | 236403632    | 123748400    | 166899500    | \n",
       "|  98228210    | 170742200    | 146463426    | 131978840    | 2.351816e+08 | 134597220    |  27833156    | 118591366    | 154035736    | 191450816    |  22124829    | 157706356    | \n",
       "|  12594400    |  58421100    | 102928404    | 113560200    | 8.643132e+07 |  73421260    |  60138930    |  97307640    | 123179666    |  81346090    |  20298248    |  43044110    | \n",
       "|  87782896    |  93936604    | 40721230     |  84861596    | 7.663460e+07 |   5003333    |  77151420    | 144931300    | 111751496    | 106076804    |  98562196    | 106769500    | \n",
       "|  41968300    |  71733730    | 62731400     |  54795130    | 9.775310e+07 |  53796740    |  14239580    |  10075530    | 105352504    | 158816108    | 135393200    |  90071804    | \n",
       "| ⋮ | ⋮ | ⋮ | ⋮ | ⋮ | ⋮ | ⋮ | ⋮ | ⋮ | ⋮ | ⋮ | ⋮ | \n",
       "|  6358896                                                                                   | 11144674                                                                                   | 9869061                                                                                    |  8109652                                                                                   | 24336447                                                                                   | 38511484.0                                                                                 | 14860172.0                                                                                 | 23650914                                                                                   | 20940243                                                                                   | 39355490                                                                                   | 18775096.0                                                                                 |  6990778                                                                                   | \n",
       "| 30126459                                                                                   | 30465575                                                                                   | 1318271                                                                                    | 17827398                                                                                   | 20269570                                                                                   | 19441030.0                                                                                 | 32504928.0                                                                                 | 31224430                                                                                   | 32440150                                                                                   |  9205830                                                                                   |   904942.3                                                                                 | 25485122                                                                                   | \n",
       "| 23866430                                                                                   | 15521750                                                                                   | 5223425                                                                                    | 21437770                                                                                   |  6349420                                                                                   | 10320150.0                                                                                 |   941469.8                                                                                 | 10126400                                                                                   |  8875860                                                                                   | 16699736                                                                                   |  7720725.4                                                                                 | 41841350                                                                                   | \n",
       "|  8189700                                                                                   |  7985550                                                                                   | 345357.3984375                                                                             |  4861050                                                                                   |  6088296                                                                                   |   139899.4                                                                                 |  5808547.5                                                                                 | 12664231                                                                                   |  8593128                                                                                   | 11343559                                                                                   | 23293090.0                                                                                 |  8875240                                                                                   | \n",
       "| 15175850                                                                                   | 15806058                                                                                   | 7740696                                                                                    |  8199337                                                                                   | 11929101                                                                                   | 10683916.0                                                                                 | 15392738.0                                                                                 | 21242510                                                                                   | 16476998                                                                                   | 11101980                                                                                   |  2664372.0                                                                                 | 15285306                                                                                   | \n",
       "|  1737264                                                                                   |  8245919                                                                                   | 14860826                                                                                   | 15527297                                                                                   |  4577660                                                                                   |   102009.7                                                                                 |  4110500.0                                                                                 |  8708680                                                                                   |  5526870                                                                                   | 31519848                                                                                   |  8640667.0                                                                                 |  5645025                                                                                   | \n",
       "| 11002330                                                                                   | 11047980                                                                                   | 5457430                                                                                    |  5730520                                                                                   | 10904054                                                                                   |   246318.0                                                                                 | 10419820.0                                                                                 | 23954487                                                                                   | 15767907                                                                                   |  8697560                                                                                   | 13145108.0                                                                                 | 11387160                                                                                   | \n",
       "| 26580955                                                                                   | 26690885                                                                                   | 13028724.1015625                                                                           | 13456555                                                                                   | 11385170                                                                                   |  9397790.0                                                                                 |  8266661.0                                                                                 | 16142660                                                                                   | 11866980                                                                                   | 29861390                                                                                   |  6378290.0                                                                                 | 30039330                                                                                   | \n",
       "|  1603897                                                                                   |  7631410                                                                                   | 13637160                                                                                   | 14592130                                                                                   | 13665400                                                                                   | 24883520.0                                                                                 | 15310660.0                                                                                 | 25204690                                                                                   | 31977210                                                                                   |  6386330                                                                                   | 16978652.0                                                                                 |  5225970                                                                                   | \n",
       "| 14268990                                                                                   |  7417250                                                                                   | 12273430                                                                                   |  8704686                                                                                   | 11334950                                                                                   |  7101080.0                                                                                 | 28951778.0                                                                                 | 10488330                                                                                   |  3928660                                                                                   |  6529889                                                                                   | 11466850.0                                                                                 | 35850560                                                                                   | \n",
       "|  4031130                                                                                   | 11866810                                                                                   | 8040000                                                                                    |  7553770                                                                                   |  9523480                                                                                   | 28147360.0                                                                                 |  5511250.0                                                                                 | 15213290                                                                                   |  1170114                                                                                   | 60358483                                                                                   | 37633140.0                                                                                 |  5100070                                                                                   | \n",
       "| 26161260                                                                                   | 10370510                                                                                   | 11996360                                                                                   | 20130300                                                                                   | 28703392                                                                                   | 26894422.0                                                                                 | 10138580.0                                                                                 | 49240393                                                                                   | 49330483                                                                                   |  7875420                                                                                   | 12416910.0                                                                                 | 14810260                                                                                   | \n",
       "| 33799062                                                                                   | 22240772                                                                                   | 7452080.3984375                                                                            | 29737372                                                                                   |  5973300                                                                                   | 10786580.0                                                                                 |  8766380.0                                                                                 |  6621950                                                                                   |  8610350                                                                                   |  7820390                                                                                   |  8095078.0                                                                                 | 76795547                                                                                   | \n",
       "|  6112680                                                                                   |  3208800                                                                                   | 5387580                                                                                    |  3648100                                                                                   |  3932500                                                                                   |    86986.3                                                                                 | 13112900.0                                                                                 |  5910740                                                                                   |  4017240                                                                                   |  6709910                                                                                   | 41998308.0                                                                                 | 16507180                                                                                   | \n",
       "|  9470860                                                                                   |  9387540                                                                                   | 4672560                                                                                    |  4903100                                                                                   |  4154780                                                                                   |  4942750.0                                                                                 | 24295155.0                                                                                 |  6178630                                                                                   |  7772480                                                                                   | 16319730                                                                                   | 17443030.0                                                                                 | 10487810                                                                                   | \n",
       "|  6833880                                                                                   |  3624680                                                                                   | 3345310                                                                                    |  6948510                                                                                   | 10763540                                                                                   | 20194430.0                                                                                 |  4621090.0                                                                                 | 13958600                                                                                   | 17665400                                                                                   |  6202810                                                                                   |  5698510.0                                                                                 | 12363700                                                                                   | \n",
       "| 11213690                                                                                   |  5959150                                                                                   | 9644570                                                                                    |  6853520                                                                                   |  5824990                                                                                   |  9229500.0                                                                                 |  9755690.0                                                                                 |  6786580                                                                                   |  6065830                                                                                   |  2957520                                                                                   | 11293700.0                                                                                 | 19718040                                                                                   | \n",
       "|  7222260                                                                                   |  6940290                                                                                   | 309045                                                                                     |  4237820                                                                                   |  2523140                                                                                   |  3824700.0                                                                                 |  8204620.0                                                                                 |  3352320                                                                                   |  2992150                                                                                   | 11744340                                                                                   | 19938160.0                                                                                 |  5328480                                                                                   | \n",
       "|  3061220                                                                                   |  2784910                                                                                   | 118159                                                                                     |  1781470                                                                                   |  7880698                                                                                   | 12666680.0                                                                                 |  7873660.0                                                                                 | 13042420                                                                                   | 11210100                                                                                   | 31398320                                                                                   |  1567807.0                                                                                 |  1909630                                                                                   | \n",
       "|  9582190                                                                                   |  9468780                                                                                   | 421301                                                                                     |  5602888                                                                                   | 21616209                                                                                   | 39385850.0                                                                                 |  3963320.0                                                                                 | 26871106                                                                                   | 33468100                                                                                   |  9745150                                                                                   |   554409.0                                                                                 |  9522037                                                                                   | \n",
       "| 21952221                                                                                   | 11464421                                                                                   | 19662375                                                                                   | 13469266                                                                                   |  6219250                                                                                   |  3568210.0                                                                                 |  1363270.0                                                                                 |  5107210                                                                                   |  6270570                                                                                   | 17165260                                                                                   |  2734171.0                                                                                 | 44012530                                                                                   | \n",
       "|  2539896                                                                                   |  4636160                                                                                   | 3730160                                                                                    |  3350310                                                                                   | 12291690                                                                                   |  7031115.0                                                                                 |  6626369.0                                                                                 |  8309366                                                                                   | 10890790                                                                                   | 16774204                                                                                   | 45579790.0                                                                                 |  8410450                                                                                   | \n",
       "|  5153781                                                                                   |  9120622                                                                                   | 8058769                                                                                    |  6554678                                                                                   |  5318384                                                                                   |   121340.9                                                                                 | 15683529.0                                                                                 | 12961548                                                                                   |  8331208                                                                                   |  9111190                                                                                   |  1107371.0                                                                                 | 11136050                                                                                   | \n",
       "| 13020467                                                                                   | 13099239                                                                                   | 6413091                                                                                    |  6579279                                                                                   |  9239480                                                                                   |  5223210.0                                                                                 |  1225778.0                                                                                 |  4580020                                                                                   |  6165580                                                                                   |  8462470                                                                                   |  1457029.0                                                                                 | 16855236                                                                                   | \n",
       "|  3809740                                                                                   |  6660030                                                                                   | 5744760                                                                                    |  5004940                                                                                   |  5982830                                                                                   |  9178330.0                                                                                 |  1750763.0                                                                                 |  9368970                                                                                   |  8019690                                                                                   |  4519300                                                                                   |  9145439.0                                                                                 |  7646340                                                                                   | \n",
       "|  7323920                                                                                   |  7548150                                                                                   | 298452                                                                                     |  4320000                                                                                   |  2458060                                                                                   |  3479120.0                                                                                 | 12967942.0                                                                                 |  5736710                                                                                   |  6194360                                                                                   |  6004920                                                                                   |  1006276.0                                                                                 |  8638030                                                                                   | \n",
       "|  8659830                                                                                   | 10270590                                                                                   | 9628720                                                                                    |  8436530                                                                                   |  5723760                                                                                   |   384049.0                                                                                 |  1156441.0                                                                                 |   558169                                                                                   |  6019210                                                                                   |        0                                                                                   |        0.0                                                                                 |        0                                                                                   | \n",
       "|  6768340                                                                                   |  7438780                                                                                   | 3028380                                                                                    |  6404360                                                                                   |        1                                                                                   |         NA                                                                                 |  2896310.0                                                                                 |  5632830                                                                                   |  5446560                                                                                   |  5117740                                                                                   |  4910240.0                                                                                 |  5367750                                                                                   | \n",
       "|       NA                                                                                   |        0                                                                                   | QVLIDSGVGQYISTLVSGMDINPILMAWGVAAFLRICLGSATVAAISTAGLVIPLLAVHPNTNLALITLATGAGSCICSHVNDASFWMIK |       NA                                                                                   |  4562840                                                                                   |  4278510.0                                                                                 |  4620350.0                                                                                 |  4791290                                                                                   |  4675760                                                                                   |  5160800                                                                                   |         NA                                                                                 |       NA                                                                                   | \n",
       "|       NA                                                                                   |        0                                                                                   |                                                                                            |        0                                                                                   |        0                                                                                   |        0.0                                                                                 |        0.0                                                                                 |        0                                                                                   |        0                                                                                   |       NA                                                                                   |         NA                                                                                 |       NA                                                                                   | \n",
       "\n",
       "\n"
      ],
      "text/plain": [
       "    a1        a2       \n",
       "1   216508408 105302604\n",
       "2    43629400  50551300\n",
       "3   197866800 206806500\n",
       "4    80551000  38286910\n",
       "5    19200980  90075804\n",
       "6    86550000  87135504\n",
       "7   181043508  93751004\n",
       "8   156673200  86434354\n",
       "9    62340580  24373600\n",
       "10    8538740  39069040\n",
       "11   64489600 111406096\n",
       "12   29345250  87188900\n",
       "13   61190850 108672000\n",
       "14  107690900 107642800\n",
       "15   41347060 120271400\n",
       "16  137247400  89681400\n",
       "17   35980980 105866000\n",
       "18   42023000  27148600\n",
       "19   57888850  99479200\n",
       "20   62862100  76401600\n",
       "21  136092200 147078500\n",
       "22  148636200  77652810\n",
       "23   35784740  57291520\n",
       "24  169560416 169365770\n",
       "25   82104096  99230104\n",
       "26   72590840 122957280\n",
       "27   98228210 170742200\n",
       "28   12594400  58421100\n",
       "29   87782896  93936604\n",
       "30   41968300  71733730\n",
       "⋮   ⋮         ⋮        \n",
       "806  6358896  11144674 \n",
       "807 30126459  30465575 \n",
       "808 23866430  15521750 \n",
       "809  8189700   7985550 \n",
       "810 15175850  15806058 \n",
       "811  1737264   8245919 \n",
       "812 11002330  11047980 \n",
       "813 26580955  26690885 \n",
       "814  1603897   7631410 \n",
       "815 14268990   7417250 \n",
       "816  4031130  11866810 \n",
       "817 26161260  10370510 \n",
       "818 33799062  22240772 \n",
       "819  6112680   3208800 \n",
       "820  9470860   9387540 \n",
       "821  6833880   3624680 \n",
       "822 11213690   5959150 \n",
       "823  7222260   6940290 \n",
       "824  3061220   2784910 \n",
       "825  9582190   9468780 \n",
       "826 21952221  11464421 \n",
       "827  2539896   4636160 \n",
       "828  5153781   9120622 \n",
       "829 13020467  13099239 \n",
       "830  3809740   6660030 \n",
       "831  7323920   7548150 \n",
       "832  8659830  10270590 \n",
       "833  6768340   7438780 \n",
       "834       NA         0 \n",
       "835       NA         0 \n",
       "    a3                                                                                        \n",
       "1   188390000                                                                                 \n",
       "2   13162200                                                                                  \n",
       "3   91024800                                                                                  \n",
       "4   69663070                                                                                  \n",
       "5   165011000                                                                                 \n",
       "6   3652417                                                                                   \n",
       "7   103779200                                                                                 \n",
       "8   73778050                                                                                  \n",
       "9   28133400                                                                                  \n",
       "10  70761900                                                                                  \n",
       "11  100080796                                                                                 \n",
       "12  106159600                                                                                 \n",
       "13  93719204                                                                                  \n",
       "14  4628495                                                                                   \n",
       "15  84447010                                                                                  \n",
       "16  29020880                                                                                  \n",
       "17  125268200                                                                                 \n",
       "18  9231540                                                                                   \n",
       "19  86023504                                                                                  \n",
       "20  65924700                                                                                  \n",
       "21  60331930                                                                                  \n",
       "22  84978396                                                                                  \n",
       "23  56646670                                                                                  \n",
       "24  7261216                                                                                   \n",
       "25  66886120                                                                                  \n",
       "26  108645320                                                                                 \n",
       "27  146463426                                                                                 \n",
       "28  102928404                                                                                 \n",
       "29  40721230                                                                                  \n",
       "30  62731400                                                                                  \n",
       "⋮   ⋮                                                                                         \n",
       "806 9869061                                                                                   \n",
       "807 1318271                                                                                   \n",
       "808 5223425                                                                                   \n",
       "809 345357.3984375                                                                            \n",
       "810 7740696                                                                                   \n",
       "811 14860826                                                                                  \n",
       "812 5457430                                                                                   \n",
       "813 13028724.1015625                                                                          \n",
       "814 13637160                                                                                  \n",
       "815 12273430                                                                                  \n",
       "816 8040000                                                                                   \n",
       "817 11996360                                                                                  \n",
       "818 7452080.3984375                                                                           \n",
       "819 5387580                                                                                   \n",
       "820 4672560                                                                                   \n",
       "821 3345310                                                                                   \n",
       "822 9644570                                                                                   \n",
       "823 309045                                                                                    \n",
       "824 118159                                                                                    \n",
       "825 421301                                                                                    \n",
       "826 19662375                                                                                  \n",
       "827 3730160                                                                                   \n",
       "828 8058769                                                                                   \n",
       "829 6413091                                                                                   \n",
       "830 5744760                                                                                   \n",
       "831 298452                                                                                    \n",
       "832 9628720                                                                                   \n",
       "833 3028380                                                                                   \n",
       "834 QVLIDSGVGQYISTLVSGMDINPILMAWGVAAFLRICLGSATVAAISTAGLVIPLLAVHPNTNLALITLATGAGSCICSHVNDASFWMIK\n",
       "835                                                                                           \n",
       "    b1        b2           b3         c1         c2        c3        d1       \n",
       "1   124128396 6.114620e+07  26236550   62920800  152758200  37377100 102853200\n",
       "2    37126900 2.129030e+07  26009800   48684600   35624300  58153100 171960200\n",
       "3   188364200 1.699310e+08  11359220  100704500   16145970 170408292  50874540\n",
       "4    44561130 2.426595e+07   9986070   35448080   74736150  18970640 115195596\n",
       "5   173858500 1.347421e+08 115509804   93534300  207598108 164900600 142472300\n",
       "6    51528280 6.931580e+07 109990504   72856700  162942500 141686100  86547800\n",
       "7    32108970 1.635478e+08  31742710  193353992  135466000  62601800 178704400\n",
       "8   154152300 1.050898e+08 113247700  188742192  118258500 155655800 143846800\n",
       "9    48755920 2.298368e+07  63163620  135234600  129174200 184046800  83097400\n",
       "10   75038900 5.580439e+07  49059610   83540700  196672200  15126110  96397100\n",
       "11   87858670 1.558351e+08  88394000   21750750  170732500 138151300 196656900\n",
       "12   79239404 6.675760e+01 148725000   96893596   97918204 121470600 126123100\n",
       "13   81558964 1.483255e+08  85109996   21233390   63620240 104840900 187831000\n",
       "14   64148630 8.188810e+07 132223300   62291850   96710096 120803300  60522290\n",
       "15   74552990 1.162672e+08  71370630  129597800   67976820  59459360  65022940\n",
       "16  116600300 1.190903e+08 112210204  116131800  103806800  39056740 222018400\n",
       "17   98726296 2.610980e+02 179149192  140414800  176063192 177910200 132570500\n",
       "18   38122400 3.578200e+07  34637700   53190500   64832790 104814296  86231296\n",
       "19   76099964 1.399383e+08  79925484   14070850   68377200  69263504 153977292\n",
       "20   60524900 1.841540e+07  26232800    4877160   78742370  98747700  32477900\n",
       "21  134808600 1.166322e+08   7939686  120500600   42072000  46193900 154399600\n",
       "22   27875650 1.447469e+08  26713680  118378000   14589920 153386508 145514400\n",
       "23   60083800 5.972542e+07  87994800  108918396   95188300 122018400  53372080\n",
       "24  100185420 1.355736e+08 215197570   56402860   66953340  43697140 138434524\n",
       "25   97409900 1.025773e+08  94110300  122108100  157700956 134532856 140044600\n",
       "26   95496540 1.737202e+08  99335890   25437912  141166700  72196340 236403632\n",
       "27  131978840 2.351816e+08 134597220   27833156  118591366 154035736 191450816\n",
       "28  113560200 8.643132e+07  73421260   60138930   97307640 123179666  81346090\n",
       "29   84861596 7.663460e+07   5003333   77151420  144931300 111751496 106076804\n",
       "30   54795130 9.775310e+07  53796740   14239580   10075530 105352504 158816108\n",
       "⋮   ⋮         ⋮            ⋮          ⋮          ⋮         ⋮         ⋮        \n",
       "806  8109652  24336447     38511484.0 14860172.0 23650914  20940243  39355490 \n",
       "807 17827398  20269570     19441030.0 32504928.0 31224430  32440150   9205830 \n",
       "808 21437770   6349420     10320150.0   941469.8 10126400   8875860  16699736 \n",
       "809  4861050   6088296       139899.4  5808547.5 12664231   8593128  11343559 \n",
       "810  8199337  11929101     10683916.0 15392738.0 21242510  16476998  11101980 \n",
       "811 15527297   4577660       102009.7  4110500.0  8708680   5526870  31519848 \n",
       "812  5730520  10904054       246318.0 10419820.0 23954487  15767907   8697560 \n",
       "813 13456555  11385170      9397790.0  8266661.0 16142660  11866980  29861390 \n",
       "814 14592130  13665400     24883520.0 15310660.0 25204690  31977210   6386330 \n",
       "815  8704686  11334950      7101080.0 28951778.0 10488330   3928660   6529889 \n",
       "816  7553770   9523480     28147360.0  5511250.0 15213290   1170114  60358483 \n",
       "817 20130300  28703392     26894422.0 10138580.0 49240393  49330483   7875420 \n",
       "818 29737372   5973300     10786580.0  8766380.0  6621950   8610350   7820390 \n",
       "819  3648100   3932500        86986.3 13112900.0  5910740   4017240   6709910 \n",
       "820  4903100   4154780      4942750.0 24295155.0  6178630   7772480  16319730 \n",
       "821  6948510  10763540     20194430.0  4621090.0 13958600  17665400   6202810 \n",
       "822  6853520   5824990      9229500.0  9755690.0  6786580   6065830   2957520 \n",
       "823  4237820   2523140      3824700.0  8204620.0  3352320   2992150  11744340 \n",
       "824  1781470   7880698     12666680.0  7873660.0 13042420  11210100  31398320 \n",
       "825  5602888  21616209     39385850.0  3963320.0 26871106  33468100   9745150 \n",
       "826 13469266   6219250      3568210.0  1363270.0  5107210   6270570  17165260 \n",
       "827  3350310  12291690      7031115.0  6626369.0  8309366  10890790  16774204 \n",
       "828  6554678   5318384       121340.9 15683529.0 12961548   8331208   9111190 \n",
       "829  6579279   9239480      5223210.0  1225778.0  4580020   6165580   8462470 \n",
       "830  5004940   5982830      9178330.0  1750763.0  9368970   8019690   4519300 \n",
       "831  4320000   2458060      3479120.0 12967942.0  5736710   6194360   6004920 \n",
       "832  8436530   5723760       384049.0  1156441.0   558169   6019210         0 \n",
       "833  6404360         1             NA  2896310.0  5632830   5446560   5117740 \n",
       "834       NA   4562840      4278510.0  4620350.0  4791290   4675760   5160800 \n",
       "835        0         0            0.0        0.0        0         0        NA \n",
       "    d2         d3       \n",
       "1   209932992  132222500\n",
       "2    50224400   56392200\n",
       "3   272123292  207982900\n",
       "4    65054100   40677270\n",
       "5    90998196   39363300\n",
       "6    39790400  134808500\n",
       "7    79428600  112280000\n",
       "8    83082600  155814600\n",
       "9   232409992  271129908\n",
       "10   87787100  169045700\n",
       "11   92473700   40913250\n",
       "12   18769570  147536300\n",
       "13   67968040   77324900\n",
       "14   15710380  115880500\n",
       "15   39548020  136859200\n",
       "16  161362400   64471590\n",
       "17  168011800  307443300\n",
       "18   62816340   71451430\n",
       "19   43669200   84534000\n",
       "20   14213980  111935000\n",
       "21   26112700   35444800\n",
       "22  150233200  121309500\n",
       "23   65511630  126337400\n",
       "24   25555800  112624020\n",
       "25   32144655  112660500\n",
       "26  123748400  166899500\n",
       "27   22124829  157706356\n",
       "28   20298248   43044110\n",
       "29   98562196  106769500\n",
       "30  135393200   90071804\n",
       "⋮   ⋮          ⋮        \n",
       "806 18775096.0  6990778 \n",
       "807   904942.3 25485122 \n",
       "808  7720725.4 41841350 \n",
       "809 23293090.0  8875240 \n",
       "810  2664372.0 15285306 \n",
       "811  8640667.0  5645025 \n",
       "812 13145108.0 11387160 \n",
       "813  6378290.0 30039330 \n",
       "814 16978652.0  5225970 \n",
       "815 11466850.0 35850560 \n",
       "816 37633140.0  5100070 \n",
       "817 12416910.0 14810260 \n",
       "818  8095078.0 76795547 \n",
       "819 41998308.0 16507180 \n",
       "820 17443030.0 10487810 \n",
       "821  5698510.0 12363700 \n",
       "822 11293700.0 19718040 \n",
       "823 19938160.0  5328480 \n",
       "824  1567807.0  1909630 \n",
       "825   554409.0  9522037 \n",
       "826  2734171.0 44012530 \n",
       "827 45579790.0  8410450 \n",
       "828  1107371.0 11136050 \n",
       "829  1457029.0 16855236 \n",
       "830  9145439.0  7646340 \n",
       "831  1006276.0  8638030 \n",
       "832        0.0        0 \n",
       "833  4910240.0  5367750 \n",
       "834         NA       NA \n",
       "835         NA       NA "
      ]
     },
     "metadata": {},
     "output_type": "display_data"
    }
   ],
   "source": [
    "raw_data_df[, as.character(design_df$name)]"
   ]
  },
  {
   "cell_type": "code",
   "execution_count": 45,
   "metadata": {
    "ExecuteTime": {
     "end_time": "2017-11-06T15:04:05.781230Z",
     "start_time": "2017-11-06T15:04:05.735Z"
    }
   },
   "outputs": [
    {
     "data": {
      "text/html": [
       "<table>\n",
       "<thead><tr><th scope=col>peptide</th><th scope=col>protein</th><th scope=col>a1</th><th scope=col>a2</th><th scope=col>a3</th><th scope=col>b1</th><th scope=col>b2</th><th scope=col>b3</th><th scope=col>c1</th><th scope=col>c2</th><th scope=col>c3</th><th scope=col>d1</th><th scope=col>d2</th><th scope=col>d3</th></tr></thead>\n",
       "<tbody>\n",
       "\t<tr><td>FCR                 </td><td>sp|P0A7T7|RS18_ECOLI</td><td>216508408           </td><td>105302604           </td><td>188390000           </td><td>124128396           </td><td> 61146200           </td><td> 26236550           </td><td> 62920800           </td><td>152758200           </td><td> 37377100           </td><td>102853200           </td><td>209932992           </td><td>132222500           </td></tr>\n",
       "\t<tr><td>LCR                 </td><td>sp|Q9JMR4|YUBK_ECOLI</td><td> 43629400           </td><td> 50551300           </td><td>13162200            </td><td> 37126900           </td><td> 21290300           </td><td> 26009800           </td><td> 48684600           </td><td> 35624300           </td><td> 58153100           </td><td>171960200           </td><td> 50224400           </td><td> 56392200           </td></tr>\n",
       "\t<tr><td>FCQR                </td><td>sp|P39357|YJHF_ECOLI</td><td>197866800           </td><td>206806500           </td><td>91024800            </td><td>188364200           </td><td>169931000           </td><td> 11359220           </td><td>100704500           </td><td> 16145970           </td><td>170408292           </td><td> 50874540           </td><td>272123292           </td><td>207982900           </td></tr>\n",
       "\t<tr><td>KFCR                </td><td>sp|P0A7T7|RS18_ECOLI</td><td> 80551000           </td><td> 38286910           </td><td>69663070            </td><td> 44561130           </td><td> 24265950           </td><td>  9986070           </td><td> 35448080           </td><td> 74736150           </td><td> 18970640           </td><td>115195596           </td><td> 65054100           </td><td> 40677270           </td></tr>\n",
       "\t<tr><td>AFVLR               </td><td>sp|P0ADY1|PPID_ECOLI</td><td> 19200980           </td><td> 90075804           </td><td>165011000           </td><td>173858500           </td><td>134742100           </td><td>115509804           </td><td> 93534300           </td><td>207598108           </td><td>164900600           </td><td>142472300           </td><td> 90998196           </td><td> 39363300           </td></tr>\n",
       "\t<tr><td>GFVLR               </td><td>sp|P33650|FEOB_ECOLI</td><td> 86550000           </td><td> 87135504           </td><td>3652417             </td><td> 51528280           </td><td> 69315800           </td><td>109990504           </td><td> 72856700           </td><td>162942500           </td><td>141686100           </td><td> 86547800           </td><td> 39790400           </td><td>134808500           </td></tr>\n",
       "</tbody>\n",
       "</table>\n"
      ],
      "text/latex": [
       "\\begin{tabular}{r|llllllllllllll}\n",
       " peptide & protein & a1 & a2 & a3 & b1 & b2 & b3 & c1 & c2 & c3 & d1 & d2 & d3\\\\\n",
       "\\hline\n",
       "\t FCR                                        & sp\\textbar{}P0A7T7\\textbar{}RS18\\_ECOLI & 216508408                                  & 105302604                                  & 188390000                                  & 124128396                                  &  61146200                                  &  26236550                                  &  62920800                                  & 152758200                                  &  37377100                                  & 102853200                                  & 209932992                                  & 132222500                                 \\\\\n",
       "\t LCR                                        & sp\\textbar{}Q9JMR4\\textbar{}YUBK\\_ECOLI &  43629400                                  &  50551300                                  & 13162200                                   &  37126900                                  &  21290300                                  &  26009800                                  &  48684600                                  &  35624300                                  &  58153100                                  & 171960200                                  &  50224400                                  &  56392200                                 \\\\\n",
       "\t FCQR                                       & sp\\textbar{}P39357\\textbar{}YJHF\\_ECOLI & 197866800                                  & 206806500                                  & 91024800                                   & 188364200                                  & 169931000                                  &  11359220                                  & 100704500                                  &  16145970                                  & 170408292                                  &  50874540                                  & 272123292                                  & 207982900                                 \\\\\n",
       "\t KFCR                                       & sp\\textbar{}P0A7T7\\textbar{}RS18\\_ECOLI &  80551000                                  &  38286910                                  & 69663070                                   &  44561130                                  &  24265950                                  &   9986070                                  &  35448080                                  &  74736150                                  &  18970640                                  & 115195596                                  &  65054100                                  &  40677270                                 \\\\\n",
       "\t AFVLR                                      & sp\\textbar{}P0ADY1\\textbar{}PPID\\_ECOLI &  19200980                                  &  90075804                                  & 165011000                                  & 173858500                                  & 134742100                                  & 115509804                                  &  93534300                                  & 207598108                                  & 164900600                                  & 142472300                                  &  90998196                                  &  39363300                                 \\\\\n",
       "\t GFVLR                                      & sp\\textbar{}P33650\\textbar{}FEOB\\_ECOLI &  86550000                                  &  87135504                                  & 3652417                                    &  51528280                                  &  69315800                                  & 109990504                                  &  72856700                                  & 162942500                                  & 141686100                                  &  86547800                                  &  39790400                                  & 134808500                                 \\\\\n",
       "\\end{tabular}\n"
      ],
      "text/markdown": [
       "\n",
       "peptide | protein | a1 | a2 | a3 | b1 | b2 | b3 | c1 | c2 | c3 | d1 | d2 | d3 | \n",
       "|---|---|---|---|---|---|\n",
       "| FCR                  | sp|P0A7T7|RS18_ECOLI | 216508408            | 105302604            | 188390000            | 124128396            |  61146200            |  26236550            |  62920800            | 152758200            |  37377100            | 102853200            | 209932992            | 132222500            | \n",
       "| LCR                  | sp|Q9JMR4|YUBK_ECOLI |  43629400            |  50551300            | 13162200             |  37126900            |  21290300            |  26009800            |  48684600            |  35624300            |  58153100            | 171960200            |  50224400            |  56392200            | \n",
       "| FCQR                 | sp|P39357|YJHF_ECOLI | 197866800            | 206806500            | 91024800             | 188364200            | 169931000            |  11359220            | 100704500            |  16145970            | 170408292            |  50874540            | 272123292            | 207982900            | \n",
       "| KFCR                 | sp|P0A7T7|RS18_ECOLI |  80551000            |  38286910            | 69663070             |  44561130            |  24265950            |   9986070            |  35448080            |  74736150            |  18970640            | 115195596            |  65054100            |  40677270            | \n",
       "| AFVLR                | sp|P0ADY1|PPID_ECOLI |  19200980            |  90075804            | 165011000            | 173858500            | 134742100            | 115509804            |  93534300            | 207598108            | 164900600            | 142472300            |  90998196            |  39363300            | \n",
       "| GFVLR                | sp|P33650|FEOB_ECOLI |  86550000            |  87135504            | 3652417              |  51528280            |  69315800            | 109990504            |  72856700            | 162942500            | 141686100            |  86547800            |  39790400            | 134808500            | \n",
       "\n",
       "\n"
      ],
      "text/plain": [
       "  peptide protein              a1        a2        a3        b1       \n",
       "1 FCR     sp|P0A7T7|RS18_ECOLI 216508408 105302604 188390000 124128396\n",
       "2 LCR     sp|Q9JMR4|YUBK_ECOLI  43629400  50551300 13162200   37126900\n",
       "3 FCQR    sp|P39357|YJHF_ECOLI 197866800 206806500 91024800  188364200\n",
       "4 KFCR    sp|P0A7T7|RS18_ECOLI  80551000  38286910 69663070   44561130\n",
       "5 AFVLR   sp|P0ADY1|PPID_ECOLI  19200980  90075804 165011000 173858500\n",
       "6 GFVLR   sp|P33650|FEOB_ECOLI  86550000  87135504 3652417    51528280\n",
       "  b2        b3        c1        c2        c3        d1        d2       \n",
       "1  61146200  26236550  62920800 152758200  37377100 102853200 209932992\n",
       "2  21290300  26009800  48684600  35624300  58153100 171960200  50224400\n",
       "3 169931000  11359220 100704500  16145970 170408292  50874540 272123292\n",
       "4  24265950   9986070  35448080  74736150  18970640 115195596  65054100\n",
       "5 134742100 115509804  93534300 207598108 164900600 142472300  90998196\n",
       "6  69315800 109990504  72856700 162942500 141686100  86547800  39790400\n",
       "  d3       \n",
       "1 132222500\n",
       "2  56392200\n",
       "3 207982900\n",
       "4  40677270\n",
       "5  39363300\n",
       "6 134808500"
      ]
     },
     "metadata": {},
     "output_type": "display_data"
    },
    {
     "ename": "ERROR",
     "evalue": "Error in Math.data.frame(raw_data_df[, as.character(design_df$name)]): non-numeric variable in data frame: a3\n",
     "output_type": "error",
     "traceback": [
      "Error in Math.data.frame(raw_data_df[, as.character(design_df$name)]): non-numeric variable in data frame: a3\nTraceback:\n",
      "1. Math.data.frame(raw_data_df[, as.character(design_df$name)])",
      "2. stop(\"non-numeric variable in data frame: \", vnames[!mode.ok])"
     ]
    }
   ],
   "source": [
    "raw_data_df <- read.csv(expression_fp, sep=\"\\t\")\n",
    "head(raw_data_df)\n",
    "# raw_data_df$peptide <- as.character(raw_data_df$peptide)\n",
    "# raw_data_df$protein <- as.character(raw_data_df$protein)\n",
    "# # head(raw_data_df)\n",
    "data_df <- log2(raw_data_df[, as.character(design_df$name)])\n",
    "# head(data_df)"
   ]
  },
  {
   "cell_type": "code",
   "execution_count": 24,
   "metadata": {
    "ExecuteTime": {
     "end_time": "2017-11-06T14:30:56.642865Z",
     "start_time": "2017-11-06T14:30:56.522Z"
    }
   },
   "outputs": [
    {
     "data": {
      "text/html": [
       "<table>\n",
       "<thead><tr><th scope=col>peptide</th><th scope=col>protein</th><th scope=col>l1</th><th scope=col>l2</th><th scope=col>l3</th><th scope=col>h1</th><th scope=col>h2</th><th scope=col>h3</th></tr></thead>\n",
       "<tbody>\n",
       "\t<tr><td>FCR                 </td><td>sp|P0A7T7|RS18_ECOLI</td><td>132057300           </td><td>130365300           </td><td>130248100           </td><td>133656804           </td><td>128740996           </td><td>134850396           </td></tr>\n",
       "\t<tr><td>LCR                 </td><td>sp|Q9JMR4|YUBK_ECOLI</td><td> 43953900           </td><td> 47042600           </td><td> 46329900           </td><td> 43241200           </td><td> 43003600           </td><td> 45141900           </td></tr>\n",
       "\t<tr><td>FCQR                </td><td>sp|P39357|YJHF_ECOLI</td><td>106571296           </td><td>112817304           </td><td>112513396           </td><td>110746596           </td><td>109547804           </td><td>109081000           </td></tr>\n",
       "\t<tr><td>KFCR                </td><td>sp|P0A7T7|RS18_ECOLI</td><td> 62889430           </td><td> 61860010           </td><td> 59139060           </td><td> 63620630           </td><td> 61625730           </td><td> 62122740           </td></tr>\n",
       "\t<tr><td>AFVLR               </td><td>sp|P0ADY1|PPID_ECOLI</td><td>110666004           </td><td>115883900           </td><td>129874500           </td><td>120698500           </td><td>123430800           </td><td>118756900           </td></tr>\n",
       "\t<tr><td>GFVLR               </td><td>sp|P33650|FEOB_ECOLI</td><td>136428000           </td><td>126583204           </td><td>127086300           </td><td>131444800           </td><td>133677100           </td><td>129120300           </td></tr>\n",
       "</tbody>\n",
       "</table>\n"
      ],
      "text/latex": [
       "\\begin{tabular}{r|llllllll}\n",
       " peptide & protein & l1 & l2 & l3 & h1 & h2 & h3\\\\\n",
       "\\hline\n",
       "\t FCR                                        & sp\\textbar{}P0A7T7\\textbar{}RS18\\_ECOLI & 132057300                                  & 130365300                                  & 130248100                                  & 133656804                                  & 128740996                                  & 134850396                                 \\\\\n",
       "\t LCR                                        & sp\\textbar{}Q9JMR4\\textbar{}YUBK\\_ECOLI &  43953900                                  &  47042600                                  &  46329900                                  &  43241200                                  &  43003600                                  &  45141900                                 \\\\\n",
       "\t FCQR                                       & sp\\textbar{}P39357\\textbar{}YJHF\\_ECOLI & 106571296                                  & 112817304                                  & 112513396                                  & 110746596                                  & 109547804                                  & 109081000                                 \\\\\n",
       "\t KFCR                                       & sp\\textbar{}P0A7T7\\textbar{}RS18\\_ECOLI &  62889430                                  &  61860010                                  &  59139060                                  &  63620630                                  &  61625730                                  &  62122740                                 \\\\\n",
       "\t AFVLR                                      & sp\\textbar{}P0ADY1\\textbar{}PPID\\_ECOLI & 110666004                                  & 115883900                                  & 129874500                                  & 120698500                                  & 123430800                                  & 118756900                                 \\\\\n",
       "\t GFVLR                                      & sp\\textbar{}P33650\\textbar{}FEOB\\_ECOLI & 136428000                                  & 126583204                                  & 127086300                                  & 131444800                                  & 133677100                                  & 129120300                                 \\\\\n",
       "\\end{tabular}\n"
      ],
      "text/markdown": [
       "\n",
       "peptide | protein | l1 | l2 | l3 | h1 | h2 | h3 | \n",
       "|---|---|---|---|---|---|\n",
       "| FCR                  | sp|P0A7T7|RS18_ECOLI | 132057300            | 130365300            | 130248100            | 133656804            | 128740996            | 134850396            | \n",
       "| LCR                  | sp|Q9JMR4|YUBK_ECOLI |  43953900            |  47042600            |  46329900            |  43241200            |  43003600            |  45141900            | \n",
       "| FCQR                 | sp|P39357|YJHF_ECOLI | 106571296            | 112817304            | 112513396            | 110746596            | 109547804            | 109081000            | \n",
       "| KFCR                 | sp|P0A7T7|RS18_ECOLI |  62889430            |  61860010            |  59139060            |  63620630            |  61625730            |  62122740            | \n",
       "| AFVLR                | sp|P0ADY1|PPID_ECOLI | 110666004            | 115883900            | 129874500            | 120698500            | 123430800            | 118756900            | \n",
       "| GFVLR                | sp|P33650|FEOB_ECOLI | 136428000            | 126583204            | 127086300            | 131444800            | 133677100            | 129120300            | \n",
       "\n",
       "\n"
      ],
      "text/plain": [
       "  peptide protein              l1        l2        l3        h1       \n",
       "1 FCR     sp|P0A7T7|RS18_ECOLI 132057300 130365300 130248100 133656804\n",
       "2 LCR     sp|Q9JMR4|YUBK_ECOLI  43953900  47042600  46329900  43241200\n",
       "3 FCQR    sp|P39357|YJHF_ECOLI 106571296 112817304 112513396 110746596\n",
       "4 KFCR    sp|P0A7T7|RS18_ECOLI  62889430  61860010  59139060  63620630\n",
       "5 AFVLR   sp|P0ADY1|PPID_ECOLI 110666004 115883900 129874500 120698500\n",
       "6 GFVLR   sp|P33650|FEOB_ECOLI 136428000 126583204 127086300 131444800\n",
       "  h2        h3       \n",
       "1 128740996 134850396\n",
       "2  43003600  45141900\n",
       "3 109547804 109081000\n",
       "4  61625730  62122740\n",
       "5 123430800 118756900\n",
       "6 133677100 129120300"
      ]
     },
     "metadata": {},
     "output_type": "display_data"
    }
   ],
   "source": [
    "head(raw_data_df)"
   ]
  },
  {
   "cell_type": "code",
   "execution_count": 25,
   "metadata": {
    "ExecuteTime": {
     "end_time": "2017-11-06T14:30:56.662035Z",
     "start_time": "2017-11-06T14:30:56.525Z"
    },
    "collapsed": true
   },
   "outputs": [],
   "source": [
    "parse_annot <- function(annot_string) {\n",
    "    \n",
    "    fields <- unlist(strsplit(as.character(annot_string), \"/\"))\n",
    "    annot <- sapply(fields, function(field) { unlist(strsplit(field, \"_\"))[[2]] })\n",
    "    \n",
    "    if (annot == \"SOLTU\") {\n",
    "        TRUE\n",
    "    }\n",
    "    else if (annot == \"ECOLI\") {\n",
    "        FALSE\n",
    "    }\n",
    "    else {\n",
    "        stop(paste0(\"Unknown annotation: \", annot))\n",
    "    }\n",
    "}"
   ]
  },
  {
   "cell_type": "code",
   "execution_count": 26,
   "metadata": {
    "ExecuteTime": {
     "end_time": "2017-11-06T14:30:56.717913Z",
     "start_time": "2017-11-06T14:30:56.529Z"
    }
   },
   "outputs": [
    {
     "data": {
      "text/html": [
       "<dl class=dl-horizontal>\n",
       "\t<dt>sp|P0A7T7|RS18_ECOLI</dt>\n",
       "\t\t<dd>FALSE</dd>\n",
       "\t<dt>sp|Q9JMR4|YUBK_ECOLI</dt>\n",
       "\t\t<dd>FALSE</dd>\n",
       "\t<dt>sp|P39357|YJHF_ECOLI</dt>\n",
       "\t\t<dd>FALSE</dd>\n",
       "\t<dt>sp|P0A7T7|RS18_ECOLI</dt>\n",
       "\t\t<dd>FALSE</dd>\n",
       "\t<dt>sp|P0ADY1|PPID_ECOLI</dt>\n",
       "\t\t<dd>FALSE</dd>\n",
       "\t<dt>sp|P33650|FEOB_ECOLI</dt>\n",
       "\t\t<dd>FALSE</dd>\n",
       "\t<dt>sp|P58516|SPI3_SOLTU</dt>\n",
       "\t\t<dd>TRUE</dd>\n",
       "\t<dt>sp|P77607|YAGL_ECOLI</dt>\n",
       "\t\t<dd>FALSE</dd>\n",
       "\t<dt>sp|P37829|SCRK_SOLTU</dt>\n",
       "\t\t<dd>TRUE</dd>\n",
       "\t<dt>sp|P0A7A5|PIMT_ECOLI</dt>\n",
       "\t\t<dd>FALSE</dd>\n",
       "\t<dt>sp|P0ADY1|PPID_ECOLI</dt>\n",
       "\t\t<dd>FALSE</dd>\n",
       "\t<dt>sp|P0AES4|GYRA_ECOLI</dt>\n",
       "\t\t<dd>FALSE</dd>\n",
       "\t<dt>sp|Q46834|YGHF_ECOLI</dt>\n",
       "\t\t<dd>FALSE</dd>\n",
       "\t<dt>sp|P0AES4|GYRA_ECOLI</dt>\n",
       "\t\t<dd>FALSE</dd>\n",
       "\t<dt>sp|P33650|FEOB_ECOLI</dt>\n",
       "\t\t<dd>FALSE</dd>\n",
       "\t<dt>sp|P0A9S7|LIVG_ECOLI</dt>\n",
       "\t\t<dd>FALSE</dd>\n",
       "\t<dt>sp|P14674|ADH2_SOLTU</dt>\n",
       "\t\t<dd>TRUE</dd>\n",
       "\t<dt>sp|Q46834|YGHF_ECOLI</dt>\n",
       "\t\t<dd>FALSE</dd>\n",
       "\t<dt>sp|P14674|ADH2_SOLTU</dt>\n",
       "\t\t<dd>TRUE</dd>\n",
       "\t<dt>sp|P0AES4|GYRA_ECOLI</dt>\n",
       "\t\t<dd>FALSE</dd>\n",
       "</dl>\n"
      ],
      "text/latex": [
       "\\begin{description*}\n",
       "\\item[sp\\textbackslash{}textbar\\{\\}P0A7T7\\textbackslash{}textbar\\{\\}RS18\\textbackslash{}\\_ECOLI] FALSE\n",
       "\\item[sp\\textbackslash{}textbar\\{\\}Q9JMR4\\textbackslash{}textbar\\{\\}YUBK\\textbackslash{}\\_ECOLI] FALSE\n",
       "\\item[sp\\textbackslash{}textbar\\{\\}P39357\\textbackslash{}textbar\\{\\}YJHF\\textbackslash{}\\_ECOLI] FALSE\n",
       "\\item[sp\\textbackslash{}textbar\\{\\}P0A7T7\\textbackslash{}textbar\\{\\}RS18\\textbackslash{}\\_ECOLI] FALSE\n",
       "\\item[sp\\textbackslash{}textbar\\{\\}P0ADY1\\textbackslash{}textbar\\{\\}PPID\\textbackslash{}\\_ECOLI] FALSE\n",
       "\\item[sp\\textbackslash{}textbar\\{\\}P33650\\textbackslash{}textbar\\{\\}FEOB\\textbackslash{}\\_ECOLI] FALSE\n",
       "\\item[sp\\textbackslash{}textbar\\{\\}P58516\\textbackslash{}textbar\\{\\}SPI3\\textbackslash{}\\_SOLTU] TRUE\n",
       "\\item[sp\\textbackslash{}textbar\\{\\}P77607\\textbackslash{}textbar\\{\\}YAGL\\textbackslash{}\\_ECOLI] FALSE\n",
       "\\item[sp\\textbackslash{}textbar\\{\\}P37829\\textbackslash{}textbar\\{\\}SCRK\\textbackslash{}\\_SOLTU] TRUE\n",
       "\\item[sp\\textbackslash{}textbar\\{\\}P0A7A5\\textbackslash{}textbar\\{\\}PIMT\\textbackslash{}\\_ECOLI] FALSE\n",
       "\\item[sp\\textbackslash{}textbar\\{\\}P0ADY1\\textbackslash{}textbar\\{\\}PPID\\textbackslash{}\\_ECOLI] FALSE\n",
       "\\item[sp\\textbackslash{}textbar\\{\\}P0AES4\\textbackslash{}textbar\\{\\}GYRA\\textbackslash{}\\_ECOLI] FALSE\n",
       "\\item[sp\\textbackslash{}textbar\\{\\}Q46834\\textbackslash{}textbar\\{\\}YGHF\\textbackslash{}\\_ECOLI] FALSE\n",
       "\\item[sp\\textbackslash{}textbar\\{\\}P0AES4\\textbackslash{}textbar\\{\\}GYRA\\textbackslash{}\\_ECOLI] FALSE\n",
       "\\item[sp\\textbackslash{}textbar\\{\\}P33650\\textbackslash{}textbar\\{\\}FEOB\\textbackslash{}\\_ECOLI] FALSE\n",
       "\\item[sp\\textbackslash{}textbar\\{\\}P0A9S7\\textbackslash{}textbar\\{\\}LIVG\\textbackslash{}\\_ECOLI] FALSE\n",
       "\\item[sp\\textbackslash{}textbar\\{\\}P14674\\textbackslash{}textbar\\{\\}ADH2\\textbackslash{}\\_SOLTU] TRUE\n",
       "\\item[sp\\textbackslash{}textbar\\{\\}Q46834\\textbackslash{}textbar\\{\\}YGHF\\textbackslash{}\\_ECOLI] FALSE\n",
       "\\item[sp\\textbackslash{}textbar\\{\\}P14674\\textbackslash{}textbar\\{\\}ADH2\\textbackslash{}\\_SOLTU] TRUE\n",
       "\\item[sp\\textbackslash{}textbar\\{\\}P0AES4\\textbackslash{}textbar\\{\\}GYRA\\textbackslash{}\\_ECOLI] FALSE\n",
       "\\end{description*}\n"
      ],
      "text/markdown": [
       "sp|P0A7T7|RS18_ECOLI\n",
       ":   FALSEsp|Q9JMR4|YUBK_ECOLI\n",
       ":   FALSEsp|P39357|YJHF_ECOLI\n",
       ":   FALSEsp|P0A7T7|RS18_ECOLI\n",
       ":   FALSEsp|P0ADY1|PPID_ECOLI\n",
       ":   FALSEsp|P33650|FEOB_ECOLI\n",
       ":   FALSEsp|P58516|SPI3_SOLTU\n",
       ":   TRUEsp|P77607|YAGL_ECOLI\n",
       ":   FALSEsp|P37829|SCRK_SOLTU\n",
       ":   TRUEsp|P0A7A5|PIMT_ECOLI\n",
       ":   FALSEsp|P0ADY1|PPID_ECOLI\n",
       ":   FALSEsp|P0AES4|GYRA_ECOLI\n",
       ":   FALSEsp|Q46834|YGHF_ECOLI\n",
       ":   FALSEsp|P0AES4|GYRA_ECOLI\n",
       ":   FALSEsp|P33650|FEOB_ECOLI\n",
       ":   FALSEsp|P0A9S7|LIVG_ECOLI\n",
       ":   FALSEsp|P14674|ADH2_SOLTU\n",
       ":   TRUEsp|Q46834|YGHF_ECOLI\n",
       ":   FALSEsp|P14674|ADH2_SOLTU\n",
       ":   TRUEsp|P0AES4|GYRA_ECOLI\n",
       ":   FALSE\n",
       "\n"
      ],
      "text/plain": [
       "sp|P0A7T7|RS18_ECOLI sp|Q9JMR4|YUBK_ECOLI sp|P39357|YJHF_ECOLI \n",
       "               FALSE                FALSE                FALSE \n",
       "sp|P0A7T7|RS18_ECOLI sp|P0ADY1|PPID_ECOLI sp|P33650|FEOB_ECOLI \n",
       "               FALSE                FALSE                FALSE \n",
       "sp|P58516|SPI3_SOLTU sp|P77607|YAGL_ECOLI sp|P37829|SCRK_SOLTU \n",
       "                TRUE                FALSE                 TRUE \n",
       "sp|P0A7A5|PIMT_ECOLI sp|P0ADY1|PPID_ECOLI sp|P0AES4|GYRA_ECOLI \n",
       "               FALSE                FALSE                FALSE \n",
       "sp|Q46834|YGHF_ECOLI sp|P0AES4|GYRA_ECOLI sp|P33650|FEOB_ECOLI \n",
       "               FALSE                FALSE                FALSE \n",
       "sp|P0A9S7|LIVG_ECOLI sp|P14674|ADH2_SOLTU sp|Q46834|YGHF_ECOLI \n",
       "               FALSE                 TRUE                FALSE \n",
       "sp|P14674|ADH2_SOLTU sp|P0AES4|GYRA_ECOLI \n",
       "                TRUE                FALSE "
      ]
     },
     "metadata": {},
     "output_type": "display_data"
    }
   ],
   "source": [
    "spike_col <- sapply(as.character(raw_data_df[, \"protein\"]), parse_annot)\n",
    "head(spike_col, 20)\n",
    "# raw_data_df <- cbind(raw_data_df, spikein=spike_col)"
   ]
  },
  {
   "cell_type": "markdown",
   "metadata": {},
   "source": [
    "# Overview visualization"
   ]
  },
  {
   "cell_type": "code",
   "execution_count": 27,
   "metadata": {
    "ExecuteTime": {
     "end_time": "2017-11-06T14:30:57.380944Z",
     "start_time": "2017-11-06T14:30:56.533Z"
    }
   },
   "outputs": [
    {
     "data": {
      "image/png": "[encoded data removed]",
      "text/plain": [
       "plot without title"
      ]
     },
     "metadata": {},
     "output_type": "display_data"
    }
   ],
   "source": [
    "p1_1 <- plot_pca(data_df, design_df, 1, 2, \"condition\", colors=2, custom_names=design_df$name, legend=F)\n",
    "p1_2 <- plot_pca(data_df, design_df, 3, 4, \"condition\", colors=2, custom_names=design_df$name, legend=T, title_app=\"(test)\")\n",
    "options(repr.plot.width=10, repr.plot.height=5)\n",
    "multiplot(p1_1, p1_2, cols=2)\n"
   ]
  },
  {
   "cell_type": "markdown",
   "metadata": {},
   "source": [
    "# Differential expression"
   ]
  },
  {
   "cell_type": "code",
   "execution_count": 28,
   "metadata": {
    "ExecuteTime": {
     "end_time": "2017-11-06T14:30:57.389544Z",
     "start_time": "2017-11-06T14:30:56.537Z"
    },
    "collapsed": true
   },
   "outputs": [],
   "source": [
    "calculate_anova <- function(row, cond) {\n",
    "    \n",
    "    anova_df <- data.frame(cbind(Intensity=unlist(row), Cond=cond))\n",
    "    \n",
    "    av <- aov(Intensity~Cond, anova_df)\n",
    "    av_summary <- summary(av)\n",
    "    p_val <- av_summary[[1]][\"Cond\", \"Pr(>F)\"]\n",
    "    p_val\n",
    "}"
   ]
  },
  {
   "cell_type": "code",
   "execution_count": 29,
   "metadata": {
    "ExecuteTime": {
     "end_time": "2017-11-06T14:30:58.313933Z",
     "start_time": "2017-11-06T14:30:56.541Z"
    },
    "collapsed": true
   },
   "outputs": [],
   "source": [
    "p_vals <- apply(data_df, 1, calculate_anova, cond=design_df$condition)\n",
    "p_vals <- unlist(p_vals)\n",
    "q_vals <- as.numeric(p.adjust(p_vals, method=\"BH\"))"
   ]
  },
  {
   "cell_type": "code",
   "execution_count": 30,
   "metadata": {
    "ExecuteTime": {
     "end_time": "2017-11-06T14:30:58.333601Z",
     "start_time": "2017-11-06T14:30:56.544Z"
    }
   },
   "outputs": [
    {
     "data": {
      "text/html": [
       "835"
      ],
      "text/latex": [
       "835"
      ],
      "text/markdown": [
       "835"
      ],
      "text/plain": [
       "[1] 835"
      ]
     },
     "metadata": {},
     "output_type": "display_data"
    }
   ],
   "source": [
    "length(p_vals)"
   ]
  },
  {
   "cell_type": "code",
   "execution_count": 31,
   "metadata": {
    "ExecuteTime": {
     "end_time": "2017-11-06T14:30:58.354053Z",
     "start_time": "2017-11-06T14:30:56.548Z"
    }
   },
   "outputs": [
    {
     "data": {
      "text/html": [
       "149"
      ],
      "text/latex": [
       "149"
      ],
      "text/markdown": [
       "149"
      ],
      "text/plain": [
       "[1] 149"
      ]
     },
     "metadata": {},
     "output_type": "display_data"
    }
   ],
   "source": [
    "length(p_vals[which(p_vals < 0.1)])\n",
    "sig_indices <- which(q_vals < 0.1)"
   ]
  },
  {
   "cell_type": "code",
   "execution_count": 32,
   "metadata": {
    "ExecuteTime": {
     "end_time": "2017-11-06T14:30:58.370798Z",
     "start_time": "2017-11-06T14:30:56.552Z"
    }
   },
   "outputs": [
    {
     "data": {
      "text/html": [
       "138"
      ],
      "text/latex": [
       "138"
      ],
      "text/markdown": [
       "138"
      ],
      "text/plain": [
       "[1] 138"
      ]
     },
     "metadata": {},
     "output_type": "display_data"
    }
   ],
   "source": [
    "length(q_vals[which(q_vals < 0.1)])"
   ]
  },
  {
   "cell_type": "code",
   "execution_count": 37,
   "metadata": {
    "ExecuteTime": {
     "end_time": "2017-11-06T14:31:46.329321Z",
     "start_time": "2017-11-06T14:31:46.305Z"
    }
   },
   "outputs": [
    {
     "data": {
      "text/html": [
       "138"
      ],
      "text/latex": [
       "138"
      ],
      "text/markdown": [
       "138"
      ],
      "text/plain": [
       "[1] 138"
      ]
     },
     "metadata": {},
     "output_type": "display_data"
    }
   ],
   "source": [
    "length(spike_col[spike_col])"
   ]
  },
  {
   "cell_type": "markdown",
   "metadata": {},
   "source": [
    "# Summarize results"
   ]
  },
  {
   "cell_type": "code",
   "execution_count": 33,
   "metadata": {
    "ExecuteTime": {
     "end_time": "2017-11-06T14:30:58.387969Z",
     "start_time": "2017-11-06T14:30:56.556Z"
    }
   },
   "outputs": [],
   "source": [
    "final_df <- data.frame(peptide=raw_data_df[,\"peptide\"], \n",
    "                  protein=raw_data_df[,\"protein\"], \n",
    "                  spike_col=spike_col, \n",
    "                  p_val=p_vals, \n",
    "                  q_val=q_vals)\n"
   ]
  },
  {
   "cell_type": "code",
   "execution_count": 34,
   "metadata": {
    "ExecuteTime": {
     "end_time": "2017-11-06T14:30:58.411726Z",
     "start_time": "2017-11-06T14:30:56.560Z"
    }
   },
   "outputs": [
    {
     "data": {
      "text/html": [
       "<table>\n",
       "<thead><tr><th scope=col>peptide</th><th scope=col>protein</th><th scope=col>spike_col</th><th scope=col>p_val</th><th scope=col>q_val</th></tr></thead>\n",
       "<tbody>\n",
       "\t<tr><td>FCR                 </td><td>sp|P0A7T7|RS18_ECOLI</td><td>FALSE               </td><td>0.4862394           </td><td>0.9985841           </td></tr>\n",
       "\t<tr><td>LCR                 </td><td>sp|Q9JMR4|YUBK_ECOLI</td><td>FALSE               </td><td>0.1613207           </td><td>0.8163807           </td></tr>\n",
       "\t<tr><td>FCQR                </td><td>sp|P39357|YJHF_ECOLI</td><td>FALSE               </td><td>0.7209347           </td><td>0.9985841           </td></tr>\n",
       "\t<tr><td>KFCR                </td><td>sp|P0A7T7|RS18_ECOLI</td><td>FALSE               </td><td>0.4110247           </td><td>0.9985841           </td></tr>\n",
       "\t<tr><td>AFVLR               </td><td>sp|P0ADY1|PPID_ECOLI</td><td>FALSE               </td><td>0.7015520           </td><td>0.9985841           </td></tr>\n",
       "\t<tr><td>GFVLR               </td><td>sp|P33650|FEOB_ECOLI</td><td>FALSE               </td><td>0.6956976           </td><td>0.9985841           </td></tr>\n",
       "</tbody>\n",
       "</table>\n"
      ],
      "text/latex": [
       "\\begin{tabular}{r|lllll}\n",
       " peptide & protein & spike\\_col & p\\_val & q\\_val\\\\\n",
       "\\hline\n",
       "\t FCR                                        & sp\\textbar{}P0A7T7\\textbar{}RS18\\_ECOLI & FALSE                                      & 0.4862394                                  & 0.9985841                                 \\\\\n",
       "\t LCR                                        & sp\\textbar{}Q9JMR4\\textbar{}YUBK\\_ECOLI & FALSE                                      & 0.1613207                                  & 0.8163807                                 \\\\\n",
       "\t FCQR                                       & sp\\textbar{}P39357\\textbar{}YJHF\\_ECOLI & FALSE                                      & 0.7209347                                  & 0.9985841                                 \\\\\n",
       "\t KFCR                                       & sp\\textbar{}P0A7T7\\textbar{}RS18\\_ECOLI & FALSE                                      & 0.4110247                                  & 0.9985841                                 \\\\\n",
       "\t AFVLR                                      & sp\\textbar{}P0ADY1\\textbar{}PPID\\_ECOLI & FALSE                                      & 0.7015520                                  & 0.9985841                                 \\\\\n",
       "\t GFVLR                                      & sp\\textbar{}P33650\\textbar{}FEOB\\_ECOLI & FALSE                                      & 0.6956976                                  & 0.9985841                                 \\\\\n",
       "\\end{tabular}\n"
      ],
      "text/markdown": [
       "\n",
       "peptide | protein | spike_col | p_val | q_val | \n",
       "|---|---|---|---|---|---|\n",
       "| FCR                  | sp|P0A7T7|RS18_ECOLI | FALSE                | 0.4862394            | 0.9985841            | \n",
       "| LCR                  | sp|Q9JMR4|YUBK_ECOLI | FALSE                | 0.1613207            | 0.8163807            | \n",
       "| FCQR                 | sp|P39357|YJHF_ECOLI | FALSE                | 0.7209347            | 0.9985841            | \n",
       "| KFCR                 | sp|P0A7T7|RS18_ECOLI | FALSE                | 0.4110247            | 0.9985841            | \n",
       "| AFVLR                | sp|P0ADY1|PPID_ECOLI | FALSE                | 0.7015520            | 0.9985841            | \n",
       "| GFVLR                | sp|P33650|FEOB_ECOLI | FALSE                | 0.6956976            | 0.9985841            | \n",
       "\n",
       "\n"
      ],
      "text/plain": [
       "  peptide protein              spike_col p_val     q_val    \n",
       "1 FCR     sp|P0A7T7|RS18_ECOLI FALSE     0.4862394 0.9985841\n",
       "2 LCR     sp|Q9JMR4|YUBK_ECOLI FALSE     0.1613207 0.8163807\n",
       "3 FCQR    sp|P39357|YJHF_ECOLI FALSE     0.7209347 0.9985841\n",
       "4 KFCR    sp|P0A7T7|RS18_ECOLI FALSE     0.4110247 0.9985841\n",
       "5 AFVLR   sp|P0ADY1|PPID_ECOLI FALSE     0.7015520 0.9985841\n",
       "6 GFVLR   sp|P33650|FEOB_ECOLI FALSE     0.6956976 0.9985841"
      ]
     },
     "metadata": {},
     "output_type": "display_data"
    }
   ],
   "source": [
    "head(final_df)"
   ]
  },
  {
   "cell_type": "code",
   "execution_count": 35,
   "metadata": {
    "ExecuteTime": {
     "end_time": "2017-11-06T14:30:58.435299Z",
     "start_time": "2017-11-06T14:30:56.563Z"
    }
   },
   "outputs": [
    {
     "data": {
      "text/html": [
       "<table>\n",
       "<thead><tr><th></th><th scope=col>peptide</th><th scope=col>protein</th><th scope=col>spike_col</th><th scope=col>p_val</th><th scope=col>q_val</th></tr></thead>\n",
       "<tbody>\n",
       "\t<tr><th scope=row>830</th><td>IPNLLVNGSSGIAVGMATNIPPHNLTEVINGCLAYIDDEDISIEGLMEHIPGPDFPTAAIINGRR                         </td><td>sp|P0AES4|GYRA_ECOLI                                                                      </td><td>FALSE                                                                                     </td><td>0.3847508                                                                                 </td><td>0.9985841                                                                                 </td></tr>\n",
       "\t<tr><th scope=row>831</th><td>GYVANSVWTVTAVSGDSVTLSDGQQTREIRPGQEQAEQHIDLAYAITAHGAQGASETFAIALEGTEGNR                     </td><td>sp|P14565|TRAI1_ECOLI                                                                     </td><td>FALSE                                                                                     </td><td>0.8037824                                                                                 </td><td>0.9985841                                                                                 </td></tr>\n",
       "\t<tr><th scope=row>832</th><td>IPDVMPTKIPNLLVNGSSGIAVGMATNIPPHNLTEVINGCLAYIDDEDISIEGLMEHIPGPDFPTAAIINGR                  </td><td>sp|P0AES4|GYRA_ECOLI                                                                      </td><td>FALSE                                                                                     </td><td>0.4187220                                                                                 </td><td>0.9985841                                                                                 </td></tr>\n",
       "\t<tr><th scope=row>833</th><td>VITPVFKPIGVHEDNWQATVGLFTGAMAKEVVVGTLNTLYTAENIQDEEFNPAEFNLGEELFSAIDETWQSLK                 </td><td>sp|P33650|FEOB_ECOLI                                                                      </td><td>FALSE                                                                                     </td><td>0.5326066                                                                                 </td><td>0.9985841                                                                                 </td></tr>\n",
       "\t<tr><th scope=row>834</th><td>YPVTLTPAPEGGYMVSFVDIPEALTQGETVAEAMEAAKDALLTAFDFYFEDNELIPLPSPLNSHDHFIEVPLSVASK             </td><td>sp|P67697|HICB_ECOLI                                                                      </td><td>FALSE                                                                                     </td><td>0.1488137                                                                                 </td><td>0.7766214                                                                                 </td></tr>\n",
       "\t<tr><th scope=row>835</th><td>QVLIDSGVGQYISTLVSGMDINPILMAWGVAAFLRICLGSATVAAISTAGLVIPLLAVHPNTNLALITLATGAGSCICSHVNDASFWMIK</td><td>sp|P39357|YJHF_ECOLI                                                                      </td><td>FALSE                                                                                     </td><td>0.5500526                                                                                 </td><td>0.9985841                                                                                 </td></tr>\n",
       "</tbody>\n",
       "</table>\n"
      ],
      "text/latex": [
       "\\begin{tabular}{r|lllll}\n",
       "  & peptide & protein & spike\\_col & p\\_val & q\\_val\\\\\n",
       "\\hline\n",
       "\t830 & IPNLLVNGSSGIAVGMATNIPPHNLTEVINGCLAYIDDEDISIEGLMEHIPGPDFPTAAIINGRR                          & sp\\textbar{}P0AES4\\textbar{}GYRA\\_ECOLI                                                 & FALSE                                                                                      & 0.3847508                                                                                  & 0.9985841                                                                                 \\\\\n",
       "\t831 & GYVANSVWTVTAVSGDSVTLSDGQQTREIRPGQEQAEQHIDLAYAITAHGAQGASETFAIALEGTEGNR                      & sp\\textbar{}P14565\\textbar{}TRAI1\\_ECOLI                                                & FALSE                                                                                      & 0.8037824                                                                                  & 0.9985841                                                                                 \\\\\n",
       "\t832 & IPDVMPTKIPNLLVNGSSGIAVGMATNIPPHNLTEVINGCLAYIDDEDISIEGLMEHIPGPDFPTAAIINGR                   & sp\\textbar{}P0AES4\\textbar{}GYRA\\_ECOLI                                                 & FALSE                                                                                      & 0.4187220                                                                                  & 0.9985841                                                                                 \\\\\n",
       "\t833 & VITPVFKPIGVHEDNWQATVGLFTGAMAKEVVVGTLNTLYTAENIQDEEFNPAEFNLGEELFSAIDETWQSLK                  & sp\\textbar{}P33650\\textbar{}FEOB\\_ECOLI                                                 & FALSE                                                                                      & 0.5326066                                                                                  & 0.9985841                                                                                 \\\\\n",
       "\t834 & YPVTLTPAPEGGYMVSFVDIPEALTQGETVAEAMEAAKDALLTAFDFYFEDNELIPLPSPLNSHDHFIEVPLSVASK              & sp\\textbar{}P67697\\textbar{}HICB\\_ECOLI                                                 & FALSE                                                                                      & 0.1488137                                                                                  & 0.7766214                                                                                 \\\\\n",
       "\t835 & QVLIDSGVGQYISTLVSGMDINPILMAWGVAAFLRICLGSATVAAISTAGLVIPLLAVHPNTNLALITLATGAGSCICSHVNDASFWMIK & sp\\textbar{}P39357\\textbar{}YJHF\\_ECOLI                                                 & FALSE                                                                                      & 0.5500526                                                                                  & 0.9985841                                                                                 \\\\\n",
       "\\end{tabular}\n"
      ],
      "text/markdown": [
       "\n",
       "| <!--/--> | peptide | protein | spike_col | p_val | q_val | \n",
       "|---|---|---|---|---|---|\n",
       "| 830 | IPNLLVNGSSGIAVGMATNIPPHNLTEVINGCLAYIDDEDISIEGLMEHIPGPDFPTAAIINGRR                          | sp|P0AES4|GYRA_ECOLI                                                                       | FALSE                                                                                      | 0.3847508                                                                                  | 0.9985841                                                                                  | \n",
       "| 831 | GYVANSVWTVTAVSGDSVTLSDGQQTREIRPGQEQAEQHIDLAYAITAHGAQGASETFAIALEGTEGNR                      | sp|P14565|TRAI1_ECOLI                                                                      | FALSE                                                                                      | 0.8037824                                                                                  | 0.9985841                                                                                  | \n",
       "| 832 | IPDVMPTKIPNLLVNGSSGIAVGMATNIPPHNLTEVINGCLAYIDDEDISIEGLMEHIPGPDFPTAAIINGR                   | sp|P0AES4|GYRA_ECOLI                                                                       | FALSE                                                                                      | 0.4187220                                                                                  | 0.9985841                                                                                  | \n",
       "| 833 | VITPVFKPIGVHEDNWQATVGLFTGAMAKEVVVGTLNTLYTAENIQDEEFNPAEFNLGEELFSAIDETWQSLK                  | sp|P33650|FEOB_ECOLI                                                                       | FALSE                                                                                      | 0.5326066                                                                                  | 0.9985841                                                                                  | \n",
       "| 834 | YPVTLTPAPEGGYMVSFVDIPEALTQGETVAEAMEAAKDALLTAFDFYFEDNELIPLPSPLNSHDHFIEVPLSVASK              | sp|P67697|HICB_ECOLI                                                                       | FALSE                                                                                      | 0.1488137                                                                                  | 0.7766214                                                                                  | \n",
       "| 835 | QVLIDSGVGQYISTLVSGMDINPILMAWGVAAFLRICLGSATVAAISTAGLVIPLLAVHPNTNLALITLATGAGSCICSHVNDASFWMIK | sp|P39357|YJHF_ECOLI                                                                       | FALSE                                                                                      | 0.5500526                                                                                  | 0.9985841                                                                                  | \n",
       "\n",
       "\n"
      ],
      "text/plain": [
       "    peptide                                                                                   \n",
       "830 IPNLLVNGSSGIAVGMATNIPPHNLTEVINGCLAYIDDEDISIEGLMEHIPGPDFPTAAIINGRR                         \n",
       "831 GYVANSVWTVTAVSGDSVTLSDGQQTREIRPGQEQAEQHIDLAYAITAHGAQGASETFAIALEGTEGNR                     \n",
       "832 IPDVMPTKIPNLLVNGSSGIAVGMATNIPPHNLTEVINGCLAYIDDEDISIEGLMEHIPGPDFPTAAIINGR                  \n",
       "833 VITPVFKPIGVHEDNWQATVGLFTGAMAKEVVVGTLNTLYTAENIQDEEFNPAEFNLGEELFSAIDETWQSLK                 \n",
       "834 YPVTLTPAPEGGYMVSFVDIPEALTQGETVAEAMEAAKDALLTAFDFYFEDNELIPLPSPLNSHDHFIEVPLSVASK             \n",
       "835 QVLIDSGVGQYISTLVSGMDINPILMAWGVAAFLRICLGSATVAAISTAGLVIPLLAVHPNTNLALITLATGAGSCICSHVNDASFWMIK\n",
       "    protein               spike_col p_val     q_val    \n",
       "830 sp|P0AES4|GYRA_ECOLI  FALSE     0.3847508 0.9985841\n",
       "831 sp|P14565|TRAI1_ECOLI FALSE     0.8037824 0.9985841\n",
       "832 sp|P0AES4|GYRA_ECOLI  FALSE     0.4187220 0.9985841\n",
       "833 sp|P33650|FEOB_ECOLI  FALSE     0.5326066 0.9985841\n",
       "834 sp|P67697|HICB_ECOLI  FALSE     0.1488137 0.7766214\n",
       "835 sp|P39357|YJHF_ECOLI  FALSE     0.5500526 0.9985841"
      ]
     },
     "metadata": {},
     "output_type": "display_data"
    }
   ],
   "source": [
    "tail(final_df)"
   ]
  },
  {
   "cell_type": "code",
   "execution_count": 36,
   "metadata": {
    "ExecuteTime": {
     "end_time": "2017-11-06T14:30:58.454080Z",
     "start_time": "2017-11-06T14:30:56.567Z"
    }
   },
   "outputs": [
    {
     "data": {
      "text/html": [
       "<table>\n",
       "<thead><tr><th></th><th scope=col>peptide</th><th scope=col>protein</th><th scope=col>spike_col</th><th scope=col>p_val</th><th scope=col>q_val</th></tr></thead>\n",
       "<tbody>\n",
       "\t<tr><th scope=row>7</th><td>GWPYA                </td><td>sp|P58516|SPI3_SOLTU </td><td>TRUE                 </td><td>8.880790e-07         </td><td>2.660147e-05         </td></tr>\n",
       "\t<tr><th scope=row>9</th><td>EFMFYR               </td><td>sp|P37829|SCRK_SOLTU </td><td>TRUE                 </td><td>1.676343e-05         </td><td>1.052441e-04         </td></tr>\n",
       "\t<tr><th scope=row>17</th><td>AFDLMLK              </td><td>sp|P14674|ADH2_SOLTU </td><td>TRUE                 </td><td>9.390030e-06         </td><td>6.454102e-05         </td></tr>\n",
       "\t<tr><th scope=row>19</th><td>CIITMED              </td><td>sp|P14674|ADH2_SOLTU </td><td>TRUE                 </td><td>8.281458e-06         </td><td>5.971726e-05         </td></tr>\n",
       "\t<tr><th scope=row>33</th><td>FAKLLSDR             </td><td>sp|Q2MY48|PAT03_SOLTU</td><td>TRUE                 </td><td>1.370736e-07         </td><td>2.007176e-05         </td></tr>\n",
       "\t<tr><th scope=row>48</th><td>DLDRGWPYA            </td><td>sp|P58516|SPI3_SOLTU </td><td>TRUE                 </td><td>4.163622e-07         </td><td>2.213554e-05         </td></tr>\n",
       "</tbody>\n",
       "</table>\n"
      ],
      "text/latex": [
       "\\begin{tabular}{r|lllll}\n",
       "  & peptide & protein & spike\\_col & p\\_val & q\\_val\\\\\n",
       "\\hline\n",
       "\t7 & GWPYA                                       & sp\\textbar{}P58516\\textbar{}SPI3\\_SOLTU  & TRUE                                        & 8.880790e-07                                & 2.660147e-05                               \\\\\n",
       "\t9 & EFMFYR                                      & sp\\textbar{}P37829\\textbar{}SCRK\\_SOLTU  & TRUE                                        & 1.676343e-05                                & 1.052441e-04                               \\\\\n",
       "\t17 & AFDLMLK                                     & sp\\textbar{}P14674\\textbar{}ADH2\\_SOLTU  & TRUE                                        & 9.390030e-06                                & 6.454102e-05                               \\\\\n",
       "\t19 & CIITMED                                     & sp\\textbar{}P14674\\textbar{}ADH2\\_SOLTU  & TRUE                                        & 8.281458e-06                                & 5.971726e-05                               \\\\\n",
       "\t33 & FAKLLSDR                                    & sp\\textbar{}Q2MY48\\textbar{}PAT03\\_SOLTU & TRUE                                        & 1.370736e-07                                & 2.007176e-05                               \\\\\n",
       "\t48 & DLDRGWPYA                                   & sp\\textbar{}P58516\\textbar{}SPI3\\_SOLTU  & TRUE                                        & 4.163622e-07                                & 2.213554e-05                               \\\\\n",
       "\\end{tabular}\n"
      ],
      "text/markdown": [
       "\n",
       "| <!--/--> | peptide | protein | spike_col | p_val | q_val | \n",
       "|---|---|---|---|---|---|\n",
       "| 7 | GWPYA                 | sp|P58516|SPI3_SOLTU  | TRUE                  | 8.880790e-07          | 2.660147e-05          | \n",
       "| 9 | EFMFYR                | sp|P37829|SCRK_SOLTU  | TRUE                  | 1.676343e-05          | 1.052441e-04          | \n",
       "| 17 | AFDLMLK               | sp|P14674|ADH2_SOLTU  | TRUE                  | 9.390030e-06          | 6.454102e-05          | \n",
       "| 19 | CIITMED               | sp|P14674|ADH2_SOLTU  | TRUE                  | 8.281458e-06          | 5.971726e-05          | \n",
       "| 33 | FAKLLSDR              | sp|Q2MY48|PAT03_SOLTU | TRUE                  | 1.370736e-07          | 2.007176e-05          | \n",
       "| 48 | DLDRGWPYA             | sp|P58516|SPI3_SOLTU  | TRUE                  | 4.163622e-07          | 2.213554e-05          | \n",
       "\n",
       "\n"
      ],
      "text/plain": [
       "   peptide   protein               spike_col p_val        q_val       \n",
       "7  GWPYA     sp|P58516|SPI3_SOLTU  TRUE      8.880790e-07 2.660147e-05\n",
       "9  EFMFYR    sp|P37829|SCRK_SOLTU  TRUE      1.676343e-05 1.052441e-04\n",
       "17 AFDLMLK   sp|P14674|ADH2_SOLTU  TRUE      9.390030e-06 6.454102e-05\n",
       "19 CIITMED   sp|P14674|ADH2_SOLTU  TRUE      8.281458e-06 5.971726e-05\n",
       "33 FAKLLSDR  sp|Q2MY48|PAT03_SOLTU TRUE      1.370736e-07 2.007176e-05\n",
       "48 DLDRGWPYA sp|P58516|SPI3_SOLTU  TRUE      4.163622e-07 2.213554e-05"
      ]
     },
     "metadata": {},
     "output_type": "display_data"
    }
   ],
   "source": [
    "head(final_df[final_df[, \"q_val\"] < 0.1, ])"
   ]
  }
 ],
 "metadata": {
  "kernelspec": {
   "display_name": "R",
   "language": "R",
   "name": "ir"
  },
  "language_info": {
   "codemirror_mode": "r",
   "file_extension": ".r",
   "mimetype": "text/x-r-source",
   "name": "R",
   "pygments_lexer": "r",
   "version": "3.4.2"
  },
  "toc": {
   "colors": {
    "hover_highlight": "#DAA520",
    "running_highlight": "#FF0000",
    "selected_highlight": "#FFD700"
   },
   "moveMenuLeft": true,
   "nav_menu": {
    "height": "66px",
    "width": "252px"
   },
   "navigate_menu": true,
   "number_sections": true,
   "sideBar": false,
   "threshold": 4,
   "toc_cell": true,
   "toc_section_display": "block",
   "toc_window_display": true,
   "widenNotebook": false
  }
 },
 "nbformat": 4,
 "nbformat_minor": 2
}
