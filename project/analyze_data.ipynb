{
 "cells": [
  {
   "cell_type": "markdown",
   "metadata": {
    "toc": "true"
   },
   "source": [
    "# Table of Contents\n",
    " <p><div class=\"lev1 toc-item\"><a href=\"#Setup\" data-toc-modified-id=\"Setup-1\"><span class=\"toc-item-num\">1&nbsp;&nbsp;</span>Setup</a></div><div class=\"lev2 toc-item\"><a href=\"#Parse-input\" data-toc-modified-id=\"Parse-input-11\"><span class=\"toc-item-num\">1.1&nbsp;&nbsp;</span>Parse input</a></div><div class=\"lev1 toc-item\"><a href=\"#Overview-visualization\" data-toc-modified-id=\"Overview-visualization-2\"><span class=\"toc-item-num\">2&nbsp;&nbsp;</span>Overview visualization</a></div><div class=\"lev1 toc-item\"><a href=\"#Differential-expression\" data-toc-modified-id=\"Differential-expression-3\"><span class=\"toc-item-num\">3&nbsp;&nbsp;</span>Differential expression</a></div><div class=\"lev1 toc-item\"><a href=\"#Summarize-results\" data-toc-modified-id=\"Summarize-results-4\"><span class=\"toc-item-num\">4&nbsp;&nbsp;</span>Summarize results</a></div>"
   ]
  },
  {
   "cell_type": "markdown",
   "metadata": {},
   "source": [
    "# Setup"
   ]
  },
  {
   "cell_type": "code",
   "execution_count": 50,
   "metadata": {
    "ExecuteTime": {
     "end_time": "2017-11-06T15:42:48.245301Z",
     "start_time": "2017-11-06T15:42:48.220Z"
    },
    "collapsed": true
   },
   "outputs": [],
   "source": [
    "run <- \"batch12_4fold\"\n",
    "expression_fp <- paste0(run, \"/full_quant.tsv\")\n",
    "design_fp <- paste0(run, \"/design.tsv\")"
   ]
  },
  {
   "cell_type": "code",
   "execution_count": 51,
   "metadata": {
    "ExecuteTime": {
     "end_time": "2017-11-06T15:42:49.399326Z",
     "start_time": "2017-11-06T15:42:49.375Z"
    },
    "collapsed": true
   },
   "outputs": [],
   "source": [
    "library(ggplot2)\n",
    "library(ggfortify)\n",
    "library(ggdendro)\n",
    "library(limma)\n",
    "library(gridExtra)\n",
    "\n",
    "source(\"~/src/JupyterRReuse/proteomics_multivariate_vis.R\")\n",
    "source(\"~/src/JupyterRReuse/visualization_utils.R\")\n",
    "source(\"~/src/JupyterRReuse/proteomics_stats.R\")"
   ]
  },
  {
   "cell_type": "code",
   "execution_count": 52,
   "metadata": {
    "ExecuteTime": {
     "end_time": "2017-11-06T15:42:51.101780Z",
     "start_time": "2017-11-06T15:42:51.083Z"
    },
    "collapsed": true
   },
   "outputs": [],
   "source": [
    "plot_pca <- function(data_m, design_m, pc1, pc2, color_factor, colors, custom_names, legend=T, title_app=\"\", cont_scale=F) {\n",
    "    \n",
    "    if (!cont_scale) {\n",
    "        getPalette <- colorRampPalette(RColorBrewer::brewer.pal(9, \"Set1\"))        \n",
    "    }\n",
    "    title <- paste0(\"PCA, PC\", pc1, \" vs PC\", pc2, \" \", title_app)\n",
    "    plt <- make_expression_pca(data_m, design_m, color_factor=color_factor, title=title, \n",
    "                               pca_axis1=pc1, pca_axis2=pc2, show_labels=T,\n",
    "                               only_text=T, color_text=T, custom_names=custom_names)\n",
    "    if (!cont_scale) {\n",
    "        plt <- plt + scale_color_manual(values=getPalette(colors))        \n",
    "    }\n",
    "    \n",
    "    if (!legend) {\n",
    "        plt <- plt + theme(legend.position=\"none\")\n",
    "    }\n",
    "    \n",
    "    plt\n",
    "}"
   ]
  },
  {
   "cell_type": "markdown",
   "metadata": {},
   "source": [
    "## Parse input"
   ]
  },
  {
   "cell_type": "code",
   "execution_count": 53,
   "metadata": {
    "ExecuteTime": {
     "end_time": "2017-11-06T15:42:53.489407Z",
     "start_time": "2017-11-06T15:42:53.467Z"
    }
   },
   "outputs": [
    {
     "data": {
      "text/html": [
       "<table>\n",
       "<thead><tr><th scope=col>name</th><th scope=col>biorepgroup</th><th scope=col>techrepgroup</th><th scope=col>condition</th><th scope=col>sample</th></tr></thead>\n",
       "<tbody>\n",
       "\t<tr><td>a1</td><td>1 </td><td>1 </td><td>a </td><td>a1</td></tr>\n",
       "\t<tr><td>a2</td><td>2 </td><td>1 </td><td>a </td><td>a2</td></tr>\n",
       "\t<tr><td>a3</td><td>3 </td><td>1 </td><td>a </td><td>a3</td></tr>\n",
       "\t<tr><td>b1</td><td>1 </td><td>1 </td><td>b </td><td>b1</td></tr>\n",
       "\t<tr><td>b2</td><td>2 </td><td>1 </td><td>b </td><td>b2</td></tr>\n",
       "\t<tr><td>b3</td><td>3 </td><td>1 </td><td>b </td><td>b3</td></tr>\n",
       "</tbody>\n",
       "</table>\n"
      ],
      "text/latex": [
       "\\begin{tabular}{r|lllll}\n",
       " name & biorepgroup & techrepgroup & condition & sample\\\\\n",
       "\\hline\n",
       "\t a1 & 1  & 1  & a  & a1\\\\\n",
       "\t a2 & 2  & 1  & a  & a2\\\\\n",
       "\t a3 & 3  & 1  & a  & a3\\\\\n",
       "\t b1 & 1  & 1  & b  & b1\\\\\n",
       "\t b2 & 2  & 1  & b  & b2\\\\\n",
       "\t b3 & 3  & 1  & b  & b3\\\\\n",
       "\\end{tabular}\n"
      ],
      "text/markdown": [
       "\n",
       "name | biorepgroup | techrepgroup | condition | sample | \n",
       "|---|---|---|---|---|---|\n",
       "| a1 | 1  | 1  | a  | a1 | \n",
       "| a2 | 2  | 1  | a  | a2 | \n",
       "| a3 | 3  | 1  | a  | a3 | \n",
       "| b1 | 1  | 1  | b  | b1 | \n",
       "| b2 | 2  | 1  | b  | b2 | \n",
       "| b3 | 3  | 1  | b  | b3 | \n",
       "\n",
       "\n"
      ],
      "text/plain": [
       "  name biorepgroup techrepgroup condition sample\n",
       "1 a1   1           1            a         a1    \n",
       "2 a2   2           1            a         a2    \n",
       "3 a3   3           1            a         a3    \n",
       "4 b1   1           1            b         b1    \n",
       "5 b2   2           1            b         b2    \n",
       "6 b3   3           1            b         b3    "
      ]
     },
     "metadata": {},
     "output_type": "display_data"
    }
   ],
   "source": [
    "design_df <- read.csv(design_fp, sep=\"\\t\")\n",
    "design_df$sample <- design_df$name\n",
    "head(design_df)"
   ]
  },
  {
   "cell_type": "code",
   "execution_count": 57,
   "metadata": {
    "ExecuteTime": {
     "end_time": "2017-11-06T15:43:20.813346Z",
     "start_time": "2017-11-06T15:43:20.755Z"
    }
   },
   "outputs": [
    {
     "data": {
      "text/html": [
       "<table>\n",
       "<thead><tr><th scope=col>peptide</th><th scope=col>protein</th><th scope=col>a1</th><th scope=col>a2</th><th scope=col>a3</th><th scope=col>b1</th><th scope=col>b2</th><th scope=col>b3</th><th scope=col>c1</th><th scope=col>c2</th><th scope=col>c3</th><th scope=col>d1</th><th scope=col>d2</th><th scope=col>d3</th><th scope=col>h1</th><th scope=col>h2</th><th scope=col>h3</th><th scope=col>l1</th><th scope=col>l2</th><th scope=col>l3</th></tr></thead>\n",
       "<tbody>\n",
       "\t<tr><td>FCR                 </td><td>sp|P0A7T7|RS18_ECOLI</td><td>216508408           </td><td>105302604           </td><td>188390000           </td><td>124128396           </td><td> 61146200           </td><td> 26236550           </td><td> 62920800           </td><td>152758200           </td><td> 37377100           </td><td>102853200           </td><td>209932992           </td><td>132222500           </td><td>136022196           </td><td>133833704           </td><td>133498496           </td><td>136167600           </td><td>131757400           </td><td>138470296           </td></tr>\n",
       "\t<tr><td>FCQR                </td><td>sp|P39357|YJHF_ECOLI</td><td>197866800           </td><td>206806500           </td><td> 91024800           </td><td>188364200           </td><td>169931000           </td><td> 11359220           </td><td>100704500           </td><td> 16145970           </td><td>170408292           </td><td>171960200           </td><td>272123292           </td><td>207982900           </td><td>130084900           </td><td>140282600           </td><td>137579700           </td><td>137107700           </td><td>134154800           </td><td>132605700           </td></tr>\n",
       "\t<tr><td>KFCR                </td><td>sp|P0A7T7|RS18_ECOLI</td><td> 80551000           </td><td> 38286910           </td><td> 69663070           </td><td> 44561130           </td><td> 24265950           </td><td>  9986070           </td><td> 35448080           </td><td> 74736150           </td><td> 18970640           </td><td> 50874540           </td><td> 65054100           </td><td> 40677270           </td><td> 63451290           </td><td> 64289240           </td><td> 62992030           </td><td> 65077360           </td><td> 61875430           </td><td> 66261870           </td></tr>\n",
       "\t<tr><td>AFVLR               </td><td>sp|P0ADY1|PPID_ECOLI</td><td> 19200980           </td><td> 90075804           </td><td>165011000           </td><td>173858500           </td><td>134742100           </td><td>115509804           </td><td> 93534300           </td><td>207598108           </td><td>164900600           </td><td>115195596           </td><td> 90998196           </td><td> 39363300           </td><td>111659996           </td><td>111465996           </td><td>127039400           </td><td>115362896           </td><td>122287700           </td><td>118226900           </td></tr>\n",
       "\t<tr><td>GFVLR               </td><td>sp|P33650|FEOB_ECOLI</td><td> 86550000           </td><td> 87135504           </td><td>  3652417           </td><td> 51528280           </td><td> 69315800           </td><td>109990504           </td><td> 72856700           </td><td>162942500           </td><td>141686100           </td><td>142472300           </td><td> 39790400           </td><td>134808500           </td><td>116190996           </td><td>110151000           </td><td>107943396           </td><td>113444096           </td><td>113565300           </td><td>112812804           </td></tr>\n",
       "\t<tr><td>MTLFR               </td><td>sp|P77607|YAGL_ECOLI</td><td>181043508           </td><td> 93751004           </td><td>103779200           </td><td> 32108970           </td><td>163547800           </td><td> 31742710           </td><td>193353992           </td><td>118258500           </td><td>155655800           </td><td>178704400           </td><td> 83082600           </td><td>155814600           </td><td>153181300           </td><td>156903300           </td><td>152223900           </td><td>144061200           </td><td>156481200           </td><td>140866300           </td></tr>\n",
       "</tbody>\n",
       "</table>\n"
      ],
      "text/latex": [
       "\\begin{tabular}{r|llllllllllllllllllll}\n",
       " peptide & protein & a1 & a2 & a3 & b1 & b2 & b3 & c1 & c2 & c3 & d1 & d2 & d3 & h1 & h2 & h3 & l1 & l2 & l3\\\\\n",
       "\\hline\n",
       "\t FCR                                        & sp\\textbar{}P0A7T7\\textbar{}RS18\\_ECOLI & 216508408                                  & 105302604                                  & 188390000                                  & 124128396                                  &  61146200                                  &  26236550                                  &  62920800                                  & 152758200                                  &  37377100                                  & 102853200                                  & 209932992                                  & 132222500                                  & 136022196                                  & 133833704                                  & 133498496                                  & 136167600                                  & 131757400                                  & 138470296                                 \\\\\n",
       "\t FCQR                                       & sp\\textbar{}P39357\\textbar{}YJHF\\_ECOLI & 197866800                                  & 206806500                                  &  91024800                                  & 188364200                                  & 169931000                                  &  11359220                                  & 100704500                                  &  16145970                                  & 170408292                                  & 171960200                                  & 272123292                                  & 207982900                                  & 130084900                                  & 140282600                                  & 137579700                                  & 137107700                                  & 134154800                                  & 132605700                                 \\\\\n",
       "\t KFCR                                       & sp\\textbar{}P0A7T7\\textbar{}RS18\\_ECOLI &  80551000                                  &  38286910                                  &  69663070                                  &  44561130                                  &  24265950                                  &   9986070                                  &  35448080                                  &  74736150                                  &  18970640                                  &  50874540                                  &  65054100                                  &  40677270                                  &  63451290                                  &  64289240                                  &  62992030                                  &  65077360                                  &  61875430                                  &  66261870                                 \\\\\n",
       "\t AFVLR                                      & sp\\textbar{}P0ADY1\\textbar{}PPID\\_ECOLI &  19200980                                  &  90075804                                  & 165011000                                  & 173858500                                  & 134742100                                  & 115509804                                  &  93534300                                  & 207598108                                  & 164900600                                  & 115195596                                  &  90998196                                  &  39363300                                  & 111659996                                  & 111465996                                  & 127039400                                  & 115362896                                  & 122287700                                  & 118226900                                 \\\\\n",
       "\t GFVLR                                      & sp\\textbar{}P33650\\textbar{}FEOB\\_ECOLI &  86550000                                  &  87135504                                  &   3652417                                  &  51528280                                  &  69315800                                  & 109990504                                  &  72856700                                  & 162942500                                  & 141686100                                  & 142472300                                  &  39790400                                  & 134808500                                  & 116190996                                  & 110151000                                  & 107943396                                  & 113444096                                  & 113565300                                  & 112812804                                 \\\\\n",
       "\t MTLFR                                      & sp\\textbar{}P77607\\textbar{}YAGL\\_ECOLI & 181043508                                  &  93751004                                  & 103779200                                  &  32108970                                  & 163547800                                  &  31742710                                  & 193353992                                  & 118258500                                  & 155655800                                  & 178704400                                  &  83082600                                  & 155814600                                  & 153181300                                  & 156903300                                  & 152223900                                  & 144061200                                  & 156481200                                  & 140866300                                 \\\\\n",
       "\\end{tabular}\n"
      ],
      "text/markdown": [
       "\n",
       "peptide | protein | a1 | a2 | a3 | b1 | b2 | b3 | c1 | c2 | c3 | d1 | d2 | d3 | h1 | h2 | h3 | l1 | l2 | l3 | \n",
       "|---|---|---|---|---|---|\n",
       "| FCR                  | sp|P0A7T7|RS18_ECOLI | 216508408            | 105302604            | 188390000            | 124128396            |  61146200            |  26236550            |  62920800            | 152758200            |  37377100            | 102853200            | 209932992            | 132222500            | 136022196            | 133833704            | 133498496            | 136167600            | 131757400            | 138470296            | \n",
       "| FCQR                 | sp|P39357|YJHF_ECOLI | 197866800            | 206806500            |  91024800            | 188364200            | 169931000            |  11359220            | 100704500            |  16145970            | 170408292            | 171960200            | 272123292            | 207982900            | 130084900            | 140282600            | 137579700            | 137107700            | 134154800            | 132605700            | \n",
       "| KFCR                 | sp|P0A7T7|RS18_ECOLI |  80551000            |  38286910            |  69663070            |  44561130            |  24265950            |   9986070            |  35448080            |  74736150            |  18970640            |  50874540            |  65054100            |  40677270            |  63451290            |  64289240            |  62992030            |  65077360            |  61875430            |  66261870            | \n",
       "| AFVLR                | sp|P0ADY1|PPID_ECOLI |  19200980            |  90075804            | 165011000            | 173858500            | 134742100            | 115509804            |  93534300            | 207598108            | 164900600            | 115195596            |  90998196            |  39363300            | 111659996            | 111465996            | 127039400            | 115362896            | 122287700            | 118226900            | \n",
       "| GFVLR                | sp|P33650|FEOB_ECOLI |  86550000            |  87135504            |   3652417            |  51528280            |  69315800            | 109990504            |  72856700            | 162942500            | 141686100            | 142472300            |  39790400            | 134808500            | 116190996            | 110151000            | 107943396            | 113444096            | 113565300            | 112812804            | \n",
       "| MTLFR                | sp|P77607|YAGL_ECOLI | 181043508            |  93751004            | 103779200            |  32108970            | 163547800            |  31742710            | 193353992            | 118258500            | 155655800            | 178704400            |  83082600            | 155814600            | 153181300            | 156903300            | 152223900            | 144061200            | 156481200            | 140866300            | \n",
       "\n",
       "\n"
      ],
      "text/plain": [
       "  peptide protein              a1        a2        a3        b1       \n",
       "1 FCR     sp|P0A7T7|RS18_ECOLI 216508408 105302604 188390000 124128396\n",
       "2 FCQR    sp|P39357|YJHF_ECOLI 197866800 206806500  91024800 188364200\n",
       "3 KFCR    sp|P0A7T7|RS18_ECOLI  80551000  38286910  69663070  44561130\n",
       "4 AFVLR   sp|P0ADY1|PPID_ECOLI  19200980  90075804 165011000 173858500\n",
       "5 GFVLR   sp|P33650|FEOB_ECOLI  86550000  87135504   3652417  51528280\n",
       "6 MTLFR   sp|P77607|YAGL_ECOLI 181043508  93751004 103779200  32108970\n",
       "  b2        b3        c1        c2        c3        d1        d2       \n",
       "1  61146200  26236550  62920800 152758200  37377100 102853200 209932992\n",
       "2 169931000  11359220 100704500  16145970 170408292 171960200 272123292\n",
       "3  24265950   9986070  35448080  74736150  18970640  50874540  65054100\n",
       "4 134742100 115509804  93534300 207598108 164900600 115195596  90998196\n",
       "5  69315800 109990504  72856700 162942500 141686100 142472300  39790400\n",
       "6 163547800  31742710 193353992 118258500 155655800 178704400  83082600\n",
       "  d3        h1        h2        h3        l1        l2        l3       \n",
       "1 132222500 136022196 133833704 133498496 136167600 131757400 138470296\n",
       "2 207982900 130084900 140282600 137579700 137107700 134154800 132605700\n",
       "3  40677270  63451290  64289240  62992030  65077360  61875430  66261870\n",
       "4  39363300 111659996 111465996 127039400 115362896 122287700 118226900\n",
       "5 134808500 116190996 110151000 107943396 113444096 113565300 112812804\n",
       "6 155814600 153181300 156903300 152223900 144061200 156481200 140866300"
      ]
     },
     "metadata": {},
     "output_type": "display_data"
    },
    {
     "data": {
      "text/html": [
       "<table>\n",
       "<thead><tr><th scope=col>a1</th><th scope=col>a2</th><th scope=col>a3</th><th scope=col>b1</th><th scope=col>b2</th><th scope=col>b3</th><th scope=col>c1</th><th scope=col>c2</th><th scope=col>c3</th><th scope=col>d1</th><th scope=col>d2</th><th scope=col>d3</th></tr></thead>\n",
       "<tbody>\n",
       "\t<tr><td>27.68985</td><td>26.64997</td><td>27.48915</td><td>26.88726</td><td>25.86576</td><td>24.64507</td><td>25.90703</td><td>27.18667</td><td>25.15565</td><td>26.61601</td><td>27.64535</td><td>26.97839</td></tr>\n",
       "\t<tr><td>27.55995</td><td>27.62371</td><td>26.43976</td><td>27.48895</td><td>27.34037</td><td>23.43736</td><td>26.58555</td><td>23.94467</td><td>27.34442</td><td>27.35750</td><td>28.01969</td><td>27.63189</td></tr>\n",
       "\t<tr><td>26.26340</td><td>25.19035</td><td>26.05389</td><td>25.40928</td><td>24.53243</td><td>23.25149</td><td>25.07920</td><td>26.15530</td><td>24.17727</td><td>25.60044</td><td>25.95514</td><td>25.27772</td></tr>\n",
       "\t<tr><td>24.19468</td><td>26.42464</td><td>27.29799</td><td>27.37334</td><td>27.00563</td><td>26.78344</td><td>26.47899</td><td>27.62922</td><td>27.29702</td><td>26.77951</td><td>26.43933</td><td>25.23035</td></tr>\n",
       "\t<tr><td>26.36703</td><td>26.37676</td><td>21.80042</td><td>25.61886</td><td>26.04668</td><td>26.71280</td><td>26.11856</td><td>27.27979</td><td>27.07812</td><td>27.08611</td><td>25.24592</td><td>27.00634</td></tr>\n",
       "\t<tr><td>27.43176</td><td>26.48233</td><td>26.62894</td><td>24.93647</td><td>27.28514</td><td>24.91992</td><td>27.52667</td><td>26.81737</td><td>27.21378</td><td>27.41300</td><td>26.30804</td><td>27.21526</td></tr>\n",
       "</tbody>\n",
       "</table>\n"
      ],
      "text/latex": [
       "\\begin{tabular}{r|llllllllllll}\n",
       " a1 & a2 & a3 & b1 & b2 & b3 & c1 & c2 & c3 & d1 & d2 & d3\\\\\n",
       "\\hline\n",
       "\t 27.68985 & 26.64997 & 27.48915 & 26.88726 & 25.86576 & 24.64507 & 25.90703 & 27.18667 & 25.15565 & 26.61601 & 27.64535 & 26.97839\\\\\n",
       "\t 27.55995 & 27.62371 & 26.43976 & 27.48895 & 27.34037 & 23.43736 & 26.58555 & 23.94467 & 27.34442 & 27.35750 & 28.01969 & 27.63189\\\\\n",
       "\t 26.26340 & 25.19035 & 26.05389 & 25.40928 & 24.53243 & 23.25149 & 25.07920 & 26.15530 & 24.17727 & 25.60044 & 25.95514 & 25.27772\\\\\n",
       "\t 24.19468 & 26.42464 & 27.29799 & 27.37334 & 27.00563 & 26.78344 & 26.47899 & 27.62922 & 27.29702 & 26.77951 & 26.43933 & 25.23035\\\\\n",
       "\t 26.36703 & 26.37676 & 21.80042 & 25.61886 & 26.04668 & 26.71280 & 26.11856 & 27.27979 & 27.07812 & 27.08611 & 25.24592 & 27.00634\\\\\n",
       "\t 27.43176 & 26.48233 & 26.62894 & 24.93647 & 27.28514 & 24.91992 & 27.52667 & 26.81737 & 27.21378 & 27.41300 & 26.30804 & 27.21526\\\\\n",
       "\\end{tabular}\n"
      ],
      "text/markdown": [
       "\n",
       "a1 | a2 | a3 | b1 | b2 | b3 | c1 | c2 | c3 | d1 | d2 | d3 | \n",
       "|---|---|---|---|---|---|\n",
       "| 27.68985 | 26.64997 | 27.48915 | 26.88726 | 25.86576 | 24.64507 | 25.90703 | 27.18667 | 25.15565 | 26.61601 | 27.64535 | 26.97839 | \n",
       "| 27.55995 | 27.62371 | 26.43976 | 27.48895 | 27.34037 | 23.43736 | 26.58555 | 23.94467 | 27.34442 | 27.35750 | 28.01969 | 27.63189 | \n",
       "| 26.26340 | 25.19035 | 26.05389 | 25.40928 | 24.53243 | 23.25149 | 25.07920 | 26.15530 | 24.17727 | 25.60044 | 25.95514 | 25.27772 | \n",
       "| 24.19468 | 26.42464 | 27.29799 | 27.37334 | 27.00563 | 26.78344 | 26.47899 | 27.62922 | 27.29702 | 26.77951 | 26.43933 | 25.23035 | \n",
       "| 26.36703 | 26.37676 | 21.80042 | 25.61886 | 26.04668 | 26.71280 | 26.11856 | 27.27979 | 27.07812 | 27.08611 | 25.24592 | 27.00634 | \n",
       "| 27.43176 | 26.48233 | 26.62894 | 24.93647 | 27.28514 | 24.91992 | 27.52667 | 26.81737 | 27.21378 | 27.41300 | 26.30804 | 27.21526 | \n",
       "\n",
       "\n"
      ],
      "text/plain": [
       "  a1       a2       a3       b1       b2       b3       c1       c2      \n",
       "1 27.68985 26.64997 27.48915 26.88726 25.86576 24.64507 25.90703 27.18667\n",
       "2 27.55995 27.62371 26.43976 27.48895 27.34037 23.43736 26.58555 23.94467\n",
       "3 26.26340 25.19035 26.05389 25.40928 24.53243 23.25149 25.07920 26.15530\n",
       "4 24.19468 26.42464 27.29799 27.37334 27.00563 26.78344 26.47899 27.62922\n",
       "5 26.36703 26.37676 21.80042 25.61886 26.04668 26.71280 26.11856 27.27979\n",
       "6 27.43176 26.48233 26.62894 24.93647 27.28514 24.91992 27.52667 26.81737\n",
       "  c3       d1       d2       d3      \n",
       "1 25.15565 26.61601 27.64535 26.97839\n",
       "2 27.34442 27.35750 28.01969 27.63189\n",
       "3 24.17727 25.60044 25.95514 25.27772\n",
       "4 27.29702 26.77951 26.43933 25.23035\n",
       "5 27.07812 27.08611 25.24592 27.00634\n",
       "6 27.21378 27.41300 26.30804 27.21526"
      ]
     },
     "metadata": {},
     "output_type": "display_data"
    }
   ],
   "source": [
    "raw_data_df <- read.csv(expression_fp, sep=\"\\t\")\n",
    "head(raw_data_df)\n",
    "raw_data_df$peptide <- as.character(raw_data_df$peptide)\n",
    "raw_data_df$protein <- as.character(raw_data_df$protein)\n",
    "data_df <- log2(raw_data_df[, as.character(design_df$name)])\n",
    "head(data_df)"
   ]
  },
  {
   "cell_type": "code",
   "execution_count": 58,
   "metadata": {
    "ExecuteTime": {
     "end_time": "2017-11-06T15:43:28.528678Z",
     "start_time": "2017-11-06T15:43:28.505Z"
    }
   },
   "outputs": [
    {
     "data": {
      "text/html": [
       "<table>\n",
       "<thead><tr><th scope=col>peptide</th><th scope=col>protein</th><th scope=col>a1</th><th scope=col>a2</th><th scope=col>a3</th><th scope=col>b1</th><th scope=col>b2</th><th scope=col>b3</th><th scope=col>c1</th><th scope=col>c2</th><th scope=col>c3</th><th scope=col>d1</th><th scope=col>d2</th><th scope=col>d3</th><th scope=col>h1</th><th scope=col>h2</th><th scope=col>h3</th><th scope=col>l1</th><th scope=col>l2</th><th scope=col>l3</th></tr></thead>\n",
       "<tbody>\n",
       "\t<tr><td>FCR                 </td><td>sp|P0A7T7|RS18_ECOLI</td><td>216508408           </td><td>105302604           </td><td>188390000           </td><td>124128396           </td><td> 61146200           </td><td> 26236550           </td><td> 62920800           </td><td>152758200           </td><td> 37377100           </td><td>102853200           </td><td>209932992           </td><td>132222500           </td><td>136022196           </td><td>133833704           </td><td>133498496           </td><td>136167600           </td><td>131757400           </td><td>138470296           </td></tr>\n",
       "\t<tr><td>FCQR                </td><td>sp|P39357|YJHF_ECOLI</td><td>197866800           </td><td>206806500           </td><td> 91024800           </td><td>188364200           </td><td>169931000           </td><td> 11359220           </td><td>100704500           </td><td> 16145970           </td><td>170408292           </td><td>171960200           </td><td>272123292           </td><td>207982900           </td><td>130084900           </td><td>140282600           </td><td>137579700           </td><td>137107700           </td><td>134154800           </td><td>132605700           </td></tr>\n",
       "\t<tr><td>KFCR                </td><td>sp|P0A7T7|RS18_ECOLI</td><td> 80551000           </td><td> 38286910           </td><td> 69663070           </td><td> 44561130           </td><td> 24265950           </td><td>  9986070           </td><td> 35448080           </td><td> 74736150           </td><td> 18970640           </td><td> 50874540           </td><td> 65054100           </td><td> 40677270           </td><td> 63451290           </td><td> 64289240           </td><td> 62992030           </td><td> 65077360           </td><td> 61875430           </td><td> 66261870           </td></tr>\n",
       "\t<tr><td>AFVLR               </td><td>sp|P0ADY1|PPID_ECOLI</td><td> 19200980           </td><td> 90075804           </td><td>165011000           </td><td>173858500           </td><td>134742100           </td><td>115509804           </td><td> 93534300           </td><td>207598108           </td><td>164900600           </td><td>115195596           </td><td> 90998196           </td><td> 39363300           </td><td>111659996           </td><td>111465996           </td><td>127039400           </td><td>115362896           </td><td>122287700           </td><td>118226900           </td></tr>\n",
       "\t<tr><td>GFVLR               </td><td>sp|P33650|FEOB_ECOLI</td><td> 86550000           </td><td> 87135504           </td><td>  3652417           </td><td> 51528280           </td><td> 69315800           </td><td>109990504           </td><td> 72856700           </td><td>162942500           </td><td>141686100           </td><td>142472300           </td><td> 39790400           </td><td>134808500           </td><td>116190996           </td><td>110151000           </td><td>107943396           </td><td>113444096           </td><td>113565300           </td><td>112812804           </td></tr>\n",
       "\t<tr><td>MTLFR               </td><td>sp|P77607|YAGL_ECOLI</td><td>181043508           </td><td> 93751004           </td><td>103779200           </td><td> 32108970           </td><td>163547800           </td><td> 31742710           </td><td>193353992           </td><td>118258500           </td><td>155655800           </td><td>178704400           </td><td> 83082600           </td><td>155814600           </td><td>153181300           </td><td>156903300           </td><td>152223900           </td><td>144061200           </td><td>156481200           </td><td>140866300           </td></tr>\n",
       "</tbody>\n",
       "</table>\n"
      ],
      "text/latex": [
       "\\begin{tabular}{r|llllllllllllllllllll}\n",
       " peptide & protein & a1 & a2 & a3 & b1 & b2 & b3 & c1 & c2 & c3 & d1 & d2 & d3 & h1 & h2 & h3 & l1 & l2 & l3\\\\\n",
       "\\hline\n",
       "\t FCR                                        & sp\\textbar{}P0A7T7\\textbar{}RS18\\_ECOLI & 216508408                                  & 105302604                                  & 188390000                                  & 124128396                                  &  61146200                                  &  26236550                                  &  62920800                                  & 152758200                                  &  37377100                                  & 102853200                                  & 209932992                                  & 132222500                                  & 136022196                                  & 133833704                                  & 133498496                                  & 136167600                                  & 131757400                                  & 138470296                                 \\\\\n",
       "\t FCQR                                       & sp\\textbar{}P39357\\textbar{}YJHF\\_ECOLI & 197866800                                  & 206806500                                  &  91024800                                  & 188364200                                  & 169931000                                  &  11359220                                  & 100704500                                  &  16145970                                  & 170408292                                  & 171960200                                  & 272123292                                  & 207982900                                  & 130084900                                  & 140282600                                  & 137579700                                  & 137107700                                  & 134154800                                  & 132605700                                 \\\\\n",
       "\t KFCR                                       & sp\\textbar{}P0A7T7\\textbar{}RS18\\_ECOLI &  80551000                                  &  38286910                                  &  69663070                                  &  44561130                                  &  24265950                                  &   9986070                                  &  35448080                                  &  74736150                                  &  18970640                                  &  50874540                                  &  65054100                                  &  40677270                                  &  63451290                                  &  64289240                                  &  62992030                                  &  65077360                                  &  61875430                                  &  66261870                                 \\\\\n",
       "\t AFVLR                                      & sp\\textbar{}P0ADY1\\textbar{}PPID\\_ECOLI &  19200980                                  &  90075804                                  & 165011000                                  & 173858500                                  & 134742100                                  & 115509804                                  &  93534300                                  & 207598108                                  & 164900600                                  & 115195596                                  &  90998196                                  &  39363300                                  & 111659996                                  & 111465996                                  & 127039400                                  & 115362896                                  & 122287700                                  & 118226900                                 \\\\\n",
       "\t GFVLR                                      & sp\\textbar{}P33650\\textbar{}FEOB\\_ECOLI &  86550000                                  &  87135504                                  &   3652417                                  &  51528280                                  &  69315800                                  & 109990504                                  &  72856700                                  & 162942500                                  & 141686100                                  & 142472300                                  &  39790400                                  & 134808500                                  & 116190996                                  & 110151000                                  & 107943396                                  & 113444096                                  & 113565300                                  & 112812804                                 \\\\\n",
       "\t MTLFR                                      & sp\\textbar{}P77607\\textbar{}YAGL\\_ECOLI & 181043508                                  &  93751004                                  & 103779200                                  &  32108970                                  & 163547800                                  &  31742710                                  & 193353992                                  & 118258500                                  & 155655800                                  & 178704400                                  &  83082600                                  & 155814600                                  & 153181300                                  & 156903300                                  & 152223900                                  & 144061200                                  & 156481200                                  & 140866300                                 \\\\\n",
       "\\end{tabular}\n"
      ],
      "text/markdown": [
       "\n",
       "peptide | protein | a1 | a2 | a3 | b1 | b2 | b3 | c1 | c2 | c3 | d1 | d2 | d3 | h1 | h2 | h3 | l1 | l2 | l3 | \n",
       "|---|---|---|---|---|---|\n",
       "| FCR                  | sp|P0A7T7|RS18_ECOLI | 216508408            | 105302604            | 188390000            | 124128396            |  61146200            |  26236550            |  62920800            | 152758200            |  37377100            | 102853200            | 209932992            | 132222500            | 136022196            | 133833704            | 133498496            | 136167600            | 131757400            | 138470296            | \n",
       "| FCQR                 | sp|P39357|YJHF_ECOLI | 197866800            | 206806500            |  91024800            | 188364200            | 169931000            |  11359220            | 100704500            |  16145970            | 170408292            | 171960200            | 272123292            | 207982900            | 130084900            | 140282600            | 137579700            | 137107700            | 134154800            | 132605700            | \n",
       "| KFCR                 | sp|P0A7T7|RS18_ECOLI |  80551000            |  38286910            |  69663070            |  44561130            |  24265950            |   9986070            |  35448080            |  74736150            |  18970640            |  50874540            |  65054100            |  40677270            |  63451290            |  64289240            |  62992030            |  65077360            |  61875430            |  66261870            | \n",
       "| AFVLR                | sp|P0ADY1|PPID_ECOLI |  19200980            |  90075804            | 165011000            | 173858500            | 134742100            | 115509804            |  93534300            | 207598108            | 164900600            | 115195596            |  90998196            |  39363300            | 111659996            | 111465996            | 127039400            | 115362896            | 122287700            | 118226900            | \n",
       "| GFVLR                | sp|P33650|FEOB_ECOLI |  86550000            |  87135504            |   3652417            |  51528280            |  69315800            | 109990504            |  72856700            | 162942500            | 141686100            | 142472300            |  39790400            | 134808500            | 116190996            | 110151000            | 107943396            | 113444096            | 113565300            | 112812804            | \n",
       "| MTLFR                | sp|P77607|YAGL_ECOLI | 181043508            |  93751004            | 103779200            |  32108970            | 163547800            |  31742710            | 193353992            | 118258500            | 155655800            | 178704400            |  83082600            | 155814600            | 153181300            | 156903300            | 152223900            | 144061200            | 156481200            | 140866300            | \n",
       "\n",
       "\n"
      ],
      "text/plain": [
       "  peptide protein              a1        a2        a3        b1       \n",
       "1 FCR     sp|P0A7T7|RS18_ECOLI 216508408 105302604 188390000 124128396\n",
       "2 FCQR    sp|P39357|YJHF_ECOLI 197866800 206806500  91024800 188364200\n",
       "3 KFCR    sp|P0A7T7|RS18_ECOLI  80551000  38286910  69663070  44561130\n",
       "4 AFVLR   sp|P0ADY1|PPID_ECOLI  19200980  90075804 165011000 173858500\n",
       "5 GFVLR   sp|P33650|FEOB_ECOLI  86550000  87135504   3652417  51528280\n",
       "6 MTLFR   sp|P77607|YAGL_ECOLI 181043508  93751004 103779200  32108970\n",
       "  b2        b3        c1        c2        c3        d1        d2       \n",
       "1  61146200  26236550  62920800 152758200  37377100 102853200 209932992\n",
       "2 169931000  11359220 100704500  16145970 170408292 171960200 272123292\n",
       "3  24265950   9986070  35448080  74736150  18970640  50874540  65054100\n",
       "4 134742100 115509804  93534300 207598108 164900600 115195596  90998196\n",
       "5  69315800 109990504  72856700 162942500 141686100 142472300  39790400\n",
       "6 163547800  31742710 193353992 118258500 155655800 178704400  83082600\n",
       "  d3        h1        h2        h3        l1        l2        l3       \n",
       "1 132222500 136022196 133833704 133498496 136167600 131757400 138470296\n",
       "2 207982900 130084900 140282600 137579700 137107700 134154800 132605700\n",
       "3  40677270  63451290  64289240  62992030  65077360  61875430  66261870\n",
       "4  39363300 111659996 111465996 127039400 115362896 122287700 118226900\n",
       "5 134808500 116190996 110151000 107943396 113444096 113565300 112812804\n",
       "6 155814600 153181300 156903300 152223900 144061200 156481200 140866300"
      ]
     },
     "metadata": {},
     "output_type": "display_data"
    }
   ],
   "source": [
    "head(raw_data_df)"
   ]
  },
  {
   "cell_type": "code",
   "execution_count": 59,
   "metadata": {
    "ExecuteTime": {
     "end_time": "2017-11-06T15:43:30.702807Z",
     "start_time": "2017-11-06T15:43:30.680Z"
    },
    "collapsed": true
   },
   "outputs": [],
   "source": [
    "parse_annot <- function(annot_string) {\n",
    "    \n",
    "    fields <- unlist(strsplit(as.character(annot_string), \"/\"))\n",
    "    annot <- sapply(fields, function(field) { unlist(strsplit(field, \"_\"))[[2]] })\n",
    "    \n",
    "    if (annot == \"SOLTU\") {\n",
    "        TRUE\n",
    "    }\n",
    "    else if (annot == \"ECOLI\") {\n",
    "        FALSE\n",
    "    }\n",
    "    else {\n",
    "        stop(paste0(\"Unknown annotation: \", annot))\n",
    "    }\n",
    "}"
   ]
  },
  {
   "cell_type": "code",
   "execution_count": 61,
   "metadata": {
    "ExecuteTime": {
     "end_time": "2017-11-06T15:43:39.128268Z",
     "start_time": "2017-11-06T15:43:39.065Z"
    }
   },
   "outputs": [
    {
     "data": {
      "text/html": [
       "<dl class=dl-horizontal>\n",
       "\t<dt>sp|P0A7T7|RS18_ECOLI</dt>\n",
       "\t\t<dd>FALSE</dd>\n",
       "\t<dt>sp|P39357|YJHF_ECOLI</dt>\n",
       "\t\t<dd>FALSE</dd>\n",
       "\t<dt>sp|P0A7T7|RS18_ECOLI</dt>\n",
       "\t\t<dd>FALSE</dd>\n",
       "\t<dt>sp|P0ADY1|PPID_ECOLI</dt>\n",
       "\t\t<dd>FALSE</dd>\n",
       "\t<dt>sp|P33650|FEOB_ECOLI</dt>\n",
       "\t\t<dd>FALSE</dd>\n",
       "\t<dt>sp|P77607|YAGL_ECOLI</dt>\n",
       "\t\t<dd>FALSE</dd>\n",
       "</dl>\n"
      ],
      "text/latex": [
       "\\begin{description*}\n",
       "\\item[sp\\textbackslash{}textbar\\{\\}P0A7T7\\textbackslash{}textbar\\{\\}RS18\\textbackslash{}\\_ECOLI] FALSE\n",
       "\\item[sp\\textbackslash{}textbar\\{\\}P39357\\textbackslash{}textbar\\{\\}YJHF\\textbackslash{}\\_ECOLI] FALSE\n",
       "\\item[sp\\textbackslash{}textbar\\{\\}P0A7T7\\textbackslash{}textbar\\{\\}RS18\\textbackslash{}\\_ECOLI] FALSE\n",
       "\\item[sp\\textbackslash{}textbar\\{\\}P0ADY1\\textbackslash{}textbar\\{\\}PPID\\textbackslash{}\\_ECOLI] FALSE\n",
       "\\item[sp\\textbackslash{}textbar\\{\\}P33650\\textbackslash{}textbar\\{\\}FEOB\\textbackslash{}\\_ECOLI] FALSE\n",
       "\\item[sp\\textbackslash{}textbar\\{\\}P77607\\textbackslash{}textbar\\{\\}YAGL\\textbackslash{}\\_ECOLI] FALSE\n",
       "\\end{description*}\n"
      ],
      "text/markdown": [
       "sp|P0A7T7|RS18_ECOLI\n",
       ":   FALSEsp|P39357|YJHF_ECOLI\n",
       ":   FALSEsp|P0A7T7|RS18_ECOLI\n",
       ":   FALSEsp|P0ADY1|PPID_ECOLI\n",
       ":   FALSEsp|P33650|FEOB_ECOLI\n",
       ":   FALSEsp|P77607|YAGL_ECOLI\n",
       ":   FALSE\n",
       "\n"
      ],
      "text/plain": [
       "sp|P0A7T7|RS18_ECOLI sp|P39357|YJHF_ECOLI sp|P0A7T7|RS18_ECOLI \n",
       "               FALSE                FALSE                FALSE \n",
       "sp|P0ADY1|PPID_ECOLI sp|P33650|FEOB_ECOLI sp|P77607|YAGL_ECOLI \n",
       "               FALSE                FALSE                FALSE "
      ]
     },
     "metadata": {},
     "output_type": "display_data"
    }
   ],
   "source": [
    "spike_col <- sapply(as.character(raw_data_df[, \"protein\"]), parse_annot)\n",
    "head(spike_col)\n"
   ]
  },
  {
   "cell_type": "markdown",
   "metadata": {},
   "source": [
    "# Overview visualization"
   ]
  },
  {
   "cell_type": "code",
   "execution_count": 63,
   "metadata": {
    "ExecuteTime": {
     "end_time": "2017-11-06T15:44:14.053360Z",
     "start_time": "2017-11-06T15:44:13.686Z"
    }
   },
   "outputs": [
    {
     "data": {
      "image/png": "[encoded data removed]",
      "text/plain": [
       "plot without title"
      ]
     },
     "metadata": {},
     "output_type": "display_data"
    }
   ],
   "source": [
    "p1_1 <- plot_pca(data_df, design_df, 1, 2, \"condition\", colors=4, custom_names=design_df$name, legend=F)\n",
    "p1_2 <- plot_pca(data_df, design_df, 3, 4, \"condition\", colors=4, custom_names=design_df$name, legend=T, title_app=\"(test)\")\n",
    "options(repr.plot.width=10, repr.plot.height=5)\n",
    "multiplot(p1_1, p1_2, cols=2)\n"
   ]
  },
  {
   "cell_type": "markdown",
   "metadata": {},
   "source": [
    "# Differential expression"
   ]
  },
  {
   "cell_type": "code",
   "execution_count": 64,
   "metadata": {
    "ExecuteTime": {
     "end_time": "2017-11-06T15:44:45.225750Z",
     "start_time": "2017-11-06T15:44:45.214Z"
    },
    "collapsed": true
   },
   "outputs": [],
   "source": [
    "calculate_anova <- function(row, cond) {\n",
    "    \n",
    "    anova_df <- data.frame(cbind(Intensity=unlist(row), Cond=cond))\n",
    "    \n",
    "    av <- aov(Intensity~Cond, anova_df)\n",
    "    av_summary <- summary(av)\n",
    "    p_val <- av_summary[[1]][\"Cond\", \"Pr(>F)\"]\n",
    "    p_val\n",
    "}"
   ]
  },
  {
   "cell_type": "code",
   "execution_count": 65,
   "metadata": {
    "ExecuteTime": {
     "end_time": "2017-11-06T15:44:47.085735Z",
     "start_time": "2017-11-06T15:44:46.349Z"
    },
    "collapsed": true
   },
   "outputs": [],
   "source": [
    "p_vals <- apply(data_df, 1, calculate_anova, cond=design_df$condition)\n",
    "p_vals <- unlist(p_vals)\n",
    "q_vals <- as.numeric(p.adjust(p_vals, method=\"BH\"))"
   ]
  },
  {
   "cell_type": "code",
   "execution_count": 66,
   "metadata": {
    "ExecuteTime": {
     "end_time": "2017-11-06T15:44:49.022449Z",
     "start_time": "2017-11-06T15:44:49.004Z"
    }
   },
   "outputs": [
    {
     "data": {
      "text/html": [
       "824"
      ],
      "text/latex": [
       "824"
      ],
      "text/markdown": [
       "824"
      ],
      "text/plain": [
       "[1] 824"
      ]
     },
     "metadata": {},
     "output_type": "display_data"
    }
   ],
   "source": [
    "length(p_vals)"
   ]
  },
  {
   "cell_type": "code",
   "execution_count": 31,
   "metadata": {
    "ExecuteTime": {
     "end_time": "2017-11-06T14:30:58.354053Z",
     "start_time": "2017-11-06T14:30:56.548Z"
    }
   },
   "outputs": [
    {
     "data": {
      "text/html": [
       "149"
      ],
      "text/latex": [
       "149"
      ],
      "text/markdown": [
       "149"
      ],
      "text/plain": [
       "[1] 149"
      ]
     },
     "metadata": {},
     "output_type": "display_data"
    }
   ],
   "source": [
    "length(p_vals[which(p_vals < 0.1)])\n",
    "sig_indices <- which(q_vals < 0.1)"
   ]
  },
  {
   "cell_type": "code",
   "execution_count": 32,
   "metadata": {
    "ExecuteTime": {
     "end_time": "2017-11-06T14:30:58.370798Z",
     "start_time": "2017-11-06T14:30:56.552Z"
    }
   },
   "outputs": [
    {
     "data": {
      "text/html": [
       "138"
      ],
      "text/latex": [
       "138"
      ],
      "text/markdown": [
       "138"
      ],
      "text/plain": [
       "[1] 138"
      ]
     },
     "metadata": {},
     "output_type": "display_data"
    }
   ],
   "source": [
    "length(q_vals[which(q_vals < 0.1)])"
   ]
  },
  {
   "cell_type": "code",
   "execution_count": 37,
   "metadata": {
    "ExecuteTime": {
     "end_time": "2017-11-06T14:31:46.329321Z",
     "start_time": "2017-11-06T14:31:46.305Z"
    }
   },
   "outputs": [
    {
     "data": {
      "text/html": [
       "138"
      ],
      "text/latex": [
       "138"
      ],
      "text/markdown": [
       "138"
      ],
      "text/plain": [
       "[1] 138"
      ]
     },
     "metadata": {},
     "output_type": "display_data"
    }
   ],
   "source": [
    "length(spike_col[spike_col])"
   ]
  },
  {
   "cell_type": "markdown",
   "metadata": {},
   "source": [
    "# Summarize results"
   ]
  },
  {
   "cell_type": "code",
   "execution_count": 33,
   "metadata": {
    "ExecuteTime": {
     "end_time": "2017-11-06T14:30:58.387969Z",
     "start_time": "2017-11-06T14:30:56.556Z"
    }
   },
   "outputs": [],
   "source": [
    "final_df <- data.frame(peptide=raw_data_df[,\"peptide\"], \n",
    "                  protein=raw_data_df[,\"protein\"], \n",
    "                  spike_col=spike_col, \n",
    "                  p_val=p_vals, \n",
    "                  q_val=q_vals)\n"
   ]
  },
  {
   "cell_type": "code",
   "execution_count": 34,
   "metadata": {
    "ExecuteTime": {
     "end_time": "2017-11-06T14:30:58.411726Z",
     "start_time": "2017-11-06T14:30:56.560Z"
    }
   },
   "outputs": [
    {
     "data": {
      "text/html": [
       "<table>\n",
       "<thead><tr><th scope=col>peptide</th><th scope=col>protein</th><th scope=col>spike_col</th><th scope=col>p_val</th><th scope=col>q_val</th></tr></thead>\n",
       "<tbody>\n",
       "\t<tr><td>FCR                 </td><td>sp|P0A7T7|RS18_ECOLI</td><td>FALSE               </td><td>0.4862394           </td><td>0.9985841           </td></tr>\n",
       "\t<tr><td>LCR                 </td><td>sp|Q9JMR4|YUBK_ECOLI</td><td>FALSE               </td><td>0.1613207           </td><td>0.8163807           </td></tr>\n",
       "\t<tr><td>FCQR                </td><td>sp|P39357|YJHF_ECOLI</td><td>FALSE               </td><td>0.7209347           </td><td>0.9985841           </td></tr>\n",
       "\t<tr><td>KFCR                </td><td>sp|P0A7T7|RS18_ECOLI</td><td>FALSE               </td><td>0.4110247           </td><td>0.9985841           </td></tr>\n",
       "\t<tr><td>AFVLR               </td><td>sp|P0ADY1|PPID_ECOLI</td><td>FALSE               </td><td>0.7015520           </td><td>0.9985841           </td></tr>\n",
       "\t<tr><td>GFVLR               </td><td>sp|P33650|FEOB_ECOLI</td><td>FALSE               </td><td>0.6956976           </td><td>0.9985841           </td></tr>\n",
       "</tbody>\n",
       "</table>\n"
      ],
      "text/latex": [
       "\\begin{tabular}{r|lllll}\n",
       " peptide & protein & spike\\_col & p\\_val & q\\_val\\\\\n",
       "\\hline\n",
       "\t FCR                                        & sp\\textbar{}P0A7T7\\textbar{}RS18\\_ECOLI & FALSE                                      & 0.4862394                                  & 0.9985841                                 \\\\\n",
       "\t LCR                                        & sp\\textbar{}Q9JMR4\\textbar{}YUBK\\_ECOLI & FALSE                                      & 0.1613207                                  & 0.8163807                                 \\\\\n",
       "\t FCQR                                       & sp\\textbar{}P39357\\textbar{}YJHF\\_ECOLI & FALSE                                      & 0.7209347                                  & 0.9985841                                 \\\\\n",
       "\t KFCR                                       & sp\\textbar{}P0A7T7\\textbar{}RS18\\_ECOLI & FALSE                                      & 0.4110247                                  & 0.9985841                                 \\\\\n",
       "\t AFVLR                                      & sp\\textbar{}P0ADY1\\textbar{}PPID\\_ECOLI & FALSE                                      & 0.7015520                                  & 0.9985841                                 \\\\\n",
       "\t GFVLR                                      & sp\\textbar{}P33650\\textbar{}FEOB\\_ECOLI & FALSE                                      & 0.6956976                                  & 0.9985841                                 \\\\\n",
       "\\end{tabular}\n"
      ],
      "text/markdown": [
       "\n",
       "peptide | protein | spike_col | p_val | q_val | \n",
       "|---|---|---|---|---|---|\n",
       "| FCR                  | sp|P0A7T7|RS18_ECOLI | FALSE                | 0.4862394            | 0.9985841            | \n",
       "| LCR                  | sp|Q9JMR4|YUBK_ECOLI | FALSE                | 0.1613207            | 0.8163807            | \n",
       "| FCQR                 | sp|P39357|YJHF_ECOLI | FALSE                | 0.7209347            | 0.9985841            | \n",
       "| KFCR                 | sp|P0A7T7|RS18_ECOLI | FALSE                | 0.4110247            | 0.9985841            | \n",
       "| AFVLR                | sp|P0ADY1|PPID_ECOLI | FALSE                | 0.7015520            | 0.9985841            | \n",
       "| GFVLR                | sp|P33650|FEOB_ECOLI | FALSE                | 0.6956976            | 0.9985841            | \n",
       "\n",
       "\n"
      ],
      "text/plain": [
       "  peptide protein              spike_col p_val     q_val    \n",
       "1 FCR     sp|P0A7T7|RS18_ECOLI FALSE     0.4862394 0.9985841\n",
       "2 LCR     sp|Q9JMR4|YUBK_ECOLI FALSE     0.1613207 0.8163807\n",
       "3 FCQR    sp|P39357|YJHF_ECOLI FALSE     0.7209347 0.9985841\n",
       "4 KFCR    sp|P0A7T7|RS18_ECOLI FALSE     0.4110247 0.9985841\n",
       "5 AFVLR   sp|P0ADY1|PPID_ECOLI FALSE     0.7015520 0.9985841\n",
       "6 GFVLR   sp|P33650|FEOB_ECOLI FALSE     0.6956976 0.9985841"
      ]
     },
     "metadata": {},
     "output_type": "display_data"
    }
   ],
   "source": [
    "head(final_df)"
   ]
  },
  {
   "cell_type": "code",
   "execution_count": 35,
   "metadata": {
    "ExecuteTime": {
     "end_time": "2017-11-06T14:30:58.435299Z",
     "start_time": "2017-11-06T14:30:56.563Z"
    }
   },
   "outputs": [
    {
     "data": {
      "text/html": [
       "<table>\n",
       "<thead><tr><th></th><th scope=col>peptide</th><th scope=col>protein</th><th scope=col>spike_col</th><th scope=col>p_val</th><th scope=col>q_val</th></tr></thead>\n",
       "<tbody>\n",
       "\t<tr><th scope=row>830</th><td>IPNLLVNGSSGIAVGMATNIPPHNLTEVINGCLAYIDDEDISIEGLMEHIPGPDFPTAAIINGRR                         </td><td>sp|P0AES4|GYRA_ECOLI                                                                      </td><td>FALSE                                                                                     </td><td>0.3847508                                                                                 </td><td>0.9985841                                                                                 </td></tr>\n",
       "\t<tr><th scope=row>831</th><td>GYVANSVWTVTAVSGDSVTLSDGQQTREIRPGQEQAEQHIDLAYAITAHGAQGASETFAIALEGTEGNR                     </td><td>sp|P14565|TRAI1_ECOLI                                                                     </td><td>FALSE                                                                                     </td><td>0.8037824                                                                                 </td><td>0.9985841                                                                                 </td></tr>\n",
       "\t<tr><th scope=row>832</th><td>IPDVMPTKIPNLLVNGSSGIAVGMATNIPPHNLTEVINGCLAYIDDEDISIEGLMEHIPGPDFPTAAIINGR                  </td><td>sp|P0AES4|GYRA_ECOLI                                                                      </td><td>FALSE                                                                                     </td><td>0.4187220                                                                                 </td><td>0.9985841                                                                                 </td></tr>\n",
       "\t<tr><th scope=row>833</th><td>VITPVFKPIGVHEDNWQATVGLFTGAMAKEVVVGTLNTLYTAENIQDEEFNPAEFNLGEELFSAIDETWQSLK                 </td><td>sp|P33650|FEOB_ECOLI                                                                      </td><td>FALSE                                                                                     </td><td>0.5326066                                                                                 </td><td>0.9985841                                                                                 </td></tr>\n",
       "\t<tr><th scope=row>834</th><td>YPVTLTPAPEGGYMVSFVDIPEALTQGETVAEAMEAAKDALLTAFDFYFEDNELIPLPSPLNSHDHFIEVPLSVASK             </td><td>sp|P67697|HICB_ECOLI                                                                      </td><td>FALSE                                                                                     </td><td>0.1488137                                                                                 </td><td>0.7766214                                                                                 </td></tr>\n",
       "\t<tr><th scope=row>835</th><td>QVLIDSGVGQYISTLVSGMDINPILMAWGVAAFLRICLGSATVAAISTAGLVIPLLAVHPNTNLALITLATGAGSCICSHVNDASFWMIK</td><td>sp|P39357|YJHF_ECOLI                                                                      </td><td>FALSE                                                                                     </td><td>0.5500526                                                                                 </td><td>0.9985841                                                                                 </td></tr>\n",
       "</tbody>\n",
       "</table>\n"
      ],
      "text/latex": [
       "\\begin{tabular}{r|lllll}\n",
       "  & peptide & protein & spike\\_col & p\\_val & q\\_val\\\\\n",
       "\\hline\n",
       "\t830 & IPNLLVNGSSGIAVGMATNIPPHNLTEVINGCLAYIDDEDISIEGLMEHIPGPDFPTAAIINGRR                          & sp\\textbar{}P0AES4\\textbar{}GYRA\\_ECOLI                                                 & FALSE                                                                                      & 0.3847508                                                                                  & 0.9985841                                                                                 \\\\\n",
       "\t831 & GYVANSVWTVTAVSGDSVTLSDGQQTREIRPGQEQAEQHIDLAYAITAHGAQGASETFAIALEGTEGNR                      & sp\\textbar{}P14565\\textbar{}TRAI1\\_ECOLI                                                & FALSE                                                                                      & 0.8037824                                                                                  & 0.9985841                                                                                 \\\\\n",
       "\t832 & IPDVMPTKIPNLLVNGSSGIAVGMATNIPPHNLTEVINGCLAYIDDEDISIEGLMEHIPGPDFPTAAIINGR                   & sp\\textbar{}P0AES4\\textbar{}GYRA\\_ECOLI                                                 & FALSE                                                                                      & 0.4187220                                                                                  & 0.9985841                                                                                 \\\\\n",
       "\t833 & VITPVFKPIGVHEDNWQATVGLFTGAMAKEVVVGTLNTLYTAENIQDEEFNPAEFNLGEELFSAIDETWQSLK                  & sp\\textbar{}P33650\\textbar{}FEOB\\_ECOLI                                                 & FALSE                                                                                      & 0.5326066                                                                                  & 0.9985841                                                                                 \\\\\n",
       "\t834 & YPVTLTPAPEGGYMVSFVDIPEALTQGETVAEAMEAAKDALLTAFDFYFEDNELIPLPSPLNSHDHFIEVPLSVASK              & sp\\textbar{}P67697\\textbar{}HICB\\_ECOLI                                                 & FALSE                                                                                      & 0.1488137                                                                                  & 0.7766214                                                                                 \\\\\n",
       "\t835 & QVLIDSGVGQYISTLVSGMDINPILMAWGVAAFLRICLGSATVAAISTAGLVIPLLAVHPNTNLALITLATGAGSCICSHVNDASFWMIK & sp\\textbar{}P39357\\textbar{}YJHF\\_ECOLI                                                 & FALSE                                                                                      & 0.5500526                                                                                  & 0.9985841                                                                                 \\\\\n",
       "\\end{tabular}\n"
      ],
      "text/markdown": [
       "\n",
       "| <!--/--> | peptide | protein | spike_col | p_val | q_val | \n",
       "|---|---|---|---|---|---|\n",
       "| 830 | IPNLLVNGSSGIAVGMATNIPPHNLTEVINGCLAYIDDEDISIEGLMEHIPGPDFPTAAIINGRR                          | sp|P0AES4|GYRA_ECOLI                                                                       | FALSE                                                                                      | 0.3847508                                                                                  | 0.9985841                                                                                  | \n",
       "| 831 | GYVANSVWTVTAVSGDSVTLSDGQQTREIRPGQEQAEQHIDLAYAITAHGAQGASETFAIALEGTEGNR                      | sp|P14565|TRAI1_ECOLI                                                                      | FALSE                                                                                      | 0.8037824                                                                                  | 0.9985841                                                                                  | \n",
       "| 832 | IPDVMPTKIPNLLVNGSSGIAVGMATNIPPHNLTEVINGCLAYIDDEDISIEGLMEHIPGPDFPTAAIINGR                   | sp|P0AES4|GYRA_ECOLI                                                                       | FALSE                                                                                      | 0.4187220                                                                                  | 0.9985841                                                                                  | \n",
       "| 833 | VITPVFKPIGVHEDNWQATVGLFTGAMAKEVVVGTLNTLYTAENIQDEEFNPAEFNLGEELFSAIDETWQSLK                  | sp|P33650|FEOB_ECOLI                                                                       | FALSE                                                                                      | 0.5326066                                                                                  | 0.9985841                                                                                  | \n",
       "| 834 | YPVTLTPAPEGGYMVSFVDIPEALTQGETVAEAMEAAKDALLTAFDFYFEDNELIPLPSPLNSHDHFIEVPLSVASK              | sp|P67697|HICB_ECOLI                                                                       | FALSE                                                                                      | 0.1488137                                                                                  | 0.7766214                                                                                  | \n",
       "| 835 | QVLIDSGVGQYISTLVSGMDINPILMAWGVAAFLRICLGSATVAAISTAGLVIPLLAVHPNTNLALITLATGAGSCICSHVNDASFWMIK | sp|P39357|YJHF_ECOLI                                                                       | FALSE                                                                                      | 0.5500526                                                                                  | 0.9985841                                                                                  | \n",
       "\n",
       "\n"
      ],
      "text/plain": [
       "    peptide                                                                                   \n",
       "830 IPNLLVNGSSGIAVGMATNIPPHNLTEVINGCLAYIDDEDISIEGLMEHIPGPDFPTAAIINGRR                         \n",
       "831 GYVANSVWTVTAVSGDSVTLSDGQQTREIRPGQEQAEQHIDLAYAITAHGAQGASETFAIALEGTEGNR                     \n",
       "832 IPDVMPTKIPNLLVNGSSGIAVGMATNIPPHNLTEVINGCLAYIDDEDISIEGLMEHIPGPDFPTAAIINGR                  \n",
       "833 VITPVFKPIGVHEDNWQATVGLFTGAMAKEVVVGTLNTLYTAENIQDEEFNPAEFNLGEELFSAIDETWQSLK                 \n",
       "834 YPVTLTPAPEGGYMVSFVDIPEALTQGETVAEAMEAAKDALLTAFDFYFEDNELIPLPSPLNSHDHFIEVPLSVASK             \n",
       "835 QVLIDSGVGQYISTLVSGMDINPILMAWGVAAFLRICLGSATVAAISTAGLVIPLLAVHPNTNLALITLATGAGSCICSHVNDASFWMIK\n",
       "    protein               spike_col p_val     q_val    \n",
       "830 sp|P0AES4|GYRA_ECOLI  FALSE     0.3847508 0.9985841\n",
       "831 sp|P14565|TRAI1_ECOLI FALSE     0.8037824 0.9985841\n",
       "832 sp|P0AES4|GYRA_ECOLI  FALSE     0.4187220 0.9985841\n",
       "833 sp|P33650|FEOB_ECOLI  FALSE     0.5326066 0.9985841\n",
       "834 sp|P67697|HICB_ECOLI  FALSE     0.1488137 0.7766214\n",
       "835 sp|P39357|YJHF_ECOLI  FALSE     0.5500526 0.9985841"
      ]
     },
     "metadata": {},
     "output_type": "display_data"
    }
   ],
   "source": [
    "tail(final_df)"
   ]
  },
  {
   "cell_type": "code",
   "execution_count": 36,
   "metadata": {
    "ExecuteTime": {
     "end_time": "2017-11-06T14:30:58.454080Z",
     "start_time": "2017-11-06T14:30:56.567Z"
    }
   },
   "outputs": [
    {
     "data": {
      "text/html": [
       "<table>\n",
       "<thead><tr><th></th><th scope=col>peptide</th><th scope=col>protein</th><th scope=col>spike_col</th><th scope=col>p_val</th><th scope=col>q_val</th></tr></thead>\n",
       "<tbody>\n",
       "\t<tr><th scope=row>7</th><td>GWPYA                </td><td>sp|P58516|SPI3_SOLTU </td><td>TRUE                 </td><td>8.880790e-07         </td><td>2.660147e-05         </td></tr>\n",
       "\t<tr><th scope=row>9</th><td>EFMFYR               </td><td>sp|P37829|SCRK_SOLTU </td><td>TRUE                 </td><td>1.676343e-05         </td><td>1.052441e-04         </td></tr>\n",
       "\t<tr><th scope=row>17</th><td>AFDLMLK              </td><td>sp|P14674|ADH2_SOLTU </td><td>TRUE                 </td><td>9.390030e-06         </td><td>6.454102e-05         </td></tr>\n",
       "\t<tr><th scope=row>19</th><td>CIITMED              </td><td>sp|P14674|ADH2_SOLTU </td><td>TRUE                 </td><td>8.281458e-06         </td><td>5.971726e-05         </td></tr>\n",
       "\t<tr><th scope=row>33</th><td>FAKLLSDR             </td><td>sp|Q2MY48|PAT03_SOLTU</td><td>TRUE                 </td><td>1.370736e-07         </td><td>2.007176e-05         </td></tr>\n",
       "\t<tr><th scope=row>48</th><td>DLDRGWPYA            </td><td>sp|P58516|SPI3_SOLTU </td><td>TRUE                 </td><td>4.163622e-07         </td><td>2.213554e-05         </td></tr>\n",
       "</tbody>\n",
       "</table>\n"
      ],
      "text/latex": [
       "\\begin{tabular}{r|lllll}\n",
       "  & peptide & protein & spike\\_col & p\\_val & q\\_val\\\\\n",
       "\\hline\n",
       "\t7 & GWPYA                                       & sp\\textbar{}P58516\\textbar{}SPI3\\_SOLTU  & TRUE                                        & 8.880790e-07                                & 2.660147e-05                               \\\\\n",
       "\t9 & EFMFYR                                      & sp\\textbar{}P37829\\textbar{}SCRK\\_SOLTU  & TRUE                                        & 1.676343e-05                                & 1.052441e-04                               \\\\\n",
       "\t17 & AFDLMLK                                     & sp\\textbar{}P14674\\textbar{}ADH2\\_SOLTU  & TRUE                                        & 9.390030e-06                                & 6.454102e-05                               \\\\\n",
       "\t19 & CIITMED                                     & sp\\textbar{}P14674\\textbar{}ADH2\\_SOLTU  & TRUE                                        & 8.281458e-06                                & 5.971726e-05                               \\\\\n",
       "\t33 & FAKLLSDR                                    & sp\\textbar{}Q2MY48\\textbar{}PAT03\\_SOLTU & TRUE                                        & 1.370736e-07                                & 2.007176e-05                               \\\\\n",
       "\t48 & DLDRGWPYA                                   & sp\\textbar{}P58516\\textbar{}SPI3\\_SOLTU  & TRUE                                        & 4.163622e-07                                & 2.213554e-05                               \\\\\n",
       "\\end{tabular}\n"
      ],
      "text/markdown": [
       "\n",
       "| <!--/--> | peptide | protein | spike_col | p_val | q_val | \n",
       "|---|---|---|---|---|---|\n",
       "| 7 | GWPYA                 | sp|P58516|SPI3_SOLTU  | TRUE                  | 8.880790e-07          | 2.660147e-05          | \n",
       "| 9 | EFMFYR                | sp|P37829|SCRK_SOLTU  | TRUE                  | 1.676343e-05          | 1.052441e-04          | \n",
       "| 17 | AFDLMLK               | sp|P14674|ADH2_SOLTU  | TRUE                  | 9.390030e-06          | 6.454102e-05          | \n",
       "| 19 | CIITMED               | sp|P14674|ADH2_SOLTU  | TRUE                  | 8.281458e-06          | 5.971726e-05          | \n",
       "| 33 | FAKLLSDR              | sp|Q2MY48|PAT03_SOLTU | TRUE                  | 1.370736e-07          | 2.007176e-05          | \n",
       "| 48 | DLDRGWPYA             | sp|P58516|SPI3_SOLTU  | TRUE                  | 4.163622e-07          | 2.213554e-05          | \n",
       "\n",
       "\n"
      ],
      "text/plain": [
       "   peptide   protein               spike_col p_val        q_val       \n",
       "7  GWPYA     sp|P58516|SPI3_SOLTU  TRUE      8.880790e-07 2.660147e-05\n",
       "9  EFMFYR    sp|P37829|SCRK_SOLTU  TRUE      1.676343e-05 1.052441e-04\n",
       "17 AFDLMLK   sp|P14674|ADH2_SOLTU  TRUE      9.390030e-06 6.454102e-05\n",
       "19 CIITMED   sp|P14674|ADH2_SOLTU  TRUE      8.281458e-06 5.971726e-05\n",
       "33 FAKLLSDR  sp|Q2MY48|PAT03_SOLTU TRUE      1.370736e-07 2.007176e-05\n",
       "48 DLDRGWPYA sp|P58516|SPI3_SOLTU  TRUE      4.163622e-07 2.213554e-05"
      ]
     },
     "metadata": {},
     "output_type": "display_data"
    }
   ],
   "source": [
    "head(final_df[final_df[, \"q_val\"] < 0.1, ])"
   ]
  }
 ],
 "metadata": {
  "kernelspec": {
   "display_name": "R",
   "language": "R",
   "name": "ir"
  },
  "language_info": {
   "codemirror_mode": "r",
   "file_extension": ".r",
   "mimetype": "text/x-r-source",
   "name": "R",
   "pygments_lexer": "r",
   "version": "3.4.2"
  },
  "toc": {
   "colors": {
    "hover_highlight": "#DAA520",
    "running_highlight": "#FF0000",
    "selected_highlight": "#FFD700"
   },
   "moveMenuLeft": true,
   "nav_menu": {
    "height": "66px",
    "width": "252px"
   },
   "navigate_menu": true,
   "number_sections": true,
   "sideBar": false,
   "threshold": 4,
   "toc_cell": true,
   "toc_section_display": "block",
   "toc_window_display": true,
   "widenNotebook": false
  }
 },
 "nbformat": 4,
 "nbformat_minor": 2
}
