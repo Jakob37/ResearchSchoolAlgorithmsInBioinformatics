{
 "cells": [
  {
   "cell_type": "markdown",
   "metadata": {
    "toc": "true"
   },
   "source": [
    "# Table of Contents\n",
    " <p><div class=\"lev1 toc-item\"><a href=\"#Basic-example\" data-toc-modified-id=\"Basic-example-1\"><span class=\"toc-item-num\">1&nbsp;&nbsp;</span>Basic example</a></div><div class=\"lev1 toc-item\"><a href=\"#Array-creation\" data-toc-modified-id=\"Array-creation-2\"><span class=\"toc-item-num\">2&nbsp;&nbsp;</span>Array creation</a></div><div class=\"lev1 toc-item\"><a href=\"#Basic-operations\" data-toc-modified-id=\"Basic-operations-3\"><span class=\"toc-item-num\">3&nbsp;&nbsp;</span>Basic operations</a></div><div class=\"lev1 toc-item\"><a href=\"#Universal-functions\" data-toc-modified-id=\"Universal-functions-4\"><span class=\"toc-item-num\">4&nbsp;&nbsp;</span>Universal functions</a></div><div class=\"lev1 toc-item\"><a href=\"#Indexing,-slicing-and-iterating\" data-toc-modified-id=\"Indexing,-slicing-and-iterating-5\"><span class=\"toc-item-num\">5&nbsp;&nbsp;</span>Indexing, slicing and iterating</a></div><div class=\"lev1 toc-item\"><a href=\"#Shape-manipulation\" data-toc-modified-id=\"Shape-manipulation-6\"><span class=\"toc-item-num\">6&nbsp;&nbsp;</span>Shape manipulation</a></div><div class=\"lev1 toc-item\"><a href=\"#Stacking-arrays\" data-toc-modified-id=\"Stacking-arrays-7\"><span class=\"toc-item-num\">7&nbsp;&nbsp;</span>Stacking arrays</a></div><div class=\"lev1 toc-item\"><a href=\"#Splitting-array\" data-toc-modified-id=\"Splitting-array-8\"><span class=\"toc-item-num\">8&nbsp;&nbsp;</span>Splitting array</a></div><div class=\"lev1 toc-item\"><a href=\"#View-or-Shallow-Copy\" data-toc-modified-id=\"View-or-Shallow-Copy-9\"><span class=\"toc-item-num\">9&nbsp;&nbsp;</span>View or Shallow Copy</a></div><div class=\"lev1 toc-item\"><a href=\"#Less-basic\" data-toc-modified-id=\"Less-basic-10\"><span class=\"toc-item-num\">10&nbsp;&nbsp;</span>Less basic</a></div><div class=\"lev1 toc-item\"><a href=\"#Indexing-tricks\" data-toc-modified-id=\"Indexing-tricks-11\"><span class=\"toc-item-num\">11&nbsp;&nbsp;</span>Indexing tricks</a></div>"
   ]
  },
  {
   "cell_type": "markdown",
   "metadata": {},
   "source": [
    "# Basic example"
   ]
  },
  {
   "cell_type": "code",
   "execution_count": 2,
   "metadata": {
    "ExecuteTime": {
     "end_time": "2017-10-12T14:10:02.804777Z",
     "start_time": "2017-10-12T16:10:02.802552+02:00"
    },
    "collapsed": true
   },
   "outputs": [],
   "source": [
    "import numpy as np"
   ]
  },
  {
   "cell_type": "code",
   "execution_count": 4,
   "metadata": {
    "ExecuteTime": {
     "end_time": "2017-10-12T14:10:13.037241Z",
     "start_time": "2017-10-12T16:10:13.013133+02:00"
    }
   },
   "outputs": [
    {
     "data": {
      "text/plain": [
       "array([[ 0,  1,  2,  3,  4],\n",
       "       [ 5,  6,  7,  8,  9],\n",
       "       [10, 11, 12, 13, 14]])"
      ]
     },
     "execution_count": 4,
     "metadata": {},
     "output_type": "execute_result"
    }
   ],
   "source": [
    "a = np.arange(15).reshape(3, 5)\n",
    "a"
   ]
  },
  {
   "cell_type": "code",
   "execution_count": 5,
   "metadata": {
    "ExecuteTime": {
     "end_time": "2017-10-12T14:10:16.145571Z",
     "start_time": "2017-10-12T16:10:16.135885+02:00"
    }
   },
   "outputs": [
    {
     "data": {
      "text/plain": [
       "(3, 5)"
      ]
     },
     "execution_count": 5,
     "metadata": {},
     "output_type": "execute_result"
    }
   ],
   "source": [
    "a.shape"
   ]
  },
  {
   "cell_type": "code",
   "execution_count": 6,
   "metadata": {
    "ExecuteTime": {
     "end_time": "2017-10-12T14:10:20.684838Z",
     "start_time": "2017-10-12T16:10:20.677873+02:00"
    }
   },
   "outputs": [
    {
     "data": {
      "text/plain": [
       "2"
      ]
     },
     "execution_count": 6,
     "metadata": {},
     "output_type": "execute_result"
    }
   ],
   "source": [
    "a.ndim"
   ]
  },
  {
   "cell_type": "code",
   "execution_count": 7,
   "metadata": {
    "ExecuteTime": {
     "end_time": "2017-10-12T14:10:26.155985Z",
     "start_time": "2017-10-12T16:10:26.148518+02:00"
    }
   },
   "outputs": [
    {
     "data": {
      "text/plain": [
       "'int64'"
      ]
     },
     "execution_count": 7,
     "metadata": {},
     "output_type": "execute_result"
    }
   ],
   "source": [
    "a.dtype.name"
   ]
  },
  {
   "cell_type": "code",
   "execution_count": 8,
   "metadata": {
    "ExecuteTime": {
     "end_time": "2017-10-12T14:10:29.692098Z",
     "start_time": "2017-10-12T16:10:29.684620+02:00"
    }
   },
   "outputs": [
    {
     "data": {
      "text/plain": [
       "8"
      ]
     },
     "execution_count": 8,
     "metadata": {},
     "output_type": "execute_result"
    }
   ],
   "source": [
    "a.itemsize"
   ]
  },
  {
   "cell_type": "code",
   "execution_count": 9,
   "metadata": {
    "ExecuteTime": {
     "end_time": "2017-10-12T14:10:32.747806Z",
     "start_time": "2017-10-12T16:10:32.740389+02:00"
    }
   },
   "outputs": [
    {
     "data": {
      "text/plain": [
       "15"
      ]
     },
     "execution_count": 9,
     "metadata": {},
     "output_type": "execute_result"
    }
   ],
   "source": [
    "a.size"
   ]
  },
  {
   "cell_type": "code",
   "execution_count": 10,
   "metadata": {
    "ExecuteTime": {
     "end_time": "2017-10-12T14:10:35.983695Z",
     "start_time": "2017-10-12T16:10:35.976737+02:00"
    }
   },
   "outputs": [
    {
     "data": {
      "text/plain": [
       "numpy.ndarray"
      ]
     },
     "execution_count": 10,
     "metadata": {},
     "output_type": "execute_result"
    }
   ],
   "source": [
    "type(a)"
   ]
  },
  {
   "cell_type": "code",
   "execution_count": 12,
   "metadata": {
    "ExecuteTime": {
     "end_time": "2017-10-12T14:10:48.406208Z",
     "start_time": "2017-10-12T16:10:48.402657+02:00"
    }
   },
   "outputs": [
    {
     "data": {
      "text/plain": [
       "array([6, 7, 8])"
      ]
     },
     "execution_count": 12,
     "metadata": {},
     "output_type": "execute_result"
    }
   ],
   "source": [
    "b = np.array([6,7,8])\n",
    "b"
   ]
  },
  {
   "cell_type": "markdown",
   "metadata": {},
   "source": [
    "# Array creation"
   ]
  },
  {
   "cell_type": "code",
   "execution_count": 14,
   "metadata": {
    "ExecuteTime": {
     "end_time": "2017-10-12T14:11:54.736131Z",
     "start_time": "2017-10-12T16:11:54.725733+02:00"
    }
   },
   "outputs": [
    {
     "name": "stdout",
     "output_type": "stream",
     "text": [
      "int64\n",
      "float64\n"
     ]
    }
   ],
   "source": [
    "int_arr = np.array([2,3,4])\n",
    "print(int_arr.dtype)\n",
    "float_arr = np.array([2.3,5.6,3.4])\n",
    "print(float_arr.dtype)"
   ]
  },
  {
   "cell_type": "code",
   "execution_count": 15,
   "metadata": {
    "ExecuteTime": {
     "end_time": "2017-10-12T14:12:45.313804Z",
     "start_time": "2017-10-12T16:12:45.301229+02:00"
    }
   },
   "outputs": [
    {
     "data": {
      "text/plain": [
       "array([[ 1.4,  4. ,  3. ],\n",
       "       [ 1. ,  4. ,  5. ]])"
      ]
     },
     "execution_count": 15,
     "metadata": {},
     "output_type": "execute_result"
    }
   ],
   "source": [
    "np.array([(1.4,4,3), (1,4,5)])"
   ]
  },
  {
   "cell_type": "code",
   "execution_count": 16,
   "metadata": {
    "ExecuteTime": {
     "end_time": "2017-10-12T14:13:19.254126Z",
     "start_time": "2017-10-12T16:13:19.250168+02:00"
    }
   },
   "outputs": [
    {
     "data": {
      "text/plain": [
       "array([[ 0.,  0.,  0.,  0.],\n",
       "       [ 0.,  0.,  0.,  0.],\n",
       "       [ 0.,  0.,  0.,  0.]])"
      ]
     },
     "execution_count": 16,
     "metadata": {},
     "output_type": "execute_result"
    }
   ],
   "source": [
    "np.zeros((3,4))"
   ]
  },
  {
   "cell_type": "code",
   "execution_count": 17,
   "metadata": {
    "ExecuteTime": {
     "end_time": "2017-10-12T14:13:40.807506Z",
     "start_time": "2017-10-12T16:13:40.798786+02:00"
    }
   },
   "outputs": [
    {
     "data": {
      "text/plain": [
       "array([[[ 1.,  1.,  1.,  1.],\n",
       "        [ 1.,  1.,  1.,  1.],\n",
       "        [ 1.,  1.,  1.,  1.]],\n",
       "\n",
       "       [[ 1.,  1.,  1.,  1.],\n",
       "        [ 1.,  1.,  1.,  1.],\n",
       "        [ 1.,  1.,  1.,  1.]]])"
      ]
     },
     "execution_count": 17,
     "metadata": {},
     "output_type": "execute_result"
    }
   ],
   "source": [
    "np.ones((2,3,4))"
   ]
  },
  {
   "cell_type": "markdown",
   "metadata": {},
   "source": [
    "Use `linspace` when wanting floating point steps, instead of specifying the floating size directly in `arange`."
   ]
  },
  {
   "cell_type": "code",
   "execution_count": 18,
   "metadata": {
    "ExecuteTime": {
     "end_time": "2017-10-12T14:14:10.189760Z",
     "start_time": "2017-10-12T16:14:10.180667+02:00"
    }
   },
   "outputs": [
    {
     "data": {
      "text/plain": [
       "array([ 0.  ,  0.25,  0.5 ,  0.75,  1.  ,  1.25,  1.5 ,  1.75,  2.  ])"
      ]
     },
     "execution_count": 18,
     "metadata": {},
     "output_type": "execute_result"
    }
   ],
   "source": [
    "np.linspace(0, 2, 9)"
   ]
  },
  {
   "cell_type": "markdown",
   "metadata": {},
   "source": [
    "# Basic operations"
   ]
  },
  {
   "cell_type": "code",
   "execution_count": 20,
   "metadata": {
    "ExecuteTime": {
     "end_time": "2017-10-12T14:16:44.067571Z",
     "start_time": "2017-10-12T16:16:44.063648+02:00"
    }
   },
   "outputs": [
    {
     "data": {
      "text/plain": [
       "array([0, 1, 2, 3])"
      ]
     },
     "execution_count": 20,
     "metadata": {},
     "output_type": "execute_result"
    }
   ],
   "source": [
    "a = np.array([20, 30, 40, 50])\n",
    "b = np.arange(4)\n",
    "b"
   ]
  },
  {
   "cell_type": "code",
   "execution_count": 21,
   "metadata": {
    "ExecuteTime": {
     "end_time": "2017-10-12T14:16:52.321789Z",
     "start_time": "2017-10-12T16:16:52.315665+02:00"
    }
   },
   "outputs": [
    {
     "data": {
      "text/plain": [
       "array([20, 29, 38, 47])"
      ]
     },
     "execution_count": 21,
     "metadata": {},
     "output_type": "execute_result"
    }
   ],
   "source": [
    "c = a - b\n",
    "c"
   ]
  },
  {
   "cell_type": "code",
   "execution_count": 22,
   "metadata": {
    "ExecuteTime": {
     "end_time": "2017-10-12T14:17:00.137041Z",
     "start_time": "2017-10-12T16:17:00.129224+02:00"
    }
   },
   "outputs": [
    {
     "data": {
      "text/plain": [
       "array([0, 1, 4, 9])"
      ]
     },
     "execution_count": 22,
     "metadata": {},
     "output_type": "execute_result"
    }
   ],
   "source": [
    "b ** 2"
   ]
  },
  {
   "cell_type": "markdown",
   "metadata": {},
   "source": [
    "`*` operates elementwise in this context, instead of performing dot-product."
   ]
  },
  {
   "cell_type": "code",
   "execution_count": 23,
   "metadata": {
    "ExecuteTime": {
     "end_time": "2017-10-12T14:17:54.846642Z",
     "start_time": "2017-10-12T16:17:54.836076+02:00"
    }
   },
   "outputs": [
    {
     "data": {
      "text/plain": [
       "array([2, 4, 6])"
      ]
     },
     "execution_count": 23,
     "metadata": {},
     "output_type": "execute_result"
    }
   ],
   "source": [
    "a = np.array([1,2,3])\n",
    "b = np.array([2,2,2])\n",
    "a * b"
   ]
  },
  {
   "cell_type": "markdown",
   "metadata": {},
   "source": [
    "Many unary operations are implemented as direct methods."
   ]
  },
  {
   "cell_type": "code",
   "execution_count": 25,
   "metadata": {
    "ExecuteTime": {
     "end_time": "2017-10-12T14:18:36.234678Z",
     "start_time": "2017-10-12T16:18:36.225881+02:00"
    }
   },
   "outputs": [
    {
     "data": {
      "text/plain": [
       "array([[ 0.83162123,  0.75124574,  0.05019661],\n",
       "       [ 0.6880916 ,  0.58456307,  0.93105775]])"
      ]
     },
     "execution_count": 25,
     "metadata": {},
     "output_type": "execute_result"
    }
   ],
   "source": [
    "r = np.random.random((2,3))\n",
    "r"
   ]
  },
  {
   "cell_type": "code",
   "execution_count": 27,
   "metadata": {
    "ExecuteTime": {
     "end_time": "2017-10-12T14:18:42.945787Z",
     "start_time": "2017-10-12T16:18:42.942818+02:00"
    }
   },
   "outputs": [
    {
     "data": {
      "text/plain": [
       "3.8367759985691157"
      ]
     },
     "execution_count": 27,
     "metadata": {},
     "output_type": "execute_result"
    }
   ],
   "source": [
    "r.sum()"
   ]
  },
  {
   "cell_type": "code",
   "execution_count": 28,
   "metadata": {
    "ExecuteTime": {
     "end_time": "2017-10-12T14:18:50.929677Z",
     "start_time": "2017-10-12T16:18:50.925701+02:00"
    }
   },
   "outputs": [
    {
     "data": {
      "text/plain": [
       "0.050196611761627818"
      ]
     },
     "execution_count": 28,
     "metadata": {},
     "output_type": "execute_result"
    }
   ],
   "source": [
    "r.min()"
   ]
  },
  {
   "cell_type": "code",
   "execution_count": 29,
   "metadata": {
    "ExecuteTime": {
     "end_time": "2017-10-12T14:18:55.469553Z",
     "start_time": "2017-10-12T16:18:55.459701+02:00"
    }
   },
   "outputs": [
    {
     "data": {
      "text/plain": [
       "0.93105774756480475"
      ]
     },
     "execution_count": 29,
     "metadata": {},
     "output_type": "execute_result"
    }
   ],
   "source": [
    "r.max()"
   ]
  },
  {
   "cell_type": "markdown",
   "metadata": {},
   "source": [
    "# Universal functions"
   ]
  },
  {
   "cell_type": "markdown",
   "metadata": {
    "ExecuteTime": {
     "end_time": "2017-10-12T14:20:18.055874Z",
     "start_time": "2017-10-12T16:20:18.049364+02:00"
    }
   },
   "source": [
    "Particular 'universal' functions allowing elementwise operation on array, producing array as output."
   ]
  },
  {
   "cell_type": "code",
   "execution_count": 31,
   "metadata": {
    "ExecuteTime": {
     "end_time": "2017-10-12T14:20:32.550699Z",
     "start_time": "2017-10-12T16:20:32.545089+02:00"
    }
   },
   "outputs": [
    {
     "data": {
      "text/plain": [
       "array([0, 1, 2])"
      ]
     },
     "execution_count": 31,
     "metadata": {},
     "output_type": "execute_result"
    }
   ],
   "source": [
    "B = np.arange(3)\n",
    "B"
   ]
  },
  {
   "cell_type": "code",
   "execution_count": 32,
   "metadata": {
    "ExecuteTime": {
     "end_time": "2017-10-12T14:20:38.411342Z",
     "start_time": "2017-10-12T16:20:38.402315+02:00"
    }
   },
   "outputs": [
    {
     "data": {
      "text/plain": [
       "array([ 1.        ,  2.71828183,  7.3890561 ])"
      ]
     },
     "execution_count": 32,
     "metadata": {},
     "output_type": "execute_result"
    }
   ],
   "source": [
    "np.exp(B)"
   ]
  },
  {
   "cell_type": "code",
   "execution_count": 33,
   "metadata": {
    "ExecuteTime": {
     "end_time": "2017-10-12T14:20:45.136400Z",
     "start_time": "2017-10-12T16:20:45.131979+02:00"
    }
   },
   "outputs": [
    {
     "data": {
      "text/plain": [
       "array([ 0.        ,  1.        ,  1.41421356])"
      ]
     },
     "execution_count": 33,
     "metadata": {},
     "output_type": "execute_result"
    }
   ],
   "source": [
    "np.sqrt(B)"
   ]
  },
  {
   "cell_type": "code",
   "execution_count": 34,
   "metadata": {
    "ExecuteTime": {
     "end_time": "2017-10-12T14:21:08.108491Z",
     "start_time": "2017-10-12T16:21:08.097350+02:00"
    }
   },
   "outputs": [
    {
     "name": "stdout",
     "output_type": "stream",
     "text": [
      "[2 0 6]\n",
      "[2 0 6]\n"
     ]
    }
   ],
   "source": [
    "C = np.array([2,-1,4])\n",
    "print(np.add(B, C))\n",
    "print(B+C)"
   ]
  },
  {
   "cell_type": "markdown",
   "metadata": {},
   "source": [
    "# Indexing, slicing and iterating"
   ]
  },
  {
   "cell_type": "code",
   "execution_count": 36,
   "metadata": {
    "ExecuteTime": {
     "end_time": "2017-10-12T14:23:09.258870Z",
     "start_time": "2017-10-12T16:23:09.248398+02:00"
    }
   },
   "outputs": [
    {
     "data": {
      "text/plain": [
       "array([  0,   1,   8,  27,  64, 125, 216, 343, 512, 729])"
      ]
     },
     "execution_count": 36,
     "metadata": {},
     "output_type": "execute_result"
    }
   ],
   "source": [
    "a = np.arange(10)**3\n",
    "a"
   ]
  },
  {
   "cell_type": "code",
   "execution_count": 37,
   "metadata": {
    "ExecuteTime": {
     "end_time": "2017-10-12T14:23:16.445582Z",
     "start_time": "2017-10-12T16:23:16.433925+02:00"
    }
   },
   "outputs": [
    {
     "data": {
      "text/plain": [
       "array([ 8, 27, 64])"
      ]
     },
     "execution_count": 37,
     "metadata": {},
     "output_type": "execute_result"
    }
   ],
   "source": [
    "a[2:5]"
   ]
  },
  {
   "cell_type": "code",
   "execution_count": 39,
   "metadata": {
    "ExecuteTime": {
     "end_time": "2017-10-12T14:24:25.106757Z",
     "start_time": "2017-10-12T16:24:25.090094+02:00"
    }
   },
   "outputs": [
    {
     "data": {
      "text/plain": [
       "array([[ 0,  1,  2,  3],\n",
       "       [10, 11, 12, 13],\n",
       "       [20, 21, 22, 23],\n",
       "       [30, 31, 32, 33],\n",
       "       [40, 41, 42, 43]])"
      ]
     },
     "execution_count": 39,
     "metadata": {},
     "output_type": "execute_result"
    }
   ],
   "source": [
    "def f(x,y):\n",
    "    return 10*x+y\n",
    "\n",
    "b = np.fromfunction(f, (5,4), dtype=int)\n",
    "b"
   ]
  },
  {
   "cell_type": "code",
   "execution_count": 40,
   "metadata": {
    "ExecuteTime": {
     "end_time": "2017-10-12T14:24:31.050583Z",
     "start_time": "2017-10-12T16:24:31.042578+02:00"
    }
   },
   "outputs": [
    {
     "data": {
      "text/plain": [
       "array([[11, 12],\n",
       "       [21, 22]])"
      ]
     },
     "execution_count": 40,
     "metadata": {},
     "output_type": "execute_result"
    }
   ],
   "source": [
    "b[1:3,1:3]"
   ]
  },
  {
   "cell_type": "markdown",
   "metadata": {},
   "source": [
    "# Shape manipulation"
   ]
  },
  {
   "cell_type": "code",
   "execution_count": 41,
   "metadata": {
    "ExecuteTime": {
     "end_time": "2017-10-12T14:26:16.667875Z",
     "start_time": "2017-10-12T16:26:16.664005+02:00"
    }
   },
   "outputs": [
    {
     "data": {
      "text/plain": [
       "array([[ 3.,  0.,  9.,  3.],\n",
       "       [ 6.,  9.,  1.,  7.],\n",
       "       [ 5.,  5.,  3.,  0.]])"
      ]
     },
     "execution_count": 41,
     "metadata": {},
     "output_type": "execute_result"
    }
   ],
   "source": [
    "a = np.floor(10*np.random.random((3,4)))\n",
    "a"
   ]
  },
  {
   "cell_type": "code",
   "execution_count": 42,
   "metadata": {
    "ExecuteTime": {
     "end_time": "2017-10-12T14:26:23.717447Z",
     "start_time": "2017-10-12T16:26:23.709966+02:00"
    }
   },
   "outputs": [
    {
     "data": {
      "text/plain": [
       "(3, 4)"
      ]
     },
     "execution_count": 42,
     "metadata": {},
     "output_type": "execute_result"
    }
   ],
   "source": [
    "a.shape"
   ]
  },
  {
   "cell_type": "code",
   "execution_count": 43,
   "metadata": {
    "ExecuteTime": {
     "end_time": "2017-10-12T14:26:31.001577Z",
     "start_time": "2017-10-12T16:26:30.992205+02:00"
    }
   },
   "outputs": [
    {
     "data": {
      "text/plain": [
       "array([ 3.,  0.,  9.,  3.,  6.,  9.,  1.,  7.,  5.,  5.,  3.,  0.])"
      ]
     },
     "execution_count": 43,
     "metadata": {},
     "output_type": "execute_result"
    }
   ],
   "source": [
    "a.ravel()  # Flatten!"
   ]
  },
  {
   "cell_type": "code",
   "execution_count": 44,
   "metadata": {
    "ExecuteTime": {
     "end_time": "2017-10-12T14:26:37.961016Z",
     "start_time": "2017-10-12T16:26:37.952255+02:00"
    }
   },
   "outputs": [
    {
     "data": {
      "text/plain": [
       "array([[ 3.,  0.],\n",
       "       [ 9.,  3.],\n",
       "       [ 6.,  9.],\n",
       "       [ 1.,  7.],\n",
       "       [ 5.,  5.],\n",
       "       [ 3.,  0.]])"
      ]
     },
     "execution_count": 44,
     "metadata": {},
     "output_type": "execute_result"
    }
   ],
   "source": [
    "a.reshape(6,2)"
   ]
  },
  {
   "cell_type": "code",
   "execution_count": 47,
   "metadata": {
    "ExecuteTime": {
     "end_time": "2017-10-12T14:26:57.372329Z",
     "start_time": "2017-10-12T16:26:57.360579+02:00"
    }
   },
   "outputs": [
    {
     "data": {
      "text/plain": [
       "array([[ 3.,  9.,  6.,  1.,  5.,  3.],\n",
       "       [ 0.,  3.,  9.,  7.,  5.,  0.]])"
      ]
     },
     "execution_count": 47,
     "metadata": {},
     "output_type": "execute_result"
    }
   ],
   "source": [
    "a.reshape(6,2).T"
   ]
  },
  {
   "cell_type": "code",
   "execution_count": 50,
   "metadata": {
    "ExecuteTime": {
     "end_time": "2017-10-12T14:27:28.493235Z",
     "start_time": "2017-10-12T16:27:28.481069+02:00"
    }
   },
   "outputs": [
    {
     "data": {
      "text/plain": [
       "array([[ 3.,  0.,  9.,  3.],\n",
       "       [ 6.,  9.,  1.,  7.],\n",
       "       [ 5.,  5.,  3.,  0.]])"
      ]
     },
     "execution_count": 50,
     "metadata": {},
     "output_type": "execute_result"
    }
   ],
   "source": [
    "a.reshape(3,-1)  # Calculate nbr cols automatically"
   ]
  },
  {
   "cell_type": "markdown",
   "metadata": {},
   "source": [
    "# Stacking arrays"
   ]
  },
  {
   "cell_type": "code",
   "execution_count": null,
   "metadata": {
    "ExecuteTime": {
     "end_time": "2017-10-12T14:28:27.726391Z",
     "start_time": "2017-10-12T16:28:27.719223+02:00"
    },
    "collapsed": true
   },
   "outputs": [],
   "source": [
    "a = np.floor(10*np.random.random((2,2)))\n",
    "b = np.floor(10*np.random.random((2,2)))\n",
    "print(np.vstack((a,b)))\n",
    "print(np.hstack((a,b)))"
   ]
  },
  {
   "cell_type": "markdown",
   "metadata": {},
   "source": [
    "# Splitting array"
   ]
  },
  {
   "cell_type": "code",
   "execution_count": 56,
   "metadata": {
    "ExecuteTime": {
     "end_time": "2017-10-12T14:29:53.368089Z",
     "start_time": "2017-10-12T16:29:53.359611+02:00"
    }
   },
   "outputs": [
    {
     "name": "stdout",
     "output_type": "stream",
     "text": [
      "[[ 7.  2.  3.  7.  8.  3.  3.  2.  0.  0.  7.  7.]\n",
      " [ 3.  6.  2.  0.  8.  4.  1.  5.  5.  9.  0.  0.]]\n",
      "[array([[ 7.,  2.,  3.,  7.],\n",
      "       [ 3.,  6.,  2.,  0.]]), array([[ 8.,  3.,  3.,  2.],\n",
      "       [ 8.,  4.,  1.,  5.]]), array([[ 0.,  0.,  7.,  7.],\n",
      "       [ 5.,  9.,  0.,  0.]])]\n",
      "[array([[ 7.,  2.,  3.,  7.,  8.,  3.,  3.,  2.,  0.,  0.,  7.,  7.]]), array([[ 3.,  6.,  2.,  0.,  8.,  4.,  1.,  5.,  5.,  9.,  0.,  0.]])]\n"
     ]
    }
   ],
   "source": [
    "a = np.floor(10*np.random.random((2,12)))\n",
    "print(a)\n",
    "print(np.hsplit(a, 3))\n",
    "print(np.vsplit(a, 2))"
   ]
  },
  {
   "cell_type": "markdown",
   "metadata": {},
   "source": [
    "# View or Shallow Copy\n",
    "\n",
    "Can create reference to same object with `view`!\n",
    "\n",
    "Slicing returns view."
   ]
  },
  {
   "cell_type": "code",
   "execution_count": 60,
   "metadata": {
    "ExecuteTime": {
     "end_time": "2017-10-12T14:33:02.535929Z",
     "start_time": "2017-10-12T16:33:02.528935+02:00"
    }
   },
   "outputs": [
    {
     "name": "stdout",
     "output_type": "stream",
     "text": [
      "[[  7.00000000e+00   2.00000000e+00   3.00000000e+00   7.00000000e+00\n",
      "    1.23400000e+03   3.00000000e+00   3.00000000e+00   2.00000000e+00\n",
      "    0.00000000e+00   0.00000000e+00   7.00000000e+00   7.00000000e+00]\n",
      " [  3.00000000e+00   6.00000000e+00   2.00000000e+00   0.00000000e+00\n",
      "    8.00000000e+00   4.00000000e+00   1.00000000e+00   5.00000000e+00\n",
      "    5.00000000e+00   9.00000000e+00   0.00000000e+00   0.00000000e+00]]\n",
      "[[  7.00000000e+00   2.00000000e+00   3.00000000e+00   7.00000000e+00\n",
      "    1.23400000e+03   3.00000000e+00   3.00000000e+00   2.00000000e+00\n",
      "    0.00000000e+00   0.00000000e+00   7.00000000e+00   7.00000000e+00]\n",
      " [  3.00000000e+00   6.00000000e+00   2.00000000e+00   0.00000000e+00\n",
      "    8.00000000e+00   4.00000000e+00   1.00000000e+00   5.00000000e+00\n",
      "    5.00000000e+00   9.00000000e+00   0.00000000e+00   0.00000000e+00]]\n",
      "[[  7.00000000e+00   2.00000000e+00   3.00000000e+00   1.00000000e+06\n",
      "    1.23400000e+03   3.00000000e+00   3.00000000e+00   2.00000000e+00\n",
      "    0.00000000e+00   0.00000000e+00   7.00000000e+00   7.00000000e+00]\n",
      " [  3.00000000e+00   6.00000000e+00   2.00000000e+00   0.00000000e+00\n",
      "    8.00000000e+00   4.00000000e+00   1.00000000e+00   5.00000000e+00\n",
      "    5.00000000e+00   9.00000000e+00   0.00000000e+00   0.00000000e+00]]\n"
     ]
    }
   ],
   "source": [
    "c = a.view()\n",
    "c[0,4] = 1234\n",
    "print(a)\n",
    "copy = a.copy()\n",
    "copy[0,3] = 1000000\n",
    "print(a)\n",
    "print(copy)"
   ]
  },
  {
   "cell_type": "markdown",
   "metadata": {},
   "source": [
    "# Less basic\n",
    "\n",
    "Broadcasting: Allow universal functions to deal in meaningful way for inputs not having the exact same shape.\n",
    "\n",
    "Rules:\n",
    "\n",
    "* If input arrays don't have same number of dimensions, 1 will be prepended to smaller arrays until same number of dimensions.\n",
    "* Arrays with size of 1 act as they had size of array with largest shape along that dimension."
   ]
  },
  {
   "cell_type": "markdown",
   "metadata": {},
   "source": [
    "# Indexing tricks"
   ]
  },
  {
   "cell_type": "code",
   "execution_count": 61,
   "metadata": {
    "ExecuteTime": {
     "end_time": "2017-10-12T14:37:37.347510Z",
     "start_time": "2017-10-12T16:37:37.338221+02:00"
    }
   },
   "outputs": [
    {
     "data": {
      "text/plain": [
       "array([  0,   1,   4,   9,  16,  25,  36,  49,  64,  81, 100, 121])"
      ]
     },
     "execution_count": 61,
     "metadata": {},
     "output_type": "execute_result"
    }
   ],
   "source": [
    "a = np.arange(12)**2\n",
    "a"
   ]
  },
  {
   "cell_type": "code",
   "execution_count": 63,
   "metadata": {
    "ExecuteTime": {
     "end_time": "2017-10-12T14:38:01.540740Z",
     "start_time": "2017-10-12T16:38:01.531419+02:00"
    }
   },
   "outputs": [
    {
     "data": {
      "text/plain": [
       "array([ 1,  1,  9, 64, 25])"
      ]
     },
     "execution_count": 63,
     "metadata": {},
     "output_type": "execute_result"
    }
   ],
   "source": [
    "i = np.array([1,1,3,8,5])\n",
    "a[i]"
   ]
  },
  {
   "cell_type": "code",
   "execution_count": 64,
   "metadata": {
    "ExecuteTime": {
     "end_time": "2017-10-12T14:38:33.620055Z",
     "start_time": "2017-10-12T16:38:33.610275+02:00"
    }
   },
   "outputs": [
    {
     "data": {
      "text/plain": [
       "array([[ 9, 16],\n",
       "       [81, 49]])"
      ]
     },
     "execution_count": 64,
     "metadata": {},
     "output_type": "execute_result"
    }
   ],
   "source": [
    "j = np.array([[3,4],[9,7]])\n",
    "a[j]"
   ]
  },
  {
   "cell_type": "markdown",
   "metadata": {},
   "source": [
    "Contrast vector!"
   ]
  },
  {
   "cell_type": "code",
   "execution_count": 65,
   "metadata": {
    "ExecuteTime": {
     "end_time": "2017-10-12T14:39:24.335724Z",
     "start_time": "2017-10-12T16:39:24.332151+02:00"
    }
   },
   "outputs": [
    {
     "data": {
      "text/plain": [
       "array([ 0,  1,  4, 36, 49, 64])"
      ]
     },
     "execution_count": 65,
     "metadata": {},
     "output_type": "execute_result"
    }
   ],
   "source": [
    "a[[True,True,True,False,False,False,True,True,True,False,False,False]]"
   ]
  }
 ],
 "metadata": {
  "kernelspec": {
   "display_name": "Python 3",
   "language": "python",
   "name": "python3"
  },
  "language_info": {
   "codemirror_mode": {
    "name": "ipython",
    "version": 3
   },
   "file_extension": ".py",
   "mimetype": "text/x-python",
   "name": "python",
   "nbconvert_exporter": "python",
   "pygments_lexer": "ipython3",
   "version": "3.5.2"
  },
  "toc": {
   "colors": {
    "hover_highlight": "#DAA520",
    "running_highlight": "#FF0000",
    "selected_highlight": "#FFD700"
   },
   "moveMenuLeft": true,
   "nav_menu": {
    "height": "210px",
    "width": "252px"
   },
   "navigate_menu": true,
   "number_sections": true,
   "sideBar": false,
   "threshold": 4,
   "toc_cell": true,
   "toc_section_display": "block",
   "toc_window_display": true,
   "widenNotebook": false
  }
 },
 "nbformat": 4,
 "nbformat_minor": 2
}
