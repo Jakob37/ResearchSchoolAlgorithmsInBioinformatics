{
 "cells": [
  {
   "cell_type": "markdown",
   "metadata": {},
   "source": [
    "# Mass distribution of Proteins\n",
    "\n",
    "Task: Function calculating number of possible proteins with a certain integer mass using dynamic programming.\n",
    "\n",
    "Tip: \n",
    "* If you know number of amino acids with masses up to the current mass minus one you can.\n",
    "* Calculate the number of amino acid sequences reaching the current mass \n",
    "* By taking the adding up all the sequences with the weight of each amino acid away (?).\n",
    "\n",
    "OK. Keypart:\n",
    "* For all "
   ]
  },
  {
   "cell_type": "code",
   "execution_count": 2,
   "metadata": {
    "collapsed": true
   },
   "outputs": [],
   "source": [
    "aas = {\n",
    "'A': 71,\n",
    "'R': 156,\n",
    "'N': 114,\n",
    "'D': 115,\n",
    "'C': 103,\n",
    "'E': 129,\n",
    "'Q': 128,\n",
    "'G': 57,\n",
    "'H': 137,\n",
    "'I': 113,\n",
    "'L': 113,\n",
    "'K': 128,\n",
    "'M': 131,\n",
    "'F': 147,\n",
    "'P': 97,\n",
    "'S': 87,\n",
    "'T': 101,\n",
    "'W': 186,\n",
    "'Y': 163,\n",
    "'V': 99\n",
    "}"
   ]
  },
  {
   "cell_type": "markdown",
   "metadata": {},
   "source": [
    "# Dictionary based method"
   ]
  },
  {
   "cell_type": "code",
   "execution_count": 51,
   "metadata": {},
   "outputs": [],
   "source": [
    "# def get_weight_counts(threshold, get_peptides=False):\n",
    "\n",
    "get_peptides = True\n",
    "\n",
    "weights_dict = dict()\n",
    "weights_dict[0] = 1\n",
    "\n",
    "if get_peptides:\n",
    "    peptides_dict = dict()\n",
    "    peptides_dict[0] = ['']\n",
    "\n",
    "for i in range(1, 5001):\n",
    "    \n",
    "    found_matches = 0\n",
    "    \n",
    "    for aa in aas:\n",
    "        weight = aas[aa]\n",
    "        potential_previous = i - weight\n",
    "        if weights_dict.get(potential_previous) is not None:\n",
    "            \n",
    "            found_matches += weights_dict.get(potential_previous)\n",
    "                \n",
    "#                 if get_peptides:\n",
    "#                     peptides_dict[i] = [pep + aa for pep in peptides_dict[potential_previous]]                \n",
    "#                 if get_peptides:\n",
    "#                     peptides_dict[i].extend([pep + aa for pep in peptides_dict[potential_previous]])\n",
    "    weights_dict[i] = found_matches\n",
    "\n",
    "# print(weights_dict)"
   ]
  },
  {
   "cell_type": "code",
   "execution_count": 53,
   "metadata": {
    "scrolled": true
   },
   "outputs": [
    {
     "name": "stdout",
     "output_type": "stream",
     "text": [
      "118435320169999012747083005860128145980965366698836189949812\n",
      "18980398496\n"
     ]
    }
   ],
   "source": [
    "i = 142\n",
    "print(weights_dict[5000])\n",
    "print(weights_dict[1000])\n",
    "# print(peptides_dict[128])"
   ]
  },
  {
   "cell_type": "markdown",
   "metadata": {},
   "source": [
    "# Array based method"
   ]
  },
  {
   "cell_type": "code",
   "execution_count": null,
   "metadata": {
    "collapsed": true
   },
   "outputs": [],
   "source": [
    "weight_array = [0] * 5001\n",
    "weight_array[0] = 1\n",
    "\n",
    "for i in range(len(weight_array)):\n",
    "    "
   ]
  }
 ],
 "metadata": {
  "kernelspec": {
   "display_name": "Python 3",
   "language": "python",
   "name": "python3"
  },
  "language_info": {
   "codemirror_mode": {
    "name": "ipython",
    "version": 3
   },
   "file_extension": ".py",
   "mimetype": "text/x-python",
   "name": "python",
   "nbconvert_exporter": "python",
   "pygments_lexer": "ipython3",
   "version": "3.6.1"
  }
 },
 "nbformat": 4,
 "nbformat_minor": 2
}
