{
 "cells": [
  {
   "cell_type": "markdown",
   "metadata": {},
   "source": [
    "# Decoding of HMMs\n",
    "\n",
    "We have two different dictionaries with the probabilities for scores.\n",
    "\n",
    "We want to dynamically build up a most-likely path.\n",
    "\n",
    "Question: How do we realize when it is time for transition? That is kind of figured out by taking into account the stretch of following nucleotides. Should we iterate backwards? Based on following nucleotides, were we encountering transition or not?"
   ]
  },
  {
   "cell_type": "code",
   "execution_count": 9,
   "metadata": {
    "collapsed": true
   },
   "outputs": [],
   "source": [
    "import numpy as np"
   ]
  },
  {
   "cell_type": "code",
   "execution_count": 4,
   "metadata": {
    "collapsed": true
   },
   "outputs": [],
   "source": [
    "reg_trans = {'A':{'A': 0.299, 'C': 0.205, 'G': 0.285, 'T': 0.210, '+': 0.001},\n",
    "             'C':{'A': 0.321, 'C': 0.298, 'G': 0.078, 'T': 0.302, '+': 0.001},\n",
    "             'G':{'A': 0.248, 'C': 0.246, 'G': 0.297, 'T': 0.208, '+': 0.001},\n",
    "             'T':{'A': 0.177, 'C': 0.239, 'G': 0.292, 'T': 0.291, '+': 0.001}}\n",
    "\n",
    "\n",
    "cpg_trans = {'A':{'A': 0.179, 'C': 0.273, 'G': 0.425, 'T': 0.120, '-': 0.003},\n",
    "             'C':{'A': 0.171, 'C': 0.367, 'G': 0.273, 'T': 0.187, '-': 0.003},\n",
    "             'G':{'A': 0.160, 'C': 0.338, 'G': 0.374, 'T': 0.125, '-': 0.003},\n",
    "             'T':{'A': 0.079, 'C': 0.354, 'G': 0.383, 'T': 0.181, '-': 0.003}}\n",
    "\n"
   ]
  },
  {
   "cell_type": "code",
   "execution_count": 3,
   "metadata": {
    "collapsed": true
   },
   "outputs": [],
   "source": [
    "test_seq = 'AGC'"
   ]
  },
  {
   "cell_type": "code",
   "execution_count": 36,
   "metadata": {
    "collapsed": true
   },
   "outputs": [],
   "source": [
    "def setup_matrices(seq):\n",
    "    \n",
    "    prob_m = np.zeros((2, len(seq)+1))\n",
    "    trace_m = np.zeros((2, len(seq)+1), (str,1))\n",
    "    \n",
    "#     for i in range(0, nbr_states):\n",
    "    prob_m[0,0] = 0.5\n",
    "    prob_m[1,0] = 0.5\n",
    "    \n",
    "    return prob_m, trace_m"
   ]
  },
  {
   "cell_type": "code",
   "execution_count": 41,
   "metadata": {},
   "outputs": [
    {
     "name": "stdout",
     "output_type": "stream",
     "text": [
      "AGC\n",
      "[[ 0.5  0.   0.   0. ]\n",
      " [ 0.5  0.   0.   0. ]]\n",
      "[['' '' '' '']\n",
      " ['' '' '' '']]\n",
      "[[ 0.5         0.1025      0.02542     0.00198276]\n",
      " [ 0.5         0.1365      0.02184     0.00596232]]\n",
      "Trace 0: ['' ' ' ' ' ' ']\n",
      "Trace 1: ['' ' ' ' ' ' ']\n"
     ]
    }
   ],
   "source": [
    "prob_m, trace_m = setup_matrices(test_seq)\n",
    "print(test_seq)\n",
    "print(prob_m)\n",
    "print(trace_m)\n",
    "for col in range(1, len(test_seq)+1):\n",
    "    \n",
    "    prev_letter = test_seq[col-2]\n",
    "    letter = test_seq[col-1]\n",
    "\n",
    "    # Reg\n",
    "    reg_same_prob = prob_m[0][col-1] * reg_trans[letter][prev_letter]\n",
    "    reg_diff_prob = prob_m[1][col-1] * reg_trans[letter]['+']\n",
    "\n",
    "    if reg_same_prob > reg_diff_prob:\n",
    "        prob_m[0][col] = reg_same_prob\n",
    "        trace_m[0][col] = ' '\n",
    "    else:\n",
    "        prob_m[0][col] = reg_diff_prob\n",
    "        trace_m[0][col] = '+'\n",
    "\n",
    "    # CpG\n",
    "    cpg_same_prob = prob_m[1][col-1] * cpg_trans[letter][prev_letter]\n",
    "    cpg_diff_prob = prob_m[0][col-1] * cpg_trans[letter]['-']\n",
    "\n",
    "    if cpg_same_prob > cpg_diff_prob:\n",
    "        prob_m[1][col] = cpg_same_prob\n",
    "        trace_m[1][col] = ' '\n",
    "    else:\n",
    "        prob_m[1][col] = cpg_diff_prob\n",
    "        trace_m[1][col] = '-'\n",
    "\n",
    "        \n",
    "print(prob_m)\n",
    "print('Trace 0: {}'.format(trace_m[0]))\n",
    "print('Trace 1: {}'.format(trace_m[1]))\n"
   ]
  },
  {
   "cell_type": "code",
   "execution_count": 5,
   "metadata": {},
   "outputs": [
    {
     "name": "stdout",
     "output_type": "stream",
     "text": [
      "C\n",
      "G\n",
      "A\n"
     ]
    }
   ],
   "source": [
    "in_cgp = False\n",
    "steps = list()\n",
    "for nt in reversed(test_seq):\n",
    "    print(nt)\n",
    "    "
   ]
  }
 ],
 "metadata": {
  "kernelspec": {
   "display_name": "Python 3",
   "language": "python",
   "name": "python3"
  },
  "language_info": {
   "codemirror_mode": {
    "name": "ipython",
    "version": 3
   },
   "file_extension": ".py",
   "mimetype": "text/x-python",
   "name": "python",
   "nbconvert_exporter": "python",
   "pygments_lexer": "ipython3",
   "version": "3.6.1"
  }
 },
 "nbformat": 4,
 "nbformat_minor": 2
}
