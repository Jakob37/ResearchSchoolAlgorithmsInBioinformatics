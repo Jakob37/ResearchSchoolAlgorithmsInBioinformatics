{
 "cells": [
  {
   "cell_type": "markdown",
   "metadata": {},
   "source": [
    "# Decoding of HMMs\n",
    "\n",
    "We have two different dictionaries with the probabilities for scores.\n",
    "\n",
    "We want to dynamically build up a most-likely path.\n",
    "\n",
    "Question: How do we realize when it is time for transition? That is kind of figured out by taking into account the stretch of following nucleotides. Should we iterate backwards? Based on following nucleotides, were we encountering transition or not?"
   ]
  },
  {
   "cell_type": "code",
   "execution_count": 64,
   "metadata": {},
   "outputs": [],
   "source": [
    "import math\n",
    "from math import log, log2\n",
    "import numpy as np"
   ]
  },
  {
   "cell_type": "code",
   "execution_count": 44,
   "metadata": {},
   "outputs": [
    {
     "name": "stdout",
     "output_type": "stream",
     "text": [
      "32743 nts\n"
     ]
    }
   ],
   "source": [
    "full_seq = ''\n",
    "with open('data/gpc.fasta', 'r') as in_fh:\n",
    "    for line in in_fh:\n",
    "        line = line.rstrip()\n",
    "        if line.startswith('>'):\n",
    "            continue\n",
    "        full_seq += line\n",
    "\n",
    "print('{} nts'.format(len(full_seq)))"
   ]
  },
  {
   "cell_type": "code",
   "execution_count": 4,
   "metadata": {
    "collapsed": true
   },
   "outputs": [],
   "source": [
    "reg_trans = {'A':{'A': 0.299, 'C': 0.205, 'G': 0.285, 'T': 0.210, '+': 0.001},\n",
    "             'C':{'A': 0.321, 'C': 0.298, 'G': 0.078, 'T': 0.302, '+': 0.001},\n",
    "             'G':{'A': 0.248, 'C': 0.246, 'G': 0.297, 'T': 0.208, '+': 0.001},\n",
    "             'T':{'A': 0.177, 'C': 0.239, 'G': 0.292, 'T': 0.291, '+': 0.001}}\n",
    "\n",
    "\n",
    "cpg_trans = {'A':{'A': 0.179, 'C': 0.273, 'G': 0.425, 'T': 0.120, '-': 0.003},\n",
    "             'C':{'A': 0.171, 'C': 0.367, 'G': 0.273, 'T': 0.187, '-': 0.003},\n",
    "             'G':{'A': 0.160, 'C': 0.338, 'G': 0.374, 'T': 0.125, '-': 0.003},\n",
    "             'T':{'A': 0.079, 'C': 0.354, 'G': 0.383, 'T': 0.181, '-': 0.003}}\n",
    "\n"
   ]
  },
  {
   "cell_type": "code",
   "execution_count": 3,
   "metadata": {
    "collapsed": true
   },
   "outputs": [],
   "source": [
    "test_seq = 'AGC'"
   ]
  },
  {
   "cell_type": "code",
   "execution_count": 67,
   "metadata": {
    "collapsed": true
   },
   "outputs": [],
   "source": [
    "def setup_matrices(seq):\n",
    "    \n",
    "    prob_m = np.zeros((2, len(seq)+1))\n",
    "    trace_m = np.zeros((2, len(seq)+1), (str,1))\n",
    "    \n",
    "#     for i in range(0, nbr_states):\n",
    "    prob_m[0,0] = log2(0.5)\n",
    "    prob_m[1,0] = log2(0.5)\n",
    "    \n",
    "    return prob_m, trace_m"
   ]
  },
  {
   "cell_type": "code",
   "execution_count": 74,
   "metadata": {},
   "outputs": [
    {
     "name": "stdout",
     "output_type": "stream",
     "text": [
      "Trace 0:                                   ++++++++++++ +++   + +++    +++++++    + ++++  ++++ ++   +           ++++++++   +++++   ++++ +++    + +++  + +++++++   + +                                ++   +++       +++++ + +++    + +++++      + +++ ++++  +  +++ ++++  +++ +       ++++ + ++++++        + ++    +         ++++ ++++++++++ ++++++                    +      +++   ++++++       ++++ +++++++ ++   + +  +                                                                                                                                                                                                                                                                                                                                                                                                                                                                                                                                                                                                                        \n",
      "Trace 1:                                                                                                                                                                                                                                                                                                                                                                                                                                                                                                                                                                                             ---- --   ----------------------    -- --  -      -- --         -   ---   --  -- ------- -- ----- -- --  ---- -        -   -- --                   --- ---                   ---        ----     --- --      -   -        - -- -  - - - -            - -- - --       - ----     ---     -    ----- -- --- -- -   ---------     -     --- - --- ---      - --           - ---- -  ---- --  -- - ---- --   -- -     - --------- -- --       -\n"
     ]
    }
   ],
   "source": [
    "def calculate_trace(seq, test_print=False):\n",
    "    \n",
    "    prob_m, trace_m = setup_matrices(seq)\n",
    "    \n",
    "    if test_print:\n",
    "        print(seq)\n",
    "        print(prob_m)\n",
    "        print(trace_m)\n",
    "        \n",
    "    for col in range(1, len(seq)+1):\n",
    "\n",
    "        prev_letter = seq[col-2]\n",
    "        letter = seq[col-1]\n",
    "\n",
    "        # Reg\n",
    "#         print(prob_m[0][col-1])\n",
    "        reg_same_prob = prob_m[0][col-1] + log2(reg_trans[letter][prev_letter])\n",
    "        reg_diff_prob = prob_m[1][col-1] + log2(reg_trans[letter]['+'])\n",
    "\n",
    "        if reg_same_prob > reg_diff_prob:\n",
    "            prob_m[0][col] = reg_same_prob\n",
    "            trace_m[0][col] = ' '\n",
    "        else:\n",
    "            prob_m[0][col] = reg_diff_prob\n",
    "            trace_m[0][col] = '+'\n",
    "\n",
    "        # CpG\n",
    "        cpg_same_prob = prob_m[1][col-1] + log2(cpg_trans[letter][prev_letter])\n",
    "        cpg_diff_prob = prob_m[0][col-1] + log2(cpg_trans[letter]['-'])\n",
    "\n",
    "        if cpg_same_prob > cpg_diff_prob:\n",
    "            prob_m[1][col] = cpg_same_prob\n",
    "            trace_m[1][col] = ' '\n",
    "        else:\n",
    "            prob_m[1][col] = cpg_diff_prob\n",
    "            trace_m[1][col] = '-'\n",
    "#         print(prob_m)\n",
    "\n",
    "    return trace_m\n",
    "\n",
    "trace_m = calculate_trace(full_seq)\n",
    "# print(prob_m)\n",
    "print('Trace 0: {}'.format(''.join(trace_m[0][0:1000])))\n",
    "print('Trace 1: {}'.format(''.join(trace_m[1][0:1000])))\n"
   ]
  },
  {
   "cell_type": "code",
   "execution_count": 100,
   "metadata": {},
   "outputs": [],
   "source": [
    "def get_cpg_string(trace_m, seq):\n",
    "    curr_cpg = 0\n",
    "    cpg_string = ''\n",
    "    for pos in range(len(trace_m[0])-2, -1, -1):\n",
    "        \n",
    "#         print(pos)\n",
    "        if trace_m[curr_cpg][pos] != ' ':\n",
    "            curr_cpg = (curr_cpg+1) % 2\n",
    "        \n",
    "        if curr_cpg == 1:\n",
    "            cpg_string += 'C'\n",
    "        else:\n",
    "            cpg_string += ' '\n",
    "\n",
    "    return cpg_string\n",
    "\n",
    "cpg_string = get_cpg_string(trace_m, full_seq)\n",
    "# print(cpg_string[0:10000])"
   ]
  },
  {
   "cell_type": "code",
   "execution_count": 102,
   "metadata": {},
   "outputs": [
    {
     "name": "stdout",
     "output_type": "stream",
     "text": [
      "32743\n",
      "Island in range: 9936 to 10068\n",
      "Island in range: 14788 to 14887\n",
      "Island in range: 20600 to 20739\n",
      "Island in range: 32343 to 32742\n"
     ]
    }
   ],
   "source": [
    "cpg_start = -1\n",
    "print(len(cpg_string))\n",
    "for i in range(len(cpg_string)):\n",
    "    if cpg_start == -1:\n",
    "        if cpg_string[i] == 'C':\n",
    "            cpg_start = i\n",
    "    else:\n",
    "        if cpg_string[i] == ' ':\n",
    "            print('Island in range: {} to {}'.format(cpg_start, i))\n",
    "            cpg_start = -1"
   ]
  }
 ],
 "metadata": {
  "kernelspec": {
   "display_name": "Python 3",
   "language": "python",
   "name": "python3"
  },
  "language_info": {
   "codemirror_mode": {
    "name": "ipython",
    "version": 3
   },
   "file_extension": ".py",
   "mimetype": "text/x-python",
   "name": "python",
   "nbconvert_exporter": "python",
   "pygments_lexer": "ipython3",
   "version": "3.6.1"
  }
 },
 "nbformat": 4,
 "nbformat_minor": 2
}
