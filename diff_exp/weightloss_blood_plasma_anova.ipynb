{
 "cells": [
  {
   "cell_type": "markdown",
   "metadata": {},
   "source": [
    "# Weightloss ANOVA"
   ]
  },
  {
   "cell_type": "markdown",
   "metadata": {},
   "source": [
    "\n",
    "## 1: Implement subroutine generating random data"
   ]
  },
  {
   "cell_type": "code",
   "execution_count": 1,
   "metadata": {
    "collapsed": true
   },
   "outputs": [],
   "source": [
    "import numpy as np\n",
    "import numpy.random as npr\n",
    "import pandas as pd\n",
    "from scipy import stats\n",
    "import matplotlib.pyplot as plt\n",
    "\n",
    "# import statsmodels.api as sm\n",
    "# from statsmodels.formula.api import ols\n",
    "\n",
    "from statsmodels.formula.api import ols\n",
    "from statsmodels.stats.anova import anova_lm\n",
    "\n",
    "from itertools import chain"
   ]
  },
  {
   "cell_type": "code",
   "execution_count": 2,
   "metadata": {},
   "outputs": [],
   "source": [
    "df = pd.read_excel(\"data/blood_plasma_data.xlsx\", skiprows=list(range(6)) + list(range(15,18)),parse_cols=[0]+list(range(3,318)), header=0, index_col=0)\n",
    "\n",
    "# print(df.head())\n",
    "parsed_df = df.copy()"
   ]
  },
  {
   "cell_type": "code",
   "execution_count": 3,
   "metadata": {},
   "outputs": [
    {
     "name": "stdout",
     "output_type": "stream",
     "text": [
      "['02', '02', '02', '02', '02', '02', '02', '03', '03', '03']\n",
      "['1', '2', '3', '4', '5', '6', '7', '1', '2', '3']\n"
     ]
    }
   ],
   "source": [
    "patients = [raw.split('_')[1] for raw in df.columns]\n",
    "timepoints = [raw.split('_')[2] for raw in df.columns]\n",
    "\n",
    "print(patients[:10])\n",
    "print(timepoints[:10])\n",
    "\n",
    "# df1.assign(e=p.Series(np.random.randn(sLength)).values)\n",
    "# df.assign(patient=patients)"
   ]
  },
  {
   "cell_type": "code",
   "execution_count": 4,
   "metadata": {},
   "outputs": [
    {
     "data": {
      "text/html": [
       "<div>\n",
       "<style>\n",
       "    .dataframe thead tr:only-child th {\n",
       "        text-align: right;\n",
       "    }\n",
       "\n",
       "    .dataframe thead th {\n",
       "        text-align: left;\n",
       "    }\n",
       "\n",
       "    .dataframe tbody tr th {\n",
       "        vertical-align: top;\n",
       "    }\n",
       "</style>\n",
       "<table border=\"1\" class=\"dataframe\">\n",
       "  <thead>\n",
       "    <tr style=\"text-align: right;\">\n",
       "      <th></th>\n",
       "      <th>_02_1</th>\n",
       "      <th>_02_2</th>\n",
       "      <th>_02_3</th>\n",
       "      <th>_02_4</th>\n",
       "      <th>_02_5</th>\n",
       "      <th>_02_6</th>\n",
       "      <th>_02_7</th>\n",
       "      <th>_03_1</th>\n",
       "      <th>_03_2</th>\n",
       "      <th>_03_3</th>\n",
       "      <th>...</th>\n",
       "      <th>_57_2</th>\n",
       "      <th>_57_3</th>\n",
       "      <th>_57_4</th>\n",
       "      <th>_57_5</th>\n",
       "      <th>_57_6</th>\n",
       "      <th>_57_7</th>\n",
       "      <th>_58_1</th>\n",
       "      <th>_58_2</th>\n",
       "      <th>_58_3</th>\n",
       "      <th>_58_4</th>\n",
       "    </tr>\n",
       "    <tr>\n",
       "      <th>Participant_Timepoint</th>\n",
       "      <th></th>\n",
       "      <th></th>\n",
       "      <th></th>\n",
       "      <th></th>\n",
       "      <th></th>\n",
       "      <th></th>\n",
       "      <th></th>\n",
       "      <th></th>\n",
       "      <th></th>\n",
       "      <th></th>\n",
       "      <th></th>\n",
       "      <th></th>\n",
       "      <th></th>\n",
       "      <th></th>\n",
       "      <th></th>\n",
       "      <th></th>\n",
       "      <th></th>\n",
       "      <th></th>\n",
       "      <th></th>\n",
       "      <th></th>\n",
       "      <th></th>\n",
       "    </tr>\n",
       "  </thead>\n",
       "  <tbody>\n",
       "    <tr>\n",
       "      <th>A0A075B6H9</th>\n",
       "      <td>8.918735</td>\n",
       "      <td>8.984415</td>\n",
       "      <td>8.960561</td>\n",
       "      <td>8.932846</td>\n",
       "      <td>8.888815</td>\n",
       "      <td>8.682663</td>\n",
       "      <td>9.100348</td>\n",
       "      <td>8.534421</td>\n",
       "      <td>8.627316</td>\n",
       "      <td>8.763565</td>\n",
       "      <td>...</td>\n",
       "      <td>9.108068</td>\n",
       "      <td>9.125790</td>\n",
       "      <td>9.154156</td>\n",
       "      <td>8.903898</td>\n",
       "      <td>8.931898</td>\n",
       "      <td>9.024222</td>\n",
       "      <td>8.740736</td>\n",
       "      <td>8.659849</td>\n",
       "      <td>8.556024</td>\n",
       "      <td>8.850599</td>\n",
       "    </tr>\n",
       "    <tr>\n",
       "      <th>A0A075B6I1</th>\n",
       "      <td>8.431114</td>\n",
       "      <td>8.309657</td>\n",
       "      <td>8.135550</td>\n",
       "      <td>8.288545</td>\n",
       "      <td>8.206241</td>\n",
       "      <td>8.232878</td>\n",
       "      <td>8.552498</td>\n",
       "      <td>8.054749</td>\n",
       "      <td>8.046690</td>\n",
       "      <td>8.136787</td>\n",
       "      <td>...</td>\n",
       "      <td>8.595130</td>\n",
       "      <td>8.681826</td>\n",
       "      <td>8.663883</td>\n",
       "      <td>8.702065</td>\n",
       "      <td>8.702471</td>\n",
       "      <td>8.613501</td>\n",
       "      <td>8.241886</td>\n",
       "      <td>8.195170</td>\n",
       "      <td>8.134278</td>\n",
       "      <td>8.135195</td>\n",
       "    </tr>\n",
       "    <tr>\n",
       "      <th>A0A075B6I2</th>\n",
       "      <td>7.966115</td>\n",
       "      <td>8.009408</td>\n",
       "      <td>7.850430</td>\n",
       "      <td>7.928467</td>\n",
       "      <td>7.854250</td>\n",
       "      <td>7.915487</td>\n",
       "      <td>7.681106</td>\n",
       "      <td>8.035768</td>\n",
       "      <td>8.083920</td>\n",
       "      <td>8.258530</td>\n",
       "      <td>...</td>\n",
       "      <td>7.894744</td>\n",
       "      <td>7.704866</td>\n",
       "      <td>7.552169</td>\n",
       "      <td>7.719073</td>\n",
       "      <td>7.612115</td>\n",
       "      <td>7.661106</td>\n",
       "      <td>8.335114</td>\n",
       "      <td>8.194396</td>\n",
       "      <td>8.121626</td>\n",
       "      <td>8.198227</td>\n",
       "    </tr>\n",
       "    <tr>\n",
       "      <th>A0A075B6I9</th>\n",
       "      <td>9.140631</td>\n",
       "      <td>9.235167</td>\n",
       "      <td>9.361082</td>\n",
       "      <td>9.207253</td>\n",
       "      <td>9.399657</td>\n",
       "      <td>9.467562</td>\n",
       "      <td>9.438647</td>\n",
       "      <td>9.003380</td>\n",
       "      <td>9.186728</td>\n",
       "      <td>9.012941</td>\n",
       "      <td>...</td>\n",
       "      <td>9.167032</td>\n",
       "      <td>9.160809</td>\n",
       "      <td>9.088869</td>\n",
       "      <td>9.146871</td>\n",
       "      <td>9.176959</td>\n",
       "      <td>9.069520</td>\n",
       "      <td>9.277361</td>\n",
       "      <td>9.157724</td>\n",
       "      <td>8.995350</td>\n",
       "      <td>9.274189</td>\n",
       "    </tr>\n",
       "    <tr>\n",
       "      <th>A0A075B6J4</th>\n",
       "      <td>9.184549</td>\n",
       "      <td>9.280607</td>\n",
       "      <td>9.195454</td>\n",
       "      <td>9.285729</td>\n",
       "      <td>9.236535</td>\n",
       "      <td>9.260201</td>\n",
       "      <td>9.624893</td>\n",
       "      <td>8.971605</td>\n",
       "      <td>9.068478</td>\n",
       "      <td>9.028275</td>\n",
       "      <td>...</td>\n",
       "      <td>9.258528</td>\n",
       "      <td>9.262970</td>\n",
       "      <td>9.165575</td>\n",
       "      <td>9.206120</td>\n",
       "      <td>9.323686</td>\n",
       "      <td>9.261523</td>\n",
       "      <td>9.373257</td>\n",
       "      <td>9.416043</td>\n",
       "      <td>9.127040</td>\n",
       "      <td>9.312214</td>\n",
       "    </tr>\n",
       "  </tbody>\n",
       "</table>\n",
       "<p>5 rows × 315 columns</p>\n",
       "</div>"
      ],
      "text/plain": [
       "                          _02_1     _02_2     _02_3     _02_4     _02_5  \\\n",
       "Participant_Timepoint                                                     \n",
       "A0A075B6H9             8.918735  8.984415  8.960561  8.932846  8.888815   \n",
       "A0A075B6I1             8.431114  8.309657  8.135550  8.288545  8.206241   \n",
       "A0A075B6I2             7.966115  8.009408  7.850430  7.928467  7.854250   \n",
       "A0A075B6I9             9.140631  9.235167  9.361082  9.207253  9.399657   \n",
       "A0A075B6J4             9.184549  9.280607  9.195454  9.285729  9.236535   \n",
       "\n",
       "                          _02_6     _02_7     _03_1     _03_2     _03_3  \\\n",
       "Participant_Timepoint                                                     \n",
       "A0A075B6H9             8.682663  9.100348  8.534421  8.627316  8.763565   \n",
       "A0A075B6I1             8.232878  8.552498  8.054749  8.046690  8.136787   \n",
       "A0A075B6I2             7.915487  7.681106  8.035768  8.083920  8.258530   \n",
       "A0A075B6I9             9.467562  9.438647  9.003380  9.186728  9.012941   \n",
       "A0A075B6J4             9.260201  9.624893  8.971605  9.068478  9.028275   \n",
       "\n",
       "                         ...        _57_2     _57_3     _57_4     _57_5  \\\n",
       "Participant_Timepoint    ...                                              \n",
       "A0A075B6H9               ...     9.108068  9.125790  9.154156  8.903898   \n",
       "A0A075B6I1               ...     8.595130  8.681826  8.663883  8.702065   \n",
       "A0A075B6I2               ...     7.894744  7.704866  7.552169  7.719073   \n",
       "A0A075B6I9               ...     9.167032  9.160809  9.088869  9.146871   \n",
       "A0A075B6J4               ...     9.258528  9.262970  9.165575  9.206120   \n",
       "\n",
       "                          _57_6     _57_7     _58_1     _58_2     _58_3  \\\n",
       "Participant_Timepoint                                                     \n",
       "A0A075B6H9             8.931898  9.024222  8.740736  8.659849  8.556024   \n",
       "A0A075B6I1             8.702471  8.613501  8.241886  8.195170  8.134278   \n",
       "A0A075B6I2             7.612115  7.661106  8.335114  8.194396  8.121626   \n",
       "A0A075B6I9             9.176959  9.069520  9.277361  9.157724  8.995350   \n",
       "A0A075B6J4             9.323686  9.261523  9.373257  9.416043  9.127040   \n",
       "\n",
       "                          _58_4  \n",
       "Participant_Timepoint            \n",
       "A0A075B6H9             8.850599  \n",
       "A0A075B6I1             8.135195  \n",
       "A0A075B6I2             8.198227  \n",
       "A0A075B6I9             9.274189  \n",
       "A0A075B6J4             9.312214  \n",
       "\n",
       "[5 rows x 315 columns]"
      ]
     },
     "execution_count": 4,
     "metadata": {},
     "output_type": "execute_result"
    }
   ],
   "source": [
    "parsed_df_nona = df.dropna(inplace=False)\n",
    "parsed_df_nona.head()"
   ]
  },
  {
   "cell_type": "markdown",
   "metadata": {},
   "source": [
    "# Generate dW matrix"
   ]
  },
  {
   "cell_type": "code",
   "execution_count": 5,
   "metadata": {},
   "outputs": [],
   "source": [
    "import sys\n",
    "\n",
    "def get_dw_row(row):\n",
    "\n",
    "    row_vals = list()\n",
    "    for patient in set(patients):\n",
    "\n",
    "        patient_index = np.array(patients) == patient\n",
    "        patient_vals = list(row[patient_index])\n",
    "\n",
    "        base_weight = patient_vals[0]\n",
    "\n",
    "        dw_vals = list()\n",
    "        for weight in patient_vals:\n",
    "            num_weight = float(weight)\n",
    "            dw = num_weight - base_weight        \n",
    "            dw_vals.append(dw)\n",
    "        row_vals.extend(dw_vals)\n",
    "    return row_vals\n",
    "\n",
    "# print(row.head())    \n",
    "# print(\"Row length: {}\".format(len(row)))\n",
    "# print(\"Tot patients: {}\".format(tot_patients))\n",
    "# print(\"Patient vals: {}\".format(patient_vals))\n",
    "# print(len(row_vals))\n",
    "# print(row_vals)"
   ]
  },
  {
   "cell_type": "code",
   "execution_count": 6,
   "metadata": {},
   "outputs": [
    {
     "name": "stdout",
     "output_type": "stream",
     "text": [
      "[0.0, -15.200000000000003, -17.200000000000003, -23.200000000000003, -30.900000000000006, -31.400000000000006, -34.400000000000006, 0.0, -12.900000000000006, -15.400000000000006]\n"
     ]
    }
   ],
   "source": [
    "# weight_df = parsed_df_nona.apply(get_dw_row, axis=1)\n",
    "weights = parsed_df.loc[\"Weight\", :]\n",
    "dw_weights = get_dw_row(weights)\n",
    "print(dw_weights[:10])"
   ]
  },
  {
   "cell_type": "markdown",
   "metadata": {},
   "source": [
    "## 3: Calculate p-values"
   ]
  },
  {
   "cell_type": "markdown",
   "metadata": {},
   "source": [
    "`ttest_rel`: t-test on two related samples of scores. Participants in the two groups are related. For instance - if participants in first group are same as the one in the second group. This is also called **repeated measures design**.\n",
    "\n",
    "`ttest_ind`: Independent. Compare groups of participants that are not related in any way. Participants in one group have no relationship to participants in second group."
   ]
  },
  {
   "cell_type": "code",
   "execution_count": 7,
   "metadata": {
    "collapsed": true
   },
   "outputs": [],
   "source": [
    "def get_anova_p_from_row(row, patients, timepoints, dw_weights):\n",
    "\n",
    "    row_df = pd.DataFrame({\"patient\":patients,\n",
    "                           \"timepoint\":timepoints,\n",
    "                           \"value\":row,\n",
    "                           \"dw\":dw_weights})\n",
    "#     print(row_df)\n",
    "    row_fit = ols('value ~ C(patient) + dw', data=row_df).fit()\n",
    "    report = anova_lm(row_fit, type=2)\n",
    "    anova_p = report.loc[\"dw\", \"PR(>F)\"]\n",
    "    return anova_p\n"
   ]
  },
  {
   "cell_type": "code",
   "execution_count": 8,
   "metadata": {},
   "outputs": [
    {
     "name": "stderr",
     "output_type": "stream",
     "text": [
      "/usr/local/anaconda/lib/python3.6/site-packages/scipy/stats/_distn_infrastructure.py:879: RuntimeWarning: invalid value encountered in greater\n",
      "  return (self.a < x) & (x < self.b)\n",
      "/usr/local/anaconda/lib/python3.6/site-packages/scipy/stats/_distn_infrastructure.py:879: RuntimeWarning: invalid value encountered in less\n",
      "  return (self.a < x) & (x < self.b)\n",
      "/usr/local/anaconda/lib/python3.6/site-packages/scipy/stats/_distn_infrastructure.py:1818: RuntimeWarning: invalid value encountered in less_equal\n",
      "  cond2 = cond0 & (x <= self.a)\n"
     ]
    },
    {
     "data": {
      "text/plain": [
       "0.44349149833896029"
      ]
     },
     "execution_count": 8,
     "metadata": {},
     "output_type": "execute_result"
    }
   ],
   "source": [
    "row = parsed_df.iloc[1,:]\n",
    "get_anova_p_from_row(row, patients, timepoints, dw_weights)"
   ]
  },
  {
   "cell_type": "code",
   "execution_count": 9,
   "metadata": {},
   "outputs": [
    {
     "name": "stderr",
     "output_type": "stream",
     "text": [
      "/usr/local/anaconda/lib/python3.6/site-packages/scipy/stats/_distn_infrastructure.py:879: RuntimeWarning: invalid value encountered in greater\n",
      "  return (self.a < x) & (x < self.b)\n",
      "/usr/local/anaconda/lib/python3.6/site-packages/scipy/stats/_distn_infrastructure.py:879: RuntimeWarning: invalid value encountered in less\n",
      "  return (self.a < x) & (x < self.b)\n",
      "/usr/local/anaconda/lib/python3.6/site-packages/scipy/stats/_distn_infrastructure.py:1818: RuntimeWarning: invalid value encountered in less_equal\n",
      "  cond2 = cond0 & (x <= self.a)\n"
     ]
    },
    {
     "name": "stdout",
     "output_type": "stream",
     "text": [
      "[0.78075782311526087, 0.68467159839228908, 0.18396897329700548, 0.39639244080197233, 0.41300738304796125, 0.058124803492377156, 0.61924905950288123, 0.68145627021272737, 0.85367808112964538, 0.80876818285144614]\n"
     ]
    }
   ],
   "source": [
    "anova_p = parsed_df_nona.apply(get_anova_p_from_row, axis=1, patients=patients, timepoints=timepoints, dw_weights=dw_weights)\n",
    "# print(anova_p)\n",
    "pvals = list(anova_p)\n",
    "print(pvals[:10])\n",
    "# anova_p[:10]"
   ]
  },
  {
   "cell_type": "markdown",
   "metadata": {},
   "source": [
    "## 4: Implement subroutine for calculating q-value\n",
    "\n",
    "* Let p_1 <= p_2 <= p_m be ordered p-values\n",
    "* For a range lambda, say lambda = 0, 0.01, 0.02.., 0.95 calculate: pi0(lambda) = # {p_j > lambda} / m(1-lambda)\n",
    "* Let f be the natural cubic spline (in our case - average for high p-values)\n",
    "* Set estimate of pi_0 to be: pi_0 = f(1)\n",
    "* Calculate q(p(m)) = min((pi_0*m*t)/#{p_i <= t}) = pi_0 * p(m)\n",
    "* For i = m - 1, m - 2, ..., 1 calculate:\n",
    "* The estimated q is the ith most significant feaure is q(p(i))"
   ]
  },
  {
   "cell_type": "code",
   "execution_count": 10,
   "metadata": {
    "collapsed": true
   },
   "outputs": [],
   "source": [
    "def estimate_pis(pvals):\n",
    "    \n",
    "    pi_0_vals = list()\n",
    "    \n",
    "    for sub_thres in np.arange(0.01, 0.96, 0.01):\n",
    "        sub_p = [p for p in pvals if p > sub_thres]\n",
    "        sub_p_count = len(sub_p)\n",
    "        m = len(pvals)\n",
    "        pi_0 = sub_p_count / (m * (1-sub_thres))\n",
    "        pi_0_vals.append(pi_0)\n",
    "  \n",
    "    return pi_0_vals\n",
    "\n",
    "def estimate_pi_zero(pis, thres):\n",
    "    \n",
    "    tot = len(pis)\n",
    "    start_ind = int(tot * thres)\n",
    "    sub = pis[start_ind:]\n",
    "    return np.mean(sub)\n"
   ]
  },
  {
   "cell_type": "markdown",
   "metadata": {},
   "source": [
    "### Diff test"
   ]
  },
  {
   "cell_type": "code",
   "execution_count": 11,
   "metadata": {},
   "outputs": [
    {
     "data": {
      "image/png": "[encoded data removed]",
      "text/plain": [
       "<matplotlib.figure.Figure at 0x7f25e2aee1d0>"
      ]
     },
     "metadata": {},
     "output_type": "display_data"
    }
   ],
   "source": [
    "pi_0_vals = estimate_pis(pvals)\n",
    "plt.plot(pi_0_vals, label=\"ind\")\n",
    "# plt.plot(rel_pi_0_vals, label=\"rel\")\n",
    "plt.legend()\n",
    "plt.show()"
   ]
  },
  {
   "cell_type": "markdown",
   "metadata": {},
   "source": [
    "#### q-value calculations"
   ]
  },
  {
   "cell_type": "code",
   "execution_count": 12,
   "metadata": {
    "collapsed": true
   },
   "outputs": [],
   "source": [
    "def estimate_q_vals(pvals):\n",
    "    pi_estimates = estimate_pis(pvals)\n",
    "    pi_0 = estimate_pi_zero(pi_estimates, 0.75)\n",
    "    m = len(pvals)\n",
    "    \n",
    "    fdr_vals = list()\n",
    "    for t in sorted(pvals):\n",
    "        val = pi_0 * m * t / (len(fdr_vals) + 1)\n",
    "        fdr_vals.append(val)\n",
    "\n",
    "    q_vals = list()\n",
    "    for sub_i in range(1, len(fdr_vals)):\n",
    "        fdr_slice = fdr_vals[len(fdr_vals) - sub_i:]\n",
    "        q = min(fdr_slice)\n",
    "        q_vals.insert(0, q)\n",
    "\n",
    "    print(\"pi_0: {}\".format(pi_0))\n",
    "    print(\"m: {}\".format(len(pvals)))\n",
    "    return q_vals\n"
   ]
  },
  {
   "cell_type": "code",
   "execution_count": 13,
   "metadata": {},
   "outputs": [
    {
     "name": "stdout",
     "output_type": "stream",
     "text": [
      "pi_0: 0.7757102313325497\n",
      "m: 201\n"
     ]
    }
   ],
   "source": [
    "qvals = estimate_q_vals(pvals)\n",
    "# rel_q_vals = estimate_q_vals(rel_p_vals)\n"
   ]
  },
  {
   "cell_type": "code",
   "execution_count": 14,
   "metadata": {},
   "outputs": [
    {
     "data": {
      "image/png": "[encoded data removed]",
      "text/plain": [
       "<matplotlib.figure.Figure at 0x7f25e36def60>"
      ]
     },
     "metadata": {},
     "output_type": "display_data"
    }
   ],
   "source": [
    "# plt.plot(ind_q_vals, label=\"ind\")\n",
    "# x_vals = [x / len(qvals) for x in range(len(qvals))]\n",
    "plt.plot(qvals, label=\"rel\")\n",
    "plt.legend()\n",
    "plt.title(\"Diff q vals\")\n",
    "plt.show()"
   ]
  },
  {
   "cell_type": "markdown",
   "metadata": {},
   "source": [
    "## 5: Differential expression genes, on q-threshold"
   ]
  },
  {
   "cell_type": "code",
   "execution_count": 15,
   "metadata": {
    "collapsed": true
   },
   "outputs": [],
   "source": [
    "xvals = np.arange(0, 0.5, 0.005)"
   ]
  },
  {
   "cell_type": "code",
   "execution_count": 16,
   "metadata": {
    "collapsed": true
   },
   "outputs": [],
   "source": [
    "counts = list()\n",
    "for thres in xvals:\n",
    "    count = len([q for q in qvals if q <= thres])\n",
    "    counts.append(count)\n"
   ]
  },
  {
   "cell_type": "code",
   "execution_count": 17,
   "metadata": {},
   "outputs": [
    {
     "data": {
      "image/png": "[encoded data removed]",
      "text/plain": [
       "<matplotlib.figure.Figure at 0x7f25e366add8>"
      ]
     },
     "metadata": {},
     "output_type": "display_data"
    }
   ],
   "source": [
    "# plt.plot(xvals, ind_counts, label=\"ind\")\n",
    "plt.plot(xvals, counts, label=\"rel\")\n",
    "plt.title('q-values in simulated data')\n",
    "plt.legend()\n",
    "plt.show()"
   ]
  },
  {
   "cell_type": "markdown",
   "metadata": {},
   "source": [
    "# 6: Differential expression results"
   ]
  },
  {
   "cell_type": "code",
   "execution_count": 18,
   "metadata": {},
   "outputs": [
    {
     "name": "stdout",
     "output_type": "stream",
     "text": [
      "Total values: 200\n",
      "Significant independent: 0\n"
     ]
    }
   ],
   "source": [
    "print(\"Total values: {}\".format(len(qvals)))\n",
    "print(\"Significant independent: {}\".format(len([q for q in qvals if q <= 0.1])))\n",
    "# print(\"Significant dependent: {}\".format(len([q for q in rel_q_vals if q <= 0.01])))"
   ]
  }
 ],
 "metadata": {
  "kernelspec": {
   "display_name": "Python 3",
   "language": "python",
   "name": "python3"
  },
  "language_info": {
   "codemirror_mode": {
    "name": "ipython",
    "version": 3
   },
   "file_extension": ".py",
   "mimetype": "text/x-python",
   "name": "python",
   "nbconvert_exporter": "python",
   "pygments_lexer": "ipython3",
   "version": "3.6.1"
  }
 },
 "nbformat": 4,
 "nbformat_minor": 2
}
