{
 "cells": [
  {
   "cell_type": "markdown",
   "metadata": {},
   "source": [
    "# Simulated data"
   ]
  },
  {
   "cell_type": "markdown",
   "metadata": {},
   "source": [
    "## 1: Implement subroutine generating random data"
   ]
  },
  {
   "cell_type": "code",
   "execution_count": 1,
   "metadata": {
    "collapsed": true
   },
   "outputs": [],
   "source": [
    "import numpy as np\n",
    "import numpy.random as npr\n",
    "import pandas as pd\n",
    "from scipy import stats\n",
    "import matplotlib.pyplot as plt\n",
    "import math\n",
    "\n",
    "from itertools import chain"
   ]
  },
  {
   "cell_type": "code",
   "execution_count": 2,
   "metadata": {
    "collapsed": true
   },
   "outputs": [],
   "source": [
    "# Code received from Lukas\n",
    "def generate_expression_data(n_analytes=100, n_samples=2, n_replicates=3, p_regulated=0.2, mean_offset=3.0, var=0.2, diff_var=2.0):\n",
    "    # Here we follow a convension, The first sample is the reference i.e. have all label 1\n",
    "    labels = npr.binomial(1, p_regulated, (n_analytes,n_samples-1))\n",
    "    template = np.hstack((np.zeros((n_analytes,1)),labels))\n",
    "    \n",
    "    # We expand the template labels into several replicates\n",
    "    regulated = np.repeat(template,n_replicates, axis=1)\n",
    "    \n",
    "    # If the reading is regulated, offset it with a random offset sampled from the normal distribution \n",
    "    offset = regulated*npr.normal(0,diff_var,(n_analytes,1))\n",
    "    \n",
    "    # Model a differentexpression level for the different analytes\n",
    "    expr_level = np.ones((n_analytes,n_samples*n_replicates))*npr.normal(mean_offset,mean_offset,(n_analytes,1))\n",
    "    \n",
    "    # add noice for each measurement\n",
    "    expression = npr.normal(offset+expr_level,var,(n_analytes,n_replicates*n_samples))\n",
    "    expression = 2**expression\n",
    "    \n",
    "    analyte_names = [\"a\"+str(i+1) for i in range(n_analytes)]\n",
    "    sample_names = [\"s\"+str(i+1)+'_'+str(j+1) for i in range(n_samples) for j in range(n_replicates)]\n",
    "    \n",
    "    # Create a dataframe for expression values\n",
    "    expr_df = pd.DataFrame(expression,columns=sample_names,index=analyte_names)\n",
    "    expr_df.loc[\"Sample\",:] = [i+1 for i in range(n_samples) for j in range(n_replicates)]\n",
    "    \n",
    "    # Create a dataframe with answers if the reading was modeled as differential or not\n",
    "    label_df = pd.DataFrame(template,columns=[i+1 for i in range(n_samples)],index=analyte_names)\n",
    "                \n",
    "    return expr_df,label_df"
   ]
  },
  {
   "cell_type": "code",
   "execution_count": 3,
   "metadata": {},
   "outputs": [
    {
     "data": {
      "text/html": [
       "<div>\n",
       "<style>\n",
       "    .dataframe thead tr:only-child th {\n",
       "        text-align: right;\n",
       "    }\n",
       "\n",
       "    .dataframe thead th {\n",
       "        text-align: left;\n",
       "    }\n",
       "\n",
       "    .dataframe tbody tr th {\n",
       "        vertical-align: top;\n",
       "    }\n",
       "</style>\n",
       "<table border=\"1\" class=\"dataframe\">\n",
       "  <thead>\n",
       "    <tr style=\"text-align: right;\">\n",
       "      <th></th>\n",
       "      <th>_02_1</th>\n",
       "      <th>_02_2</th>\n",
       "      <th>_02_3</th>\n",
       "      <th>_02_4</th>\n",
       "      <th>_02_5</th>\n",
       "      <th>_02_6</th>\n",
       "      <th>_02_7</th>\n",
       "      <th>_03_1</th>\n",
       "      <th>_03_2</th>\n",
       "      <th>_03_3</th>\n",
       "      <th>...</th>\n",
       "      <th>_57_2</th>\n",
       "      <th>_57_3</th>\n",
       "      <th>_57_4</th>\n",
       "      <th>_57_5</th>\n",
       "      <th>_57_6</th>\n",
       "      <th>_57_7</th>\n",
       "      <th>_58_1</th>\n",
       "      <th>_58_2</th>\n",
       "      <th>_58_3</th>\n",
       "      <th>_58_4</th>\n",
       "    </tr>\n",
       "    <tr>\n",
       "      <th>Participant_Timepoint</th>\n",
       "      <th></th>\n",
       "      <th></th>\n",
       "      <th></th>\n",
       "      <th></th>\n",
       "      <th></th>\n",
       "      <th></th>\n",
       "      <th></th>\n",
       "      <th></th>\n",
       "      <th></th>\n",
       "      <th></th>\n",
       "      <th></th>\n",
       "      <th></th>\n",
       "      <th></th>\n",
       "      <th></th>\n",
       "      <th></th>\n",
       "      <th></th>\n",
       "      <th></th>\n",
       "      <th></th>\n",
       "      <th></th>\n",
       "      <th></th>\n",
       "      <th></th>\n",
       "    </tr>\n",
       "  </thead>\n",
       "  <tbody>\n",
       "    <tr>\n",
       "      <th>Weight</th>\n",
       "      <td>84.8</td>\n",
       "      <td>71.5</td>\n",
       "      <td>71.0</td>\n",
       "      <td>70.0</td>\n",
       "      <td>71.5</td>\n",
       "      <td>73.2</td>\n",
       "      <td>72.00</td>\n",
       "      <td>97.65</td>\n",
       "      <td>85.8</td>\n",
       "      <td>82.6</td>\n",
       "      <td>...</td>\n",
       "      <td>92.0</td>\n",
       "      <td>92.0</td>\n",
       "      <td>93.0</td>\n",
       "      <td>92.4</td>\n",
       "      <td>94.5</td>\n",
       "      <td>96.80</td>\n",
       "      <td>104.8</td>\n",
       "      <td>94.1</td>\n",
       "      <td>95.0</td>\n",
       "      <td>96.0</td>\n",
       "    </tr>\n",
       "    <tr>\n",
       "      <th>BMI</th>\n",
       "      <td>31.4</td>\n",
       "      <td>26.2</td>\n",
       "      <td>NaN</td>\n",
       "      <td>NaN</td>\n",
       "      <td>NaN</td>\n",
       "      <td>NaN</td>\n",
       "      <td>26.63</td>\n",
       "      <td>36.00</td>\n",
       "      <td>30.0</td>\n",
       "      <td>NaN</td>\n",
       "      <td>...</td>\n",
       "      <td>28.0</td>\n",
       "      <td>NaN</td>\n",
       "      <td>NaN</td>\n",
       "      <td>NaN</td>\n",
       "      <td>NaN</td>\n",
       "      <td>29.16</td>\n",
       "      <td>31.8</td>\n",
       "      <td>27.4</td>\n",
       "      <td>NaN</td>\n",
       "      <td>NaN</td>\n",
       "    </tr>\n",
       "    <tr>\n",
       "      <th>Cholesterol</th>\n",
       "      <td>5.2</td>\n",
       "      <td>4.3</td>\n",
       "      <td>NaN</td>\n",
       "      <td>NaN</td>\n",
       "      <td>NaN</td>\n",
       "      <td>NaN</td>\n",
       "      <td>4.70</td>\n",
       "      <td>4.70</td>\n",
       "      <td>3.4</td>\n",
       "      <td>NaN</td>\n",
       "      <td>...</td>\n",
       "      <td>4.0</td>\n",
       "      <td>NaN</td>\n",
       "      <td>NaN</td>\n",
       "      <td>NaN</td>\n",
       "      <td>NaN</td>\n",
       "      <td>4.30</td>\n",
       "      <td>4.0</td>\n",
       "      <td>2.8</td>\n",
       "      <td>NaN</td>\n",
       "      <td>NaN</td>\n",
       "    </tr>\n",
       "    <tr>\n",
       "      <th>LDL</th>\n",
       "      <td>3.2</td>\n",
       "      <td>2.6</td>\n",
       "      <td>NaN</td>\n",
       "      <td>NaN</td>\n",
       "      <td>NaN</td>\n",
       "      <td>NaN</td>\n",
       "      <td>2.90</td>\n",
       "      <td>3.00</td>\n",
       "      <td>2.0</td>\n",
       "      <td>NaN</td>\n",
       "      <td>...</td>\n",
       "      <td>2.5</td>\n",
       "      <td>NaN</td>\n",
       "      <td>NaN</td>\n",
       "      <td>NaN</td>\n",
       "      <td>NaN</td>\n",
       "      <td>2.40</td>\n",
       "      <td>2.1</td>\n",
       "      <td>1.2</td>\n",
       "      <td>NaN</td>\n",
       "      <td>NaN</td>\n",
       "    </tr>\n",
       "    <tr>\n",
       "      <th>HDL</th>\n",
       "      <td>1.8</td>\n",
       "      <td>1.3</td>\n",
       "      <td>NaN</td>\n",
       "      <td>NaN</td>\n",
       "      <td>NaN</td>\n",
       "      <td>NaN</td>\n",
       "      <td>1.50</td>\n",
       "      <td>1.20</td>\n",
       "      <td>0.9</td>\n",
       "      <td>NaN</td>\n",
       "      <td>...</td>\n",
       "      <td>0.9</td>\n",
       "      <td>NaN</td>\n",
       "      <td>NaN</td>\n",
       "      <td>NaN</td>\n",
       "      <td>NaN</td>\n",
       "      <td>0.90</td>\n",
       "      <td>1.5</td>\n",
       "      <td>1.3</td>\n",
       "      <td>NaN</td>\n",
       "      <td>NaN</td>\n",
       "    </tr>\n",
       "  </tbody>\n",
       "</table>\n",
       "<p>5 rows × 315 columns</p>\n",
       "</div>"
      ],
      "text/plain": [
       "                       _02_1  _02_2  _02_3  _02_4  _02_5  _02_6  _02_7  _03_1  \\\n",
       "Participant_Timepoint                                                           \n",
       "Weight                  84.8   71.5   71.0   70.0   71.5   73.2  72.00  97.65   \n",
       "BMI                     31.4   26.2    NaN    NaN    NaN    NaN  26.63  36.00   \n",
       "Cholesterol              5.2    4.3    NaN    NaN    NaN    NaN   4.70   4.70   \n",
       "LDL                      3.2    2.6    NaN    NaN    NaN    NaN   2.90   3.00   \n",
       "HDL                      1.8    1.3    NaN    NaN    NaN    NaN   1.50   1.20   \n",
       "\n",
       "                       _03_2  _03_3  ...    _57_2  _57_3  _57_4  _57_5  _57_6  \\\n",
       "Participant_Timepoint                ...                                        \n",
       "Weight                  85.8   82.6  ...     92.0   92.0   93.0   92.4   94.5   \n",
       "BMI                     30.0    NaN  ...     28.0    NaN    NaN    NaN    NaN   \n",
       "Cholesterol              3.4    NaN  ...      4.0    NaN    NaN    NaN    NaN   \n",
       "LDL                      2.0    NaN  ...      2.5    NaN    NaN    NaN    NaN   \n",
       "HDL                      0.9    NaN  ...      0.9    NaN    NaN    NaN    NaN   \n",
       "\n",
       "                       _57_7  _58_1  _58_2  _58_3  _58_4  \n",
       "Participant_Timepoint                                     \n",
       "Weight                 96.80  104.8   94.1   95.0   96.0  \n",
       "BMI                    29.16   31.8   27.4    NaN    NaN  \n",
       "Cholesterol             4.30    4.0    2.8    NaN    NaN  \n",
       "LDL                     2.40    2.1    1.2    NaN    NaN  \n",
       "HDL                     0.90    1.5    1.3    NaN    NaN  \n",
       "\n",
       "[5 rows x 315 columns]"
      ]
     },
     "execution_count": 3,
     "metadata": {},
     "output_type": "execute_result"
    }
   ],
   "source": [
    "df = pd.read_excel(\"data/blood_plasma_data.xlsx\", skiprows=chain(range(6),range(15,18)),parse_cols=[0]+list(range(3,318)), header=0, index_col=0)\n",
    "\n",
    "df.head()"
   ]
  },
  {
   "cell_type": "code",
   "execution_count": 4,
   "metadata": {},
   "outputs": [
    {
     "data": {
      "text/html": [
       "<div>\n",
       "<style>\n",
       "    .dataframe thead tr:only-child th {\n",
       "        text-align: right;\n",
       "    }\n",
       "\n",
       "    .dataframe thead th {\n",
       "        text-align: left;\n",
       "    }\n",
       "\n",
       "    .dataframe tbody tr th {\n",
       "        vertical-align: top;\n",
       "    }\n",
       "</style>\n",
       "<table border=\"1\" class=\"dataframe\">\n",
       "  <thead>\n",
       "    <tr style=\"text-align: right;\">\n",
       "      <th></th>\n",
       "      <th>7</th>\n",
       "      <th>7</th>\n",
       "      <th>7</th>\n",
       "      <th>7</th>\n",
       "      <th>7</th>\n",
       "      <th>7</th>\n",
       "      <th>7</th>\n",
       "    </tr>\n",
       "    <tr>\n",
       "      <th>Participant_Timepoint</th>\n",
       "      <th></th>\n",
       "      <th></th>\n",
       "      <th></th>\n",
       "      <th></th>\n",
       "      <th></th>\n",
       "      <th></th>\n",
       "      <th></th>\n",
       "    </tr>\n",
       "  </thead>\n",
       "  <tbody>\n",
       "    <tr>\n",
       "      <th>Weight</th>\n",
       "      <td>97.700000</td>\n",
       "      <td>81.700000</td>\n",
       "      <td>80.500000</td>\n",
       "      <td>80.300000</td>\n",
       "      <td>80.000000</td>\n",
       "      <td>82.800000</td>\n",
       "      <td>83.000000</td>\n",
       "    </tr>\n",
       "    <tr>\n",
       "      <th>BMI</th>\n",
       "      <td>32.600000</td>\n",
       "      <td>27.000000</td>\n",
       "      <td>NaN</td>\n",
       "      <td>NaN</td>\n",
       "      <td>NaN</td>\n",
       "      <td>NaN</td>\n",
       "      <td>28.350000</td>\n",
       "    </tr>\n",
       "    <tr>\n",
       "      <th>Cholesterol</th>\n",
       "      <td>4.200000</td>\n",
       "      <td>4.200000</td>\n",
       "      <td>NaN</td>\n",
       "      <td>NaN</td>\n",
       "      <td>NaN</td>\n",
       "      <td>NaN</td>\n",
       "      <td>4.000000</td>\n",
       "    </tr>\n",
       "    <tr>\n",
       "      <th>LDL</th>\n",
       "      <td>2.400000</td>\n",
       "      <td>2.700000</td>\n",
       "      <td>NaN</td>\n",
       "      <td>NaN</td>\n",
       "      <td>NaN</td>\n",
       "      <td>NaN</td>\n",
       "      <td>1.900000</td>\n",
       "    </tr>\n",
       "    <tr>\n",
       "      <th>HDL</th>\n",
       "      <td>1.400000</td>\n",
       "      <td>1.000000</td>\n",
       "      <td>NaN</td>\n",
       "      <td>NaN</td>\n",
       "      <td>NaN</td>\n",
       "      <td>NaN</td>\n",
       "      <td>1.800000</td>\n",
       "    </tr>\n",
       "    <tr>\n",
       "      <th>Triglyceride</th>\n",
       "      <td>0.800000</td>\n",
       "      <td>0.900000</td>\n",
       "      <td>NaN</td>\n",
       "      <td>NaN</td>\n",
       "      <td>NaN</td>\n",
       "      <td>NaN</td>\n",
       "      <td>0.600000</td>\n",
       "    </tr>\n",
       "    <tr>\n",
       "      <th>HOMA-IR</th>\n",
       "      <td>4.686400</td>\n",
       "      <td>3.981778</td>\n",
       "      <td>NaN</td>\n",
       "      <td>NaN</td>\n",
       "      <td>NaN</td>\n",
       "      <td>NaN</td>\n",
       "      <td>2.846933</td>\n",
       "    </tr>\n",
       "    <tr>\n",
       "      <th>Leptin</th>\n",
       "      <td>26.600000</td>\n",
       "      <td>8.000000</td>\n",
       "      <td>9.240000</td>\n",
       "      <td>15.600000</td>\n",
       "      <td>14.600000</td>\n",
       "      <td>13.700000</td>\n",
       "      <td>19.000000</td>\n",
       "    </tr>\n",
       "    <tr>\n",
       "      <th>A0A024R6I7;A0A0G2JRN3</th>\n",
       "      <td>9.384871</td>\n",
       "      <td>9.587641</td>\n",
       "      <td>9.537764</td>\n",
       "      <td>9.472915</td>\n",
       "      <td>9.523382</td>\n",
       "      <td>9.485810</td>\n",
       "      <td>9.588928</td>\n",
       "    </tr>\n",
       "    <tr>\n",
       "      <th>A0A075B6H9</th>\n",
       "      <td>8.853935</td>\n",
       "      <td>8.579815</td>\n",
       "      <td>8.877489</td>\n",
       "      <td>8.624395</td>\n",
       "      <td>8.735666</td>\n",
       "      <td>8.770885</td>\n",
       "      <td>8.893160</td>\n",
       "    </tr>\n",
       "  </tbody>\n",
       "</table>\n",
       "</div>"
      ],
      "text/plain": [
       "                               7          7          7          7          7  \\\n",
       "Participant_Timepoint                                                          \n",
       "Weight                 97.700000  81.700000  80.500000  80.300000  80.000000   \n",
       "BMI                    32.600000  27.000000        NaN        NaN        NaN   \n",
       "Cholesterol             4.200000   4.200000        NaN        NaN        NaN   \n",
       "LDL                     2.400000   2.700000        NaN        NaN        NaN   \n",
       "HDL                     1.400000   1.000000        NaN        NaN        NaN   \n",
       "Triglyceride            0.800000   0.900000        NaN        NaN        NaN   \n",
       "HOMA-IR                 4.686400   3.981778        NaN        NaN        NaN   \n",
       "Leptin                 26.600000   8.000000   9.240000  15.600000  14.600000   \n",
       "A0A024R6I7;A0A0G2JRN3   9.384871   9.587641   9.537764   9.472915   9.523382   \n",
       "A0A075B6H9              8.853935   8.579815   8.877489   8.624395   8.735666   \n",
       "\n",
       "                               7          7  \n",
       "Participant_Timepoint                        \n",
       "Weight                 82.800000  83.000000  \n",
       "BMI                          NaN  28.350000  \n",
       "Cholesterol                  NaN   4.000000  \n",
       "LDL                          NaN   1.900000  \n",
       "HDL                          NaN   1.800000  \n",
       "Triglyceride                 NaN   0.600000  \n",
       "HOMA-IR                      NaN   2.846933  \n",
       "Leptin                 13.700000  19.000000  \n",
       "A0A024R6I7;A0A0G2JRN3   9.485810   9.588928  \n",
       "A0A075B6H9              8.770885   8.893160  "
      ]
     },
     "execution_count": 4,
     "metadata": {},
     "output_type": "execute_result"
    }
   ],
   "source": [
    "target_cols = [col for col in df.columns if col[:3] in ['_1_', '_07']]\n",
    "df_target = df[target_cols]\n",
    "df_target.head()\n",
    "sample_names = [raw.split('_')[1].strip('0') for raw in target_cols]\n",
    "df_target.columns = sample_names\n",
    "df_target.head(10).loc[:,'7']"
   ]
  },
  {
   "cell_type": "markdown",
   "metadata": {},
   "source": [
    "## 3: Calculate p-values"
   ]
  },
  {
   "cell_type": "markdown",
   "metadata": {},
   "source": [
    "`ttest_rel`: t-test on two related samples of scores. Participants in the two groups are related. For instance - if participants in first group are same as the one in the second group. This is also called **repeated measures design**.\n",
    "\n",
    "`ttest_ind`: Independent. Compare groups of participants that are not related in any way. Participants in one group have no relationship to participants in second group."
   ]
  },
  {
   "cell_type": "code",
   "execution_count": 5,
   "metadata": {},
   "outputs": [
    {
     "name": "stdout",
     "output_type": "stream",
     "text": [
      "[0.10564953063636115, 0.092181638163317953, 2.1123859738950479e-07, 0.14425823678609856, 4.1592022742555523e-08, 0.016323678234256105, 0.024121861243311546, 0.0001437072875688796, 0.10603299758776533, 0.075772181276702114]\n",
      "[0.0097844920994129506, 0.0061343124332960651, 5.9901893180283276e-05, 0.23513285511642426, 5.7471600122470726e-05, 0.040514494452516689, 0.057877730230614814, 0.0024011618820409357, 0.12974808188216566, 0.021140596592115608]\n"
     ]
    },
    {
     "name": "stderr",
     "output_type": "stream",
     "text": [
      "/usr/local/anaconda/lib/python3.6/site-packages/scipy/stats/_distn_infrastructure.py:879: RuntimeWarning: invalid value encountered in greater\n",
      "  return (self.a < x) & (x < self.b)\n",
      "/usr/local/anaconda/lib/python3.6/site-packages/scipy/stats/_distn_infrastructure.py:879: RuntimeWarning: invalid value encountered in less\n",
      "  return (self.a < x) & (x < self.b)\n",
      "/usr/local/anaconda/lib/python3.6/site-packages/scipy/stats/_distn_infrastructure.py:1818: RuntimeWarning: invalid value encountered in less_equal\n",
      "  cond2 = cond0 & (x <= self.a)\n"
     ]
    }
   ],
   "source": [
    "ind_test_results = stats.ttest_ind(df_target.loc[:,'1'], df_target.loc[:,'7'], axis=1, nan_policy='propagate')\n",
    "rel_test_results = stats.ttest_rel(df_target.loc[:,'1'], df_target.loc[:,'7'], axis=1, nan_policy='propagate')\n",
    "ind_p_vals = [val for val in ind_test_results.pvalue if not math.isnan(val)]\n",
    "rel_p_vals = [val for val in rel_test_results.pvalue if not math.isnan(val)]\n",
    "\n",
    "print(ind_p_vals[0:10])\n",
    "print(rel_p_vals[0:10])\n"
   ]
  },
  {
   "cell_type": "markdown",
   "metadata": {},
   "source": [
    "## 4: Implement subroutine for calculating q-value\n",
    "\n",
    "* Let p_1 <= p_2 <= p_m be ordered p-values\n",
    "* For a range lambda, say lambda = 0, 0.01, 0.02.., 0.95 calculate: pi0(lambda) = # {p_j > lambda} / m(1-lambda)\n",
    "* Let f be the natural cubic spline (in our case - average for high p-values)\n",
    "* Set estimate of pi_0 to be: pi_0 = f(1)\n",
    "* Calculate q(p(m)) = min((pi_0*m*t)/#{p_i <= t}) = pi_0 * p(m)\n",
    "* For i = m - 1, m - 2, ..., 1 calculate:\n",
    "* The estimated q is the ith most significant feaure is q(p(i))"
   ]
  },
  {
   "cell_type": "code",
   "execution_count": 6,
   "metadata": {
    "collapsed": true
   },
   "outputs": [],
   "source": [
    "def estimate_pis(pvals):\n",
    "    \n",
    "    pi_0_vals = list()\n",
    "    \n",
    "    for sub_thres in np.arange(0.01, 0.96, 0.01):\n",
    "        sub_p = [p for p in pvals if p > sub_thres]\n",
    "        sub_p_count = len(sub_p)\n",
    "        m = len(pvals)\n",
    "        pi_0 = sub_p_count / (m * (1-sub_thres))\n",
    "        pi_0_vals.append(pi_0)\n",
    "  \n",
    "    return pi_0_vals\n",
    "\n",
    "def estimate_pi_zero(pis, thres):\n",
    "    \n",
    "    tot = len(pis)\n",
    "    start_ind = int(tot * thres)\n",
    "    sub = pis[start_ind:]\n",
    "    return np.mean(sub)\n"
   ]
  },
  {
   "cell_type": "markdown",
   "metadata": {},
   "source": [
    "### Diff test"
   ]
  },
  {
   "cell_type": "code",
   "execution_count": 7,
   "metadata": {},
   "outputs": [
    {
     "data": {
      "text/plain": [
       "[0.10564953063636115,\n",
       " 0.092181638163317953,\n",
       " 2.1123859738950479e-07,\n",
       " 0.14425823678609856,\n",
       " 4.1592022742555523e-08,\n",
       " 0.016323678234256105,\n",
       " 0.024121861243311546,\n",
       " 0.0001437072875688796,\n",
       " 0.10603299758776533,\n",
       " 0.075772181276702114]"
      ]
     },
     "execution_count": 7,
     "metadata": {},
     "output_type": "execute_result"
    }
   ],
   "source": [
    "ind_p_vals[0:10]"
   ]
  },
  {
   "cell_type": "code",
   "execution_count": 8,
   "metadata": {},
   "outputs": [
    {
     "data": {
      "image/png": "[encoded data removed]",
      "text/plain": [
       "<matplotlib.figure.Figure at 0x7fbbdb8b5550>"
      ]
     },
     "metadata": {},
     "output_type": "display_data"
    }
   ],
   "source": [
    "ind_pi_0_vals = estimate_pis(ind_p_vals)\n",
    "rel_pi_0_vals = estimate_pis(rel_p_vals)\n",
    "plt.plot(ind_pi_0_vals, label=\"ind\")\n",
    "plt.plot(rel_pi_0_vals, label=\"rel\")\n",
    "plt.legend()\n",
    "plt.show()"
   ]
  },
  {
   "cell_type": "markdown",
   "metadata": {},
   "source": [
    "#### q-value calculations"
   ]
  },
  {
   "cell_type": "code",
   "execution_count": 9,
   "metadata": {
    "collapsed": true
   },
   "outputs": [],
   "source": [
    "def estimate_q_vals(pvals):\n",
    "    pi_estimates = estimate_pis(pvals)\n",
    "    pi_0 = estimate_pi_zero(pi_estimates, 0.75)\n",
    "    m = len(pvals)\n",
    "    \n",
    "    fdr_vals = list()\n",
    "    for t in sorted(pvals):\n",
    "        val = pi_0 * m * t / (len(fdr_vals) + 1)\n",
    "        fdr_vals.append(val)\n",
    "\n",
    "    q_vals = list()\n",
    "    for sub_i in range(1, len(fdr_vals)):\n",
    "        fdr_slice = fdr_vals[len(fdr_vals) - sub_i:]\n",
    "        q = min(fdr_slice)\n",
    "        q_vals.insert(0, q)\n",
    "\n",
    "    print(\"pi_0: {}\".format(pi_0))\n",
    "    print(\"m: {}\".format(len(pvals)))\n",
    "    return q_vals\n"
   ]
  },
  {
   "cell_type": "code",
   "execution_count": 10,
   "metadata": {},
   "outputs": [
    {
     "name": "stdout",
     "output_type": "stream",
     "text": [
      "pi_0: 0.4963262324415954\n",
      "m: 279\n",
      "pi_0: 0.4731404942946818\n",
      "m: 279\n"
     ]
    }
   ],
   "source": [
    "ind_q_vals = estimate_q_vals(ind_p_vals)\n",
    "rel_q_vals = estimate_q_vals(rel_p_vals)\n"
   ]
  },
  {
   "cell_type": "code",
   "execution_count": 11,
   "metadata": {},
   "outputs": [
    {
     "data": {
      "image/png": "[encoded data removed]",
      "text/plain": [
       "<matplotlib.figure.Figure at 0x7fbbd7a9ba20>"
      ]
     },
     "metadata": {},
     "output_type": "display_data"
    }
   ],
   "source": [
    "plt.plot(ind_q_vals, label=\"ind\")\n",
    "plt.plot(rel_q_vals, label=\"rel\")\n",
    "plt.legend()\n",
    "plt.title(\"Diff q vals\")\n",
    "plt.show()"
   ]
  },
  {
   "cell_type": "markdown",
   "metadata": {},
   "source": [
    "## 5: Differential expression genes, on q-threshold"
   ]
  },
  {
   "cell_type": "code",
   "execution_count": 12,
   "metadata": {
    "collapsed": true
   },
   "outputs": [],
   "source": [
    "xvals = np.arange(0, 0.5, 0.005)"
   ]
  },
  {
   "cell_type": "code",
   "execution_count": 13,
   "metadata": {
    "collapsed": true
   },
   "outputs": [],
   "source": [
    "ind_counts = list()\n",
    "for thres in xvals:\n",
    "    ind_count = len([q for q in ind_q_vals if q <= thres])\n",
    "    ind_counts.append(ind_count)\n",
    "\n",
    "rel_counts = list()\n",
    "for thres in xvals:\n",
    "    rel_count = len([q for q in rel_q_vals if q <= thres])\n",
    "    rel_counts.append(rel_count)\n"
   ]
  },
  {
   "cell_type": "code",
   "execution_count": 14,
   "metadata": {},
   "outputs": [
    {
     "data": {
      "image/png": "[encoded data removed]",
      "text/plain": [
       "<matplotlib.figure.Figure at 0x7fbbd7a22940>"
      ]
     },
     "metadata": {},
     "output_type": "display_data"
    }
   ],
   "source": [
    "plt.plot(xvals, ind_counts, label=\"ind\")\n",
    "plt.plot(xvals, rel_counts, label=\"rel\")\n",
    "plt.title('q-values in simulated data')\n",
    "plt.legend()\n",
    "plt.show()"
   ]
  },
  {
   "cell_type": "markdown",
   "metadata": {},
   "source": [
    "# 6: Differential expression results"
   ]
  },
  {
   "cell_type": "code",
   "execution_count": 15,
   "metadata": {},
   "outputs": [
    {
     "name": "stdout",
     "output_type": "stream",
     "text": [
      "Total values: 278\n",
      "Significant independent: 64\n",
      "Significant dependent: 49\n"
     ]
    }
   ],
   "source": [
    "print(\"Total values: {}\".format(len(ind_q_vals)))\n",
    "print(\"Significant independent: {}\".format(len([q for q in ind_q_vals if q <= 0.01])))\n",
    "print(\"Significant dependent: {}\".format(len([q for q in rel_q_vals if q <= 0.01])))"
   ]
  }
 ],
 "metadata": {
  "kernelspec": {
   "display_name": "Python 3",
   "language": "python",
   "name": "python3"
  },
  "language_info": {
   "codemirror_mode": {
    "name": "ipython",
    "version": 3
   },
   "file_extension": ".py",
   "mimetype": "text/x-python",
   "name": "python",
   "nbconvert_exporter": "python",
   "pygments_lexer": "ipython3",
   "version": "3.6.1"
  }
 },
 "nbformat": 4,
 "nbformat_minor": 2
}
