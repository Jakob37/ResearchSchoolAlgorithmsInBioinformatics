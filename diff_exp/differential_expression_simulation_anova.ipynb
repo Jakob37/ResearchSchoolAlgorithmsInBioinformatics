{
 "cells": [
  {
   "cell_type": "markdown",
   "metadata": {},
   "source": [
    "# Simulated data"
   ]
  },
  {
   "cell_type": "markdown",
   "metadata": {},
   "source": [
    "## 1: Implement subroutine generating random data"
   ]
  },
  {
   "cell_type": "code",
   "execution_count": 1,
   "metadata": {},
   "outputs": [],
   "source": [
    "import numpy as np\n",
    "import numpy.random as npr\n",
    "import pandas as pd\n",
    "from scipy import stats\n",
    "import matplotlib.pyplot as plt\n",
    "\n",
    "# import statsmodels.api as sm\n",
    "# from statsmodels.formula.api import ols\n",
    "\n",
    "from statsmodels.formula.api import ols\n",
    "from statsmodels.stats.anova import anova_lm\n"
   ]
  },
  {
   "cell_type": "code",
   "execution_count": 2,
   "metadata": {
    "collapsed": true
   },
   "outputs": [],
   "source": [
    "# Code received from Lukas\n",
    "def generate_expression_data(n_analytes=100, n_samples=2, n_replicates=3, p_regulated=0.2, mean_offset=3.0, var=0.2, diff_var=2.0):\n",
    "    # Here we follow a convension, The first sample is the reference i.e. have all label 1\n",
    "    labels = npr.binomial(1, p_regulated, (n_analytes,n_samples-1))\n",
    "    template = np.hstack((np.zeros((n_analytes,1)),labels))\n",
    "    \n",
    "    # We expand the template labels into several replicates\n",
    "    regulated = np.repeat(template,n_replicates, axis=1)\n",
    "    \n",
    "    # If the reading is regulated, offset it with a random offset sampled from the normal distribution \n",
    "    offset = regulated*npr.normal(0,diff_var,(n_analytes,1))\n",
    "    \n",
    "    # Model a differentexpression level for the different analytes\n",
    "    expr_level = np.ones((n_analytes,n_samples*n_replicates))*npr.normal(mean_offset,mean_offset,(n_analytes,1))\n",
    "    \n",
    "    # add noice for each measurement\n",
    "    expression = npr.normal(offset+expr_level,var,(n_analytes,n_replicates*n_samples))\n",
    "    expression = 2**expression\n",
    "    \n",
    "    analyte_names = [\"a\"+str(i+1) for i in range(n_analytes)]\n",
    "    sample_names = [\"s\"+str(i+1)+'_'+str(j+1) for i in range(n_samples) for j in range(n_replicates)]\n",
    "    \n",
    "    # Create a dataframe for expression values\n",
    "    expr_df = pd.DataFrame(expression,columns=sample_names,index=analyte_names)\n",
    "    expr_df.loc[\"Sample\",:] = [i+1 for i in range(n_samples) for j in range(n_replicates)]\n",
    "    \n",
    "    # Create a dataframe with answers if the reading was modeled as differential or not\n",
    "    label_df = pd.DataFrame(template,columns=[i+1 for i in range(n_samples)],index=analyte_names)\n",
    "                \n",
    "    return expr_df,label_df"
   ]
  },
  {
   "cell_type": "markdown",
   "metadata": {},
   "source": [
    "## 2: Generate testset of 10000 analytes under two conditions measured in 3 replicates."
   ]
  },
  {
   "cell_type": "code",
   "execution_count": 3,
   "metadata": {
    "collapsed": true
   },
   "outputs": [],
   "source": [
    "diff_expr_df, diff_label_df = generate_expression_data(n_analytes=10000, n_samples=3, n_replicates=3, p_regulated=0.2)\n",
    "null_expr_df, null_label_df = generate_expression_data(n_analytes=10000, n_samples=3, n_replicates=3, p_regulated=0)\n",
    "\n",
    "diff_expr_df.columns = [\"1\", \"1\", \"1\", \"2\", \"2\", \"2\", \"3\", \"3\", \"3\"]\n"
   ]
  },
  {
   "cell_type": "code",
   "execution_count": 4,
   "metadata": {},
   "outputs": [
    {
     "data": {
      "text/html": [
       "<div>\n",
       "<style>\n",
       "    .dataframe thead tr:only-child th {\n",
       "        text-align: right;\n",
       "    }\n",
       "\n",
       "    .dataframe thead th {\n",
       "        text-align: left;\n",
       "    }\n",
       "\n",
       "    .dataframe tbody tr th {\n",
       "        vertical-align: top;\n",
       "    }\n",
       "</style>\n",
       "<table border=\"1\" class=\"dataframe\">\n",
       "  <thead>\n",
       "    <tr style=\"text-align: right;\">\n",
       "      <th></th>\n",
       "      <th>1</th>\n",
       "      <th>1</th>\n",
       "      <th>1</th>\n",
       "      <th>2</th>\n",
       "      <th>2</th>\n",
       "      <th>2</th>\n",
       "      <th>3</th>\n",
       "      <th>3</th>\n",
       "      <th>3</th>\n",
       "    </tr>\n",
       "  </thead>\n",
       "  <tbody>\n",
       "    <tr>\n",
       "      <th>a1</th>\n",
       "      <td>0.933771</td>\n",
       "      <td>0.790261</td>\n",
       "      <td>1.114192</td>\n",
       "      <td>0.116993</td>\n",
       "      <td>0.115769</td>\n",
       "      <td>0.109801</td>\n",
       "      <td>0.888878</td>\n",
       "      <td>1.068254</td>\n",
       "      <td>0.956451</td>\n",
       "    </tr>\n",
       "    <tr>\n",
       "      <th>a2</th>\n",
       "      <td>34.815373</td>\n",
       "      <td>27.911198</td>\n",
       "      <td>31.486179</td>\n",
       "      <td>37.214290</td>\n",
       "      <td>35.619571</td>\n",
       "      <td>46.609361</td>\n",
       "      <td>37.724121</td>\n",
       "      <td>42.337400</td>\n",
       "      <td>45.829859</td>\n",
       "    </tr>\n",
       "    <tr>\n",
       "      <th>a3</th>\n",
       "      <td>3.296095</td>\n",
       "      <td>4.696901</td>\n",
       "      <td>3.427632</td>\n",
       "      <td>4.368915</td>\n",
       "      <td>3.662571</td>\n",
       "      <td>4.732659</td>\n",
       "      <td>3.792735</td>\n",
       "      <td>4.230375</td>\n",
       "      <td>3.543536</td>\n",
       "    </tr>\n",
       "    <tr>\n",
       "      <th>a4</th>\n",
       "      <td>13.844876</td>\n",
       "      <td>12.774950</td>\n",
       "      <td>11.221336</td>\n",
       "      <td>13.041672</td>\n",
       "      <td>12.558220</td>\n",
       "      <td>16.705133</td>\n",
       "      <td>14.582620</td>\n",
       "      <td>15.911192</td>\n",
       "      <td>12.007651</td>\n",
       "    </tr>\n",
       "    <tr>\n",
       "      <th>a5</th>\n",
       "      <td>194.848094</td>\n",
       "      <td>181.362143</td>\n",
       "      <td>172.124870</td>\n",
       "      <td>193.514093</td>\n",
       "      <td>221.440540</td>\n",
       "      <td>221.176723</td>\n",
       "      <td>185.349082</td>\n",
       "      <td>166.987464</td>\n",
       "      <td>177.884903</td>\n",
       "    </tr>\n",
       "  </tbody>\n",
       "</table>\n",
       "</div>"
      ],
      "text/plain": [
       "             1           1           1           2           2           2  \\\n",
       "a1    0.933771    0.790261    1.114192    0.116993    0.115769    0.109801   \n",
       "a2   34.815373   27.911198   31.486179   37.214290   35.619571   46.609361   \n",
       "a3    3.296095    4.696901    3.427632    4.368915    3.662571    4.732659   \n",
       "a4   13.844876   12.774950   11.221336   13.041672   12.558220   16.705133   \n",
       "a5  194.848094  181.362143  172.124870  193.514093  221.440540  221.176723   \n",
       "\n",
       "             3           3           3  \n",
       "a1    0.888878    1.068254    0.956451  \n",
       "a2   37.724121   42.337400   45.829859  \n",
       "a3    3.792735    4.230375    3.543536  \n",
       "a4   14.582620   15.911192   12.007651  \n",
       "a5  185.349082  166.987464  177.884903  "
      ]
     },
     "execution_count": 4,
     "metadata": {},
     "output_type": "execute_result"
    }
   ],
   "source": [
    "diff_expr_df.head()"
   ]
  },
  {
   "cell_type": "code",
   "execution_count": 24,
   "metadata": {},
   "outputs": [
    {
     "data": {
      "text/html": [
       "<div>\n",
       "<style>\n",
       "    .dataframe thead tr:only-child th {\n",
       "        text-align: right;\n",
       "    }\n",
       "\n",
       "    .dataframe thead th {\n",
       "        text-align: left;\n",
       "    }\n",
       "\n",
       "    .dataframe tbody tr th {\n",
       "        vertical-align: top;\n",
       "    }\n",
       "</style>\n",
       "<table border=\"1\" class=\"dataframe\">\n",
       "  <thead>\n",
       "    <tr style=\"text-align: right;\">\n",
       "      <th></th>\n",
       "      <th>1</th>\n",
       "      <th>2</th>\n",
       "      <th>3</th>\n",
       "    </tr>\n",
       "  </thead>\n",
       "  <tbody>\n",
       "    <tr>\n",
       "      <th>a1</th>\n",
       "      <td>0.0</td>\n",
       "      <td>1.0</td>\n",
       "      <td>0.0</td>\n",
       "    </tr>\n",
       "    <tr>\n",
       "      <th>a2</th>\n",
       "      <td>0.0</td>\n",
       "      <td>1.0</td>\n",
       "      <td>1.0</td>\n",
       "    </tr>\n",
       "    <tr>\n",
       "      <th>a3</th>\n",
       "      <td>0.0</td>\n",
       "      <td>0.0</td>\n",
       "      <td>0.0</td>\n",
       "    </tr>\n",
       "    <tr>\n",
       "      <th>a4</th>\n",
       "      <td>0.0</td>\n",
       "      <td>0.0</td>\n",
       "      <td>0.0</td>\n",
       "    </tr>\n",
       "    <tr>\n",
       "      <th>a5</th>\n",
       "      <td>0.0</td>\n",
       "      <td>0.0</td>\n",
       "      <td>0.0</td>\n",
       "    </tr>\n",
       "  </tbody>\n",
       "</table>\n",
       "</div>"
      ],
      "text/plain": [
       "      1    2    3\n",
       "a1  0.0  1.0  0.0\n",
       "a2  0.0  1.0  1.0\n",
       "a3  0.0  0.0  0.0\n",
       "a4  0.0  0.0  0.0\n",
       "a5  0.0  0.0  0.0"
      ]
     },
     "execution_count": 24,
     "metadata": {},
     "output_type": "execute_result"
    }
   ],
   "source": [
    "diff_label_df.head()"
   ]
  },
  {
   "cell_type": "markdown",
   "metadata": {},
   "source": [
    "## 3: Calculate p-values"
   ]
  },
  {
   "cell_type": "markdown",
   "metadata": {},
   "source": [
    "Example t-test."
   ]
  },
  {
   "cell_type": "code",
   "execution_count": 5,
   "metadata": {},
   "outputs": [
    {
     "name": "stderr",
     "output_type": "stream",
     "text": [
      "/usr/local/anaconda/lib/python3.6/site-packages/scipy/stats/_distn_infrastructure.py:879: RuntimeWarning: invalid value encountered in greater\n",
      "  return (self.a < x) & (x < self.b)\n",
      "/usr/local/anaconda/lib/python3.6/site-packages/scipy/stats/_distn_infrastructure.py:879: RuntimeWarning: invalid value encountered in less\n",
      "  return (self.a < x) & (x < self.b)\n",
      "/usr/local/anaconda/lib/python3.6/site-packages/scipy/stats/_distn_infrastructure.py:1818: RuntimeWarning: invalid value encountered in less_equal\n",
      "  cond2 = cond0 & (x <= self.a)\n"
     ]
    },
    {
     "data": {
      "text/plain": [
       "0.066660201841030234"
      ]
     },
     "execution_count": 5,
     "metadata": {},
     "output_type": "execute_result"
    }
   ],
   "source": [
    "def get_anova_p_from_row(row):\n",
    "    row_df = pd.DataFrame({\"sample\":row.index, \"value\":row})\n",
    "    row_fit = ols('value ~ C(sample)', data=row_df).fit()\n",
    "    report = anova_lm(row_fit, type=2)\n",
    "    anova_p = report.loc[\"C(sample)\", \"PR(>F)\"]\n",
    "    return anova_p\n",
    "\n",
    "row = diff_expr_df.iloc[1,:]\n",
    "get_anova_p_from_row(row)"
   ]
  },
  {
   "cell_type": "code",
   "execution_count": 7,
   "metadata": {},
   "outputs": [
    {
     "name": "stderr",
     "output_type": "stream",
     "text": [
      "/usr/local/anaconda/lib/python3.6/site-packages/scipy/stats/_distn_infrastructure.py:879: RuntimeWarning: invalid value encountered in greater\n",
      "  return (self.a < x) & (x < self.b)\n",
      "/usr/local/anaconda/lib/python3.6/site-packages/scipy/stats/_distn_infrastructure.py:879: RuntimeWarning: invalid value encountered in less\n",
      "  return (self.a < x) & (x < self.b)\n",
      "/usr/local/anaconda/lib/python3.6/site-packages/scipy/stats/_distn_infrastructure.py:1818: RuntimeWarning: invalid value encountered in less_equal\n",
      "  cond2 = cond0 & (x <= self.a)\n"
     ]
    }
   ],
   "source": [
    "diff_p_vals = diff_expr_df.apply(get_anova_p_from_row, axis=1)"
   ]
  },
  {
   "cell_type": "markdown",
   "metadata": {},
   "source": [
    "## 4: Implement subroutine for calculating q-value\n",
    "\n",
    "* Let p_1 <= p_2 <= p_m be ordered p-values\n",
    "* For a range lambda, say lambda = 0, 0.01, 0.02.., 0.95 calculate: pi0(lambda) = # {p_j > lambda} / m(1-lambda)\n",
    "* Let f be the natural cubic spline (in our case - average for high p-values)\n",
    "* Set estimate of pi_0 to be: pi_0 = f(1)\n",
    "* Calculate q(p(m)) = min((pi_0*m*t)/#{p_i <= t}) = pi_0 * p(m)\n",
    "* For i = m - 1, m - 2, ..., 1 calculate:\n",
    "* The estimated q is the ith most significant feaure is q(p(i))"
   ]
  },
  {
   "cell_type": "code",
   "execution_count": 9,
   "metadata": {
    "collapsed": true
   },
   "outputs": [],
   "source": [
    "def estimate_pis(pvals):\n",
    "    \n",
    "    pi_0_vals = list()\n",
    "    \n",
    "    for sub_thres in np.arange(0.01, 0.96, 0.01):\n",
    "        sub_p = [p for p in pvals if p > sub_thres]\n",
    "        sub_p_count = len(sub_p)\n",
    "        m = len(pvals)\n",
    "        pi_0 = sub_p_count / (m * (1-sub_thres))\n",
    "        pi_0_vals.append(pi_0)\n",
    "  \n",
    "    return pi_0_vals\n",
    "\n",
    "def estimate_pi_zero(pis, thres):\n",
    "    \n",
    "    tot = len(pis)\n",
    "    start_ind = int(tot * thres)\n",
    "    sub = pis[start_ind:]\n",
    "    return np.mean(sub)\n"
   ]
  },
  {
   "cell_type": "markdown",
   "metadata": {},
   "source": [
    "### Diff test"
   ]
  },
  {
   "cell_type": "code",
   "execution_count": 10,
   "metadata": {},
   "outputs": [
    {
     "data": {
      "image/png": "[encoded data removed]",
      "text/plain": [
       "<matplotlib.figure.Figure at 0x7f263fffb668>"
      ]
     },
     "metadata": {},
     "output_type": "display_data"
    }
   ],
   "source": [
    "diff_pi_0_vals = estimate_pis(diff_p_vals)\n",
    "plt.plot(diff_pi_0_vals)\n",
    "plt.show()"
   ]
  },
  {
   "cell_type": "markdown",
   "metadata": {},
   "source": [
    "### Null test"
   ]
  },
  {
   "cell_type": "markdown",
   "metadata": {},
   "source": [
    "#### q-value calculations"
   ]
  },
  {
   "cell_type": "code",
   "execution_count": 11,
   "metadata": {
    "collapsed": true
   },
   "outputs": [],
   "source": [
    "def estimate_q_vals(pvals):\n",
    "    pi_estimates = estimate_pis(pvals)\n",
    "    pi_0 = estimate_pi_zero(pi_estimates, 0.75)\n",
    "    m = len(pvals)\n",
    "    \n",
    "    fdr_vals = list()\n",
    "    for t in sorted(pvals):\n",
    "#     for i in range(len(pvals)):\n",
    "        val = pi_0 * m * t / (len(fdr_vals) + 1)\n",
    "        fdr_vals.append(val)\n",
    "#         q_vals.append(min(fdr_vals))\n",
    "\n",
    "    q_vals = list()\n",
    "    for sub_i in range(1, len(fdr_vals)):\n",
    "        fdr_slice = fdr_vals[len(fdr_vals) - sub_i:]\n",
    "        q = min(fdr_slice)\n",
    "        q_vals.insert(0, q)\n",
    "\n",
    "    print(\"pi_0: {}\".format(pi_0))\n",
    "    print(\"m: {}\".format(len(pvals)))\n",
    "    return q_vals\n",
    "    \n",
    "\n"
   ]
  },
  {
   "cell_type": "code",
   "execution_count": 35,
   "metadata": {},
   "outputs": [
    {
     "name": "stdout",
     "output_type": "stream",
     "text": [
      "pi_0: 0.6514181610807127\n",
      "m: 10001\n"
     ]
    }
   ],
   "source": [
    "diff_q_vals = estimate_q_vals(diff_p_vals)\n"
   ]
  },
  {
   "cell_type": "code",
   "execution_count": 36,
   "metadata": {},
   "outputs": [
    {
     "name": "stdout",
     "output_type": "stream",
     "text": [
      "[5.1247842984501292e-08, 5.2525237758337872e-08, 8.2928956960953823e-08, 1.7533073233339596e-07, 2.6016412544117981e-07, 4.0341299094692029e-07, 5.243216140953118e-07, 8.0187354535357491e-07, 8.6869996827728548e-07, 1.0005299501299569e-06]\n"
     ]
    }
   ],
   "source": [
    "print(diff_q_vals[0:10])"
   ]
  },
  {
   "cell_type": "code",
   "execution_count": 37,
   "metadata": {},
   "outputs": [
    {
     "data": {
      "image/png": "[encoded data removed]",
      "text/plain": [
       "<matplotlib.figure.Figure at 0x7f263c5d1470>"
      ]
     },
     "metadata": {},
     "output_type": "display_data"
    }
   ],
   "source": [
    "plt.plot(diff_q_vals)\n",
    "plt.title(\"Diff q vals\")\n",
    "plt.show()"
   ]
  },
  {
   "cell_type": "markdown",
   "metadata": {},
   "source": [
    "## 5: Differential expression genes, on q-threshold"
   ]
  },
  {
   "cell_type": "code",
   "execution_count": 38,
   "metadata": {
    "collapsed": true
   },
   "outputs": [],
   "source": [
    "xvals = np.arange(0, 0.5, 0.005)"
   ]
  },
  {
   "cell_type": "code",
   "execution_count": 39,
   "metadata": {},
   "outputs": [
    {
     "data": {
      "image/png": "[encoded data removed]",
      "text/plain": [
       "<matplotlib.figure.Figure at 0x7f263c5fd5c0>"
      ]
     },
     "metadata": {},
     "output_type": "display_data"
    }
   ],
   "source": [
    "diff_counts = list()\n",
    "for thres in xvals:\n",
    "    diff_count = len([q for q in diff_q_vals if q <= thres])\n",
    "    diff_counts.append(diff_count)\n",
    "plt.plot(xvals, diff_counts)\n",
    "plt.title('q-values in simulated data')\n",
    "plt.show()"
   ]
  },
  {
   "cell_type": "markdown",
   "metadata": {},
   "source": [
    "# 6: Plot difference between q-values and actual fraction of null statistics"
   ]
  },
  {
   "cell_type": "code",
   "execution_count": 17,
   "metadata": {},
   "outputs": [
    {
     "data": {
      "text/plain": [
       "[5.1247842984501292e-08,\n",
       " 5.2525237758337872e-08,\n",
       " 8.2928956960953823e-08,\n",
       " 1.7533073233339596e-07,\n",
       " 2.6016412544117981e-07,\n",
       " 4.0341299094692029e-07,\n",
       " 5.243216140953118e-07,\n",
       " 8.0187354535357491e-07,\n",
       " 8.6869996827728548e-07,\n",
       " 1.0005299501299569e-06]"
      ]
     },
     "execution_count": 17,
     "metadata": {},
     "output_type": "execute_result"
    }
   ],
   "source": [
    "diff_q_vals[0:10]"
   ]
  },
  {
   "cell_type": "code",
   "execution_count": 18,
   "metadata": {},
   "outputs": [
    {
     "data": {
      "text/plain": [
       "a1     0.000099\n",
       "a2     0.066660\n",
       "a3     0.611133\n",
       "a4     0.558910\n",
       "a5     0.028877\n",
       "a6     0.801048\n",
       "a7     0.486519\n",
       "a8     0.278760\n",
       "a9     0.549225\n",
       "a10    0.144559\n",
       "dtype: float64"
      ]
     },
     "execution_count": 18,
     "metadata": {},
     "output_type": "execute_result"
    }
   ],
   "source": [
    "diff_p_vals[0:10]"
   ]
  },
  {
   "cell_type": "code",
   "execution_count": 55,
   "metadata": {
    "collapsed": true
   },
   "outputs": [],
   "source": [
    "def get_true_diff_counts(pvals, labels, xvals):\n",
    "    \n",
    "    true_rows_col2 = labels.iloc[:,1] == 1\n",
    "    true_rows_col3 = labels.iloc[:,2] == 1\n",
    "    true_rows = list(np.array(true_rows_col2) | np.array(true_rows_col3))\n",
    "    \n",
    "    print(len(true_rows))\n",
    "    print(list(true_rows)[0:10])\n",
    "    true_pvals = pvals[list(true_rows)]\n",
    "    \n",
    "    below_thres_counts = list()\n",
    "    for thres in xvals:\n",
    "        below_thres_count = [p for p in true_pvals if p <= thres]\n",
    "        below_thres_counts.append(len(below_thres_count))\n",
    "    \n",
    "    return below_thres_counts"
   ]
  },
  {
   "cell_type": "code",
   "execution_count": 62,
   "metadata": {},
   "outputs": [
    {
     "name": "stdout",
     "output_type": "stream",
     "text": [
      "      c1     c2   rows\n",
      "0   True  False   True\n",
      "1   True   True   True\n",
      "2  False  False  False\n",
      "3  False  False  False\n",
      "4  False  False  False\n"
     ]
    }
   ],
   "source": [
    "true1 = diff_label_df.iloc[:,1] == 1\n",
    "true2 = diff_label_df.iloc[:,2] == 1\n",
    "true_rows = list(np.array(true1) | np.array(true2))\n",
    "print(pd.DataFrame({\"c1\":list(true1), \"c2\":list(true2), \"rows\":list(true_rows)}).head())\n",
    "# print(true2)"
   ]
  },
  {
   "cell_type": "code",
   "execution_count": 63,
   "metadata": {},
   "outputs": [
    {
     "name": "stdout",
     "output_type": "stream",
     "text": [
      "10000\n",
      "[True, True, False, False, False, False, False, False, False, True]\n"
     ]
    },
    {
     "name": "stderr",
     "output_type": "stream",
     "text": [
      "/usr/local/anaconda/lib/python3.6/site-packages/pandas/core/internals.py:258: VisibleDeprecationWarning: boolean index did not match indexed array along dimension 0; dimension is 10001 but corresponding boolean dimension is 10000\n",
      "  return self.values[slicer]\n",
      "/usr/local/anaconda/lib/python3.6/site-packages/pandas/core/indexes/base.py:1650: VisibleDeprecationWarning: boolean index did not match indexed array along dimension 0; dimension is 10001 but corresponding boolean dimension is 10000\n",
      "  result = getitem(key)\n"
     ]
    }
   ],
   "source": [
    "true_diff_counts = get_true_diff_counts(diff_p_vals, diff_label_df, xvals)"
   ]
  },
  {
   "cell_type": "code",
   "execution_count": 64,
   "metadata": {
    "collapsed": true
   },
   "outputs": [],
   "source": [
    "q_estimated_h1_count = list()\n",
    "for i in range(len(true_diff_counts)):\n",
    "    diff_count = diff_counts[i]\n",
    "    x_frac = xvals[i]\n",
    "    est_actual_diff_count = diff_count - diff_count * x_frac\n",
    "    q_estimated_h1_count.append(est_actual_diff_count)"
   ]
  },
  {
   "cell_type": "code",
   "execution_count": 65,
   "metadata": {},
   "outputs": [
    {
     "data": {
      "image/png": "[encoded data removed]",
      "text/plain": [
       "<matplotlib.figure.Figure at 0x7f263c3d2ef0>"
      ]
     },
     "metadata": {},
     "output_type": "display_data"
    }
   ],
   "source": [
    "true_counts = plt.plot(xvals, true_diff_counts, label=\"True H1 count\")\n",
    "q_counts = plt.plot(xvals, diff_counts, label=\"q sig count\")\n",
    "q_est_true = plt.plot(xvals, q_estimated_h1_count, label=\"q-estimated H1 count\")\n",
    "plt.legend()\n",
    "plt.title(\"Significant hypothesis counts\")\n",
    "plt.show()"
   ]
  },
  {
   "cell_type": "code",
   "execution_count": null,
   "metadata": {
    "collapsed": true
   },
   "outputs": [],
   "source": []
  }
 ],
 "metadata": {
  "kernelspec": {
   "display_name": "Python 3",
   "language": "python",
   "name": "python3"
  },
  "language_info": {
   "codemirror_mode": {
    "name": "ipython",
    "version": 3
   },
   "file_extension": ".py",
   "mimetype": "text/x-python",
   "name": "python",
   "nbconvert_exporter": "python",
   "pygments_lexer": "ipython3",
   "version": "3.6.1"
  }
 },
 "nbformat": 4,
 "nbformat_minor": 2
}
