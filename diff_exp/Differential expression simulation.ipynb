{
 "cells": [
  {
   "cell_type": "markdown",
   "metadata": {},
   "source": [
    "# Simulated data"
   ]
  },
  {
   "cell_type": "markdown",
   "metadata": {},
   "source": [
    "## 1: Implement subroutine generating random data"
   ]
  },
  {
   "cell_type": "code",
   "execution_count": 28,
   "metadata": {
    "collapsed": true
   },
   "outputs": [],
   "source": [
    "import numpy as np\n",
    "import numpy.random as npr\n",
    "import pandas as pd\n",
    "from scipy import stats\n",
    "import matplotlib.pyplot as plt"
   ]
  },
  {
   "cell_type": "code",
   "execution_count": 2,
   "metadata": {
    "collapsed": true
   },
   "outputs": [],
   "source": [
    "# Code received from Lukas\n",
    "def generate_expression_data(n_analytes=100, n_samples=2, n_replicates=3, p_regulated=0.2, mean_offset=3.0, var=0.2, diff_var=2.0):\n",
    "    # Here we follow a convension, The first sample is the reference i.e. have all label 1\n",
    "    labels = npr.binomial(1, p_regulated, (n_analytes,n_samples-1))\n",
    "    template = np.hstack((np.zeros((n_analytes,1)),labels))\n",
    "    \n",
    "    # We expand the template labels into several replicates\n",
    "    regulated = np.repeat(template,n_replicates, axis=1)\n",
    "    \n",
    "    # If the reading is regulated, offset it with a random offset sampled from the normal distribution \n",
    "    offset = regulated*npr.normal(0,diff_var,(n_analytes,1))\n",
    "    \n",
    "    # Model a differentexpression level for the different analytes\n",
    "    expr_level = np.ones((n_analytes,n_samples*n_replicates))*npr.normal(mean_offset,mean_offset,(n_analytes,1))\n",
    "    \n",
    "    # add noice for each measurement\n",
    "    expression = npr.normal(offset+expr_level,var,(n_analytes,n_replicates*n_samples))\n",
    "    expression = 2**expression\n",
    "    \n",
    "    analyte_names = [\"a\"+str(i+1) for i in range(n_analytes)]\n",
    "    sample_names = [\"s\"+str(i+1)+'_'+str(j+1) for i in range(n_samples) for j in range(n_replicates)]\n",
    "    \n",
    "    # Create a dataframe for expression values\n",
    "    expr_df = pd.DataFrame(expression,columns=sample_names,index=analyte_names)\n",
    "    expr_df.loc[\"Sample\",:] = [i+1 for i in range(n_samples) for j in range(n_replicates)]\n",
    "    \n",
    "    # Create a dataframe with answers if the reading was modeled as differential or not\n",
    "    label_df = pd.DataFrame(template,columns=[i+1 for i in range(n_samples)],index=analyte_names)\n",
    "                \n",
    "    return expr_df,label_df"
   ]
  },
  {
   "cell_type": "markdown",
   "metadata": {},
   "source": [
    "## 2: Generate testset of 10000 analytes under two conditions measured in 3 replicates."
   ]
  },
  {
   "cell_type": "code",
   "execution_count": 3,
   "metadata": {
    "collapsed": true
   },
   "outputs": [],
   "source": [
    "replicates = 4\n",
    "diff_expr_df, diff_label_df = generate_expression_data(n_analytes=10000, n_samples=2, n_replicates=replicates, p_regulated=0.2)\n",
    "null_expr_df, null_label_df = generate_expression_data(n_analytes=10000, n_samples=2, n_replicates=replicates, p_regulated=0)\n"
   ]
  },
  {
   "cell_type": "code",
   "execution_count": 4,
   "metadata": {},
   "outputs": [
    {
     "data": {
      "text/html": [
       "<div>\n",
       "<style>\n",
       "    .dataframe thead tr:only-child th {\n",
       "        text-align: right;\n",
       "    }\n",
       "\n",
       "    .dataframe thead th {\n",
       "        text-align: left;\n",
       "    }\n",
       "\n",
       "    .dataframe tbody tr th {\n",
       "        vertical-align: top;\n",
       "    }\n",
       "</style>\n",
       "<table border=\"1\" class=\"dataframe\">\n",
       "  <thead>\n",
       "    <tr style=\"text-align: right;\">\n",
       "      <th></th>\n",
       "      <th>s1_1</th>\n",
       "      <th>s1_2</th>\n",
       "      <th>s1_3</th>\n",
       "      <th>s1_4</th>\n",
       "      <th>s1_5</th>\n",
       "      <th>s1_6</th>\n",
       "      <th>s1_7</th>\n",
       "      <th>s1_8</th>\n",
       "      <th>s1_9</th>\n",
       "      <th>s1_10</th>\n",
       "      <th>s2_1</th>\n",
       "      <th>s2_2</th>\n",
       "      <th>s2_3</th>\n",
       "      <th>s2_4</th>\n",
       "      <th>s2_5</th>\n",
       "      <th>s2_6</th>\n",
       "      <th>s2_7</th>\n",
       "      <th>s2_8</th>\n",
       "      <th>s2_9</th>\n",
       "      <th>s2_10</th>\n",
       "    </tr>\n",
       "  </thead>\n",
       "  <tbody>\n",
       "    <tr>\n",
       "      <th>a1</th>\n",
       "      <td>50.015035</td>\n",
       "      <td>44.951846</td>\n",
       "      <td>48.798646</td>\n",
       "      <td>45.472140</td>\n",
       "      <td>45.953309</td>\n",
       "      <td>50.993915</td>\n",
       "      <td>48.045433</td>\n",
       "      <td>53.848928</td>\n",
       "      <td>47.195869</td>\n",
       "      <td>49.144854</td>\n",
       "      <td>25.329963</td>\n",
       "      <td>34.959681</td>\n",
       "      <td>35.917102</td>\n",
       "      <td>38.358656</td>\n",
       "      <td>23.020162</td>\n",
       "      <td>34.994375</td>\n",
       "      <td>32.739265</td>\n",
       "      <td>38.117121</td>\n",
       "      <td>30.921065</td>\n",
       "      <td>33.775397</td>\n",
       "    </tr>\n",
       "    <tr>\n",
       "      <th>a2</th>\n",
       "      <td>1.555411</td>\n",
       "      <td>1.758049</td>\n",
       "      <td>2.339836</td>\n",
       "      <td>2.192639</td>\n",
       "      <td>2.032064</td>\n",
       "      <td>1.528734</td>\n",
       "      <td>2.105425</td>\n",
       "      <td>1.736042</td>\n",
       "      <td>2.201358</td>\n",
       "      <td>1.982391</td>\n",
       "      <td>1.864324</td>\n",
       "      <td>1.949188</td>\n",
       "      <td>2.127008</td>\n",
       "      <td>1.672557</td>\n",
       "      <td>2.040442</td>\n",
       "      <td>2.303077</td>\n",
       "      <td>2.069951</td>\n",
       "      <td>2.054735</td>\n",
       "      <td>2.362987</td>\n",
       "      <td>1.491922</td>\n",
       "    </tr>\n",
       "    <tr>\n",
       "      <th>a3</th>\n",
       "      <td>20.815256</td>\n",
       "      <td>18.475684</td>\n",
       "      <td>24.023188</td>\n",
       "      <td>17.579137</td>\n",
       "      <td>14.453153</td>\n",
       "      <td>16.979409</td>\n",
       "      <td>17.118799</td>\n",
       "      <td>16.946594</td>\n",
       "      <td>21.030287</td>\n",
       "      <td>21.005696</td>\n",
       "      <td>20.378874</td>\n",
       "      <td>17.994062</td>\n",
       "      <td>20.698988</td>\n",
       "      <td>15.453122</td>\n",
       "      <td>17.436170</td>\n",
       "      <td>14.759887</td>\n",
       "      <td>17.299086</td>\n",
       "      <td>23.775415</td>\n",
       "      <td>16.564288</td>\n",
       "      <td>20.644625</td>\n",
       "    </tr>\n",
       "    <tr>\n",
       "      <th>a4</th>\n",
       "      <td>0.131758</td>\n",
       "      <td>0.126430</td>\n",
       "      <td>0.152377</td>\n",
       "      <td>0.160540</td>\n",
       "      <td>0.112974</td>\n",
       "      <td>0.135443</td>\n",
       "      <td>0.178650</td>\n",
       "      <td>0.170810</td>\n",
       "      <td>0.132858</td>\n",
       "      <td>0.135870</td>\n",
       "      <td>0.132406</td>\n",
       "      <td>0.114654</td>\n",
       "      <td>0.154726</td>\n",
       "      <td>0.143356</td>\n",
       "      <td>0.173700</td>\n",
       "      <td>0.153715</td>\n",
       "      <td>0.141229</td>\n",
       "      <td>0.184854</td>\n",
       "      <td>0.135879</td>\n",
       "      <td>0.141868</td>\n",
       "    </tr>\n",
       "    <tr>\n",
       "      <th>a5</th>\n",
       "      <td>0.253751</td>\n",
       "      <td>0.285910</td>\n",
       "      <td>0.317251</td>\n",
       "      <td>0.276127</td>\n",
       "      <td>0.263085</td>\n",
       "      <td>0.297235</td>\n",
       "      <td>0.278912</td>\n",
       "      <td>0.278382</td>\n",
       "      <td>0.310257</td>\n",
       "      <td>0.396244</td>\n",
       "      <td>0.266815</td>\n",
       "      <td>0.319951</td>\n",
       "      <td>0.220445</td>\n",
       "      <td>0.290550</td>\n",
       "      <td>0.269583</td>\n",
       "      <td>0.302253</td>\n",
       "      <td>0.257048</td>\n",
       "      <td>0.406633</td>\n",
       "      <td>0.276529</td>\n",
       "      <td>0.207120</td>\n",
       "    </tr>\n",
       "  </tbody>\n",
       "</table>\n",
       "</div>"
      ],
      "text/plain": [
       "         s1_1       s1_2       s1_3       s1_4       s1_5       s1_6  \\\n",
       "a1  50.015035  44.951846  48.798646  45.472140  45.953309  50.993915   \n",
       "a2   1.555411   1.758049   2.339836   2.192639   2.032064   1.528734   \n",
       "a3  20.815256  18.475684  24.023188  17.579137  14.453153  16.979409   \n",
       "a4   0.131758   0.126430   0.152377   0.160540   0.112974   0.135443   \n",
       "a5   0.253751   0.285910   0.317251   0.276127   0.263085   0.297235   \n",
       "\n",
       "         s1_7       s1_8       s1_9      s1_10       s2_1       s2_2  \\\n",
       "a1  48.045433  53.848928  47.195869  49.144854  25.329963  34.959681   \n",
       "a2   2.105425   1.736042   2.201358   1.982391   1.864324   1.949188   \n",
       "a3  17.118799  16.946594  21.030287  21.005696  20.378874  17.994062   \n",
       "a4   0.178650   0.170810   0.132858   0.135870   0.132406   0.114654   \n",
       "a5   0.278912   0.278382   0.310257   0.396244   0.266815   0.319951   \n",
       "\n",
       "         s2_3       s2_4       s2_5       s2_6       s2_7       s2_8  \\\n",
       "a1  35.917102  38.358656  23.020162  34.994375  32.739265  38.117121   \n",
       "a2   2.127008   1.672557   2.040442   2.303077   2.069951   2.054735   \n",
       "a3  20.698988  15.453122  17.436170  14.759887  17.299086  23.775415   \n",
       "a4   0.154726   0.143356   0.173700   0.153715   0.141229   0.184854   \n",
       "a5   0.220445   0.290550   0.269583   0.302253   0.257048   0.406633   \n",
       "\n",
       "         s2_9      s2_10  \n",
       "a1  30.921065  33.775397  \n",
       "a2   2.362987   1.491922  \n",
       "a3  16.564288  20.644625  \n",
       "a4   0.135879   0.141868  \n",
       "a5   0.276529   0.207120  "
      ]
     },
     "execution_count": 4,
     "metadata": {},
     "output_type": "execute_result"
    }
   ],
   "source": [
    "diff_expr_df.head()"
   ]
  },
  {
   "cell_type": "markdown",
   "metadata": {},
   "source": [
    "## 3: Calculate p-values"
   ]
  },
  {
   "cell_type": "markdown",
   "metadata": {},
   "source": [
    "Example t-test."
   ]
  },
  {
   "cell_type": "code",
   "execution_count": 5,
   "metadata": {},
   "outputs": [
    {
     "data": {
      "text/plain": [
       "0.28786413472669081"
      ]
     },
     "execution_count": 5,
     "metadata": {},
     "output_type": "execute_result"
    }
   ],
   "source": [
    "test_res = stats.ttest_ind([1,2,3], [2,3,4])\n",
    "test_res.pvalue"
   ]
  },
  {
   "cell_type": "code",
   "execution_count": 6,
   "metadata": {},
   "outputs": [
    {
     "name": "stdout",
     "output_type": "stream",
     "text": [
      "['s1_1', 's1_2', 's1_3', 's1_4', 's1_5', 's1_6', 's1_7', 's1_8', 's1_9', 's1_10']\n",
      "['s2_1', 's2_2', 's2_3', 's2_4', 's2_5', 's2_6', 's2_7', 's2_8', 's2_9', 's2_10']\n"
     ]
    }
   ],
   "source": [
    "s1_labels = list()\n",
    "s2_labels = list()\n",
    "for i in range(1, replicates+1):\n",
    "    s1_labels.append(\"s1_\" + str(i))\n",
    "    s2_labels.append(\"s2_\" + str(i))\n",
    "   \n",
    "print(s1_labels)\n",
    "print(s2_labels)\n",
    "\n",
    "# s1_labels = [\"s1_1\", \"s1_2\", \"s1_3\", \"s1_4\", \"s1_5\"]\n",
    "# s2_labels = [\"s2_1\", \"s2_2\", \"s2_3\", \"s2_4\", \"s2_5\"]\n",
    "# s1_labels = [\"s1_1\", \"s1_2\", \"s1_3\", \"s1_4\", \"s1_5\"]\n",
    "# s2_labels = [\"s2_1\", \"s2_2\", \"s2_3\", \"s2_4\", \"s2_5\"]\n",
    "features = diff_label_df.index"
   ]
  },
  {
   "cell_type": "code",
   "execution_count": 7,
   "metadata": {
    "collapsed": true
   },
   "outputs": [],
   "source": [
    "# sub_df = expr_df.iloc[0:5]\n",
    "# # print(sub_df)\n",
    "# s1_cols = sub_df[s1_labels]\n",
    "# print(s1_cols)\n",
    "# s2_cols = sub_df[s2_labels]\n",
    "# print(s2_cols)\n",
    "# print(stats.ttest_ind(s1_cols, s2_cols).pvalue)\n",
    "# print(stats.ttest_ind(s1_cols, s2_cols, axis=1).pvalue)"
   ]
  },
  {
   "cell_type": "code",
   "execution_count": 8,
   "metadata": {},
   "outputs": [
    {
     "name": "stdout",
     "output_type": "stream",
     "text": [
      "[  9.69456577e-08   6.86123416e-01   7.88258536e-01 ...,   6.26409082e-01\n",
      "   4.65001850e-15   9.37840297e-01]\n"
     ]
    }
   ],
   "source": [
    "diff_test_results = stats.ttest_ind(diff_expr_df.loc[features,s1_labels], diff_expr_df.loc[features,s2_labels], axis=1)\n",
    "diff_p_vals = diff_test_results.pvalue\n",
    "print(diff_p_vals)\n"
   ]
  },
  {
   "cell_type": "code",
   "execution_count": 9,
   "metadata": {},
   "outputs": [
    {
     "data": {
      "text/plain": [
       "array([  9.69456577e-08,   6.86123416e-01,   7.88258536e-01,\n",
       "         6.79805930e-01,   5.27168555e-01,   9.77526303e-01,\n",
       "         7.40812789e-02,   5.67721562e-01,   1.26775897e-14,\n",
       "         1.92184729e-11])"
      ]
     },
     "execution_count": 9,
     "metadata": {},
     "output_type": "execute_result"
    }
   ],
   "source": [
    "diff_p_vals[0:10]"
   ]
  },
  {
   "cell_type": "code",
   "execution_count": 10,
   "metadata": {},
   "outputs": [],
   "source": [
    "null_test_results = stats.ttest_ind(null_expr_df.loc[features,s1_labels], null_expr_df.loc[features,s2_labels], axis=1)\n",
    "null_p_vals = null_test_results.pvalue"
   ]
  },
  {
   "cell_type": "markdown",
   "metadata": {},
   "source": [
    "## 4: Implement subroutine for calculating q-value\n",
    "\n",
    "* Let p_1 <= p_2 <= p_m be ordered p-values\n",
    "* For a range lambda, say lambda = 0, 0.01, 0.02.., 0.95 calculate: pi0(lambda) = # {p_j > lambda} / m(1-lambda)\n",
    "* Let f be the natural cubic spline (in our case - average for high p-values)\n",
    "* Set estimate of pi_0 to be: pi_0 = f(1)\n",
    "* Calculate q(p(m)) = min((pi_0*m*t)/#{p_i <= t}) = pi_0 * p(m)\n",
    "* For i = m - 1, m - 2, ..., 1 calculate:\n",
    "* The estimated q is the ith most significant feaure is q(p(i))"
   ]
  },
  {
   "cell_type": "code",
   "execution_count": 11,
   "metadata": {
    "collapsed": true
   },
   "outputs": [],
   "source": [
    "def estimate_pis(pvals):\n",
    "    \n",
    "    pi_0_vals = list()\n",
    "    \n",
    "    for sub_thres in np.arange(0.01, 0.96, 0.01):\n",
    "        sub_p = [p for p in pvals if p > sub_thres]\n",
    "        sub_p_count = len(sub_p)\n",
    "        m = len(pvals)\n",
    "        pi_0 = sub_p_count / (m * (1-sub_thres))\n",
    "        pi_0_vals.append(pi_0)\n",
    "  \n",
    "    return pi_0_vals\n",
    "\n",
    "def estimate_pi_zero(pis, thres):\n",
    "    \n",
    "    tot = len(pis)\n",
    "    start_ind = int(tot * thres)\n",
    "    sub = pis[start_ind:]\n",
    "    return np.mean(sub)\n"
   ]
  },
  {
   "cell_type": "markdown",
   "metadata": {},
   "source": [
    "### Diff test"
   ]
  },
  {
   "cell_type": "code",
   "execution_count": 12,
   "metadata": {},
   "outputs": [
    {
     "data": {
      "image/png": "[encoded data removed]",
      "text/plain": [
       "<matplotlib.figure.Figure at 0x7fbf12b63c50>"
      ]
     },
     "metadata": {},
     "output_type": "display_data"
    }
   ],
   "source": [
    "diff_pi_0_vals = estimate_pis(diff_p_vals)\n",
    "plt.plot(diff_pi_0_vals)\n",
    "plt.show()"
   ]
  },
  {
   "cell_type": "markdown",
   "metadata": {},
   "source": [
    "### Null test"
   ]
  },
  {
   "cell_type": "code",
   "execution_count": 13,
   "metadata": {},
   "outputs": [
    {
     "data": {
      "image/png": "[encoded data removed]",
      "text/plain": [
       "<matplotlib.figure.Figure at 0x7fbf12b136a0>"
      ]
     },
     "metadata": {},
     "output_type": "display_data"
    }
   ],
   "source": [
    "null_pi_0_vals = estimate_pis(null_p_vals)\n",
    "plt.plot(null_pi_0_vals)\n",
    "plt.show()"
   ]
  },
  {
   "cell_type": "markdown",
   "metadata": {},
   "source": [
    "#### q-value calculations"
   ]
  },
  {
   "cell_type": "code",
   "execution_count": 14,
   "metadata": {
    "collapsed": true
   },
   "outputs": [],
   "source": [
    "def estimate_q_vals(pvals):\n",
    "    pi_estimates = estimate_pis(pvals)\n",
    "    pi_0 = estimate_pi_zero(pi_estimates, 0.75)\n",
    "    m = len(pvals)\n",
    "    \n",
    "    fdr_vals = list()\n",
    "    for t in sorted(pvals):\n",
    "#     for i in range(len(pvals)):\n",
    "        val = pi_0 * m * t / (len(fdr_vals) + 1)\n",
    "        fdr_vals.append(val)\n",
    "#         q_vals.append(min(fdr_vals))\n",
    "\n",
    "    q_vals = list()\n",
    "    for sub_i in range(1, len(fdr_vals)):\n",
    "        fdr_slice = fdr_vals[len(fdr_vals) - sub_i:]\n",
    "        q = min(fdr_slice)\n",
    "        q_vals.insert(0, q)\n",
    "\n",
    "    print(\"pi_0: {}\".format(pi_0))\n",
    "    print(\"m: {}\".format(len(pvals)))\n",
    "    return q_vals\n",
    "    \n",
    "\n"
   ]
  },
  {
   "cell_type": "code",
   "execution_count": 15,
   "metadata": {},
   "outputs": [
    {
     "name": "stdout",
     "output_type": "stream",
     "text": [
      "pi_0: 0.7563273415733627\n",
      "m: 10000\n",
      "pi_0: 1.0094202722112204\n",
      "m: 10000\n"
     ]
    }
   ],
   "source": [
    "diff_q_vals = estimate_q_vals(diff_p_vals)\n",
    "null_q_vals = estimate_q_vals(null_p_vals)\n"
   ]
  },
  {
   "cell_type": "code",
   "execution_count": 16,
   "metadata": {},
   "outputs": [
    {
     "name": "stdout",
     "output_type": "stream",
     "text": [
      "[1.2038975681395902e-16, 1.2038975681395902e-16, 6.8375215808828368e-16, 7.7249673782700318e-16, 1.4505056795829057e-15, 1.9115720059268856e-15, 1.9151073031423333e-15, 2.1266528450963568e-15, 2.9094370990732899e-15, 3.0966446453417761e-15]\n",
      "[0.77609950698231334, 0.77609950698231334, 0.77609950698231334, 0.77754535552471515, 0.77754535552471515, 0.77754535552471515, 0.77754535552471515, 0.77754535552471515, 0.77754535552471515, 0.77754535552471515]\n"
     ]
    }
   ],
   "source": [
    "print(diff_q_vals[0:10])\n",
    "print(null_q_vals[0:10])"
   ]
  },
  {
   "cell_type": "code",
   "execution_count": 17,
   "metadata": {},
   "outputs": [
    {
     "data": {
      "image/png": "[encoded data removed]",
      "text/plain": [
       "<matplotlib.figure.Figure at 0x7fbf1296b208>"
      ]
     },
     "metadata": {},
     "output_type": "display_data"
    }
   ],
   "source": [
    "plt.plot(diff_q_vals)\n",
    "plt.title(\"Diff q vals\")\n",
    "plt.show()"
   ]
  },
  {
   "cell_type": "code",
   "execution_count": 18,
   "metadata": {},
   "outputs": [
    {
     "data": {
      "image/png": "[encoded data removed]",
      "text/plain": [
       "<matplotlib.figure.Figure at 0x7fbf0f4efa58>"
      ]
     },
     "metadata": {},
     "output_type": "display_data"
    }
   ],
   "source": [
    "plt.plot(null_q_vals)\n",
    "plt.title(\"Null q vals\")\n",
    "plt.show()"
   ]
  },
  {
   "cell_type": "markdown",
   "metadata": {},
   "source": [
    "## 5: Differential expression genes, on q-threshold"
   ]
  },
  {
   "cell_type": "code",
   "execution_count": 19,
   "metadata": {
    "collapsed": true
   },
   "outputs": [],
   "source": [
    "xvals = np.arange(0, 0.5, 0.005)"
   ]
  },
  {
   "cell_type": "code",
   "execution_count": 20,
   "metadata": {},
   "outputs": [
    {
     "data": {
      "image/png": "[encoded data removed]",
      "text/plain": [
       "<matplotlib.figure.Figure at 0x7fbf0f518cf8>"
      ]
     },
     "metadata": {},
     "output_type": "display_data"
    }
   ],
   "source": [
    "diff_counts = list()\n",
    "for thres in xvals:\n",
    "    diff_count = len([q for q in diff_q_vals if q <= thres])\n",
    "    diff_counts.append(diff_count)\n",
    "plt.plot(xvals, diff_counts)\n",
    "plt.title('q-values in simulated data')\n",
    "plt.show()"
   ]
  },
  {
   "cell_type": "code",
   "execution_count": 21,
   "metadata": {},
   "outputs": [
    {
     "data": {
      "image/png": "[encoded data removed]",
      "text/plain": [
       "<matplotlib.figure.Figure at 0x7fbf12a4b470>"
      ]
     },
     "metadata": {},
     "output_type": "display_data"
    }
   ],
   "source": [
    "null_counts = list()\n",
    "for thres in xvals:\n",
    "    null_count = len([q for q in null_q_vals if q <= thres])\n",
    "    null_counts.append(null_count)\n",
    "plt.plot(xvals, null_counts)\n",
    "plt.title('q-values in simulated data')\n",
    "plt.show()"
   ]
  },
  {
   "cell_type": "markdown",
   "metadata": {},
   "source": [
    "# 6: Plot difference between q-values and actual fraction of null statistics"
   ]
  },
  {
   "cell_type": "code",
   "execution_count": 22,
   "metadata": {},
   "outputs": [
    {
     "data": {
      "text/plain": [
       "[1.2038975681395902e-16,\n",
       " 1.2038975681395902e-16,\n",
       " 6.8375215808828368e-16,\n",
       " 7.7249673782700318e-16,\n",
       " 1.4505056795829057e-15,\n",
       " 1.9115720059268856e-15,\n",
       " 1.9151073031423333e-15,\n",
       " 2.1266528450963568e-15,\n",
       " 2.9094370990732899e-15,\n",
       " 3.0966446453417761e-15]"
      ]
     },
     "execution_count": 22,
     "metadata": {},
     "output_type": "execute_result"
    }
   ],
   "source": [
    "diff_q_vals[0:10]"
   ]
  },
  {
   "cell_type": "code",
   "execution_count": 23,
   "metadata": {},
   "outputs": [
    {
     "data": {
      "text/plain": [
       "array([  9.69456577e-08,   6.86123416e-01,   7.88258536e-01,\n",
       "         6.79805930e-01,   5.27168555e-01,   9.77526303e-01,\n",
       "         7.40812789e-02,   5.67721562e-01,   1.26775897e-14,\n",
       "         1.92184729e-11])"
      ]
     },
     "execution_count": 23,
     "metadata": {},
     "output_type": "execute_result"
    }
   ],
   "source": [
    "diff_p_vals[0:10]"
   ]
  },
  {
   "cell_type": "code",
   "execution_count": 24,
   "metadata": {
    "collapsed": true
   },
   "outputs": [],
   "source": [
    "def get_true_diff_counts(pvals, labels, xvals):\n",
    "    \n",
    "    true_rows = labels.iloc[:,1] == 1\n",
    "    true_pvals = pvals[true_rows]\n",
    "    \n",
    "    below_thres_counts = list()\n",
    "    for thres in xvals:\n",
    "        below_thres_count = [p for p in true_pvals if p <= thres]\n",
    "        below_thres_counts.append(len(below_thres_count))\n",
    "    \n",
    "    return below_thres_counts"
   ]
  },
  {
   "cell_type": "code",
   "execution_count": 25,
   "metadata": {
    "collapsed": true
   },
   "outputs": [],
   "source": [
    "true_diff_counts = get_true_diff_counts(diff_p_vals, diff_label_df, xvals)"
   ]
  },
  {
   "cell_type": "code",
   "execution_count": 26,
   "metadata": {
    "collapsed": true
   },
   "outputs": [],
   "source": [
    "q_estimated_h1_count = list()\n",
    "for i in range(len(true_diff_counts)):\n",
    "    diff_count = diff_counts[i]\n",
    "    x_frac = xvals[i]\n",
    "    est_actual_diff_count = diff_count - diff_count * x_frac\n",
    "    q_estimated_h1_count.append(est_actual_diff_count)"
   ]
  },
  {
   "cell_type": "code",
   "execution_count": 27,
   "metadata": {},
   "outputs": [
    {
     "data": {
      "image/png": "[encoded data removed]",
      "text/plain": [
       "<matplotlib.figure.Figure at 0x7fbf0f38d8d0>"
      ]
     },
     "metadata": {},
     "output_type": "display_data"
    }
   ],
   "source": [
    "true_counts = plt.plot(xvals, true_diff_counts, label=\"True H1 count\")\n",
    "q_counts = plt.plot(xvals, diff_counts, label=\"q sig count\")\n",
    "q_est_true = plt.plot(xvals, q_estimated_h1_count, label=\"q-estimated H1 count\")\n",
    "plt.legend()\n",
    "plt.title(\"Significant hypothesis counts\")\n",
    "plt.show()"
   ]
  },
  {
   "cell_type": "code",
   "execution_count": null,
   "metadata": {
    "collapsed": true
   },
   "outputs": [],
   "source": []
  }
 ],
 "metadata": {
  "kernelspec": {
   "display_name": "Python 3",
   "language": "python",
   "name": "python3"
  },
  "language_info": {
   "codemirror_mode": {
    "name": "ipython",
    "version": 3
   },
   "file_extension": ".py",
   "mimetype": "text/x-python",
   "name": "python",
   "nbconvert_exporter": "python",
   "pygments_lexer": "ipython3",
   "version": "3.6.1"
  }
 },
 "nbformat": 4,
 "nbformat_minor": 2
}
