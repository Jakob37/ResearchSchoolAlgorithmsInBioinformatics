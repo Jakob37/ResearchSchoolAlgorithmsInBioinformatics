{
 "cells": [
  {
   "cell_type": "markdown",
   "metadata": {},
   "source": [
    "# Simulated data"
   ]
  },
  {
   "cell_type": "markdown",
   "metadata": {},
   "source": [
    "## 1: Implement subroutine generating random data"
   ]
  },
  {
   "cell_type": "code",
   "execution_count": 1,
   "metadata": {
    "collapsed": true
   },
   "outputs": [],
   "source": [
    "import numpy as np\n",
    "import numpy.random as npr\n",
    "import pandas as pd\n",
    "from scipy import stats\n",
    "import matplotlib.pyplot as plt"
   ]
  },
  {
   "cell_type": "code",
   "execution_count": 2,
   "metadata": {
    "collapsed": true
   },
   "outputs": [],
   "source": [
    "# Code received from Lukas\n",
    "def generate_expression_data(n_analytes=100, n_samples=2, n_replicates=3, p_regulated=0.2, mean_offset=3.0, var=0.2, diff_var=2.0):\n",
    "    # Here we follow a convension, The first sample is the reference i.e. have all label 1\n",
    "    labels = npr.binomial(1, p_regulated, (n_analytes,n_samples-1))\n",
    "    template = np.hstack((np.zeros((n_analytes,1)),labels))\n",
    "    \n",
    "    # We expand the template labels into several replicates\n",
    "    regulated = np.repeat(template,n_replicates, axis=1)\n",
    "    \n",
    "    # If the reading is regulated, offset it with a random offset sampled from the normal distribution \n",
    "    offset = regulated*npr.normal(0,diff_var,(n_analytes,1))\n",
    "    \n",
    "    # Model a differentexpression level for the different analytes\n",
    "    expr_level = np.ones((n_analytes,n_samples*n_replicates))*npr.normal(mean_offset,mean_offset,(n_analytes,1))\n",
    "    \n",
    "    # add noice for each measurement\n",
    "    expression = npr.normal(offset+expr_level,var,(n_analytes,n_replicates*n_samples))\n",
    "    expression = 2**expression\n",
    "    \n",
    "    analyte_names = [\"a\"+str(i+1) for i in range(n_analytes)]\n",
    "    sample_names = [\"s\"+str(i+1)+'_'+str(j+1) for i in range(n_samples) for j in range(n_replicates)]\n",
    "    \n",
    "    # Create a dataframe for expression values\n",
    "    expr_df = pd.DataFrame(expression,columns=sample_names,index=analyte_names)\n",
    "    expr_df.loc[\"Sample\",:] = [i+1 for i in range(n_samples) for j in range(n_replicates)]\n",
    "    \n",
    "    # Create a dataframe with answers if the reading was modeled as differential or not\n",
    "    label_df = pd.DataFrame(template,columns=[i+1 for i in range(n_samples)],index=analyte_names)\n",
    "                \n",
    "    return expr_df,label_df"
   ]
  },
  {
   "cell_type": "markdown",
   "metadata": {},
   "source": [
    "## 2: Generate testset of 10000 analytes under two conditions measured in 3 replicates."
   ]
  },
  {
   "cell_type": "code",
   "execution_count": 3,
   "metadata": {
    "collapsed": true
   },
   "outputs": [],
   "source": [
    "diff_expr_df, diff_label_df = generate_expression_data(n_analytes=10000, n_samples=2, n_replicates=3, p_regulated=0.2)\n",
    "null_expr_df, null_label_df = generate_expression_data(n_analytes=10000, n_samples=2, n_replicates=3, p_regulated=0)\n"
   ]
  },
  {
   "cell_type": "markdown",
   "metadata": {},
   "source": [
    "## 3: Calculate p-values"
   ]
  },
  {
   "cell_type": "markdown",
   "metadata": {},
   "source": [
    "Example t-test."
   ]
  },
  {
   "cell_type": "code",
   "execution_count": 4,
   "metadata": {},
   "outputs": [
    {
     "data": {
      "text/plain": [
       "0.28786413472669081"
      ]
     },
     "execution_count": 4,
     "metadata": {},
     "output_type": "execute_result"
    }
   ],
   "source": [
    "test_res = stats.ttest_ind([1,2,3], [2,3,4])\n",
    "test_res.pvalue"
   ]
  },
  {
   "cell_type": "code",
   "execution_count": 5,
   "metadata": {},
   "outputs": [],
   "source": [
    "s1_labels = [\"s1_1\", \"s1_2\", \"s1_3\"]\n",
    "s2_labels = [\"s2_1\", \"s2_2\", \"s2_3\"]\n",
    "features = diff_label_df.index"
   ]
  },
  {
   "cell_type": "code",
   "execution_count": 6,
   "metadata": {},
   "outputs": [],
   "source": [
    "# sub_df = expr_df.iloc[0:5]\n",
    "# # print(sub_df)\n",
    "# s1_cols = sub_df[s1_labels]\n",
    "# print(s1_cols)\n",
    "# s2_cols = sub_df[s2_labels]\n",
    "# print(s2_cols)\n",
    "# print(stats.ttest_ind(s1_cols, s2_cols).pvalue)\n",
    "# print(stats.ttest_ind(s1_cols, s2_cols, axis=1).pvalue)"
   ]
  },
  {
   "cell_type": "code",
   "execution_count": 7,
   "metadata": {},
   "outputs": [],
   "source": [
    "diff_test_results = stats.ttest_ind(diff_expr_df.loc[features,s1_labels], diff_expr_df.loc[features,s2_labels], axis=1)\n",
    "diff_p_vals = diff_test_results.pvalue"
   ]
  },
  {
   "cell_type": "code",
   "execution_count": 20,
   "metadata": {},
   "outputs": [
    {
     "data": {
      "text/plain": [
       "array([ 0.00473335,  0.67309666,  0.60263033,  0.42511025,  0.26385463,\n",
       "        0.01031753,  0.69330059,  0.29204548,  0.01244954,  0.7446809 ])"
      ]
     },
     "execution_count": 20,
     "metadata": {},
     "output_type": "execute_result"
    }
   ],
   "source": [
    "diff_p_vals[0:10]"
   ]
  },
  {
   "cell_type": "code",
   "execution_count": 8,
   "metadata": {},
   "outputs": [],
   "source": [
    "null_test_results = stats.ttest_ind(null_expr_df.loc[features,s1_labels], null_expr_df.loc[features,s2_labels], axis=1)\n",
    "null_p_vals = null_test_results.pvalue"
   ]
  },
  {
   "cell_type": "markdown",
   "metadata": {},
   "source": [
    "## 4: Implement subroutine for calculating q-value\n",
    "\n",
    "* Let p_1 <= p_2 <= p_m be ordered p-values\n",
    "* For a range lambda, say lambda = 0, 0.01, 0.02.., 0.95 calculate: pi0(lambda) = # {p_j > lambda} / m(1-lambda)\n",
    "* Let f be the natural cubic spline (in our case - average for high p-values)\n",
    "* Set estimate of pi_0 to be: pi_0 = f(1)\n",
    "* Calculate q(p(m)) = min((pi_0*m*t)/#{p_i <= t}) = pi_0 * p(m)\n",
    "* For i = m - 1, m - 2, ..., 1 calculate:\n",
    "* The estimated q is the ith most significant feaure is q(p(i))"
   ]
  },
  {
   "cell_type": "code",
   "execution_count": 9,
   "metadata": {},
   "outputs": [],
   "source": [
    "def estimate_pis(pvals):\n",
    "    \n",
    "    pi_0_vals = list()\n",
    "    \n",
    "    for sub_thres in np.arange(0.01, 0.96, 0.01):\n",
    "        sub_p = [p for p in pvals if p > sub_thres]\n",
    "        sub_p_count = len(sub_p)\n",
    "        m = len(pvals)\n",
    "        pi_0 = sub_p_count / (m * (1-sub_thres))\n",
    "        pi_0_vals.append(pi_0)\n",
    "  \n",
    "    return pi_0_vals\n",
    "\n",
    "def estimate_pi_zero(pis, thres):\n",
    "    \n",
    "    tot = len(pis)\n",
    "    start_ind = int(tot * thres)\n",
    "    sub = pis[start_ind:]\n",
    "    return np.mean(sub)\n"
   ]
  },
  {
   "cell_type": "markdown",
   "metadata": {},
   "source": [
    "### Diff test"
   ]
  },
  {
   "cell_type": "code",
   "execution_count": 21,
   "metadata": {},
   "outputs": [
    {
     "data": {
      "image/png": "[encoded data removed]",
      "text/plain": [
       "<matplotlib.figure.Figure at 0x7f109234c2e8>"
      ]
     },
     "metadata": {},
     "output_type": "display_data"
    }
   ],
   "source": [
    "diff_pi_0_vals = estimate_pis(diff_p_vals)\n",
    "plt.plot(diff_pi_0_vals)\n",
    "plt.show()"
   ]
  },
  {
   "cell_type": "markdown",
   "metadata": {},
   "source": [
    "### Null test"
   ]
  },
  {
   "cell_type": "code",
   "execution_count": 11,
   "metadata": {},
   "outputs": [
    {
     "data": {
      "image/png": "[encoded data removed]",
      "text/plain": [
       "<matplotlib.figure.Figure at 0x7f10958cd320>"
      ]
     },
     "metadata": {},
     "output_type": "display_data"
    }
   ],
   "source": [
    "null_pi_0_vals = estimate_pis(null_p_vals)\n",
    "plt.plot(null_pi_0_vals)\n",
    "plt.show()"
   ]
  },
  {
   "cell_type": "markdown",
   "metadata": {},
   "source": [
    "#### q-value calculations"
   ]
  },
  {
   "cell_type": "code",
   "execution_count": 12,
   "metadata": {},
   "outputs": [],
   "source": [
    "def estimate_q_vals(pvals):\n",
    "    pi_estimates = estimate_pis(pvals)\n",
    "    pi_0 = estimate_pi_zero(pi_estimates, 0.75)\n",
    "    m = len(pvals)\n",
    "    \n",
    "    fdr_vals = list()\n",
    "    for t in sorted(pvals):\n",
    "#     for i in range(len(pvals)):\n",
    "        val = pi_0 * m * t / (len(fdr_vals) + 1)\n",
    "        fdr_vals.append(val)\n",
    "#         q_vals.append(min(fdr_vals))\n",
    "\n",
    "    q_vals = list()\n",
    "    for sub_i in range(1, len(fdr_vals)):\n",
    "        fdr_slice = fdr_vals[len(fdr_vals) - sub_i:]\n",
    "        q = min(fdr_slice)\n",
    "        q_vals.insert(0, q)\n",
    "\n",
    "    print(\"pi_0: {}\".format(pi_0))\n",
    "    print(\"m: {}\".format(len(pvals)))\n",
    "    return q_vals\n",
    "    \n",
    "\n"
   ]
  },
  {
   "cell_type": "code",
   "execution_count": 13,
   "metadata": {},
   "outputs": [
    {
     "name": "stdout",
     "output_type": "stream",
     "text": [
      "pi_0: 0.8021339578730288\n",
      "m: 10000\n",
      "pi_0: 1.0222323022372626\n",
      "m: 10000\n"
     ]
    }
   ],
   "source": [
    "diff_q_vals = estimate_q_vals(diff_p_vals)\n",
    "null_q_vals = estimate_q_vals(null_p_vals)\n"
   ]
  },
  {
   "cell_type": "code",
   "execution_count": 14,
   "metadata": {},
   "outputs": [
    {
     "name": "stdout",
     "output_type": "stream",
     "text": [
      "[0.00025015541199972774, 0.00025015541199972774, 0.00025015541199972774, 0.00027863589875542832, 0.00027863589875542832, 0.00027863589875542832, 0.00027863589875542832, 0.00031250824519269533, 0.00034169754646839985, 0.00034169754646839985]\n",
      "[0.8201075495547766, 0.8201075495547766, 0.8201075495547766, 0.8201075495547766, 0.8201075495547766, 0.8201075495547766, 0.8201075495547766, 0.8201075495547766, 0.8201075495547766, 0.8201075495547766]\n"
     ]
    }
   ],
   "source": [
    "print(diff_q_vals[0:10])\n",
    "print(null_q_vals[0:10])"
   ]
  },
  {
   "cell_type": "code",
   "execution_count": 15,
   "metadata": {},
   "outputs": [
    {
     "data": {
      "image/png": "[encoded data removed]",
      "text/plain": [
       "<matplotlib.figure.Figure at 0x7f10924a1e10>"
      ]
     },
     "metadata": {},
     "output_type": "display_data"
    }
   ],
   "source": [
    "plt.plot(diff_q_vals)\n",
    "plt.title(\"Diff q vals\")\n",
    "plt.show()"
   ]
  },
  {
   "cell_type": "code",
   "execution_count": 16,
   "metadata": {},
   "outputs": [
    {
     "data": {
      "image/png": "[encoded data removed]",
      "text/plain": [
       "<matplotlib.figure.Figure at 0x7f109231e940>"
      ]
     },
     "metadata": {},
     "output_type": "display_data"
    }
   ],
   "source": [
    "plt.plot(null_q_vals)\n",
    "plt.title(\"Null q vals\")\n",
    "plt.show()"
   ]
  },
  {
   "cell_type": "markdown",
   "metadata": {},
   "source": [
    "## 5: Differential expression genes, on q-threshold"
   ]
  },
  {
   "cell_type": "code",
   "execution_count": 18,
   "metadata": {},
   "outputs": [
    {
     "data": {
      "image/png": "[encoded data removed]",
      "text/plain": [
       "<matplotlib.figure.Figure at 0x7f1092334b00>"
      ]
     },
     "metadata": {},
     "output_type": "display_data"
    }
   ],
   "source": [
    "diff_counts = list()\n",
    "for thres in np.arange(0, 0.5, 0.01):\n",
    "    diff_count = len([q for q in diff_q_vals if q <= thres])\n",
    "    diff_counts.append(diff_count)\n",
    "plt.plot(np.arange(0, 0.5, 0.01), diff_counts)\n",
    "plt.title('q-values in simulated data')\n",
    "plt.show()"
   ]
  },
  {
   "cell_type": "code",
   "execution_count": 19,
   "metadata": {},
   "outputs": [
    {
     "data": {
      "image/png": "[encoded data removed]",
      "text/plain": [
       "<matplotlib.figure.Figure at 0x7f1092221c50>"
      ]
     },
     "metadata": {},
     "output_type": "display_data"
    }
   ],
   "source": [
    "diff_counts = list()\n",
    "for thres in np.arange(0, 0.5, 0.01):\n",
    "    diff_count = len([q for q in null_q_vals if q <= thres])\n",
    "    diff_counts.append(diff_count)\n",
    "plt.plot(np.arange(0, 0.5, 0.01), diff_counts)\n",
    "plt.title('q-values in simulated data')\n",
    "plt.show()"
   ]
  }
 ],
 "metadata": {
  "kernelspec": {
   "display_name": "Python 3",
   "language": "python",
   "name": "python3"
  },
  "language_info": {
   "codemirror_mode": {
    "name": "ipython",
    "version": 3
   },
   "file_extension": ".py",
   "mimetype": "text/x-python",
   "name": "python",
   "nbconvert_exporter": "python",
   "pygments_lexer": "ipython3",
   "version": "3.6.1"
  }
 },
 "nbformat": 4,
 "nbformat_minor": 2
}
